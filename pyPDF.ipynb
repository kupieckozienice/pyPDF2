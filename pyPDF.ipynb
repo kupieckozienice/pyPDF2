{
  "nbformat": 4,
  "nbformat_minor": 0,
  "metadata": {
    "colab": {
      "provenance": [],
      "mount_file_id": "1NQohPRAFwpfEeGA7vbOt-xT32Jw22OeN",
      "authorship_tag": "ABX9TyMX550B8PuvljNV6c/hicJ9",
      "include_colab_link": true
    },
    "kernelspec": {
      "name": "python3",
      "display_name": "Python 3"
    },
    "language_info": {
      "name": "python"
    }
  },
  "cells": [
    {
      "cell_type": "markdown",
      "metadata": {
        "id": "view-in-github",
        "colab_type": "text"
      },
      "source": [
        "<a href=\"https://colab.research.google.com/github/kupieckozienice/pyPDF2/blob/main/pyPDF.ipynb\" target=\"_parent\"><img src=\"https://colab.research.google.com/assets/colab-badge.svg\" alt=\"Open In Colab\"/></a>"
      ]
    },
    {
      "cell_type": "markdown",
      "source": [
        "upload plików z dysku lokalnego"
      ],
      "metadata": {
        "id": "QNiqqS2YogRl"
      }
    },
    {
      "cell_type": "code",
      "execution_count": 198,
      "metadata": {
        "colab": {
          "base_uri": "https://localhost:8080/",
          "height": 37
        },
        "id": "ZtqhtE1QnKas",
        "outputId": "773d838e-8311-4521-affb-5be5663e3120"
      },
      "outputs": [
        {
          "output_type": "display_data",
          "data": {
            "text/plain": [
              "<IPython.core.display.HTML object>"
            ],
            "text/html": [
              "\n",
              "     <input type=\"file\" id=\"files-18b0a6da-58dd-4391-bb12-4a369f3c907e\" name=\"files[]\" multiple disabled\n",
              "        style=\"border:none\" />\n",
              "     <output id=\"result-18b0a6da-58dd-4391-bb12-4a369f3c907e\">\n",
              "      Upload widget is only available when the cell has been executed in the\n",
              "      current browser session. Please rerun this cell to enable.\n",
              "      </output>\n",
              "      <script>// Copyright 2017 Google LLC\n",
              "//\n",
              "// Licensed under the Apache License, Version 2.0 (the \"License\");\n",
              "// you may not use this file except in compliance with the License.\n",
              "// You may obtain a copy of the License at\n",
              "//\n",
              "//      http://www.apache.org/licenses/LICENSE-2.0\n",
              "//\n",
              "// Unless required by applicable law or agreed to in writing, software\n",
              "// distributed under the License is distributed on an \"AS IS\" BASIS,\n",
              "// WITHOUT WARRANTIES OR CONDITIONS OF ANY KIND, either express or implied.\n",
              "// See the License for the specific language governing permissions and\n",
              "// limitations under the License.\n",
              "\n",
              "/**\n",
              " * @fileoverview Helpers for google.colab Python module.\n",
              " */\n",
              "(function(scope) {\n",
              "function span(text, styleAttributes = {}) {\n",
              "  const element = document.createElement('span');\n",
              "  element.textContent = text;\n",
              "  for (const key of Object.keys(styleAttributes)) {\n",
              "    element.style[key] = styleAttributes[key];\n",
              "  }\n",
              "  return element;\n",
              "}\n",
              "\n",
              "// Max number of bytes which will be uploaded at a time.\n",
              "const MAX_PAYLOAD_SIZE = 100 * 1024;\n",
              "\n",
              "function _uploadFiles(inputId, outputId) {\n",
              "  const steps = uploadFilesStep(inputId, outputId);\n",
              "  const outputElement = document.getElementById(outputId);\n",
              "  // Cache steps on the outputElement to make it available for the next call\n",
              "  // to uploadFilesContinue from Python.\n",
              "  outputElement.steps = steps;\n",
              "\n",
              "  return _uploadFilesContinue(outputId);\n",
              "}\n",
              "\n",
              "// This is roughly an async generator (not supported in the browser yet),\n",
              "// where there are multiple asynchronous steps and the Python side is going\n",
              "// to poll for completion of each step.\n",
              "// This uses a Promise to block the python side on completion of each step,\n",
              "// then passes the result of the previous step as the input to the next step.\n",
              "function _uploadFilesContinue(outputId) {\n",
              "  const outputElement = document.getElementById(outputId);\n",
              "  const steps = outputElement.steps;\n",
              "\n",
              "  const next = steps.next(outputElement.lastPromiseValue);\n",
              "  return Promise.resolve(next.value.promise).then((value) => {\n",
              "    // Cache the last promise value to make it available to the next\n",
              "    // step of the generator.\n",
              "    outputElement.lastPromiseValue = value;\n",
              "    return next.value.response;\n",
              "  });\n",
              "}\n",
              "\n",
              "/**\n",
              " * Generator function which is called between each async step of the upload\n",
              " * process.\n",
              " * @param {string} inputId Element ID of the input file picker element.\n",
              " * @param {string} outputId Element ID of the output display.\n",
              " * @return {!Iterable<!Object>} Iterable of next steps.\n",
              " */\n",
              "function* uploadFilesStep(inputId, outputId) {\n",
              "  const inputElement = document.getElementById(inputId);\n",
              "  inputElement.disabled = false;\n",
              "\n",
              "  const outputElement = document.getElementById(outputId);\n",
              "  outputElement.innerHTML = '';\n",
              "\n",
              "  const pickedPromise = new Promise((resolve) => {\n",
              "    inputElement.addEventListener('change', (e) => {\n",
              "      resolve(e.target.files);\n",
              "    });\n",
              "  });\n",
              "\n",
              "  const cancel = document.createElement('button');\n",
              "  inputElement.parentElement.appendChild(cancel);\n",
              "  cancel.textContent = 'Cancel upload';\n",
              "  const cancelPromise = new Promise((resolve) => {\n",
              "    cancel.onclick = () => {\n",
              "      resolve(null);\n",
              "    };\n",
              "  });\n",
              "\n",
              "  // Wait for the user to pick the files.\n",
              "  const files = yield {\n",
              "    promise: Promise.race([pickedPromise, cancelPromise]),\n",
              "    response: {\n",
              "      action: 'starting',\n",
              "    }\n",
              "  };\n",
              "\n",
              "  cancel.remove();\n",
              "\n",
              "  // Disable the input element since further picks are not allowed.\n",
              "  inputElement.disabled = true;\n",
              "\n",
              "  if (!files) {\n",
              "    return {\n",
              "      response: {\n",
              "        action: 'complete',\n",
              "      }\n",
              "    };\n",
              "  }\n",
              "\n",
              "  for (const file of files) {\n",
              "    const li = document.createElement('li');\n",
              "    li.append(span(file.name, {fontWeight: 'bold'}));\n",
              "    li.append(span(\n",
              "        `(${file.type || 'n/a'}) - ${file.size} bytes, ` +\n",
              "        `last modified: ${\n",
              "            file.lastModifiedDate ? file.lastModifiedDate.toLocaleDateString() :\n",
              "                                    'n/a'} - `));\n",
              "    const percent = span('0% done');\n",
              "    li.appendChild(percent);\n",
              "\n",
              "    outputElement.appendChild(li);\n",
              "\n",
              "    const fileDataPromise = new Promise((resolve) => {\n",
              "      const reader = new FileReader();\n",
              "      reader.onload = (e) => {\n",
              "        resolve(e.target.result);\n",
              "      };\n",
              "      reader.readAsArrayBuffer(file);\n",
              "    });\n",
              "    // Wait for the data to be ready.\n",
              "    let fileData = yield {\n",
              "      promise: fileDataPromise,\n",
              "      response: {\n",
              "        action: 'continue',\n",
              "      }\n",
              "    };\n",
              "\n",
              "    // Use a chunked sending to avoid message size limits. See b/62115660.\n",
              "    let position = 0;\n",
              "    do {\n",
              "      const length = Math.min(fileData.byteLength - position, MAX_PAYLOAD_SIZE);\n",
              "      const chunk = new Uint8Array(fileData, position, length);\n",
              "      position += length;\n",
              "\n",
              "      const base64 = btoa(String.fromCharCode.apply(null, chunk));\n",
              "      yield {\n",
              "        response: {\n",
              "          action: 'append',\n",
              "          file: file.name,\n",
              "          data: base64,\n",
              "        },\n",
              "      };\n",
              "\n",
              "      let percentDone = fileData.byteLength === 0 ?\n",
              "          100 :\n",
              "          Math.round((position / fileData.byteLength) * 100);\n",
              "      percent.textContent = `${percentDone}% done`;\n",
              "\n",
              "    } while (position < fileData.byteLength);\n",
              "  }\n",
              "\n",
              "  // All done.\n",
              "  yield {\n",
              "    response: {\n",
              "      action: 'complete',\n",
              "    }\n",
              "  };\n",
              "}\n",
              "\n",
              "scope.google = scope.google || {};\n",
              "scope.google.colab = scope.google.colab || {};\n",
              "scope.google.colab._files = {\n",
              "  _uploadFiles,\n",
              "  _uploadFilesContinue,\n",
              "};\n",
              "})(self);\n",
              "</script> "
            ]
          },
          "metadata": {}
        }
      ],
      "source": [
        "from google.colab import files\n",
        "\n",
        "uploaded = files.upload()\n",
        "\n",
        "for fn in uploaded.keys():\n",
        "  print('User uploaded file \"{name}\" with length {length} bytes'.format(\n",
        "      name=fn, length=len(uploaded[fn])))"
      ]
    },
    {
      "cell_type": "markdown",
      "source": [
        "zainstalowanie biblioteki PyPDF2"
      ],
      "metadata": {
        "id": "biC7PTKPylQi"
      }
    },
    {
      "cell_type": "code",
      "source": [
        "pip install PyPDF2"
      ],
      "metadata": {
        "colab": {
          "base_uri": "https://localhost:8080/"
        },
        "id": "a8lERaDC0s-u",
        "outputId": "951966f3-2e6d-4e26-ebeb-d39fc859ec64"
      },
      "execution_count": 199,
      "outputs": [
        {
          "output_type": "stream",
          "name": "stdout",
          "text": [
            "Requirement already satisfied: PyPDF2 in /usr/local/lib/python3.10/dist-packages (3.0.1)\n"
          ]
        }
      ]
    },
    {
      "cell_type": "markdown",
      "source": [
        "install pdfminer.six"
      ],
      "metadata": {
        "id": "M-1LfzGpKMLJ"
      }
    },
    {
      "cell_type": "code",
      "source": [
        "pip install pdfminer.six"
      ],
      "metadata": {
        "colab": {
          "base_uri": "https://localhost:8080/"
        },
        "id": "wUM9zRW2KGCt",
        "outputId": "6ac55e6f-015e-41cf-efae-d7de2f7d47ef"
      },
      "execution_count": 200,
      "outputs": [
        {
          "output_type": "stream",
          "name": "stdout",
          "text": [
            "Requirement already satisfied: pdfminer.six in /usr/local/lib/python3.10/dist-packages (20231228)\n",
            "Requirement already satisfied: charset-normalizer>=2.0.0 in /usr/local/lib/python3.10/dist-packages (from pdfminer.six) (3.3.2)\n",
            "Requirement already satisfied: cryptography>=36.0.0 in /usr/local/lib/python3.10/dist-packages (from pdfminer.six) (41.0.7)\n",
            "Requirement already satisfied: cffi>=1.12 in /usr/local/lib/python3.10/dist-packages (from cryptography>=36.0.0->pdfminer.six) (1.16.0)\n",
            "Requirement already satisfied: pycparser in /usr/local/lib/python3.10/dist-packages (from cffi>=1.12->cryptography>=36.0.0->pdfminer.six) (2.21)\n"
          ]
        }
      ]
    },
    {
      "cell_type": "markdown",
      "source": [
        "importowanie niezbędnych bibliotek"
      ],
      "metadata": {
        "id": "6FlEalJQKUxi"
      }
    },
    {
      "cell_type": "code",
      "source": [
        "import os\n",
        "import pathlib as pth\n",
        "from typing import Union, Literal, List"
      ],
      "metadata": {
        "id": "oC_2Bdqlp849"
      },
      "execution_count": 201,
      "outputs": []
    },
    {
      "cell_type": "markdown",
      "source": [
        "konwersja daty"
      ],
      "metadata": {
        "id": "G39mkfy14fQN"
      }
    },
    {
      "cell_type": "code",
      "source": [
        "def convertPdfDatetime(pd):\n",
        "    from datetime import datetime\n",
        "    dtformat = \"%Y%m%d%H%M%S\"\n",
        "    clean = pd.replace(\"D:\",\"\").split('+')[0]\n",
        "    return datetime.strptime(clean,dtformat)"
      ],
      "metadata": {
        "id": "V1NCC5KMp3HF"
      },
      "execution_count": 202,
      "outputs": []
    },
    {
      "cell_type": "markdown",
      "source": [
        "add blank page"
      ],
      "metadata": {
        "id": "H-Tx85Dd3rVP"
      }
    },
    {
      "cell_type": "code",
      "source": [
        "# add blank page\n",
        "def add_blank_page(writer, path_destination):\n",
        "  writer.add_blank_page(width=200, height=200)\n",
        "\n",
        "  data = b\"any bytes - typically read from a file\"\n",
        "  writer.add_attachment(\"smile.png\", data)\n",
        "\n",
        "  with open(\"output.pdf\", \"wb\") as output_stream:\n",
        "      writer.write(output_stream)"
      ],
      "metadata": {
        "id": "goDm6YP9078k"
      },
      "execution_count": 203,
      "outputs": []
    },
    {
      "cell_type": "markdown",
      "source": [
        "sprawdzenie czy jest zaszyfrowany hasłem,\n",
        "jeśli tak to należy do odszyfrować pobranym hasłem\n",
        "\n"
      ],
      "metadata": {
        "id": "44KxPT8bwsPh"
      }
    },
    {
      "cell_type": "code",
      "source": [
        "def check_if_encrypted(path_to_file, reader):\n",
        "  if os.path.isfile(path_to_working_file):\n",
        "    if reader.is_encrypted:\n",
        "      filename = os.path.basename(path_to_working_file)\n",
        "      print(f\"plik {filename}\")\n",
        "      password = input(\"Enter your password: \")\n",
        "      reader.decrypt(password)\n",
        "\n",
        "      # Add all pages to the writer\n",
        "      for page in reader.pages:\n",
        "          writer.add_page(page)\n",
        "\n",
        "      # Save the new PDF to a file\n",
        "      with open(f\"/content/pypdf2/{file_name}\", \"wb\") as f:\n",
        "          writer.write(f)\n",
        "\n",
        "      print(\"plik rozszyfrowany\")\n",
        "    else:\n",
        "      print(\"plik NIE był zaszyfrowany\")"
      ],
      "metadata": {
        "id": "nXDIVq0z9Q2B"
      },
      "execution_count": 204,
      "outputs": []
    },
    {
      "cell_type": "markdown",
      "source": [
        "czytanie adnotacji"
      ],
      "metadata": {
        "id": "MrJ_hcTGpy3I"
      }
    },
    {
      "cell_type": "code",
      "source": [
        "def annots_reading(reader):\n",
        "  print(\"funkcja annots_reading załadowana\")\n",
        "\n",
        "  attachments = {}\n",
        "\n",
        "  for page in reader.pages:\n",
        "    if \"/Annots\" in page:\n",
        "        for annot in page[\"/Annots\"]:\n",
        "            obj = annot.get_object()\n",
        "            annotation = {\"subtype\": obj[\"/Subtype\"], \"location\": obj[\"/Rect\"]}\n",
        "            print(annotation)\n",
        "\n",
        "            # text\n",
        "            subtype = annot.get_object()[\"/Subtype\"]\n",
        "            if subtype == \"/Text\":\n",
        "                print(annot.get_object()[\"/Contents\"])\n",
        "\n",
        "            # Highlights\n",
        "            subtype = annot.get_object()[\"/Subtype\"]\n",
        "            if subtype == \"/Highlight\":\n",
        "                coords = annot.get_object()[\"/QuadPoints\"]\n",
        "                x1, y1, x2, y2, x3, y3, x4, y4 = coords\n",
        "\n",
        "            # # attachments\n",
        "            # subtype = annot.get_object()[\"/Subtype\"]\n",
        "            # if subtype == \"/FileAttachment\":\n",
        "            #     fileobj = annotobj[\"/FS\"]\n",
        "            #     attachments[fileobj[\"/F\"]] = fileobj[\"/EF\"][\"/F\"].get_data()\n",
        "    else:\n",
        "      # print(\"brak andotacji w pliku\")\n",
        "      pass"
      ],
      "metadata": {
        "id": "sqbxGEGksKFj"
      },
      "execution_count": 205,
      "outputs": []
    },
    {
      "cell_type": "markdown",
      "source": [
        "iterate over files in directory"
      ],
      "metadata": {
        "id": "v9yFEMYQ6Ri-"
      }
    },
    {
      "cell_type": "code",
      "source": [
        "# iterate over files in directory\n",
        "\n",
        "def iterate_over_files_in_directory(path_to_directory):\n",
        "\n",
        "  numerate = 1\n",
        "\n",
        "  for filename in os.listdir(path_to_directory):\n",
        "    f = os.path.join(path_to_directory, filename)\n",
        "    if os.path.isfile(f):\n",
        "      print(f\"{numerate}. {f}\")\n",
        "      numerate = numerate + 1"
      ],
      "metadata": {
        "id": "Io-gJ1Nw6Nox"
      },
      "execution_count": 206,
      "outputs": []
    },
    {
      "cell_type": "markdown",
      "source": [
        "add the metadata"
      ],
      "metadata": {
        "id": "MSMH4xt-_PfM"
      }
    },
    {
      "cell_type": "code",
      "source": [
        "# Add the metadata\n",
        "def add_metadata(reader):\n",
        "  writer = PdfWriter()\n",
        "\n",
        "  # Add all pages to the writer\n",
        "  for page in reader.pages:\n",
        "      writer.add_page(page)\n",
        "\n",
        "  writer.add_metadata(\n",
        "      {\n",
        "          \"/Author\": \"Martino\",\n",
        "          \"/Producer\": \"Libre Writer\",\n",
        "          \"/Subject\": \"kikk\",\n",
        "          \"/Title\": \"jakis_tytul\",\n",
        "          # \"/ModDate\": modification_date  # Adding modification date\n",
        "      }\n",
        "  )\n",
        "\n",
        "  with open(os.path.join(path_to_working_directory, file_name), \"wb\") as f:\n",
        "    writer.write(f)\n"
      ],
      "metadata": {
        "id": "Mz9jWz5R_PR1"
      },
      "execution_count": 207,
      "outputs": []
    },
    {
      "cell_type": "code",
      "source": [],
      "metadata": {
        "id": "oXa7xwT5Mew3"
      },
      "execution_count": 207,
      "outputs": []
    },
    {
      "cell_type": "markdown",
      "source": [
        "read metadata"
      ],
      "metadata": {
        "id": "m-ll5ffmMfvU"
      }
    },
    {
      "cell_type": "code",
      "source": [
        "def read_metadata(reader):\n",
        "  meta = reader.metadata\n",
        "  print(len(reader.pages))\n",
        "\n",
        "  # All of the following could be None!\n",
        "  print(f\"author: {meta.author}\")\n",
        "  print(f\"creator: {meta.creator}\")\n",
        "  print(f\"producer: {meta.producer}\")\n",
        "  print(f\"subject: {meta.subject}\")\n",
        "  print(f\"title: {meta.title}\")"
      ],
      "metadata": {
        "id": "0T3YsCthMiKp"
      },
      "execution_count": 221,
      "outputs": []
    },
    {
      "cell_type": "markdown",
      "source": [
        "reading form fields"
      ],
      "metadata": {
        "id": "i9mjR6evA9xg"
      }
    },
    {
      "cell_type": "code",
      "source": [
        "# reading form fields\n",
        "\n",
        "def reading_form_fields(reader):\n",
        "  # fields = reader.get_form_text_fields()\n",
        "  # fields == {\"key\": \"value\", \"key2\": \"value2\"}\n",
        "  # if reader.isEditable:\n",
        "  fields = reader.get_fields()\n",
        "\n",
        "  if bool(fields):\n",
        "    # print(fields)\n",
        "    for field_name, field_value in fields.items():\n",
        "      print(f\"nazwa pola: {field_name}, wartość: {field_value}\")\n",
        "  else:\n",
        "    print(\"brak fields-ów\")\n",
        "\n",
        "  # for field_name in fields:\n",
        "    # print(field_name)"
      ],
      "metadata": {
        "id": "FAnzmvbJA9of"
      },
      "execution_count": 222,
      "outputs": []
    },
    {
      "cell_type": "markdown",
      "source": [
        "delete pages"
      ],
      "metadata": {
        "id": "ehPA8NWyfvl2"
      }
    },
    {
      "cell_type": "code",
      "source": [
        "# delete pages\n",
        "\n",
        "def delete_pages(reader, pages_to_delete):\n",
        "  print(type(pages_to_delete))\n",
        "  print(pages_to_delete)\n"
      ],
      "metadata": {
        "id": "GExlYBiwfrHi"
      },
      "execution_count": 230,
      "outputs": []
    },
    {
      "cell_type": "markdown",
      "source": [
        "extract text"
      ],
      "metadata": {
        "id": "h5JG29sTNNsU"
      }
    },
    {
      "cell_type": "code",
      "source": [
        "# extract text\n",
        "def extract_text(reader):\n",
        "  text = \"\"\n",
        "  try:\n",
        "      for page in reader.pages:\n",
        "          text += page.extract_text()\n",
        "  except Exception as exc:\n",
        "      text = fallback_text_extraction(\"example.pdf\")\n",
        "\n",
        "  return text"
      ],
      "metadata": {
        "id": "5BEjMUp9NOiX"
      },
      "execution_count": 231,
      "outputs": []
    },
    {
      "cell_type": "markdown",
      "source": [
        "main app"
      ],
      "metadata": {
        "id": "PegvKm714tpA"
      }
    },
    {
      "cell_type": "code",
      "source": [
        "from PyPDF2 import PdfReader, PdfWriter\n",
        "from datetime import datetime  # Import the datetime module\n",
        "from pdfminer.high_level import extract_text as fallback_text_extraction\n",
        "\n",
        "# Ścieżka do katalogu bieżącego\n",
        "path_to_working_directory = \"/content/pypdf2\"\n",
        "\n",
        "# Nazwa pliku\n",
        "file_name = \"oferta_handlowa_wzor.pdf\"\n",
        "\n",
        "# Sprawdz czy ścieżka do KATALOGU istnieje\n",
        "isDirectoryPathExists = os.path.exists(path_to_working_directory)\n",
        "print(f\"ścieżka do KATALOGU - {path_to_working_directory} istnieje: {isDirectoryPathExists}\")\n",
        "\n",
        "# Scal ścieżkę do pliku\n",
        "path_to_working_file = os.path.join(path_to_working_directory, file_name)\n",
        "\n",
        "# Sprawdz czy ścieżka DO PLIKU istnieje\n",
        "isFilePathExists = os.path.exists(path_to_working_file)\n",
        "print(f\"plik - {os.path.basename(path_to_working_file)} istnieje?: {isFilePathExists}\")\n",
        "\n",
        "reader = PdfReader(path_to_working_file)\n",
        "writer = PdfWriter()\n",
        "check_if_encrypted(path_to_working_file, reader)\n",
        "\n",
        "# annots reading\n",
        "annots_reading(reader)\n",
        "\n",
        "# czytanie metadanych\n",
        "meta = reader.metadata\n",
        "# meta\n",
        "\n",
        "# iterate over files in directory\n",
        "iterate_over_files_in_directory(os.path.join(os.getcwd(), \"/content/pypdf2\"))\n",
        "\n",
        "# Reading form fields\n",
        "reading_form_fields(reader)\n",
        "\n",
        "# extract text\n",
        "# text = extract_text(reader)\n",
        "# print(text)\n",
        "\n",
        "# add metadata\n",
        "# add_metadata(reader)\n",
        "\n",
        "# read metadata\n",
        "# read_metadata(reader)\n",
        "\n",
        "# delete pages\n",
        "number_of_pages = len(reader.pages)\n",
        "delete_pages(reader, [i for i in range(2, number_of_pages + 1)])"
      ],
      "metadata": {
        "id": "ZZqgD5M-0eyZ",
        "colab": {
          "base_uri": "https://localhost:8080/"
        },
        "outputId": "b45a46e2-8bbe-4c65-8644-0da5eaa34a7b"
      },
      "execution_count": 235,
      "outputs": [
        {
          "output_type": "stream",
          "name": "stdout",
          "text": [
            "ścieżka do KATALOGU - /content/pypdf2 istnieje: True\n",
            "plik - oferta_handlowa_wzor.pdf istnieje?: True\n",
            "plik NIE był zaszyfrowany\n",
            "funkcja annots_reading załadowana\n",
            "1. /content/pypdf2/oferta_handlowa_wzor.pdf\n",
            "brak fields-ów\n",
            "<class 'list'>\n",
            "[2, 3, 4, 5, 6, 7, 8, 9, 10, 11, 12, 13, 14, 15, 16]\n"
          ]
        }
      ]
    }
  ]
}