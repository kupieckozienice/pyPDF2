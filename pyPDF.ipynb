{
  "nbformat": 4,
  "nbformat_minor": 0,
  "metadata": {
    "colab": {
      "provenance": [],
      "mount_file_id": "1NQohPRAFwpfEeGA7vbOt-xT32Jw22OeN",
      "authorship_tag": "ABX9TyM5Tlkmpy/QsYCdG80LU1j+",
      "include_colab_link": true
    },
    "kernelspec": {
      "name": "python3",
      "display_name": "Python 3"
    },
    "language_info": {
      "name": "python"
    }
  },
  "cells": [
    {
      "cell_type": "markdown",
      "metadata": {
        "id": "view-in-github",
        "colab_type": "text"
      },
      "source": [
        "<a href=\"https://colab.research.google.com/github/kupieckozienice/pyPDF2/blob/main/pyPDF.ipynb\" target=\"_parent\"><img src=\"https://colab.research.google.com/assets/colab-badge.svg\" alt=\"Open In Colab\"/></a>"
      ]
    },
    {
      "cell_type": "markdown",
      "source": [
        "Zainstalowanie biblioteki PyPDF2"
      ],
      "metadata": {
        "id": "biC7PTKPylQi"
      }
    },
    {
      "cell_type": "markdown",
      "source": [
        "kopia da github"
      ],
      "metadata": {
        "id": "yiwYCzmoYa2o"
      }
    },
    {
      "cell_type": "code",
      "source": [
        "pip install PyPDF2"
      ],
      "metadata": {
        "colab": {
          "base_uri": "https://localhost:8080/"
        },
        "id": "a8lERaDC0s-u",
        "outputId": "2a0b5c4a-1ec7-4b8e-f186-489b3bc0b2d4"
      },
      "execution_count": null,
      "outputs": [
        {
          "output_type": "stream",
          "name": "stdout",
          "text": [
            "Collecting PyPDF2\n",
            "  Downloading pypdf2-3.0.1-py3-none-any.whl (232 kB)\n",
            "\u001b[2K     \u001b[90m━━━━━━━━━━━━━━━━━━━━━━━━━━━━━━━━━━━━━━━━\u001b[0m \u001b[32m232.6/232.6 kB\u001b[0m \u001b[31m1.0 MB/s\u001b[0m eta \u001b[36m0:00:00\u001b[0m\n",
            "\u001b[?25hInstalling collected packages: PyPDF2\n",
            "Successfully installed PyPDF2-3.0.1\n"
          ]
        }
      ]
    },
    {
      "cell_type": "code",
      "source": [
        "def convertPdfDatetime(pd):\n",
        "    from datetime import datetime\n",
        "    dtformat = \"%Y%m%d%H%M%S\"\n",
        "    clean = pd.replace(\"D:\",\"\").split('+')[0]\n",
        "    return datetime.strptime(clean,dtformat)\n",
        "\n"
      ],
      "metadata": {
        "id": "V1NCC5KMp3HF"
      },
      "execution_count": null,
      "outputs": []
    },
    {
      "cell_type": "code",
      "execution_count": null,
      "metadata": {
        "colab": {
          "base_uri": "https://localhost:8080/",
          "height": 90
        },
        "id": "ZtqhtE1QnKas",
        "outputId": "d93daae1-e712-4547-bf67-48f86567c7aa"
      },
      "outputs": [
        {
          "output_type": "display_data",
          "data": {
            "text/plain": [
              "<IPython.core.display.HTML object>"
            ],
            "text/html": [
              "\n",
              "     <input type=\"file\" id=\"files-10cbe1f2-fc7d-4f72-aaae-5aaac5dddce0\" name=\"files[]\" multiple disabled\n",
              "        style=\"border:none\" />\n",
              "     <output id=\"result-10cbe1f2-fc7d-4f72-aaae-5aaac5dddce0\">\n",
              "      Upload widget is only available when the cell has been executed in the\n",
              "      current browser session. Please rerun this cell to enable.\n",
              "      </output>\n",
              "      <script>// Copyright 2017 Google LLC\n",
              "//\n",
              "// Licensed under the Apache License, Version 2.0 (the \"License\");\n",
              "// you may not use this file except in compliance with the License.\n",
              "// You may obtain a copy of the License at\n",
              "//\n",
              "//      http://www.apache.org/licenses/LICENSE-2.0\n",
              "//\n",
              "// Unless required by applicable law or agreed to in writing, software\n",
              "// distributed under the License is distributed on an \"AS IS\" BASIS,\n",
              "// WITHOUT WARRANTIES OR CONDITIONS OF ANY KIND, either express or implied.\n",
              "// See the License for the specific language governing permissions and\n",
              "// limitations under the License.\n",
              "\n",
              "/**\n",
              " * @fileoverview Helpers for google.colab Python module.\n",
              " */\n",
              "(function(scope) {\n",
              "function span(text, styleAttributes = {}) {\n",
              "  const element = document.createElement('span');\n",
              "  element.textContent = text;\n",
              "  for (const key of Object.keys(styleAttributes)) {\n",
              "    element.style[key] = styleAttributes[key];\n",
              "  }\n",
              "  return element;\n",
              "}\n",
              "\n",
              "// Max number of bytes which will be uploaded at a time.\n",
              "const MAX_PAYLOAD_SIZE = 100 * 1024;\n",
              "\n",
              "function _uploadFiles(inputId, outputId) {\n",
              "  const steps = uploadFilesStep(inputId, outputId);\n",
              "  const outputElement = document.getElementById(outputId);\n",
              "  // Cache steps on the outputElement to make it available for the next call\n",
              "  // to uploadFilesContinue from Python.\n",
              "  outputElement.steps = steps;\n",
              "\n",
              "  return _uploadFilesContinue(outputId);\n",
              "}\n",
              "\n",
              "// This is roughly an async generator (not supported in the browser yet),\n",
              "// where there are multiple asynchronous steps and the Python side is going\n",
              "// to poll for completion of each step.\n",
              "// This uses a Promise to block the python side on completion of each step,\n",
              "// then passes the result of the previous step as the input to the next step.\n",
              "function _uploadFilesContinue(outputId) {\n",
              "  const outputElement = document.getElementById(outputId);\n",
              "  const steps = outputElement.steps;\n",
              "\n",
              "  const next = steps.next(outputElement.lastPromiseValue);\n",
              "  return Promise.resolve(next.value.promise).then((value) => {\n",
              "    // Cache the last promise value to make it available to the next\n",
              "    // step of the generator.\n",
              "    outputElement.lastPromiseValue = value;\n",
              "    return next.value.response;\n",
              "  });\n",
              "}\n",
              "\n",
              "/**\n",
              " * Generator function which is called between each async step of the upload\n",
              " * process.\n",
              " * @param {string} inputId Element ID of the input file picker element.\n",
              " * @param {string} outputId Element ID of the output display.\n",
              " * @return {!Iterable<!Object>} Iterable of next steps.\n",
              " */\n",
              "function* uploadFilesStep(inputId, outputId) {\n",
              "  const inputElement = document.getElementById(inputId);\n",
              "  inputElement.disabled = false;\n",
              "\n",
              "  const outputElement = document.getElementById(outputId);\n",
              "  outputElement.innerHTML = '';\n",
              "\n",
              "  const pickedPromise = new Promise((resolve) => {\n",
              "    inputElement.addEventListener('change', (e) => {\n",
              "      resolve(e.target.files);\n",
              "    });\n",
              "  });\n",
              "\n",
              "  const cancel = document.createElement('button');\n",
              "  inputElement.parentElement.appendChild(cancel);\n",
              "  cancel.textContent = 'Cancel upload';\n",
              "  const cancelPromise = new Promise((resolve) => {\n",
              "    cancel.onclick = () => {\n",
              "      resolve(null);\n",
              "    };\n",
              "  });\n",
              "\n",
              "  // Wait for the user to pick the files.\n",
              "  const files = yield {\n",
              "    promise: Promise.race([pickedPromise, cancelPromise]),\n",
              "    response: {\n",
              "      action: 'starting',\n",
              "    }\n",
              "  };\n",
              "\n",
              "  cancel.remove();\n",
              "\n",
              "  // Disable the input element since further picks are not allowed.\n",
              "  inputElement.disabled = true;\n",
              "\n",
              "  if (!files) {\n",
              "    return {\n",
              "      response: {\n",
              "        action: 'complete',\n",
              "      }\n",
              "    };\n",
              "  }\n",
              "\n",
              "  for (const file of files) {\n",
              "    const li = document.createElement('li');\n",
              "    li.append(span(file.name, {fontWeight: 'bold'}));\n",
              "    li.append(span(\n",
              "        `(${file.type || 'n/a'}) - ${file.size} bytes, ` +\n",
              "        `last modified: ${\n",
              "            file.lastModifiedDate ? file.lastModifiedDate.toLocaleDateString() :\n",
              "                                    'n/a'} - `));\n",
              "    const percent = span('0% done');\n",
              "    li.appendChild(percent);\n",
              "\n",
              "    outputElement.appendChild(li);\n",
              "\n",
              "    const fileDataPromise = new Promise((resolve) => {\n",
              "      const reader = new FileReader();\n",
              "      reader.onload = (e) => {\n",
              "        resolve(e.target.result);\n",
              "      };\n",
              "      reader.readAsArrayBuffer(file);\n",
              "    });\n",
              "    // Wait for the data to be ready.\n",
              "    let fileData = yield {\n",
              "      promise: fileDataPromise,\n",
              "      response: {\n",
              "        action: 'continue',\n",
              "      }\n",
              "    };\n",
              "\n",
              "    // Use a chunked sending to avoid message size limits. See b/62115660.\n",
              "    let position = 0;\n",
              "    do {\n",
              "      const length = Math.min(fileData.byteLength - position, MAX_PAYLOAD_SIZE);\n",
              "      const chunk = new Uint8Array(fileData, position, length);\n",
              "      position += length;\n",
              "\n",
              "      const base64 = btoa(String.fromCharCode.apply(null, chunk));\n",
              "      yield {\n",
              "        response: {\n",
              "          action: 'append',\n",
              "          file: file.name,\n",
              "          data: base64,\n",
              "        },\n",
              "      };\n",
              "\n",
              "      let percentDone = fileData.byteLength === 0 ?\n",
              "          100 :\n",
              "          Math.round((position / fileData.byteLength) * 100);\n",
              "      percent.textContent = `${percentDone}% done`;\n",
              "\n",
              "    } while (position < fileData.byteLength);\n",
              "  }\n",
              "\n",
              "  // All done.\n",
              "  yield {\n",
              "    response: {\n",
              "      action: 'complete',\n",
              "    }\n",
              "  };\n",
              "}\n",
              "\n",
              "scope.google = scope.google || {};\n",
              "scope.google.colab = scope.google.colab || {};\n",
              "scope.google.colab._files = {\n",
              "  _uploadFiles,\n",
              "  _uploadFilesContinue,\n",
              "};\n",
              "})(self);\n",
              "</script> "
            ]
          },
          "metadata": {}
        },
        {
          "output_type": "stream",
          "name": "stdout",
          "text": [
            "Saving DATASHEET.PDF to DATASHEET.PDF\n",
            "User uploaded file \"DATASHEET.PDF\" with length 1463081 bytes\n"
          ]
        }
      ],
      "source": [
        "from google.colab import files\n",
        "\n",
        "uploaded = files.upload()\n",
        "\n",
        "for fn in uploaded.keys():\n",
        "  print('User uploaded file \"{name}\" with length {length} bytes'.format(\n",
        "      name=fn, length=len(uploaded[fn])))"
      ]
    },
    {
      "cell_type": "markdown",
      "source": [
        "\n",
        "\n",
        "1.   Ścieżka do katalogu roboczego\n",
        "2.   Nazwa obsługiwanego pliku pdf\n",
        "Sprawdzenie czy katalog i plik (ścieżka) istnieją\n",
        "\n",
        "\n"
      ],
      "metadata": {
        "id": "3_PFoEHuv7XX"
      }
    },
    {
      "cell_type": "code",
      "source": [
        "import os\n",
        "import pathlib as pth\n",
        "# from os import getcwd\n",
        "\n",
        "# Ścieżka do katalogu bieżącego\n",
        "path_to_working_directory = \"/content/drive/MyDrive/Colab Notebooks\"\n",
        "\n",
        "# Nazwa pliku\n",
        "file_name = \"DATASHEET.PDF\"\n",
        "# file_name = \"DATASHEET2.pdf\"\n",
        "\n",
        "# Sprawdz czy ścieżka do KATALOGU istnieje\n",
        "isDirectoryPathExists = os.path.exists(path_to_working_directory)\n",
        "print(isDirectoryPathExists)\n",
        "\n",
        "# Scal ścieżkę do pliku\n",
        "path_to_working_file = os.path.join(path_to_working_directory, file_name)\n",
        "\n",
        "# Sprawdz czy ścieżka DO PLIKU istnieje\n",
        "isFilePathExists = os.path.exists(path_to_working_file)\n",
        "print(isFilePathExists)\n"
      ],
      "metadata": {
        "colab": {
          "base_uri": "https://localhost:8080/"
        },
        "id": "uE_nXlca1YTw",
        "outputId": "6459fc4e-7012-4ebd-8984-8543f82af06a"
      },
      "execution_count": null,
      "outputs": [
        {
          "output_type": "stream",
          "name": "stdout",
          "text": [
            "True\n",
            "True\n"
          ]
        }
      ]
    },
    {
      "cell_type": "markdown",
      "source": [
        "Otwarcie pliku do odczytu\n"
      ],
      "metadata": {
        "id": "44KxPT8bwsPh"
      }
    },
    {
      "cell_type": "code",
      "source": [
        "from PyPDF2 import PdfReader, PdfWriter\n",
        "from datetime import datetime  # Import the datetime module\n",
        "\n",
        "reader = PdfReader(path_to_working_file)\n",
        "writer = PdfWriter()\n",
        "\n",
        "# Add all pages to the writer\n",
        "for page in reader.pages:\n",
        "    writer.add_page(page)\n",
        "\n",
        "# Get the current date and time\n",
        "modification_date = datetime.now().strftime(\"D:YYYYMMDDHHmmSSOHH'mm'\")\n",
        "# modification_date = datetime.now().strftime(\"D:%Y%m%d%H%M%S%z\")\n",
        "\n",
        "# Add the metadata\n",
        "writer.add_metadata(\n",
        "    {\n",
        "        \"/Author\": \"Martino\",\n",
        "        \"/Producer\": \"Libre Writer\",\n",
        "        \"/Subject\": \"kikk\",\n",
        "        \"/Title\": \"jakis_tytul\",\n",
        "        \"/ModDate\": modification_date  # Adding modification date\n",
        "    }\n",
        ")\n",
        "\n",
        "# print(path_to_working_file)\n",
        "with open(os.path.join(path_to_working_directory, file_name), \"wb\") as f:\n",
        "  # pass\n",
        "  writer.write(f)"
      ],
      "metadata": {
        "id": "ZZqgD5M-0eyZ"
      },
      "execution_count": null,
      "outputs": []
    },
    {
      "cell_type": "markdown",
      "source": [
        "Liczba stron"
      ],
      "metadata": {
        "id": "LoQ4nqc72Re_"
      }
    },
    {
      "cell_type": "code",
      "source": [
        "pagesNumber = len(reader.pages)\n",
        "pagesNumber"
      ],
      "metadata": {
        "colab": {
          "base_uri": "https://localhost:8080/"
        },
        "id": "U6uef7bE2Q1o",
        "outputId": "dbfe5fbc-1973-4a8e-f5a3-c36226a573be"
      },
      "execution_count": null,
      "outputs": [
        {
          "output_type": "execute_result",
          "data": {
            "text/plain": [
              "2"
            ]
          },
          "metadata": {},
          "execution_count": 206
        }
      ]
    },
    {
      "cell_type": "markdown",
      "source": [
        "Czytanie metadanych\n"
      ],
      "metadata": {
        "id": "mTfj1GDdx7i-"
      }
    },
    {
      "cell_type": "code",
      "source": [
        "meta = reader.metadata\n",
        "# meta\n",
        "print(\"author: \", meta.author)\n",
        "print(\"creator: \", meta.creator)\n",
        "print(\"producer: \", meta.producer)\n",
        "print(\"subject: \", meta.subject)\n",
        "print(\"title:\", meta.title)\n",
        "# print(\"modification_date: \", meta.modification_date)\n"
      ],
      "metadata": {
        "colab": {
          "base_uri": "https://localhost:8080/"
        },
        "id": "JXdR4Fbxx4gG",
        "outputId": "d3625539-2516-4b05-bf61-e92a93f5a6c1"
      },
      "execution_count": null,
      "outputs": [
        {
          "output_type": "stream",
          "name": "stdout",
          "text": [
            "author:  Martino\n",
            "creator:  None\n",
            "producer:  Libre Writer\n",
            "subject:  kikk\n",
            "title: jakis_tytul\n"
          ]
        }
      ]
    },
    {
      "cell_type": "markdown",
      "source": [
        "Funkcja konwertująca datę"
      ],
      "metadata": {
        "id": "FAlk455lyIlH"
      }
    },
    {
      "cell_type": "code",
      "source": [
        "dataDecoded = convertPdfDatetime(\"D:20210131162359+01'00'\")\n",
        "dataDecoded\n",
        "print(dataDecoded)"
      ],
      "metadata": {
        "colab": {
          "base_uri": "https://localhost:8080/"
        },
        "id": "emzf4yaLyEwc",
        "outputId": "9188a64f-381c-477b-ad58-af37ae5ad94d"
      },
      "execution_count": null,
      "outputs": [
        {
          "output_type": "stream",
          "name": "stdout",
          "text": [
            "2021-01-31 16:23:59\n"
          ]
        }
      ]
    },
    {
      "cell_type": "markdown",
      "source": [
        "Encrypt"
      ],
      "metadata": {
        "id": "QtNji1_9KFOt"
      }
    },
    {
      "cell_type": "code",
      "source": [
        "# Add all pages to the writer\n",
        "for page in reader.pages:\n",
        "    writer.add_page(page)\n",
        "\n",
        "# Add a password to the new PDF\n",
        "writer.encrypt(\"my-secret-password\")\n",
        "\n",
        "# Save the new PDF to a file\n",
        "with open(\"DATASHEET.PDF____encrypted-pdf.pdf\", \"wb\") as f:\n",
        "    writer.write(f)"
      ],
      "metadata": {
        "id": "toQWEN0-8WOP"
      },
      "execution_count": null,
      "outputs": []
    },
    {
      "cell_type": "markdown",
      "source": [
        "Decrypt"
      ],
      "metadata": {
        "id": "4lneywOsKc0c"
      }
    },
    {
      "cell_type": "code",
      "source": [
        "if reader.is_encrypted:\n",
        "    reader.decrypt(\"my-secret-password\")\n",
        "    print(\"plik zaszyfrowany\")\n",
        "else:\n",
        "    print(\"plik NIE zaszyfrowany\")\n",
        "\n",
        "\n",
        "# Add all pages to the writer\n",
        "for page in reader.pages:\n",
        "    writer.add_page(page)\n",
        "\n",
        "# Save the new PDF to a file\n",
        "with open(\"DATASHEET.PDF____decrypted-pdf.pdf\", \"wb\") as f:\n",
        "    writer.write(f)"
      ],
      "metadata": {
        "colab": {
          "base_uri": "https://localhost:8080/"
        },
        "id": "nXDIVq0z9Q2B",
        "outputId": "8d35f29d-e78b-4e7c-ba9b-01b5e6d02448"
      },
      "execution_count": null,
      "outputs": [
        {
          "output_type": "stream",
          "name": "stdout",
          "text": [
            "plik NIE zaszyfrowany\n"
          ]
        }
      ]
    }
  ]
}