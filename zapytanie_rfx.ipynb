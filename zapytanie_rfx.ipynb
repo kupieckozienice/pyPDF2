{
  "nbformat": 4,
  "nbformat_minor": 0,
  "metadata": {
    "colab": {
      "provenance": []
    },
    "kernelspec": {
      "name": "python3",
      "display_name": "Python 3"
    },
    "language_info": {
      "name": "python"
    }
  },
  "cells": [
    {
      "cell_type": "markdown",
      "source": [
        "# `klonowanie repozytorium`"
      ],
      "metadata": {
        "id": "rjx3N18uNlXN"
      }
    },
    {
      "cell_type": "code",
      "source": [
        "# @title Clone the entire repo { vertical-output: true }\n",
        "repo_link = \"https://github.com/kupieckozienice/pyPDF2\" # @param {type:\"string\"}\n",
        "\n",
        "# https://github.com/kupieckozienice/pyPDF2\n",
        "\n",
        "# !git clone -l -s repo_link cloned-repo\n",
        "# %cd cloned-repo\n",
        "# !ls"
      ],
      "metadata": {
        "id": "MrQetC9ddQdI"
      },
      "execution_count": 308,
      "outputs": []
    },
    {
      "cell_type": "markdown",
      "source": [
        "# `instalowanie bibliotek`"
      ],
      "metadata": {
        "id": "ZdGgafE6Gzpq"
      }
    },
    {
      "cell_type": "code",
      "source": [
        "# @title install unidecode { form-width: \"500px\", display-mode: \"both\" }\n",
        "%pip install unidecode"
      ],
      "metadata": {
        "colab": {
          "base_uri": "https://localhost:8080/"
        },
        "id": "22smGidmdP1U",
        "outputId": "9e61f82c-fd59-4351-faf0-495a24f7acd3"
      },
      "execution_count": 309,
      "outputs": [
        {
          "output_type": "stream",
          "name": "stdout",
          "text": [
            "Requirement already satisfied: unidecode in /usr/local/lib/python3.10/dist-packages (1.3.8)\n"
          ]
        }
      ]
    },
    {
      "cell_type": "code",
      "source": [
        "# @title install pycountry { form-width: \"500px\", display-mode: \"both\" }\n",
        "%pip install pycountry\n"
      ],
      "metadata": {
        "id": "Ml5VSAZUGeqm",
        "outputId": "e8060972-86c4-4fc3-c80e-08ff1b0f8a13",
        "colab": {
          "base_uri": "https://localhost:8080/"
        }
      },
      "execution_count": 551,
      "outputs": [
        {
          "output_type": "stream",
          "name": "stdout",
          "text": [
            "Collecting pycountry\n",
            "  Downloading pycountry-23.12.11-py3-none-any.whl (6.2 MB)\n",
            "\u001b[2K     \u001b[90m━━━━━━━━━━━━━━━━━━━━━━━━━━━━━━━━━━━━━━━━\u001b[0m \u001b[32m6.2/6.2 MB\u001b[0m \u001b[31m26.7 MB/s\u001b[0m eta \u001b[36m0:00:00\u001b[0m\n",
            "\u001b[?25hInstalling collected packages: pycountry\n",
            "Successfully installed pycountry-23.12.11\n"
          ]
        }
      ]
    },
    {
      "cell_type": "code",
      "source": [
        "# @title install babel { form-width: \"500px\", display-mode: \"both\" }\n",
        "%pip install babel\n"
      ],
      "metadata": {
        "id": "nNHKIaMiEh3V",
        "outputId": "a5f99da0-b2e1-40ad-c51e-682396c5ce0e",
        "colab": {
          "base_uri": "https://localhost:8080/"
        }
      },
      "execution_count": 540,
      "outputs": [
        {
          "output_type": "stream",
          "name": "stdout",
          "text": [
            "Requirement already satisfied: babel in /usr/local/lib/python3.10/dist-packages (2.14.0)\n"
          ]
        }
      ]
    },
    {
      "cell_type": "code",
      "source": [
        "# @title install python-docx { form-width: \"750px\", display-mode: \"both\" }\n",
        "%pip install python-docx"
      ],
      "metadata": {
        "id": "PO0M9LH0gVDY",
        "outputId": "5e13452d-0433-4091-f876-c69353d2b942",
        "colab": {
          "base_uri": "https://localhost:8080/"
        }
      },
      "execution_count": 310,
      "outputs": [
        {
          "output_type": "stream",
          "name": "stdout",
          "text": [
            "Requirement already satisfied: python-docx in /usr/local/lib/python3.10/dist-packages (1.1.0)\n",
            "Requirement already satisfied: lxml>=3.1.0 in /usr/local/lib/python3.10/dist-packages (from python-docx) (4.9.4)\n",
            "Requirement already satisfied: typing-extensions in /usr/local/lib/python3.10/dist-packages (from python-docx) (4.5.0)\n"
          ]
        }
      ]
    },
    {
      "cell_type": "code",
      "source": [
        "# @title install PyPDF2 { form-width: \"600px\", display-mode: \"both\" }\n",
        "%pip install PyPDF2"
      ],
      "metadata": {
        "id": "a8lERaDC0s-u",
        "outputId": "02047d0c-dfeb-4942-801c-1e789343a234",
        "colab": {
          "base_uri": "https://localhost:8080/"
        }
      },
      "execution_count": 311,
      "outputs": [
        {
          "output_type": "stream",
          "name": "stdout",
          "text": [
            "Requirement already satisfied: PyPDF2 in /usr/local/lib/python3.10/dist-packages (3.0.1)\n"
          ]
        }
      ]
    },
    {
      "cell_type": "code",
      "source": [
        "# @title install pdfminer.six { form-width: \"600px\", display-mode: \"both\" }\n",
        "%pip install pdfminer.six"
      ],
      "metadata": {
        "colab": {
          "base_uri": "https://localhost:8080/"
        },
        "id": "Ip0ocTxo2sPI",
        "outputId": "f1a8f931-6fc5-43e3-b67e-671c5e5f9f21"
      },
      "execution_count": 312,
      "outputs": [
        {
          "output_type": "stream",
          "name": "stdout",
          "text": [
            "Requirement already satisfied: pdfminer.six in /usr/local/lib/python3.10/dist-packages (20231228)\n",
            "Requirement already satisfied: charset-normalizer>=2.0.0 in /usr/local/lib/python3.10/dist-packages (from pdfminer.six) (3.3.2)\n",
            "Requirement already satisfied: cryptography>=36.0.0 in /usr/local/lib/python3.10/dist-packages (from pdfminer.six) (42.0.2)\n",
            "Requirement already satisfied: cffi>=1.12 in /usr/local/lib/python3.10/dist-packages (from cryptography>=36.0.0->pdfminer.six) (1.16.0)\n",
            "Requirement already satisfied: pycparser in /usr/local/lib/python3.10/dist-packages (from cffi>=1.12->cryptography>=36.0.0->pdfminer.six) (2.21)\n"
          ]
        }
      ]
    },
    {
      "cell_type": "code",
      "source": [
        "# @title install openpyxl { form-width: \"600px\", display-mode: \"both\" }\n",
        "%pip install openpyxl"
      ],
      "metadata": {
        "id": "dY2jkySJFpti",
        "outputId": "38997e00-1484-4bf8-a392-57245fd4804a",
        "colab": {
          "base_uri": "https://localhost:8080/"
        }
      },
      "execution_count": 313,
      "outputs": [
        {
          "output_type": "stream",
          "name": "stdout",
          "text": [
            "Requirement already satisfied: openpyxl in /usr/local/lib/python3.10/dist-packages (3.1.2)\n",
            "Requirement already satisfied: et-xmlfile in /usr/local/lib/python3.10/dist-packages (from openpyxl) (1.1.0)\n"
          ]
        }
      ]
    },
    {
      "cell_type": "code",
      "source": [
        "# @title install pillow\n",
        "%pip install pillow"
      ],
      "metadata": {
        "id": "F2AEpA3pJCUs",
        "outputId": "2719ef3d-52ec-4c78-afee-95cf87a46aad",
        "colab": {
          "base_uri": "https://localhost:8080/"
        }
      },
      "execution_count": 314,
      "outputs": [
        {
          "output_type": "stream",
          "name": "stdout",
          "text": [
            "Requirement already satisfied: pillow in /usr/local/lib/python3.10/dist-packages (9.4.0)\n"
          ]
        }
      ]
    },
    {
      "cell_type": "code",
      "source": [
        "# @title install faker\n",
        "%pip install faker"
      ],
      "metadata": {
        "colab": {
          "base_uri": "https://localhost:8080/"
        },
        "id": "B6DgsenUMieI",
        "outputId": "39a42302-d2db-46b0-f7d6-c649b7324ff4"
      },
      "execution_count": 315,
      "outputs": [
        {
          "output_type": "stream",
          "name": "stdout",
          "text": [
            "Requirement already satisfied: faker in /usr/local/lib/python3.10/dist-packages (22.6.0)\n",
            "Requirement already satisfied: python-dateutil>=2.4 in /usr/local/lib/python3.10/dist-packages (from faker) (2.8.2)\n",
            "Requirement already satisfied: six>=1.5 in /usr/local/lib/python3.10/dist-packages (from python-dateutil>=2.4->faker) (1.16.0)\n"
          ]
        }
      ]
    },
    {
      "cell_type": "markdown",
      "source": [
        "# `import dependencies`"
      ],
      "metadata": {
        "id": "h892SdotOs3i"
      }
    },
    {
      "cell_type": "code",
      "source": [
        "# @title import dependencies { vertical-output: true, form-width: \"500px\", display-mode: \"both\" }\n",
        "# @markdown instalowanie zależności:\n",
        "# @markdown  `os`,\n",
        "# @markdown  `pathlib`, `typing`\n",
        "\n",
        "import os\n",
        "import faker\n",
        "import pathlib as pth\n",
        "from typing import Union, Literal, List\n",
        "from PyPDF2 import PdfReader, PdfWriter\n",
        "from pdfminer.high_level import extract_text as fallback_text_extraction\n",
        "from google.colab import files\n",
        "from docx import Document\n",
        "from docx.shared import Inches, Pt\n",
        "from docx.enum.text import WD_ALIGN_PARAGRAPH\n",
        "from openpyxl import Workbook\n",
        "from openpyxl.worksheet.table import Table, TableStyleInfo\n",
        "import openpyxl\n",
        "from openpyxl.reader.excel import load_workbook\n",
        "from openpyxl.styles import Alignment, Font\n",
        "import pandas as pd\n",
        "from dateutil import tz\n",
        "import re\n",
        "from unidecode import unidecode\n",
        "import random\n",
        "import string\n",
        "import time\n",
        "import random\n",
        "from datetime import datetime, timedelta\n",
        "from enum import Enum\n"
      ],
      "metadata": {
        "id": "oC_2Bdqlp849"
      },
      "execution_count": 316,
      "outputs": []
    },
    {
      "cell_type": "markdown",
      "source": [
        "# `data`"
      ],
      "metadata": {
        "id": "0LedkM_8zqvs"
      }
    },
    {
      "cell_type": "code",
      "source": [
        "# @title aktualna data i godzina { vertical-output: true, form-width: \"500px\", display-mode: \"both\" }\n",
        "\n",
        "def actual_datetime():\n",
        "  teraz = datetime.now(tz=tz.gettz('Europe/Warsaw'))\n",
        "  formatted_date = teraz.strftime(\"%d.%m.%Y\")\n",
        "  formatted_time = teraz.strftime(\"%H:%M:%S\")\n",
        "\n",
        "  # print(formatted_date)\n",
        "  # print(formatted_time)\n",
        "\n",
        "  return {'data': formatted_date, 'czas': formatted_time}\n",
        "\n",
        "################# przykład użycia\n",
        "aktualna_data = actual_datetime()\n",
        "aktualna_data_jako_napis = f\"{aktualna_data['czas']} {aktualna_data['data']}\"\n",
        "# print(aktualna_data)\n",
        "data_wysrodkowana = aktualna_data_jako_napis.center(30, '_')\n",
        "print(data_wysrodkowana)\n",
        "\n"
      ],
      "metadata": {
        "id": "Bw8RT8BLFCTn",
        "colab": {
          "base_uri": "https://localhost:8080/"
        },
        "outputId": "a9f6c3d3-8a49-4a27-d71b-59ef03f31f09"
      },
      "execution_count": 488,
      "outputs": [
        {
          "output_type": "stream",
          "name": "stdout",
          "text": [
            "_____17:20:17 04.02.2024______\n"
          ]
        }
      ]
    },
    {
      "cell_type": "markdown",
      "source": [
        "# `operacje systemowe`"
      ],
      "metadata": {
        "id": "APoQdXDuHA83"
      }
    },
    {
      "cell_type": "code",
      "source": [
        "# @title zmień katalog domyślny na /content { vertical-output: true, form-width: \"500px\", display-mode: \"both\" }\n",
        "new_directory_name = \"/content\" # @param {type:\"string\"}\n",
        "os.chdir(new_directory_name)\n",
        "print(os.getcwd())"
      ],
      "metadata": {
        "id": "oRlzm6ULfoak",
        "colab": {
          "base_uri": "https://localhost:8080/"
        },
        "outputId": "30198ffc-e315-479d-d55c-92f647e010f2"
      },
      "execution_count": 489,
      "outputs": [
        {
          "output_type": "stream",
          "name": "stdout",
          "text": [
            "/content\n"
          ]
        }
      ]
    },
    {
      "cell_type": "code",
      "source": [
        "# @title utwórz nowy plik { vertical-output: true, form-width: \"500px\", display-mode: \"both\" }\n",
        "\n",
        "def utworz_nowy_plik(nazwa_pliku):\n",
        "  aktualna_data_i_godzina = datetime.now().strftime(\"%d.%m.%Y %H.%M.%S %Z\")\n",
        "  print(\"aktualna_data_i_godzina:\", aktualna_data_i_godzina)\n",
        "  sciezka_do_pliku = f'/content/{nazwa_pliku}'\n",
        "\n",
        "  with open(sciezka_do_pliku, \"w\") as plik:\n",
        "    plik.write(aktualna_data_i_godzina)\n"
      ],
      "metadata": {
        "id": "crPKXV29_nC-"
      },
      "execution_count": 345,
      "outputs": []
    },
    {
      "cell_type": "code",
      "source": [
        "# @title sprawdź czy podany plik istnieje { vertical-output: true, form-width: \"500px\", display-mode: \"both\" }\n",
        "\n",
        "path_to_file = \"/content/sample_data/README.md\" # @param {type:\"string\"}\n",
        "# @markdown sprawdza czy plik o podanej ścieżce istnieje\n",
        "\n",
        "def sprawdz_czy_dany_plik_istnieje(path_to_file):\n",
        "  try:\n",
        "    with open(path_to_file, 'r') as file:\n",
        "      print(f\"Plik {path_to_file} istnieje.\")\n",
        "      return True\n",
        "  except FileNotFoundError:\n",
        "    print('Sorry the file we\\'re looking for doesn\\' exist')\n",
        "    return False\n",
        "  except Exception as e:\n",
        "    print(f\"Wystąpił błąd: {e}\")\n",
        "    return False\n",
        "\n",
        "# testy\n",
        "#  /content/KZP-ŁA.2110.03.2024 Dostawa skanerów płomienia Lamtec.xlsx\n",
        "sprawdz_czy_dany_plik_istnieje(path_to_file)"
      ],
      "metadata": {
        "id": "NwyYKWSoW4Uo",
        "outputId": "00a980b6-4de9-43de-f5ea-53d94842d523",
        "colab": {
          "base_uri": "https://localhost:8080/"
        }
      },
      "execution_count": 347,
      "outputs": [
        {
          "output_type": "stream",
          "name": "stdout",
          "text": [
            "Plik /content/sample_data/README.md istnieje.\n"
          ]
        },
        {
          "output_type": "execute_result",
          "data": {
            "text/plain": [
              "True"
            ]
          },
          "metadata": {},
          "execution_count": 347
        }
      ]
    },
    {
      "cell_type": "code",
      "source": [
        "# @title usuń pliki lub katalogi { vertical-output: true, form-width: \"500px\", display-mode: \"both\" }\n",
        "sciezka = \"/content/zz\" # @param {type:\"string\"}\n",
        "# usuwanie katalogów i plików\n",
        "\n",
        "import shutil\n",
        "\n",
        "def usun_pliki_lub_katalogi(sciezka):\n",
        "  try:\n",
        "    if os.path.isfile(sciezka):\n",
        "      os.remove(sciezka)\n",
        "    elif os.path.isdir(sciezka):\n",
        "      shutil.rmtree(sciezka)\n",
        "      print(f\"Katalog/Plik '{sciezka}' został usunięty\")\n",
        "  except Exception as e:\n",
        "    print(f\"Wystąpił błąd podczas usuwania '{sciezka}': {e}\")\n",
        "\n",
        "# testy\n",
        "# usun_pliki_lub_katalogi(sciezka)"
      ],
      "metadata": {
        "id": "vADvmVuixTXi"
      },
      "execution_count": 491,
      "outputs": []
    },
    {
      "cell_type": "code",
      "source": [
        "# @title sprawdzenie czy istnieje katalog roboczy, w którym chcemy pracować { vertical-output: true, form-width: \"500px\", display-mode: \"both\" }\n",
        "directory_path = \"/content/zz\" # @param {type:\"string\"}\n",
        "\n",
        "\n",
        "def sprawdz_czy_katalog_istnieje(directory_name):\n",
        "    # Ścieżka do katalogu bieżącego\n",
        "    cwd = os.getcwd()\n",
        "\n",
        "    working_directory_for_creating = os.path.join(cwd, directory_name)\n",
        "\n",
        "    try:\n",
        "        if not os.path.exists(working_directory_for_creating):\n",
        "            print(f\"Katalog {working_directory_for_creating} nie istnieje i zostanie utworzony\")\n",
        "            os.makedirs(working_directory_for_creating)\n",
        "            return True  # Katalog został utworzony, zwracamy True\n",
        "        else:\n",
        "            print(f\"Katalog {working_directory_for_creating} już istnieje!\")\n",
        "            return True  # Katalog już istnieje, zwracamy True\n",
        "    except FileExistsError:\n",
        "        print(f\"Katalog o nazwie {working_directory_for_creating} już istnieje!\")\n",
        "        return True  # Katalog już istnieje, zwracamy True\n",
        "    except Exception as e:\n",
        "        print(f\"Wystąpił błąd podczas tworzenia katalogu: {working_directory_for_creating}\")\n",
        "        return False  # Wystąpił błąd, zwracamy False\n",
        "\n",
        "# testy\n",
        "# sprawdz_czy_katalog_istnieje(\"/content/zz\")"
      ],
      "metadata": {
        "id": "xpHkhACx7wIH"
      },
      "execution_count": 501,
      "outputs": []
    },
    {
      "cell_type": "code",
      "source": [
        "# @title importuj pliki do wskazanego katalogu { vertical-output: true, form-width: \"500px\", display-mode: \"both\" }\n",
        "destination_directory = \"/content/zz\" # @param {type:\"string\"}\n",
        "\n",
        "def import_files(destination_directory):\n",
        "\n",
        "  if sprawdz_czy_katalog_istnieje(destination_directory):\n",
        "    uploaded = files.upload()\n",
        "\n",
        "    for fn in uploaded.keys():\n",
        "      print('User uploaded file \"{name}\" with length {length} bytes'.format(\n",
        "          name=fn, length=len(uploaded[fn])))\n",
        "\n",
        "    for filename, file_content in uploaded.items():\n",
        "      if os.path.exists(destination_directory) and os.path.isdir(destination_directory):\n",
        "        with open(os.path.join(destination_directory, filename), \"wb\") as f:\n",
        "          f.write(file_content)\n",
        "\n",
        "        # remove files from /content\n",
        "        file_to_remove_after_copying_to_working_directory = os.path.join(os.getcwd(), filename)\n",
        "        if os.path.isfile(file_to_remove_after_copying_to_working_directory):\n",
        "          os.remove(file_to_remove_after_copying_to_working_directory)\n",
        "          if not os.path.exists(file_to_remove_after_copying_to_working_directory):\n",
        "            print(f\"plik: {os.path.basename(file_to_remove_after_copying_to_working_directory)} \"\n",
        "            f\"usunięty z katalogu {os.path.dirname(file_to_remove_after_copying_to_working_directory)}\")\n",
        "          else:\n",
        "            print(f\"plik: {os.path.basename(file_to_remove_after_copying_to_working_directory)} \"\n",
        "            f\"NIE usunięty z katalogu {os.path.dirname(file_to_remove_after_copying_to_working_directory)}\")\n",
        "\n",
        "# przykład uzycia\n",
        "# import_files(destination_directory)\n",
        "# usun_pliki_lub_katalogi(destination_directory)"
      ],
      "metadata": {
        "id": "itYcWazRKJaO"
      },
      "execution_count": 509,
      "outputs": []
    },
    {
      "cell_type": "code",
      "source": [
        "# @title iteruje przez podany katalog i wyświetle nazwy plików { vertical-output: true, form-width: \"500px\", display-mode: \"both\" }\n",
        "path_to_directory = \"/content/sample_data\" # @param {type:\"string\"}\n",
        "\n",
        "def iterate_over_files_in_directory(path_to_directory):\n",
        "\n",
        "  numerate = 1\n",
        "\n",
        "  for filename in os.listdir(path_to_directory):\n",
        "    f = os.path.join(path_to_directory, filename)\n",
        "    if os.path.isfile(f):\n",
        "      print(f\"{numerate}. {f}\")\n",
        "      numerate = numerate + 1\n",
        "\n",
        "# przykład użycia\n",
        "iterate_over_files_in_directory(path_to_directory)"
      ],
      "metadata": {
        "id": "fpixjq3eJ-T1",
        "colab": {
          "base_uri": "https://localhost:8080/"
        },
        "outputId": "b6d437b3-c281-4070-e2bc-fb4c9f93fbb8"
      },
      "execution_count": 492,
      "outputs": [
        {
          "output_type": "stream",
          "name": "stdout",
          "text": [
            "1. /content/sample_data/README.md\n",
            "2. /content/sample_data/anscombe.json\n",
            "3. /content/sample_data/california_housing_train.csv\n",
            "4. /content/sample_data/mnist_train_small.csv\n",
            "5. /content/sample_data/california_housing_test.csv\n",
            "6. /content/sample_data/mnist_test.csv\n"
          ]
        }
      ]
    },
    {
      "cell_type": "code",
      "source": [
        "# @title rozdziel nazwe pliku od rozszerzenia { form-width: \"500px\", display-mode: \"both\" }\n",
        "filename = \"1_Zalacznik_Zakres_Przedmiotu_zamowienia_KZP_LA_2110_01_2024_Dostawa_silownika_Auma____kopia.xlsx\" # @param {type:\"string\"}\n",
        "\n",
        "def split_filename_and_extension(filename):\n",
        "  nazwa_pliku, rozszerzenie_pliku = os.path.splitext(filename)\n",
        "\n",
        "  return {'name_key': nazwa_pliku, 'ext_key': rozszerzenie_pliku}\n",
        "\n",
        "\n",
        "# testy\n",
        "nazwa_pliku_z_rozszerzeniem = split_filename_and_extension(filename)\n",
        "for key, value in nazwa_pliku_z_rozszerzeniem.items():\n",
        "  print(nazwa_pliku_z_rozszerzeniem[key])"
      ],
      "metadata": {
        "id": "23c8w_EjGIkB",
        "outputId": "95d1a69d-b136-4346-ba73-b46fd8071992",
        "colab": {
          "base_uri": "https://localhost:8080/"
        }
      },
      "execution_count": 511,
      "outputs": [
        {
          "output_type": "stream",
          "name": "stdout",
          "text": [
            "1_Zalacznik_Zakres_Przedmiotu_zamowienia_KZP_LA_2110_01_2024_Dostawa_silownika_Auma____kopia\n",
            ".xlsx\n"
          ]
        }
      ]
    },
    {
      "cell_type": "code",
      "source": [
        "# @title generuje losową nazwę pliku z rozsz. z podanej listy możliwych { vertical-output: true, form-width: \"500px\", display-mode: \"both\" }\n",
        "\n",
        "def generate_random_filename():\n",
        "    # Lista dostępnych liter\n",
        "    litery = list(string.ascii_letters + \"ąćęłńóśźżĄĆĘŁŃÓŚŹŻ\")\n",
        "\n",
        "    # Lista dostępnych rozszerzeń\n",
        "    rozszerzenia = ['txt', 'docx', 'xlsx', 'pdf']\n",
        "\n",
        "    # Wygeneruj losową liczbę członów (od 2 do 5)\n",
        "    liczba_czlonow = random.randint(2, 5)\n",
        "\n",
        "    # Wygeneruj losową nazwę pliku składającą się z członów\n",
        "    nazwa_pliku = ' '.join(''.join(random.choice(litery) for _ in range(random.randint(5, 6))) for _ in range(liczba_czlonow))\n",
        "\n",
        "    # Wygeneruj losowe rozszerzenie\n",
        "    rozszerzenie = random.choice(rozszerzenia)\n",
        "\n",
        "    return f\"{nazwa_pliku}.{rozszerzenie}\"\n",
        "\n",
        "# przykładowe użycie\n",
        "print(generate_random_filename())"
      ],
      "metadata": {
        "colab": {
          "base_uri": "https://localhost:8080/"
        },
        "id": "cdUP5fga59tW",
        "outputId": "b01aa4b0-ef19-4748-b346-bbf1ed69d744"
      },
      "execution_count": 512,
      "outputs": [
        {
          "output_type": "stream",
          "name": "stdout",
          "text": [
            "SnŹAŚ HGTrŻż NKrmR.pdf\n"
          ]
        }
      ]
    },
    {
      "cell_type": "code",
      "source": [
        "# @title klasa wyliczeniowa odnośnie wielkości liter w pliku { vertical-output: true, form-width: \"500px\", display-mode: \"both\" }\n",
        "\n",
        "class Wielkosc_Liter(Enum):\n",
        "  DUZE_LITERY_W_CALOSCI = \"UPPER\"\n",
        "  MALE_LITERY_W_CALOSCI = \"LOWER\"\n",
        "  TYLKO_PIERWSZA_NA_POCZATKU_DUZA = \"TITLE\"\n",
        "  DUZA_PIERWSZA_W_KAZDYM_CZLONIE = \"ALL_UPPER\"\n",
        "\n",
        "\n",
        "def zamien_wielosc_liter(Wielkosc_Liter, nazwa):\n",
        "  key = Wielkosc_Liter.value\n",
        "\n",
        "  switch_dict = {\n",
        "      'UPPER': lambda nazwa: nazwa.upper(),\n",
        "      'LOWER': lambda nazwa: nazwa.lower(),\n",
        "      'ALL_UPPER': lambda nazwa: nazwa.capitalize(),\n",
        "      'TITLE': lambda nazwa: nazwa.title()\n",
        "  }\n",
        "\n",
        "  return switch_dict[key](nazwa)"
      ],
      "metadata": {
        "id": "SsGrzKFI6Iyz"
      },
      "execution_count": 513,
      "outputs": []
    },
    {
      "cell_type": "code",
      "source": [
        "# @title zamienia wszystkie inne znaki niż litery i cyfry (oprócz ost. kropki) na '_' (podaj nazwę w formacie nazwa_pliku.rozszerzenie) { vertical-output: true, form-width: \"500px\", display-mode: \"both\" }\n",
        "\n",
        "def zamien_znaki_w_nazwie_pliku(nazwa_pliku_do_zmiany_znakow, Wielkosc_Liter = Wielkosc_Liter.MALE_LITERY_W_CALOSCI):\n",
        "  nazwa, rozszerzenie = nazwa_pliku_do_zmiany_znakow.rsplit('.',1) if '.' in nazwa_pliku_do_zmiany_znakow else (nazwa_pliku_do_zmiany_znakow, '')\n",
        "  nazwa_bez_polskich_znakow = unidecode(nazwa)\n",
        "  nazwa_bez_polskich_znakow_bez_bialych = re.sub(r'[^a-zA-Z0-9]', '_', nazwa_bez_polskich_znakow)\n",
        "  zmodyfikowana_nazwa = zamien_wielosc_liter(Wielkosc_Liter, nazwa_bez_polskich_znakow_bez_bialych)\n",
        "  zmodyfikowany_string = zmodyfikowana_nazwa + ('.' + rozszerzenie if rozszerzenie else '')\n",
        "\n",
        "  return zmodyfikowany_string\n",
        "\n",
        "\n",
        "# testy\n",
        "losowa_nazwa_pliku = generate_random_filename()\n",
        "losowa_nazwa_pliku_wyjustowana = losowa_nazwa_pliku\n",
        "# losowa_nazwa_pliku_wyjustowana = losowa_nazwa_pliku.center(33, '*')\n",
        "print(losowa_nazwa_pliku_wyjustowana + \"\\n\")\n",
        "print(zamien_znaki_w_nazwie_pliku(losowa_nazwa_pliku, Wielkosc_Liter.MALE_LITERY_W_CALOSCI))\n",
        "print(zamien_znaki_w_nazwie_pliku(losowa_nazwa_pliku, Wielkosc_Liter.DUZA_PIERWSZA_W_KAZDYM_CZLONIE))\n",
        "print(zamien_znaki_w_nazwie_pliku(losowa_nazwa_pliku, Wielkosc_Liter.TYLKO_PIERWSZA_NA_POCZATKU_DUZA))\n",
        "print(zamien_znaki_w_nazwie_pliku(losowa_nazwa_pliku, Wielkosc_Liter.DUZE_LITERY_W_CALOSCI))"
      ],
      "metadata": {
        "id": "XeiehizdNfw_",
        "outputId": "fd3343d2-80a9-486b-b426-da2c0f2638fd",
        "colab": {
          "base_uri": "https://localhost:8080/"
        }
      },
      "execution_count": 516,
      "outputs": [
        {
          "output_type": "stream",
          "name": "stdout",
          "text": [
            "TądPyB óUsII mvxck.xlsx\n",
            "\n",
            "tadpyb_ousii_mvxck.xlsx\n",
            "Tadpyb_ousii_mvxck.xlsx\n",
            "Tadpyb_Ousii_Mvxck.xlsx\n",
            "TADPYB_OUSII_MVXCK.xlsx\n"
          ]
        }
      ]
    },
    {
      "cell_type": "code",
      "source": [
        "# @title czyszczenie zawartości pliku { vertical-output: true, form-width: \"500px\", display-mode: \"both\" }\n",
        "\n",
        "def wyczysc_zawartosc_pliku(sciezka_do_pliku):\n",
        "  with open(sciezka_do_pliku, \"w\") as plik:\n",
        "    plik.truncate(0)"
      ],
      "metadata": {
        "id": "0MK_ijL870wj"
      },
      "execution_count": 329,
      "outputs": []
    },
    {
      "cell_type": "markdown",
      "source": [
        "# `excel - generowanie danych testowych`"
      ],
      "metadata": {
        "id": "6pXZgq52cJb0"
      }
    },
    {
      "cell_type": "code",
      "source": [
        "# @title generuj losowy numer indeksu { vertical-output: true, form-width: \"400px\", display-mode: \"both\" }\n",
        "\n",
        "def generuj_losowy_numer_indeksu(dlugosc):\n",
        "  liczba = random.randint(100000000, 999999999)\n",
        "\n",
        "  formatted_number = \"{}-{}-{}-{}\".format(\n",
        "      liczba // 1000000,\n",
        "      (liczba // 1000) % 1000,\n",
        "      (liczba // 1) % 1000,\n",
        "      random.randint(0, 9)\n",
        "  )\n",
        "\n",
        "  return formatted_number\n",
        "\n",
        "\n",
        "# Przykład użycia\n",
        "losowy_numer = generuj_losowy_numer_indeksu(11)\n",
        "print(losowy_numer)"
      ],
      "metadata": {
        "colab": {
          "base_uri": "https://localhost:8080/"
        },
        "id": "jToLS75snTJQ",
        "outputId": "4337bbb4-773a-4b3a-e1c8-fdc859b1375c"
      },
      "execution_count": 520,
      "outputs": [
        {
          "output_type": "stream",
          "name": "stdout",
          "text": [
            "536-390-495-1\n"
          ]
        }
      ]
    },
    {
      "cell_type": "code",
      "source": [
        "# @title opis przedmiotu { vertical-output: true, form-width: \"400px\", display-mode: \"both\" }\n",
        "\n",
        "def generuj_losowy_tekst(dlugosc):\n",
        "    litery = string.ascii_letters\n",
        "    return ''.join(random.choice(litery) for _ in range(dlugosc))\n",
        "\n",
        "def generuj_losowa_nazwe_przedmiotu():\n",
        "    losowy_tekst = generuj_losowy_tekst(10)\n",
        "    czas_w_milisekundach = int(round(time.time() * 1000))\n",
        "    nazwa = f\"przedmiot nr {losowy_tekst} {czas_w_milisekundach}\"\n",
        "    return nazwa\n",
        "\n",
        "# Przykład użycia\n",
        "losowa_nazwa = generuj_losowa_nazwe_przedmiotu()\n",
        "print(losowa_nazwa)\n"
      ],
      "metadata": {
        "colab": {
          "base_uri": "https://localhost:8080/"
        },
        "id": "JK8VZeQJoMCZ",
        "outputId": "93a53365-fef2-4a24-a4be-8d80a175d86f"
      },
      "execution_count": 521,
      "outputs": [
        {
          "output_type": "stream",
          "name": "stdout",
          "text": [
            "przedmiot nr pDzOIZSXyz 1707064898221\n"
          ]
        }
      ]
    },
    {
      "cell_type": "code",
      "source": [
        "# @title ilość { vertical-output: true, form-width: \"400px\", display-mode: \"both\" }\n",
        "\n",
        "variable_name_1 = 1 # @param {type:\"integer\"}\n",
        "variable_name_2 = 100 # @param {type:\"integer\"}\n",
        "\n",
        "def generuj_ilosc(variable_name_1, variable_name_2):\n",
        "    return random.randint(variable_name_1, variable_name_2)\n",
        "\n",
        "\n",
        "# Przykład użycia\n",
        "zakres_od = 1\n",
        "zakres_do = 100\n",
        "losowa_liczba = generuj_ilosc(variable_name_1, variable_name_2)\n",
        "print(losowa_liczba)"
      ],
      "metadata": {
        "colab": {
          "base_uri": "https://localhost:8080/"
        },
        "id": "1A2zs2v3ooiZ",
        "outputId": "ff11d493-a02c-42bb-94c4-e910babd1724"
      },
      "execution_count": 525,
      "outputs": [
        {
          "output_type": "stream",
          "name": "stdout",
          "text": [
            "34\n"
          ]
        }
      ]
    },
    {
      "cell_type": "code",
      "source": [
        "# @title jednostki miary { vertical-output: true, form-width: \"300px\", display-mode: \"both\" }\n",
        "\n",
        "def generuj_jednostke_miary():\n",
        "  tablica_jednostek = ['szt', 'kpl', 'm', 'litr']\n",
        "\n",
        "  prawdopodobienstwo_zerowego_elementu = [0.8]+[0.2/ (len(tablica_jednostek) - 1)] * (len(tablica_jednostek) - 1)\n",
        "  return random.choices(tablica_jednostek, prawdopodobienstwo_zerowego_elementu)[0]\n",
        "\n",
        "# testy\n",
        "print(generuj_jednostke_miary())"
      ],
      "metadata": {
        "colab": {
          "base_uri": "https://localhost:8080/"
        },
        "id": "PAjUUse2yAWy",
        "outputId": "659a4a16-e9c8-4277-a246-466377f977c4"
      },
      "execution_count": 526,
      "outputs": [
        {
          "output_type": "stream",
          "name": "stdout",
          "text": [
            "szt\n"
          ]
        }
      ]
    },
    {
      "cell_type": "code",
      "source": [
        "# @title generuje losową datę { vertical-output: true, form-width: \"450px\", display-mode: \"both\" }\n",
        "zakres_poczatek_str = \"2024-02-08\" # @param {type:\"date\"}\n",
        "zakres_koniec_str = \"2024-12-31\" # @param {type:\"date\"}\n",
        "\n",
        "\n",
        "# Konwersja na obiekty datetime\n",
        "def konwertuj_date_do_datetime(data_string):\n",
        "  return datetime.strptime(data_string, \"%Y-%m-%d\")\n",
        "\n",
        "\n",
        "def generuj_losowa_date_z_podanego_przedzialu(zakres_poczatek_str, zakres_koniec_str):\n",
        "  zakres_poczatek = konwertuj_date_do_datetime(zakres_poczatek_str)\n",
        "  zakres_koniec = konwertuj_date_do_datetime(zakres_koniec_str)\n",
        "\n",
        "  zakres_dat = zakres_koniec - zakres_poczatek\n",
        "  losowa_liczba_dni = random.randint(0, zakres_dat.days)\n",
        "  losowa_data = zakres_poczatek + timedelta(days=losowa_liczba_dni)\n",
        "  return losowa_data.strftime(\"%d.%m.%Y\")\n",
        "\n",
        "\n",
        "# Przykład użycia\n",
        "print(\"zakres_poczatek:\\t\", zakres_poczatek_str)\n",
        "print(\"zakres_koniec:\\t\\t\", zakres_koniec_str)\n",
        "losowa_data = generuj_losowa_date_z_podanego_przedzialu(zakres_poczatek_str, zakres_koniec_str)\n",
        "print(\"losowa_data: \\t\\t\", losowa_data)"
      ],
      "metadata": {
        "colab": {
          "base_uri": "https://localhost:8080/"
        },
        "id": "T6dsDA_Epml0",
        "outputId": "cd9fd6e0-d264-4989-c1d4-eff69a0bf80e"
      },
      "execution_count": 529,
      "outputs": [
        {
          "output_type": "stream",
          "name": "stdout",
          "text": [
            "zakres_poczatek:\t 2024-02-08\n",
            "zakres_koniec:\t\t 2024-12-31\n",
            "losowa_data: \t\t 14.02.2024\n"
          ]
        }
      ]
    },
    {
      "cell_type": "code",
      "source": [
        "# @title cena jednostkowa { vertical-output: true, form-width: \"400px\", display-mode: \"both\" }\n",
        "zakres_od = 10 # @param {type:\"number\"}\n",
        "zakres_do = 3455 # @param {type:\"number\"}\n",
        "\n",
        "def generuj_cene_jednostkowa(zakres_od, zakres_do):\n",
        "    losowa_liczba_float = random.uniform(zakres_od, zakres_do)\n",
        "    return round(losowa_liczba_float, 2)\n",
        "\n",
        "# Przykład użycia\n",
        "zakres_od = 1.0\n",
        "zakres_do = 10.0\n",
        "losowa_liczba_float = generuj_cene_jednostkowa(zakres_od, zakres_do)\n",
        "print(losowa_liczba_float)"
      ],
      "metadata": {
        "colab": {
          "base_uri": "https://localhost:8080/"
        },
        "id": "g9g-Ibp9zwCi",
        "outputId": "d43c7f08-1de0-4607-d972-3eb520df2328"
      },
      "execution_count": 532,
      "outputs": [
        {
          "output_type": "stream",
          "name": "stdout",
          "text": [
            "7.73\n"
          ]
        }
      ]
    },
    {
      "cell_type": "code",
      "source": [
        "# @title kwota za całośc (iloczyn ilości i ceny jedn.) { vertical-output: true, form-width: \"500px\", display-mode: \"both\" }\n",
        "\n",
        "def kwota_za_calosc(ilosc, cena_jednostkowa):\n",
        "  return round(ilosc * cena_jednostkowa, 2)\n",
        "\n",
        "def generuj_losowa_liczbe():\n",
        "    return random.randint(1, 100)\n",
        "\n",
        "def generuj_losowa_liczbe_float():\n",
        "    return round(random.uniform(1.0, 250.0), 2)\n",
        "\n",
        "# Wygeneruj losowe liczby\n",
        "liczba_calkowita = generuj_losowa_liczbe()\n",
        "liczba_zmiennoprzecinkowa = generuj_losowa_liczbe_float()\n",
        "\n",
        "# Pomnóż liczby\n",
        "wynik_mnozenia = round(liczba_calkowita * liczba_zmiennoprzecinkowa, 2)\n",
        "\n",
        "# Wyświetl wyniki\n",
        "print(f\"Liczba całkowita: {liczba_calkowita}\")\n",
        "print(f\"Liczba zmiennoprzecinkowa: {liczba_zmiennoprzecinkowa}\")\n",
        "print(f\"Wynik mnoż. zaokr. do 2 miejsc po przecinku: {wynik_mnozenia}\")"
      ],
      "metadata": {
        "colab": {
          "base_uri": "https://localhost:8080/"
        },
        "id": "Qz-5sxi45mn-",
        "outputId": "5a97ef08-795d-4f06-a58d-be15930e31ac"
      },
      "execution_count": 451,
      "outputs": [
        {
          "output_type": "stream",
          "name": "stdout",
          "text": [
            "Liczba całkowita: 58\n",
            "Liczba zmiennoprzecinkowa: 42.68\n",
            "Wynik mnoż. zaokr. do 2 miejsc po przecinku: 2475.44\n"
          ]
        }
      ]
    },
    {
      "cell_type": "code",
      "source": [
        "# @title Informacje lokalizacyjne { vertical-output: true, form-width: \"600px\", display-mode: \"both\" }\n",
        "\n",
        "from babel import Locale\n",
        "import pycountry\n",
        "\n",
        "class InformacjeLokalizacyjne:\n",
        "    def __init__(self, kod_lokalizacji):\n",
        "        self.kod_lokalizacji = kod_lokalizacji\n",
        "        self.kraj_info = pycountry.countries.get(alpha_2=kod_lokalizacji)\n",
        "\n",
        "    def wyswietl_informacje(self):\n",
        "        print(f\"Kod lokalizacji: {self.kod_lokalizacji}\")\n",
        "        print(f\"Kraj: {self.kraj_info.name if self.kraj_info else 'Nieznany kraj'}\")\n",
        "        print(f\"Waluta: {self.kraj_info.currencies[0].name if self.kraj_info and self.kraj_info.currencies else 'Nieznana waluta'}\")\n",
        "\n",
        "\n",
        "# Przykłady użycia\n",
        "for alias in locale.locale_alias.keys():\n",
        "  lok1 = InformacjeLokalizacyjne('en_US')\n",
        "  lok1.wyswietl_informacje()"
      ],
      "metadata": {
        "id": "yDZRplknFFfX"
      },
      "execution_count": null,
      "outputs": []
    },
    {
      "cell_type": "code",
      "source": [
        "# @title generuj fikcyjne dane osobowe { vertical-output: true, form-width: \"600px\", display-mode: \"both\" }\n",
        "\n",
        "fake = faker.Faker('pl_Pl')\n",
        "# fake = faker.Faker('deutsch')\n",
        "# fake = faker.Faker('english_us')\n",
        "# fake = faker.Faker('ar_bh')\n",
        "# fake = faker.Faker('be_bg.utf8')\n",
        "# fake = faker.Faker('zh_tw.euctw')\n",
        "\n",
        "class Osoba:\n",
        "\n",
        "  osoby = {}\n",
        "\n",
        "  @staticmethod\n",
        "  def reset_osob():\n",
        "    Osoba.osoby = {}\n",
        "\n",
        "  @staticmethod\n",
        "  def init_osoby(ile_osob):\n",
        "    Osoba.reset_osob()\n",
        "    for _ in range(ile_osob):\n",
        "      osoba = Osoba()\n",
        "      Osoba.osoby[osoba._get_numer_osoby()] = osoba.to_dict()\n",
        "\n",
        "  @staticmethod\n",
        "  def wyswietl_osoby():\n",
        "    for numer, dane_osoby in Osoba.osoby.items():\n",
        "      print(f'\\n{numer}', end=\" \")\n",
        "      for klucz, dane in dane_osoby.items():\n",
        "        print(f'{dane}', end=\" \")\n",
        "\n",
        "  @staticmethod\n",
        "  def wyswietl_pojedyncza_osobe(nr_osoby):\n",
        "    print(Osoba.osoby.get(f'Osoba {nr_osoby}').get('Imię i nazwisko'))\n",
        "\n",
        "  def __init__(self):\n",
        "    self.imie_nazwisko = fake.name()\n",
        "    self.tel_kom = fake.phone_number()\n",
        "    self.tel_stacj = f\"+48{random.randint(100000000, 999999999)}\"\n",
        "    self.email = fake.email()\n",
        "\n",
        "  def _get_numer_osoby(self):\n",
        "    return f'Osoba {len(Osoba.osoby) + 1}'\n",
        "\n",
        "  def __str__(self):\n",
        "    return f\"{self.imie_nazwisko}, {self.tel_stacj}, {self.tel_kom}, {self.email}\"\n",
        "\n",
        "  def to_dict(self):\n",
        "    return {\n",
        "        'Imię i nazwisko':self.imie_nazwisko,\n",
        "        'Telefon komórkowy':self.tel_kom,\n",
        "        'Telefon stacjonarny':self.tel_stacj,\n",
        "        'E-mail':self.email\n",
        "    }\n",
        "\n",
        "# testy\n",
        "Osoba.init_osoby(50)\n",
        "Osoba.wyswietl_osoby()"
      ],
      "metadata": {
        "id": "cmvVZV4RK5o3"
      },
      "execution_count": null,
      "outputs": []
    },
    {
      "cell_type": "code",
      "source": [
        "# @title generuj nazwe pliku { vertical-output: true, form-width: \"400px\", display-mode: \"both\" }\n",
        "\n",
        "def generuj_nazwe_pliku():\n",
        "    numer = random.randint(10000, 99999)\n",
        "    nazwa_pliku = f\"Zapotrzebzakupu1{numer}.xlsx\"\n",
        "    return nazwa_pliku\n",
        "\n",
        "# Przykład użycia\n",
        "nazwa_pliku = generuj_nazwe_pliku()\n",
        "print(nazwa_pliku)"
      ],
      "metadata": {
        "colab": {
          "base_uri": "https://localhost:8080/"
        },
        "id": "-YWaurfc1TB8",
        "outputId": "fbeeb195-87bf-42e2-cb3b-46eff3399e61"
      },
      "execution_count": 455,
      "outputs": [
        {
          "output_type": "stream",
          "name": "stdout",
          "text": [
            "Zapotrzebzakupu121933.xlsx\n"
          ]
        }
      ]
    },
    {
      "cell_type": "code",
      "source": [
        "# @title sparsuj nazwę pliku { vertical-output: true, form-width: \"400px\", display-mode: \"both\" }\n",
        "nazwa_pliku = \"\" # @param {type:\"string\"}\n",
        "nowe_rozszerzenie = \"\" # @param {type:\"string\"}\n",
        "\n",
        "\n",
        "# nazwa_pliku = \"Zapotrzebuzakupu123921.xlsx\"\n",
        "\n",
        "def sparsuj_i_utworz_nazwe(nazwa_pliku, nowe_rozszerzenie):\n",
        "    wynik = re.search(r'\\d+', nazwa_pliku)\n",
        "\n",
        "    if wynik:\n",
        "        sparsowana_liczba = wynik.group()\n",
        "        nowa_nazwa_pliku = f\"{sparsowana_liczba}.{nowe_rozszerzenie}\"\n",
        "        return nowa_nazwa_pliku\n",
        "    else:\n",
        "        print(\"Nie znaleziono liczby w nazwie pliku.\")\n",
        "        return None\n",
        "\n",
        "# Przykład użycia\n",
        "nazwa_pliku = \"Zapotrzebuzakupu123921.xlsx\"\n",
        "nowe_rozszerzenie = \"xlsx\"\n",
        "nowa_nazwa = sparsuj_i_utworz_nazwe(nazwa_pliku, nowe_rozszerzenie)\n",
        "\n",
        "if nowa_nazwa:\n",
        "    print(nowa_nazwa)"
      ],
      "metadata": {
        "colab": {
          "base_uri": "https://localhost:8080/"
        },
        "id": "8bVfVAQ72jIP",
        "outputId": "ed048432-c1b7-4b8d-8329-fdb773e3b7ea"
      },
      "execution_count": 457,
      "outputs": [
        {
          "output_type": "stream",
          "name": "stdout",
          "text": [
            "123921.xlsx\n"
          ]
        }
      ]
    },
    {
      "cell_type": "code",
      "source": [
        "# @title utwórz baze danych osób do kontaktu (z pliku *.txt) { vertical-output: true, form-width: \"700px\", display-mode: \"both\" }\n",
        "\n",
        "def singleton(cls):\n",
        "  instances = {}\n",
        "\n",
        "  def get_instance(*args, **kwargs):\n",
        "    if cls not in instances:\n",
        "      instances[cls] = cls(*args, **kwargs)\n",
        "    return instances[cls]\n",
        "\n",
        "  return get_instance\n",
        "\n",
        "@singleton\n",
        "class Utworz_baze_kontaktow:\n",
        "\n",
        "  def __init__(self):\n",
        "    # zawiera liste slownikow kontaktow imie nazwisko : reszta danych\n",
        "    self._baza = []\n",
        "\n",
        "  @property\n",
        "  def get_baza(self):\n",
        "    return self._baza\n",
        "\n",
        "  def utworz_kontakt(self, linia_kontaktu):\n",
        "    parts = linia_kontaktu.strip().split(',')\n",
        "    key = parts[0]\n",
        "    value = '.'.join(parts[1:]).strip()\n",
        "    self.get_baza.append({key : value})\n",
        "\n",
        "  def otworz_plik_z_kontaktami(self, kodowanie = \"windows-1250\"):\n",
        "    sciezka_do_pliku_kontaktow = \"/content/uploaded/ludzie_do_kontaktu_po_RFX — kopia.txt\"\n",
        "    if not sprawdz_czy_dany_plik_istnieje(sciezka_do_pliku_kontaktow):\n",
        "      upload_files()\n",
        "\n",
        "    with open(sciezka_do_pliku_kontaktow, 'r', encoding=kodowanie) as file:\n",
        "      for linia_kontaktu in file:\n",
        "        self.utworz_kontakt(linia_kontaktu)\n",
        "\n",
        "  def wyswietl_baze_kontaktow(self):\n",
        "    for item in self.get_baza:\n",
        "      for key, value in item.items():\n",
        "        print(f\"{key}, {value}\")\n",
        "\n",
        "  def zapisz_baze_do_pliku(self, sciezka, download = False):\n",
        "    with open(sciezka, \"w\") as plik_bazy:\n",
        "      for rekord in self.get_baza:\n",
        "        for key, value in rekord.items():\n",
        "          plik_bazy.write(key + \", \" + value + \"\\n\")\n",
        "\n",
        "    if(download): files.download(sciezka)\n",
        "\n",
        "\n",
        "# test\n",
        "\n",
        "# utworz_baze_kontaktow = Utworz_baze_kontaktow()\n",
        "# utworz_baze_kontaktow.otworz_plik_z_kontaktami()\n",
        "# utworz_baze_kontaktow.wyswietl_baze_kontaktow()\n",
        "# baza = utworz_baze_kontaktow.get_baza\n",
        "\n",
        "# for rekord in baza:\n",
        "#   for key, val in rekord.items():\n",
        "#     print(key, val)\n",
        "\n",
        "# utworz_baze_kontaktow.zapisz_baze_do_pliku(\"baza.txt\")"
      ],
      "metadata": {
        "id": "M2PdDgw5lICp"
      },
      "execution_count": null,
      "outputs": []
    },
    {
      "cell_type": "code",
      "source": [
        "# @title Tworzenie randomowych plików zz { vertical-output: true, form-width: \"600px\", display-mode: \"both\" }\n",
        "\n",
        "# kolumna B - nr pozycji (indeks),\n",
        "# kolumna C - opis pozycji,\n",
        "# kolumna D - ilość,\n",
        "# kolumna E - jednostka mag.,\n",
        "# kolumna F - wym. data dostawy,\n",
        "# kolumna K - cena jedn.,\n",
        "# kolumna S - cena całość\n",
        "# kolumna O - osoba kontaktowa\n",
        "\n",
        "class RandomExcelFile:\n",
        "\n",
        "  nazwa_pliku_1 = generuj_nazwe_pliku()\n",
        "  print(\"nazwa_pliku:\\t\\t\", nazwa_pliku_1)\n",
        "\n",
        "  numer_zz_z_nazwy_pliku = sparsuj_i_utworz_nazwe(nazwa_pliku_1, \"xlsx\")\n",
        "  print(\"numer_zz_z_nazwy_pliku:\\t\", numer_zz_z_nazwy_pliku)\n",
        "\n",
        "  nr_zz_dict = split_filename_and_extension(numer_zz_z_nazwy_pliku)\n",
        "  nr_zz = nr_zz_dict['name_key']\n",
        "  print(\"nr_zz:\\t\\t\\t\", nr_zz)\n",
        "\n",
        "  _zagniezdzone_slowniki_plikow = {nr_zz:{\n",
        "    'B':[], 'C':[], 'D':[], 'E':[], 'F':[], 'K':[], 'S':[], 'O':[]}}\n",
        "\n",
        "\n",
        "  @classmethod\n",
        "  def zeruj_slownik(cls):\n",
        "    for key, inner_dict in cls._zagniezdzone_slowniki_plikow.items():\n",
        "      inner_dict = {}\n",
        "\n",
        "\n",
        "  @staticmethod\n",
        "  def get_zagniezdzone_slowniki_plikow(ile_pozycji_zakupowych: int,\n",
        "                                       ile_osob_wygenerowac: int,\n",
        "                                       zakres_poczatek,\n",
        "                                       zakres_koniec):\n",
        "    RandomExcelFile.zeruj_slownik()\n",
        "    RandomExcelFile.utworz_randomowe_dane_do_pliku_zz(ile_pozycji_zakupowych,\n",
        "                                                      ile_osob_wygenerowac,\n",
        "                                                      zakres_poczatek,\n",
        "                                                      zakres_koniec)\n",
        "\n",
        "    return RandomExcelFile._zagniezdzone_slowniki_plikow\n",
        "\n",
        "\n",
        "  @staticmethod\n",
        "  def utworz_randomowe_dane_do_pliku_zz(ile_pozycji_zakupowych: int,\n",
        "                                        ile_osob_wygenerowac: int,\n",
        "                                        zakres_poczatek,\n",
        "                                        zakres_koniec):\n",
        "\n",
        "    # Generuj osoby\n",
        "    Osoba.init_osoby(ile_osob_wygenerowac)\n",
        "\n",
        "    for i in range(1, ile_pozycji_zakupowych + 1):\n",
        "      indeks = generuj_losowy_numer_indeksu(11)\n",
        "      RandomExcelFile._zagniezdzone_slowniki_plikow[RandomExcelFile.nr_zz]['B'].append(indeks)\n",
        "\n",
        "      opis_pozycji = generuj_losowa_nazwe_przedmiotu()\n",
        "      RandomExcelFile._zagniezdzone_slowniki_plikow[RandomExcelFile.nr_zz]['C'].append(opis_pozycji)\n",
        "\n",
        "      ilosc = generuj_ilosc(1, 100)\n",
        "      RandomExcelFile._zagniezdzone_slowniki_plikow[RandomExcelFile.nr_zz]['D'].append(ilosc)\n",
        "\n",
        "      jednostka_miary = generuj_jednostke_miary()\n",
        "      RandomExcelFile._zagniezdzone_slowniki_plikow[RandomExcelFile.nr_zz]['E'].append(jednostka_miary)\n",
        "\n",
        "      wymagana_data_przyjecia = generuj_losowa_date_z_podanego_przedzialu(zakres_poczatek, zakres_koniec)\n",
        "      RandomExcelFile._zagniezdzone_slowniki_plikow[RandomExcelFile.nr_zz]['F'].append(wymagana_data_przyjecia)\n",
        "\n",
        "      cena_jednostkowa = generuj_cene_jednostkowa(1, 1000)\n",
        "      RandomExcelFile._zagniezdzone_slowniki_plikow[RandomExcelFile.nr_zz]['K'].append(cena_jednostkowa)\n",
        "\n",
        "      kwota_za_calosc_netto = kwota_za_calosc(ilosc, cena_jednostkowa)\n",
        "      RandomExcelFile._zagniezdzone_slowniki_plikow[RandomExcelFile.nr_zz]['S'].append(kwota_za_calosc_netto)\n",
        "\n",
        "      nr_osoby_kontaktowej = int(generuj_ilosc(1, ile_osob_wygenerowac))\n",
        "      osoba_kontaktowa_slownik = Osoba.osoby.get(f'Osoba {nr_osoby_kontaktowej}')\n",
        "      imie_nazwisko = f\"{osoba_kontaktowa_slownik.get('Imię i nazwisko')}\"\n",
        "      telefon_komorkowy = f\"{osoba_kontaktowa_slownik.get('Telefon komórkowy')}\"\n",
        "      telefon_stacjonarny = f\"{osoba_kontaktowa_slownik.get('Telefon stacjonarny')}\"\n",
        "      email = f\"{osoba_kontaktowa_slownik.get('E-mail')}\"\n",
        "      osoba_dane_osobowe = [imie_nazwisko, telefon_komorkowy, telefon_stacjonarny, email]\n",
        "      osoba_kontaktowa_string = \", \".join(osoba_dane_osobowe)\n",
        "      osoba_wydzialowa_do_kontaktu = osoba_kontaktowa_string\n",
        "      RandomExcelFile._zagniezdzone_slowniki_plikow[RandomExcelFile.nr_zz]['O'].append(osoba_wydzialowa_do_kontaktu)\n",
        "\n",
        "  @staticmethod\n",
        "  def czy_iterowalny(objekt):\n",
        "    try:\n",
        "      iter(objekt)\n",
        "      return True\n",
        "    except TypeError:\n",
        "      return False\n",
        "\n",
        "  @staticmethod\n",
        "  def wyswiatlaj_dane_randomowego_pliku_excel(slownik_danych):\n",
        "    for key1, val1 in slownik_danych.items():\n",
        "      if (isinstance(val1, dict)):\n",
        "        for key2, val2 in val1.items():\n",
        "          if RandomExcelFile.czy_iterowalny(val2):\n",
        "            print(f'klucz: {key2}, wartość: {val2}')\n",
        "          else:\n",
        "            print(\"Objekt nie jest iterowalny\")\n",
        "      else:\n",
        "        print(key1, val1)\n",
        "\n",
        "\n",
        "#################### testy #####################\n",
        "slownik = RandomExcelFile.get_zagniezdzone_slowniki_plikow(12,11, \"2024-12-01\", \"2024-12-14\")\n",
        "RandomExcelFile.wyswiatlaj_dane_randomowego_pliku_excel(slownik)"
      ],
      "metadata": {
        "colab": {
          "base_uri": "https://localhost:8080/"
        },
        "id": "KZrs_tT2kO2E",
        "outputId": "a5c93706-4e62-4043-a3b5-23914edc5835"
      },
      "execution_count": 565,
      "outputs": [
        {
          "output_type": "stream",
          "name": "stdout",
          "text": [
            "nazwa_pliku:\t\t Zapotrzebzakupu124316.xlsx\n",
            "numer_zz_z_nazwy_pliku:\t 124316.xlsx\n",
            "nr_zz:\t\t\t 124316\n",
            "klucz: B, wartość: ['734-725-995-6', '615-391-307-9', '896-836-639-2', '160-663-442-7', '167-5-296-1', '861-533-292-4', '170-668-265-7', '505-610-637-8', '507-483-922-5', '698-552-258-8', '906-65-529-9', '787-722-308-1']\n",
            "klucz: C, wartość: ['przedmiot nr SoignsHbBK 1707067140266', 'przedmiot nr LPSMPdROVw 1707067140267', 'przedmiot nr KxTTZpThpw 1707067140267', 'przedmiot nr KBHNnlSnIG 1707067140267', 'przedmiot nr xPpUFFgNoS 1707067140267', 'przedmiot nr qaEkaasvcz 1707067140267', 'przedmiot nr yawtKfKSKN 1707067140267', 'przedmiot nr wtDvGNspMm 1707067140267', 'przedmiot nr rZxcYsveZC 1707067140267', 'przedmiot nr xpRPQReooi 1707067140267', 'przedmiot nr iyLPoeLmRW 1707067140267', 'przedmiot nr WoYfQvrqMK 1707067140267']\n",
            "klucz: D, wartość: [54, 64, 74, 19, 45, 16, 8, 67, 36, 83, 28, 78]\n",
            "klucz: E, wartość: ['m', 'szt', 'szt', 'szt', 'szt', 'szt', 'szt', 'szt', 'kpl', 'szt', 'm', 'szt']\n",
            "klucz: F, wartość: ['08.12.2024', '08.12.2024', '01.12.2024', '10.12.2024', '14.12.2024', '08.12.2024', '01.12.2024', '14.12.2024', '09.12.2024', '06.12.2024', '02.12.2024', '04.12.2024']\n",
            "klucz: K, wartość: [10.39, 222.3, 684.1, 313.94, 988.56, 505.78, 813.42, 172.31, 493.72, 56.58, 615.28, 847.2]\n",
            "klucz: S, wartość: [561.06, 14227.2, 50623.4, 5964.86, 44485.2, 8092.48, 6507.36, 11544.77, 17773.92, 4696.14, 17227.84, 66081.6]\n",
            "klucz: O, wartość: ['Patryk Heleniak, +48 22 280 08 80, +48764832667, radoslawflieger@example.net', 'Anna Maria Ostapiuk, 780 943 227, +48142178674, konrad81@example.org', 'Klara Chaba, +48 881 200 048, +48829840251, damianusarek@example.com', 'Anna Maria Ostapiuk, 780 943 227, +48142178674, konrad81@example.org', 'pan Konrad Haremza, 660 731 218, +48913069161, ignacy55@example.net', 'pan Konrad Haremza, 660 731 218, +48913069161, ignacy55@example.net', 'Anna Maria Ostapiuk, 780 943 227, +48142178674, konrad81@example.org', 'Daniel Tatarczuk, 508 960 948, +48171760464, xstrojna@example.net', 'pani Malwina Ulewicz, 789 845 711, +48593065851, bguziak@example.com', 'Damian Komisarczyk, +48 515 983 413, +48612758528, djuroszek@example.org', 'Damian Komisarczyk, +48 515 983 413, +48612758528, djuroszek@example.org', 'pani Marcelina Borysiuk, 884 343 002, +48149583744, roterkonrad@example.org']\n"
          ]
        }
      ]
    },
    {
      "cell_type": "markdown",
      "source": [
        "# `Excel`"
      ],
      "metadata": {
        "id": "uiwMpbF5Gbhy"
      }
    },
    {
      "cell_type": "code",
      "source": [
        "# @title wklej dane do arkusza { vertical-output: true, form-width: \"600px\", display-mode: \"both\" }\n",
        "\n",
        "from openpyxl.utils import get_column_letter, column_index_from_string\n",
        "\n",
        "\n",
        "def litera_na_indeks_openpyxl(litera):\n",
        "  if isinstance(litera, str) and len(litera) == 1:\n",
        "    digit = column_index_from_string(litera.upper())\n",
        "    return digit\n",
        "  else:\n",
        "    raise ValueError(\"Podana wartość musi być pojedyńczą literą.\")\n",
        "\n",
        "\n",
        "def zamien_litere_na_liczbe(litera):\n",
        "  return ord(litera.upper()) - ord('A') + 1\n",
        "\n",
        "\n",
        "def wklej_dane_do_arkusza(arkusz, lista_slownikow, wiersz_start=4):\n",
        "    for key1, value1 in lista_slownikow.items():\n",
        "      for key2, value2 in value1.items():\n",
        "        kolumna = litera_na_indeks_openpyxl(key2)\n",
        "        print(f'w: {wiersz_start}, k: {kolumna}')\n",
        "        for item in value2:\n",
        "          print(item)\n",
        "          arkusz.cell(row=wiersz_start, column=kolumna, value=item)\n"
      ],
      "metadata": {
        "id": "goIdDvT1WKtq"
      },
      "execution_count": 578,
      "outputs": []
    },
    {
      "cell_type": "code",
      "source": [
        "# @title utworz plik excel (szablon z nagłówkami itp) { vertical-output: true, form-width: \"600px\", display-mode: \"both\" }\n",
        "nazwa_sprawy = \"KZP-ŁA.2110.03.2024 Dostawa skanerów płomienia Lamtec\"\n",
        "nazwa_sprawy_w_nazwie_pliku_bez_ogonkow = \"KZP_LA_2110_03_2024_Dostawa_skanerow_plomienia_Lamtec.xlsx\"\n",
        "\n",
        "# /content/KZP-ŁA.2110.03.2024 Dostawa skanerów płomienia Lamtec.xlsx\n",
        "# KZP-ŁA.2110.03.2024 Dostawa skanerów płomienia Lamtec\n",
        "# xlsx\n",
        "# KZP_LA_2110_03_2024_Dostawa_skanerow_plomienia_Lamtec.xlsx\n",
        "\n",
        "def utworz_plik_excel_do_rfx(nazwa_sprawy, nazwa_sprawy_w_nazwie_pliku_bez_ogonkow):\n",
        "\n",
        "    wb = openpyxl.Workbook()\n",
        "    arkusz = wb.active\n",
        "\n",
        "    # Nagłówki\n",
        "    naglowki = ['lp', 'Indeks', 'Opis pozycji', 'Ilość', 'Jednostka masy',\n",
        "                'Data dostawy', 'Cena jednostkowa netto',\n",
        "                'Wartość kontraktu netto', 'Osoba do kontaktu']\n",
        "\n",
        "    # Wklejanie nagłówków w wierszu 3, zaczynając od kolumny 1\n",
        "    for index, naglowek in enumerate(naglowki, start=1):\n",
        "        komorka = arkusz.cell(row=3, column=index, value=naglowek)\n",
        "        komorka.alignment = Alignment(horizontal='center', vertical='center', wrap_text=True)\n",
        "        komorka.font = Font(bold=True)\n",
        "\n",
        "    # Wiersz 1\n",
        "    komorka_wiersz_1 = arkusz.cell(row=1, column=1, value=f\"Zapytanie ofertowe RFX nr sprawy {nazwa_sprawy}\")\n",
        "    komorka_wiersz_1.alignment = Alignment(horizontal='left', vertical='center', wrap_text=False)\n",
        "    komorka_wiersz_1.font = Font(size=20, bold=True)\n",
        "\n",
        "    # Wiersz 2\n",
        "    data_wygenerowania = datetime.now().strftime(\"%Y-%m-%d\")\n",
        "    komorka_wiersz_2 = arkusz.cell(row=2, column=1, value=f\"Data wygenerowania dokumentu: {data_wygenerowania}\")\n",
        "    komorka_wiersz_2.alignment = Alignment(horizontal='left', vertical='center', wrap_text=False)\n",
        "\n",
        "    # dopisuj do odp. wierszy i kolumn fikcyjne dane\n",
        "    slownik = RandomExcelFile.utworz_randomowe_dane_do_pliku_zz(1, 1, \"2024-02-08\", \"2024-02-08\")\n",
        "    slownik_danych = RandomExcelFile._zagniezdzone_slowniki_plikow\n",
        "    RandomExcelFile.wyswiatlaj_dane_randomowego_pliku_excel(slownik_danych)\n",
        "    # wklej_dane_do_arkusza(arkusz, slownik_danych)\n",
        "\n",
        "    if sprawdz_czy_dany_plik_istnieje(os.path.join(os.getcwd(), nazwa_sprawy_w_nazwie_pliku_bez_ogonkow)):\n",
        "      print(f\"Plik '{nazwa_sprawy_w_nazwie_pliku_bez_ogonkow}' już istnieje i zostanie nadpisany.\")\n",
        "\n",
        "    wb.save(nazwa_sprawy_w_nazwie_pliku_bez_ogonkow)\n",
        "    # files.download(nazwa_sprawy_w_nazwie_pliku_bez_ogonkow)\n",
        "\n",
        "# testy\n",
        "utworz_plik_excel_do_rfx(nazwa_sprawy, nazwa_sprawy_w_nazwie_pliku_bez_ogonkow)"
      ],
      "metadata": {
        "id": "vLq68BIbEdg3",
        "colab": {
          "base_uri": "https://localhost:8080/"
        },
        "outputId": "91e33e09-aaaf-4fed-b027-9087bba95da2"
      },
      "execution_count": 593,
      "outputs": [
        {
          "output_type": "stream",
          "name": "stdout",
          "text": [
            "klucz: B, wartość: ['734-725-995-6', '615-391-307-9', '896-836-639-2', '160-663-442-7', '167-5-296-1', '861-533-292-4', '170-668-265-7', '505-610-637-8', '507-483-922-5', '698-552-258-8', '906-65-529-9', '787-722-308-1', '375-495-645-9', '437-150-959-6', '915-254-209-4', '349-172-438-4', '432-412-907-8', '633-229-280-4', '496-111-981-3', '601-343-39-4', '665-11-11-1', '691-366-984-5', '998-206-912-0', '198-818-230-0', '265-804-406-0', '801-219-722-1', '925-718-55-5', '678-247-465-3', '840-451-392-7', '494-135-692-4', '913-47-240-4', '219-219-433-1', '109-959-287-4', '637-738-641-8', '527-107-305-0', '810-653-257-6', '292-201-247-8', '275-384-50-1', '660-709-788-6', '282-179-717-4', '530-219-697-7', '137-962-552-7', '342-811-593-1', '740-160-424-3', '508-332-696-6', '965-614-683-3', '567-845-742-9', '565-546-845-0', '206-52-559-7', '114-856-414-1', '983-543-27-2', '361-157-701-4', '705-59-374-9', '230-687-876-9', '599-911-616-9', '681-380-574-0', '531-107-782-0', '863-503-654-5', '200-96-746-1', '790-331-519-4', '486-477-118-6', '219-314-766-7', '583-941-128-8', '325-989-458-4', '804-604-336-1', '335-423-83-6', '913-370-901-7', '758-799-596-7', '676-794-481-3', '589-556-42-7', '358-60-220-8', '844-416-189-1', '355-192-628-9', '678-925-954-3', '733-670-438-3', '529-197-384-9', '281-515-520-3', '651-108-7-8', '335-47-961-5', '839-730-343-9', '602-5-680-7', '454-826-745-3', '128-602-283-6', '517-485-246-0', '122-871-129-2', '175-218-137-8', '882-926-515-9', '938-380-382-5', '733-78-145-0', '436-189-487-1', '643-553-906-5', '219-225-207-1', '787-739-594-2', '803-846-4-4', '759-451-501-7', '844-553-934-6', '845-570-139-9', '395-762-922-7', '327-815-927-9', '996-629-926-7', '625-991-730-0', '580-820-443-0', '963-379-609-4', '791-982-794-9', '396-852-461-3', '331-611-893-6', '989-587-316-9', '695-973-116-0', '186-394-962-5', '688-265-247-2', '657-787-782-2', '453-458-945-2', '169-374-341-0', '135-340-622-9', '161-524-808-3', '597-860-126-5', '157-90-187-3', '553-80-856-2', '247-581-176-0', '611-622-319-4', '905-599-662-7', '360-583-756-9', '756-395-926-4', '559-377-582-5', '751-121-962-6', '642-194-994-3', '830-860-953-9', '483-453-812-8', '695-619-283-0', '698-481-65-1', '796-279-208-5', '326-636-175-7', '126-480-788-2', '693-770-501-7', '898-836-236-1', '788-789-725-5', '669-291-93-4', '996-685-322-2', '623-273-150-1', '400-815-11-1', '340-131-532-0', '651-51-164-0', '385-522-105-0', '710-943-205-0', '950-800-297-6', '472-937-685-7', '869-254-770-3', '746-727-963-8', '538-787-93-9', '397-683-927-9', '457-387-364-5', '333-794-425-9', '996-526-288-2', '857-476-282-9', '430-193-550-3', '377-789-767-5', '252-775-293-1', '320-772-338-5', '991-626-669-8', '688-809-203-0', '689-871-263-7', '847-990-805-9', '168-600-493-5', '385-736-647-6', '974-285-28-7', '661-528-21-2', '578-704-522-7', '260-3-71-1', '360-797-487-0', '258-246-334-7', '766-412-63-6', '811-177-145-1', '679-506-342-1', '797-523-419-4', '186-832-147-3', '873-13-556-0', '990-258-429-1', '629-613-81-5', '684-51-461-5', '914-667-317-2', '599-520-657-9', '572-281-607-8', '698-411-574-3', '583-923-533-9', '569-63-588-7', '297-604-287-8', '339-189-494-5', '401-103-350-0', '631-590-620-0', '464-528-332-4', '633-556-225-3', '418-373-837-8', '797-390-600-8', '785-275-933-2', '714-913-530-6', '241-335-591-0', '912-866-212-1', '446-938-334-5', '236-205-670-4', '704-489-313-5', '729-122-770-0', '150-934-49-6', '553-771-990-6', '848-270-454-5', '752-547-330-6', '396-243-399-9', '759-346-506-9', '123-243-288-1', '304-667-811-5', '244-605-812-6', '136-501-25-1', '936-100-773-4', '234-116-437-6', '333-922-858-5', '163-209-333-2', '147-226-481-8', '828-878-684-2', '289-443-452-5', '249-392-554-1', '569-822-982-2', '811-484-49-4', '886-734-144-4', '767-649-310-2', '825-84-694-2', '862-422-215-9', '943-550-409-7', '416-634-436-5', '118-672-612-7', '362-157-113-3', '647-948-648-4', '488-259-553-4', '495-448-232-5', '706-732-877-2', '811-748-32-7', '968-685-364-4', '497-216-488-0', '458-276-198-9', '914-271-113-7', '146-397-518-8', '241-17-59-2', '890-748-11-1', '575-896-303-8', '142-750-768-2', '857-510-888-8', '815-450-88-2', '888-353-616-9', '328-697-939-3', '601-318-883-6', '653-665-184-4', '920-900-889-9', '988-31-254-1', '523-995-74-4', '535-355-437-4', '222-44-35-5', '640-4-586-9', '962-511-391-6', '469-716-63-9', '912-942-860-6', '107-784-279-7', '585-395-356-3', '888-407-188-5', '740-522-474-0', '209-867-184-3', '302-848-680-0', '161-725-794-7', '160-516-365-1', '530-124-697-9', '859-896-377-9', '669-837-952-9', '503-823-21-8', '419-906-826-3', '645-927-866-5', '499-615-851-5', '532-700-29-7', '619-507-662-8', '728-896-877-7', '106-487-537-2', '725-383-711-0', '694-503-878-2', '348-604-212-1', '307-269-909-8', '433-632-560-2', '353-129-156-4', '125-457-129-8', '535-835-511-7', '625-822-618-8', '936-926-421-8', '805-167-901-8', '245-363-147-9', '740-361-855-7', '589-801-579-4', '155-128-962-3', '460-661-723-0', '601-855-410-0', '387-76-981-8', '195-58-980-5', '626-488-64-2', '861-665-44-2', '555-655-840-7', '278-434-712-7', '800-99-826-7', '747-147-624-9', '679-363-709-7', '250-537-840-6', '760-504-566-8', '743-952-540-4', '430-952-86-8', '542-366-672-0', '760-904-92-4', '854-44-229-3', '100-985-909-6', '830-978-776-2', '686-316-632-6', '204-925-676-2', '173-386-849-5', '702-559-930-4', '516-108-620-4', '398-965-707-9', '635-555-916-7', '741-218-940-9', '275-584-297-6', '206-902-300-6', '910-857-300-3', '415-773-723-7', '468-224-492-4', '209-823-17-5', '987-885-528-5', '250-984-369-4', '411-998-191-7', '878-188-52-2', '196-423-735-7', '933-166-432-8', '398-499-888-4', '596-568-732-3', '727-494-284-9', '280-795-374-2', '852-379-367-8', '468-85-855-0', '407-278-852-2', '473-76-404-1', '688-978-994-5', '253-127-926-2', '268-169-50-4', '795-299-652-9', '765-214-72-1', '476-628-271-0', '548-664-980-5', '856-741-44-5', '637-585-746-9', '133-465-473-9', '435-398-146-6', '723-220-139-0', '960-373-92-9', '415-540-741-3', '654-875-67-1', '735-989-385-6', '496-809-413-3', '108-978-881-5', '243-109-618-1', '436-280-374-2', '846-445-715-7', '736-224-337-5', '957-971-577-4', '597-140-716-2', '456-791-457-3', '200-54-96-2', '946-547-0-2', '862-273-218-1', '113-600-508-1', '771-540-563-4', '711-558-526-0', '682-32-827-4', '139-417-466-9', '728-718-644-3', '313-373-198-1', '300-914-46-5', '155-89-894-7', '282-38-986-6', '522-286-653-1', '782-463-65-2', '297-166-305-8', '243-921-501-6', '966-707-427-0', '744-190-681-6', '930-763-540-3', '824-242-36-1', '600-449-345-2', '599-648-991-5', '562-661-325-1', '726-547-448-0', '800-17-197-8', '359-980-209-3', '709-783-733-8', '729-781-165-3', '993-595-555-7', '154-650-487-0', '236-959-776-1', '173-906-351-5', '230-268-168-0', '422-491-811-5', '834-449-195-6', '176-272-281-5', '929-421-179-3', '980-786-9-5', '706-238-862-4', '704-177-638-8', '416-168-911-4', '418-793-751-3', '894-799-546-6', '597-376-334-5', '134-906-103-1', '190-541-978-3', '309-815-607-1', '903-652-607-4', '265-876-263-4', '889-977-361-8', '346-915-720-8', '500-57-39-5', '174-722-394-5', '120-414-42-4', '959-833-14-2', '516-814-516-0', '780-422-354-8', '229-589-501-7', '323-645-473-1', '715-153-831-2', '886-200-206-2', '807-154-250-8', '304-352-330-5', '618-940-401-5', '566-927-798-3', '177-963-946-8', '900-939-55-8', '690-927-256-5', '448-876-223-5', '601-555-974-1', '598-771-405-5', '947-49-305-7', '512-997-561-7', '753-791-139-2', '237-479-625-3', '666-316-277-1', '964-289-116-4', '399-670-102-5', '688-775-888-2', '180-77-911-5', '853-930-304-3', '695-684-948-8', '342-460-531-4', '801-70-818-5', '699-95-769-9', '451-26-283-1', '419-939-982-3', '948-447-489-1', '337-938-661-5', '838-304-364-0', '948-863-844-0', '355-224-435-3', '894-120-245-2', '592-494-425-1', '720-964-579-8', '611-249-230-4', '442-317-392-6', '874-492-590-9', '192-578-632-9', '248-770-553-7', '602-360-209-8', '882-59-726-3', '703-237-977-8', '974-377-39-0', '460-990-930-0', '758-642-773-5', '882-309-139-4', '181-660-998-7', '664-576-483-2', '168-242-591-3', '650-578-411-1', '870-438-577-4', '291-21-545-2', '262-562-300-3', '367-107-171-6', '895-274-536-0', '366-179-134-5', '959-726-985-5', '355-826-703-5', '252-934-186-8', '581-678-436-9', '822-866-408-8', '106-454-125-9', '202-655-259-0', '809-154-362-6', '480-406-63-6', '997-829-173-3', '797-763-45-5', '649-537-339-9', '419-836-183-8', '167-29-149-6', '804-704-652-6', '964-94-377-2', '159-763-24-0', '905-636-547-6', '479-244-132-1', '332-609-833-8', '103-140-166-0', '412-219-107-0', '483-506-25-9', '642-256-146-4', '480-157-82-9', '902-58-971-8', '459-234-146-5', '321-779-772-2', '404-972-119-7', '205-852-680-9', '880-147-190-8', '214-825-200-0', '611-253-117-9', '814-124-474-8', '900-354-174-3', '606-932-29-3', '984-93-127-4', '122-746-998-4', '526-383-695-6', '954-628-460-5', '350-623-201-6', '799-413-500-4', '985-413-955-6', '618-740-260-5', '221-812-509-7', '798-615-797-2', '689-859-186-9', '389-524-404-1', '194-602-605-6', '522-598-385-4', '990-195-133-2', '590-527-250-1', '282-187-370-7', '406-261-900-3', '272-971-538-5', '708-937-703-4', '148-703-866-7', '329-54-761-5', '968-444-951-5', '871-518-693-8', '624-375-217-8', '280-860-536-3', '924-485-86-9', '926-530-943-2', '301-817-563-5', '150-47-153-4', '444-95-370-5', '526-830-518-5', '174-711-353-5', '793-419-419-3', '791-793-671-4', '629-716-183-8', '509-662-860-5', '592-246-127-5', '197-398-55-0', '367-922-986-7', '560-482-219-7', '796-187-286-1', '220-234-386-6', '267-539-901-0', '174-214-781-0', '191-148-799-3', '453-555-485-8', '727-108-274-4', '294-403-288-8', '790-787-364-9', '704-951-25-9', '951-639-144-6', '508-482-841-7', '442-480-363-1', '797-79-699-4', '724-801-854-5', '921-7-89-0', '881-42-883-7', '130-488-137-6', '782-117-973-1', '905-847-956-6', '625-45-586-8', '815-13-231-9', '764-626-237-5', '526-225-562-4', '773-744-836-5', '180-897-220-4', '514-274-437-1', '187-215-305-3', '426-769-794-1', '621-72-953-7', '443-880-768-3', '399-255-253-3', '703-699-690-0', '676-81-492-8', '986-122-704-9', '762-643-42-9', '332-907-185-4', '993-155-310-2', '793-293-141-8', '549-377-370-8', '337-463-394-4', '375-364-718-7', '991-920-223-5', '606-548-245-1', '688-611-758-5', '512-773-951-8', '456-428-400-2', '207-338-699-0', '741-753-819-7', '799-599-60-5', '310-879-228-5', '736-450-272-5', '447-183-401-9', '683-565-86-3', '118-409-790-1', '116-816-524-3', '656-704-15-2', '147-863-757-9', '517-940-122-6', '187-569-98-0', '956-406-21-8', '343-555-797-2', '218-530-6-3', '737-262-161-1', '300-64-346-3', '697-704-297-3', '636-32-48-3', '759-871-12-7', '376-373-104-8', '896-691-82-5', '730-870-804-7', '918-168-243-9', '390-970-714-8', '727-613-274-1', '547-573-983-6', '610-174-998-5', '973-747-147-7', '870-941-76-6', '691-486-145-5', '839-911-467-3', '301-813-540-4', '953-68-86-2', '905-726-963-4', '191-740-105-6', '350-670-516-0', '831-920-521-4', '551-886-129-3', '530-669-863-2', '164-788-326-4', '796-267-113-5', '314-701-730-6', '367-532-301-2', '853-542-612-3', '725-119-402-7', '544-321-781-4', '529-779-342-2', '137-997-275-0', '715-877-909-6', '389-156-845-8', '806-906-985-3', '583-401-747-6', '111-312-967-5', '208-330-470-1', '931-255-962-1', '842-894-488-8', '353-784-156-1', '288-988-573-6', '927-981-151-4', '818-660-518-4', '640-142-874-8', '472-38-920-3', '602-246-507-1', '200-553-652-5', '783-280-595-7', '335-485-645-3', '230-355-111-2', '277-555-731-2', '351-974-70-5', '689-323-535-4', '805-735-24-8', '492-104-145-8', '868-671-664-5', '830-573-724-5', '439-948-262-8', '463-701-788-5', '360-352-749-5', '560-543-522-6', '402-383-189-4', '662-513-957-9', '900-805-16-8', '121-305-167-1', '767-597-114-6', '729-112-313-9', '290-133-858-4', '602-99-643-4', '337-116-418-9', '184-948-859-8', '358-806-139-7', '946-640-865-7', '134-131-710-3', '315-841-882-1', '133-675-346-4', '522-592-569-3', '632-591-522-0', '223-388-552-8', '267-532-68-8', '830-454-886-2', '634-878-614-2', '259-334-634-6', '577-693-181-9', '600-356-756-6', '633-62-477-0', '637-164-806-4', '811-463-882-0', '567-331-890-3', '416-388-882-7', '541-505-933-6', '310-493-628-5', '286-515-568-2', '539-779-18-9', '654-14-60-2', '983-693-141-1', '273-426-965-0', '865-658-425-5', '317-762-355-0', '263-995-770-8', '277-109-335-8', '805-913-675-1', '188-872-680-7', '479-814-872-5', '222-446-564-9', '312-405-866-3', '496-11-284-7', '563-732-572-8', '280-646-885-7']\n",
            "klucz: C, wartość: ['przedmiot nr SoignsHbBK 1707067140266', 'przedmiot nr LPSMPdROVw 1707067140267', 'przedmiot nr KxTTZpThpw 1707067140267', 'przedmiot nr KBHNnlSnIG 1707067140267', 'przedmiot nr xPpUFFgNoS 1707067140267', 'przedmiot nr qaEkaasvcz 1707067140267', 'przedmiot nr yawtKfKSKN 1707067140267', 'przedmiot nr wtDvGNspMm 1707067140267', 'przedmiot nr rZxcYsveZC 1707067140267', 'przedmiot nr xpRPQReooi 1707067140267', 'przedmiot nr iyLPoeLmRW 1707067140267', 'przedmiot nr WoYfQvrqMK 1707067140267', 'przedmiot nr QpszVcFwaW 1707068293907', 'przedmiot nr XGepnbXTyB 1707068324386', 'przedmiot nr xIxPdHgQoj 1707068324386', 'przedmiot nr mAPwhfBJMW 1707068324386', 'przedmiot nr oJYwXnERrz 1707068324386', 'przedmiot nr nTtDcqKgUe 1707068324387', 'przedmiot nr qVymwdRLwc 1707068324387', 'przedmiot nr eRQfbUHamU 1707068324387', 'przedmiot nr tMWTpOpLCJ 1707068324387', 'przedmiot nr YGtyPlOmKk 1707068324387', 'przedmiot nr fYJaxttkqD 1707068324387', 'przedmiot nr ghRISkWIzD 1707068412812', 'przedmiot nr TptEfQejqj 1707068412812', 'przedmiot nr USVfiIjtCp 1707068412812', 'przedmiot nr yHmVELVMgJ 1707068412812', 'przedmiot nr WdgJMlXTUL 1707068412812', 'przedmiot nr rVcZkfwsCW 1707068412812', 'przedmiot nr bajNiOHoOe 1707068412812', 'przedmiot nr DvWBDhaIkN 1707068412812', 'przedmiot nr rBCEyJHrvl 1707068412812', 'przedmiot nr oFEauVhssd 1707068412812', 'przedmiot nr soJLIAudOA 1707068412812', 'przedmiot nr hocswLxNXZ 1707068412812', 'przedmiot nr AUEbINgVIM 1707068412812', 'przedmiot nr WsVriowhYY 1707068412813', 'przedmiot nr VEorInXdCD 1707068412813', 'przedmiot nr ITXZCEDaas 1707068412813', 'przedmiot nr wqIVfnVLIw 1707068412813', 'przedmiot nr jlJoKuwBAx 1707068412813', 'przedmiot nr ctEUPfYGSr 1707068412813', 'przedmiot nr xbXYWTrEWx 1707068412813', 'przedmiot nr qLyjePKqaQ 1707068412813', 'przedmiot nr BnWeLqazQd 1707068412813', 'przedmiot nr gcJxsWZfzV 1707068412813', 'przedmiot nr qEvLJzDxUY 1707068412813', 'przedmiot nr GiwXyKpeen 1707068412813', 'przedmiot nr agigNtySrm 1707068412813', 'przedmiot nr VCCbSbCFKJ 1707068412813', 'przedmiot nr EzBbELHtLs 1707068412813', 'przedmiot nr qHXuKJnNWl 1707068412813', 'przedmiot nr eXRyVwLRAZ 1707068412813', 'przedmiot nr IJzQZccjcW 1707068412813', 'przedmiot nr zjzqKjglBo 1707068412813', 'przedmiot nr TCbmerjKEg 1707068412813', 'przedmiot nr mqzLdfOMdt 1707068412813', 'przedmiot nr DHrodjprje 1707068412813', 'przedmiot nr pRRTEwMFxw 1707068412813', 'przedmiot nr WUdwgMBGgW 1707068412813', 'przedmiot nr DgdNKfHUcO 1707068412814', 'przedmiot nr FxIuDEyWld 1707068412814', 'przedmiot nr PCYDnTOkxn 1707068412814', 'przedmiot nr FKdXtBjeNA 1707068412815', 'przedmiot nr AwmbRjYlHK 1707068412815', 'przedmiot nr RpFIpEpNEl 1707068412815', 'przedmiot nr auTRcprsRL 1707068412815', 'przedmiot nr lGofYqMkAI 1707068412815', 'przedmiot nr zwilvZoQAV 1707068412815', 'przedmiot nr ScEKODlpVb 1707068412815', 'przedmiot nr yRrXxcXXSZ 1707068412815', 'przedmiot nr iHPEYdviog 1707068412815', 'przedmiot nr udJyFnvSTJ 1707068412816', 'przedmiot nr KEgMYHHdiS 1707068412816', 'przedmiot nr xbRfiGJqFb 1707068412816', 'przedmiot nr nXyBSkaomJ 1707068412816', 'przedmiot nr LUWZmXTMcy 1707068412816', 'przedmiot nr TxuzUtwdwF 1707068412816', 'przedmiot nr ukySDsfVGE 1707068412816', 'przedmiot nr RWwjQkKdUM 1707068412816', 'przedmiot nr VQWKEzDqbA 1707068412817', 'przedmiot nr bxXQIrwEgT 1707068412817', 'przedmiot nr ddxWkjTjpG 1707068412817', 'przedmiot nr aajQIoLQcB 1707068412817', 'przedmiot nr vcGDvKIUGu 1707068412817', 'przedmiot nr IGDOpacvIG 1707068412817', 'przedmiot nr UetjeHkELK 1707068412817', 'przedmiot nr GAGgsmIrEu 1707068412817', 'przedmiot nr gtiPTTmyWY 1707068412817', 'przedmiot nr drmkJSaPxR 1707068412817', 'przedmiot nr UtsXWEqDRz 1707068412818', 'przedmiot nr BZeMvSWpKn 1707068412818', 'przedmiot nr SFqujtBKFB 1707068412818', 'przedmiot nr fJhwaMXaSx 1707068412818', 'przedmiot nr zNJRKLSFmy 1707068412818', 'przedmiot nr tlkHeScuku 1707068412818', 'przedmiot nr OvOWsvaXnk 1707068412818', 'przedmiot nr HqKnuJrgtc 1707068412818', 'przedmiot nr LVFaLYLmoL 1707068412818', 'przedmiot nr uRZXdQvlIO 1707068412818', 'przedmiot nr yxvLJNDBnn 1707068412818', 'przedmiot nr bEasFyaLAd 1707068412818', 'przedmiot nr rAWHgxQzHG 1707068412818', 'przedmiot nr fekstPcvtx 1707068412818', 'przedmiot nr jVdNHNRUyZ 1707068412818', 'przedmiot nr ZhLtyAhzdR 1707068412818', 'przedmiot nr YzBeFXrNvU 1707068412818', 'przedmiot nr SrSQHkkXzA 1707068412818', 'przedmiot nr PUSsmlGNsI 1707068412818', 'przedmiot nr FQkMQvmgSr 1707068412818', 'przedmiot nr RtSPuQVnIs 1707068412818', 'przedmiot nr rXCjlauKDK 1707068412818', 'przedmiot nr ICFHLQljUN 1707068412818', 'przedmiot nr ZZmXiTbayX 1707068412818', 'przedmiot nr nWVCTlgCXS 1707068412819', 'przedmiot nr snBznMJUto 1707068412819', 'przedmiot nr DegwGrmrVl 1707068412819', 'przedmiot nr UThmeptyBk 1707068412819', 'przedmiot nr sbcXUfMByT 1707068412819', 'przedmiot nr pQPQBaHKWi 1707068412819', 'przedmiot nr XhHsEQtRWN 1707068412819', 'przedmiot nr rbJXQidcGk 1707068412819', 'przedmiot nr UfyKihtLvY 1707068412819', 'przedmiot nr GsInLaVHqf 1707068575226', 'przedmiot nr CiFcmSvbua 1707068575226', 'przedmiot nr bgSRBenDdK 1707068575226', 'przedmiot nr JWQohURSna 1707068575227', 'przedmiot nr POJfnKzdEw 1707068575227', 'przedmiot nr NRTPVumDPx 1707068575227', 'przedmiot nr JqZTBAnwDV 1707068575227', 'przedmiot nr zzkBzWHxPW 1707068575227', 'przedmiot nr ePABbotIwo 1707068575227', 'przedmiot nr zPjfOqrvux 1707068575227', 'przedmiot nr AlZgofQBas 1707068575227', 'przedmiot nr eIeLFTsutn 1707068575227', 'przedmiot nr VfvyBIYTsO 1707068575227', 'przedmiot nr EokAooUSPA 1707068575227', 'przedmiot nr urVFPCduUl 1707068575227', 'przedmiot nr EuswxJbaaV 1707068575227', 'przedmiot nr UWFrmvZRFG 1707068575227', 'przedmiot nr lszebRCjJH 1707068575227', 'przedmiot nr azpeKlzrYg 1707068575227', 'przedmiot nr iLpNflJfWH 1707068575227', 'przedmiot nr VGBlJkruXP 1707068575227', 'przedmiot nr RhmdzLVEBc 1707068575227', 'przedmiot nr nYEGXvMgHI 1707068575227', 'przedmiot nr eKneHyYExN 1707068575227', 'przedmiot nr yCZUcYUdOH 1707068575227', 'przedmiot nr ICxFGOzXLW 1707068575227', 'przedmiot nr NEjFJBDaYk 1707068575227', 'przedmiot nr SLfrNdTNnY 1707068575227', 'przedmiot nr nRpdGGKEsH 1707068575227', 'przedmiot nr PtzJVODYnW 1707068575228', 'przedmiot nr CgkySoaiVs 1707068575228', 'przedmiot nr HzkAHCmMCR 1707068575228', 'przedmiot nr XsYJRoPMYS 1707068575228', 'przedmiot nr JxIsQEQNxx 1707068575228', 'przedmiot nr ydrZqUrKAo 1707068575228', 'przedmiot nr tIIxFzMxKG 1707068575228', 'przedmiot nr goNFshpowM 1707068575228', 'przedmiot nr RRRxqyHaOp 1707068575228', 'przedmiot nr aCBKPIdoeS 1707068575228', 'przedmiot nr KMmZaMdLmQ 1707068575228', 'przedmiot nr hATtaYoraP 1707068575228', 'przedmiot nr BAJbAjZTJh 1707068575228', 'przedmiot nr mNdTRlLnIe 1707068575228', 'przedmiot nr rpRqPLDijf 1707068575228', 'przedmiot nr iwjRThTEZg 1707068575228', 'przedmiot nr gNxKyqTFhb 1707068575228', 'przedmiot nr iprwDoKqTD 1707068575228', 'przedmiot nr piYCCjkRVa 1707068575228', 'przedmiot nr AiTGQVKkqR 1707068575228', 'przedmiot nr dkeMIEXYNH 1707068575228', 'przedmiot nr uMXlJPWZFU 1707068575228', 'przedmiot nr YcInVTNtLy 1707068575228', 'przedmiot nr RouLAQcpvM 1707068575228', 'przedmiot nr UbCzPetDBX 1707068575228', 'przedmiot nr UWYwSxYKXH 1707068575228', 'przedmiot nr hjfjjKufNj 1707068575228', 'przedmiot nr WuOUbcNuvM 1707068575228', 'przedmiot nr MRRgFMsaHP 1707068575229', 'przedmiot nr JekmVCZzyp 1707068575229', 'przedmiot nr tHrsdZsncg 1707068575229', 'przedmiot nr yNzGwNIVRM 1707068575229', 'przedmiot nr hUoSMpiBxn 1707068575229', 'przedmiot nr frmADdXQKd 1707068575229', 'przedmiot nr ByQfWFwmTF 1707068575229', 'przedmiot nr RafCLAwZOk 1707068575229', 'przedmiot nr usYXNrfhbn 1707068575229', 'przedmiot nr ebWdTFPhpw 1707068575229', 'przedmiot nr KFSzWgkZia 1707068575229', 'przedmiot nr vgpTrGeawt 1707068575229', 'przedmiot nr qJnNxLxPvf 1707068575229', 'przedmiot nr NVUChpCskA 1707068575229', 'przedmiot nr gfEAKELHas 1707068575229', 'przedmiot nr GgrMLevQtY 1707068575229', 'przedmiot nr QZUAIWRtfO 1707068575229', 'przedmiot nr RAwXandJee 1707068575229', 'przedmiot nr immkYTNZEE 1707068575229', 'przedmiot nr jAnjMppeKP 1707068575229', 'przedmiot nr vzAFjuKdPS 1707068575229', 'przedmiot nr PGtHFdKLNu 1707068575229', 'przedmiot nr gxlZkNglYn 1707068575229', 'przedmiot nr ppKTmdqhYK 1707068575229', 'przedmiot nr yRsJOGcrfM 1707068575230', 'przedmiot nr tRsHumFUcy 1707068575230', 'przedmiot nr TzBAYWoYOg 1707068575230', 'przedmiot nr TTyTPxsNcb 1707068575230', 'przedmiot nr lKrgDrJoix 1707068575230', 'przedmiot nr OyCtGTEmNT 1707068575230', 'przedmiot nr IBSZGhbWGB 1707068575230', 'przedmiot nr efNXcecYOt 1707068575230', 'przedmiot nr AiMUPcgBBN 1707068575230', 'przedmiot nr vQClSlKoiZ 1707068575230', 'przedmiot nr WFNwNXFUJP 1707068575230', 'przedmiot nr jrbDLuDlqj 1707068575230', 'przedmiot nr ogcuWXPpLm 1707068575230', 'przedmiot nr zLRLdulrIp 1707068575230', 'przedmiot nr UmfajmgAny 1707068575230', 'przedmiot nr DgnTZikWcy 1707068575230', 'przedmiot nr mYVUHUiSHM 1707068575230', 'przedmiot nr SRBUtqzOAv 1707068575230', 'przedmiot nr lnBjglpEkX 1707068575230', 'przedmiot nr nHlgEoIEGo 1707068869004', 'przedmiot nr rtlwfLjnjm 1707068869004', 'przedmiot nr dGHCKKEqHq 1707068869004', 'przedmiot nr PmdgTBEsnU 1707068869004', 'przedmiot nr soFVPPoVhy 1707068869004', 'przedmiot nr AhZYCImfCQ 1707068869004', 'przedmiot nr WvDSjfCRGb 1707068869004', 'przedmiot nr zVDUPUkJvy 1707068869005', 'przedmiot nr mYZkgXvCFY 1707068869005', 'przedmiot nr rTYdTYSqjs 1707068869005', 'przedmiot nr beFWFWUnlm 1707068869005', 'przedmiot nr iYuxGDBtae 1707068869005', 'przedmiot nr zysHrZccUw 1707068869005', 'przedmiot nr PVwmIdjdzl 1707068869005', 'przedmiot nr RznSoYsoVG 1707068869005', 'przedmiot nr RZNVUobllm 1707068869005', 'przedmiot nr yJAdGnvFcF 1707068869005', 'przedmiot nr OzFSnlAvna 1707068869005', 'przedmiot nr HhvjcgPVtL 1707068869005', 'przedmiot nr vxKIewmpbE 1707068869005', 'przedmiot nr gfAEhKHalk 1707068869005', 'przedmiot nr AGJDfzlHHs 1707068869005', 'przedmiot nr RdFZGHrkSq 1707068869005', 'przedmiot nr esakHwXQzp 1707068869005', 'przedmiot nr rNyVUWZfdR 1707068869005', 'przedmiot nr epoCczDdeR 1707068869005', 'przedmiot nr GbOPZVosEG 1707068869005', 'przedmiot nr eNpWeHRZzg 1707068869005', 'przedmiot nr WnyLMVaswz 1707068869005', 'przedmiot nr zGTLYuwEIx 1707068869005', 'przedmiot nr sLSGquUznA 1707068869005', 'przedmiot nr LMWJaqdPAW 1707068869005', 'przedmiot nr hpfOtzBNBg 1707068869006', 'przedmiot nr IMpoBMTJNB 1707068869006', 'przedmiot nr UIDpTBHWWR 1707068869006', 'przedmiot nr SpgCCxRzds 1707068869006', 'przedmiot nr KcOQsdnqPc 1707068869006', 'przedmiot nr FSGQkJhJIg 1707068869006', 'przedmiot nr eIyGpGvNrK 1707068869006', 'przedmiot nr OxyCLkqEEL 1707068869006', 'przedmiot nr TltCNmkrwF 1707068869006', 'przedmiot nr UtGNeSjOdM 1707068869006', 'przedmiot nr pOfbuQjEVd 1707068869006', 'przedmiot nr XDHXLAJsLN 1707068869006', 'przedmiot nr UnmpnVWonV 1707068869006', 'przedmiot nr bNjbKfymiU 1707068869006', 'przedmiot nr YZbyxhAzsQ 1707068869006', 'przedmiot nr iLqonRQeaD 1707068869006', 'przedmiot nr qjWEXRTHKc 1707068869006', 'przedmiot nr JhvZoWTisY 1707068869006', 'przedmiot nr iMHPMjNiuy 1707068869006', 'przedmiot nr ycSnoiRVpn 1707068869006', 'przedmiot nr ToUKLYeLmk 1707068869006', 'przedmiot nr ZDLIPTrCHe 1707068869006', 'przedmiot nr nhMtxnlRpK 1707068869006', 'przedmiot nr XmzqvrrvVN 1707068869006', 'przedmiot nr oPOKHDTHXn 1707068869006', 'przedmiot nr BGAfbaflPD 1707068869006', 'przedmiot nr ufetYbsKCL 1707068869007', 'przedmiot nr oZxwayQrIb 1707068869007', 'przedmiot nr tmPbfRlVbA 1707068869007', 'przedmiot nr KOlLFSvKYT 1707068869007', 'przedmiot nr FcUGdxBire 1707068869007', 'przedmiot nr JbUbaxOGHy 1707068869007', 'przedmiot nr tpEZzorNAK 1707068869007', 'przedmiot nr cdNeAyElfE 1707068869007', 'przedmiot nr BurxcKlZuI 1707068869007', 'przedmiot nr jWyamzpMhs 1707068869007', 'przedmiot nr uoeSUkxQNf 1707068869007', 'przedmiot nr GTbAaYQSZq 1707068869007', 'przedmiot nr CMkTIUHCbS 1707068869007', 'przedmiot nr aCBaMFUkay 1707068869007', 'przedmiot nr VZyHTuuXlY 1707068869007', 'przedmiot nr FaDiUbHibi 1707068869007', 'przedmiot nr nlcfCUETdz 1707068869007', 'przedmiot nr CcMBLNPwGm 1707068869007', 'przedmiot nr YnbTtHxGeU 1707068869007', 'przedmiot nr xUebhObtoO 1707068869007', 'przedmiot nr rOQPCYWzKu 1707068869007', 'przedmiot nr QrRFXsUjnB 1707068869007', 'przedmiot nr YDpLUeAXfq 1707068869007', 'przedmiot nr NPNTGvcKFf 1707068869007', 'przedmiot nr ONudoWGqmH 1707068869007', 'przedmiot nr honsDKIEhz 1707068869007', 'przedmiot nr pDjzUcMAVN 1707068869007', 'przedmiot nr WdFIBBBVrt 1707068869008', 'przedmiot nr DdwDUHRySK 1707068869008', 'przedmiot nr cuMZFMRLXq 1707068869008', 'przedmiot nr OfSTVdRWJq 1707068869008', 'przedmiot nr JGVKQSwUsA 1707068869008', 'przedmiot nr uptlFBAvEn 1707068869008', 'przedmiot nr XFPnmQFihY 1707068869008', 'przedmiot nr BNTgOpSPlN 1707068869008', 'przedmiot nr yFwXhfQpmv 1707068869008', 'przedmiot nr riQWbxBfVk 1707068869008', 'przedmiot nr MwCVobQcCb 1707068869008', 'przedmiot nr YiUnLLCvOX 1707068869008', 'przedmiot nr UXJJPGeeow 1707068869008', 'przedmiot nr pDrBstTjpB 1707068869008', 'przedmiot nr aetiXrULDx 1707068869008', 'przedmiot nr KqAUoHqtPZ 1707069094361', 'przedmiot nr hwhzVtTOMv 1707069094362', 'przedmiot nr HXrIVeZWog 1707069094362', 'przedmiot nr TexfBiQcDk 1707069094362', 'przedmiot nr JSteRpHbOd 1707069094362', 'przedmiot nr HZDhHjmoVG 1707069094362', 'przedmiot nr MpVRiYOtjl 1707069094362', 'przedmiot nr ksxuSGFskG 1707069094362', 'przedmiot nr nrycEsQBUe 1707069094362', 'przedmiot nr mxtmzsgpSk 1707069094362', 'przedmiot nr kCOtLBfPKW 1707069094362', 'przedmiot nr kaMjpnRsIf 1707069094362', 'przedmiot nr bWsRhEsibg 1707069094362', 'przedmiot nr uLzprWvzNJ 1707069094362', 'przedmiot nr JcSAueBkHp 1707069094362', 'przedmiot nr qPWyFRUXnp 1707069094362', 'przedmiot nr OrgXgwKvqV 1707069094362', 'przedmiot nr czHLtjUYAa 1707069094362', 'przedmiot nr cWfQdNbjHk 1707069094362', 'przedmiot nr SxEzEEZxDZ 1707069094362', 'przedmiot nr mrqmPsJRtJ 1707069094362', 'przedmiot nr XkBIyZoBTJ 1707069094362', 'przedmiot nr AOwCqXHhdx 1707069094362', 'przedmiot nr FXHYbxCWSM 1707069094362', 'przedmiot nr xMmKZptHuE 1707069094362', 'przedmiot nr uXskkbmapJ 1707069094363', 'przedmiot nr ljggfKQiVU 1707069094363', 'przedmiot nr lOzsKekYZq 1707069094363', 'przedmiot nr LMbuzMgNPM 1707069094363', 'przedmiot nr YehZLTNyJY 1707069094363', 'przedmiot nr pwjYjZNjDW 1707069094363', 'przedmiot nr fjRIiUViwa 1707069094363', 'przedmiot nr lRvJkOWbGg 1707069094363', 'przedmiot nr MhfeiLDkIQ 1707069094363', 'przedmiot nr xiJKiPWXZJ 1707069094363', 'przedmiot nr kYrBDycbZI 1707069094363', 'przedmiot nr vIyEJNIoHp 1707069094363', 'przedmiot nr CFEscjCVoO 1707069094363', 'przedmiot nr TlhAoNJBbp 1707069094363', 'przedmiot nr mPSSgBambj 1707069094363', 'przedmiot nr AYXlitmaYZ 1707069094363', 'przedmiot nr GtgktDlUZv 1707069094363', 'przedmiot nr YDyPnIJoIR 1707069094363', 'przedmiot nr lBeHqtjcWh 1707069094363', 'przedmiot nr kmIFdODAUY 1707069094363', 'przedmiot nr CPFCEPkzDV 1707069094363', 'przedmiot nr PvwlhQlhbC 1707069094363', 'przedmiot nr UkxWmTXyUa 1707069094363', 'przedmiot nr MVVRwrlZVG 1707069094363', 'przedmiot nr WIcSJXHVyn 1707069094363', 'przedmiot nr NsFvjUbXOq 1707069094363', 'przedmiot nr RIFabqRJHl 1707069094363', 'przedmiot nr QYAfltHEMk 1707069094363', 'przedmiot nr ddKxhzFATw 1707069094363', 'przedmiot nr QNAkFCwVLx 1707069094363', 'przedmiot nr STgcTobmLr 1707069094364', 'przedmiot nr aGSFoDRqRp 1707069094364', 'przedmiot nr eLeJkFuRSS 1707069094364', 'przedmiot nr ccVJSgAxQG 1707069094364', 'przedmiot nr QSzAViAncz 1707069094364', 'przedmiot nr UZfHaqVDCv 1707069094364', 'przedmiot nr cBtvtCGiXk 1707069094364', 'przedmiot nr CCLdFycieG 1707069094364', 'przedmiot nr tyLULqZNbz 1707069094364', 'przedmiot nr OhBVmyYeIw 1707069094364', 'przedmiot nr wqNhMxqPGF 1707069094364', 'przedmiot nr kaAHRiudPe 1707069094364', 'przedmiot nr ibJBuUqbfa 1707069094364', 'przedmiot nr sluPUyujGv 1707069094364', 'przedmiot nr RESdcbyNGk 1707069094364', 'przedmiot nr pLxqFblbYP 1707069094364', 'przedmiot nr DNqZdTETNr 1707069094364', 'przedmiot nr EgNDcSRwVH 1707069094364', 'przedmiot nr WPvUTszBGt 1707069094364', 'przedmiot nr VPhSHatART 1707069094364', 'przedmiot nr bMAnGeXiwE 1707069094364', 'przedmiot nr rxikwxLyul 1707069094364', 'przedmiot nr KdaPLQPvad 1707069094364', 'przedmiot nr QBrDFmJNqx 1707069094364', 'przedmiot nr dSloXAqtGQ 1707069094364', 'przedmiot nr zPOYiOWCzf 1707069094364', 'przedmiot nr RnVrKVPpUy 1707069094364', 'przedmiot nr jGoaCjMHFd 1707069094364', 'przedmiot nr fjbAuCGDHw 1707069094364', 'przedmiot nr AzkHuKZEot 1707069094364', 'przedmiot nr TGCLfzomOe 1707069094365', 'przedmiot nr caEeZHFZdc 1707069094365', 'przedmiot nr fhLacZVnEQ 1707069094365', 'przedmiot nr vxFVCMrsnE 1707069094365', 'przedmiot nr nrktEmpraq 1707069094365', 'przedmiot nr PyzMCyAhpW 1707069094365', 'przedmiot nr JdXLPjbUzO 1707069094365', 'przedmiot nr rFPxiGwYbM 1707069094365', 'przedmiot nr LcyoXlaBme 1707069094365', 'przedmiot nr RLUSHRBaye 1707069094365', 'przedmiot nr VxMFEtvmzj 1707069094365', 'przedmiot nr SjvQmnRxIf 1707069094365', 'przedmiot nr GIjKAvqoDj 1707069094365', 'przedmiot nr KoRmrXTiOJ 1707069094365', 'przedmiot nr bNAitncnTu 1707069094365', 'przedmiot nr XdkfDeMYfW 1707069099762', 'przedmiot nr yrzyWfhZsL 1707069099763', 'przedmiot nr LvhtQSERrp 1707069099763', 'przedmiot nr jVnEVLQXVd 1707069099763', 'przedmiot nr RrKcZRVgvB 1707069099763', 'przedmiot nr ufrNLapeAW 1707069099763', 'przedmiot nr KamudNNwPa 1707069099763', 'przedmiot nr cCgyOeOEIj 1707069099763', 'przedmiot nr wUkebokRKt 1707069099763', 'przedmiot nr yZnfEPgskJ 1707069099763', 'przedmiot nr QuupIKLhHu 1707069099763', 'przedmiot nr QbMRCFbDWL 1707069099763', 'przedmiot nr jZQVMrvoyY 1707069099763', 'przedmiot nr ABMCJQtfNk 1707069099763', 'przedmiot nr OQekhHyJMc 1707069099763', 'przedmiot nr WNeFvPnhmm 1707069099763', 'przedmiot nr TbXFzMLVhh 1707069099764', 'przedmiot nr PBwZAkpTIN 1707069099764', 'przedmiot nr PgSiUKMSbJ 1707069099764', 'przedmiot nr sLYVZbXKky 1707069099764', 'przedmiot nr UYXTuPqUBO 1707069099764', 'przedmiot nr FptQgatMRf 1707069099764', 'przedmiot nr tTNQVIDiur 1707069099764', 'przedmiot nr YFdRcEjgtg 1707069099764', 'przedmiot nr JIJjYURrKo 1707069099764', 'przedmiot nr CbLmzBlkpK 1707069099764', 'przedmiot nr ydDjZeGDPb 1707069099764', 'przedmiot nr ZmwJGGKfRb 1707069099764', 'przedmiot nr vIBWpnWqMy 1707069099764', 'przedmiot nr jOpVwldKLn 1707069099764', 'przedmiot nr bZMlazptUw 1707069099764', 'przedmiot nr LOUVrYEefZ 1707069099764', 'przedmiot nr qEhDJqHHuX 1707069099764', 'przedmiot nr DkMEGzczsp 1707069099764', 'przedmiot nr sJAeRGCwku 1707069099764', 'przedmiot nr PJqiORmxaK 1707069099764', 'przedmiot nr XUDRzrEpwf 1707069099764', 'przedmiot nr wGyybcRJWG 1707069099764', 'przedmiot nr brbPmZbBBG 1707069099764', 'przedmiot nr pptLFNBPqI 1707069099764', 'przedmiot nr OpZcMDiNqp 1707069099764', 'przedmiot nr qscUPQJjHH 1707069099764', 'przedmiot nr NASDGgpoWj 1707069099765', 'przedmiot nr LGOngEIjHw 1707069099765', 'przedmiot nr EFwnTNdojn 1707069099765', 'przedmiot nr HHSycNBofL 1707069099765', 'przedmiot nr EwTCQOncbn 1707069099765', 'przedmiot nr yPbBXsKMUw 1707069099765', 'przedmiot nr zFdAOQcZaF 1707069099765', 'przedmiot nr WfnGKURBEQ 1707069099765', 'przedmiot nr jjMucriHVq 1707069099765', 'przedmiot nr NXSeLUXxeo 1707069099765', 'przedmiot nr TUxhXkKlvG 1707069099765', 'przedmiot nr KCyocmXakG 1707069099765', 'przedmiot nr lpSFRtBgiS 1707069099765', 'przedmiot nr eHFPKHyiRK 1707069099765', 'przedmiot nr GYwyahGgaY 1707069099765', 'przedmiot nr TykqauLZSy 1707069099765', 'przedmiot nr oJMsdZsCnK 1707069099765', 'przedmiot nr mNEBblztnO 1707069099765', 'przedmiot nr EvDyJfmHLK 1707069099765', 'przedmiot nr cOfXumeocX 1707069099765', 'przedmiot nr sRJpzEzVdH 1707069099765', 'przedmiot nr dWRmsqsnhV 1707069099765', 'przedmiot nr qhjMEsmlaC 1707069099765', 'przedmiot nr wYgaLTedSS 1707069099765', 'przedmiot nr StwrrFbBEe 1707069099765', 'przedmiot nr KQjMhJvPfT 1707069099765', 'przedmiot nr xhnQzJWfYy 1707069099765', 'przedmiot nr poxuZIXlZM 1707069099765', 'przedmiot nr hPgdoSmEli 1707069099766', 'przedmiot nr owEPEshADU 1707069099766', 'przedmiot nr GvGCmgaOmj 1707069099766', 'przedmiot nr ervuvLjUuE 1707069099766', 'przedmiot nr ktJNkTRhsI 1707069099766', 'przedmiot nr PSsrinbBzG 1707069099766', 'przedmiot nr MDrmKBpnXA 1707069099766', 'przedmiot nr zQhkvvxNbz 1707069099766', 'przedmiot nr tNLzRvbXAS 1707069099766', 'przedmiot nr IiULnvOgnw 1707069099766', 'przedmiot nr QXeBHExfNr 1707069099766', 'przedmiot nr qaXNPsnZtz 1707069099766', 'przedmiot nr kdyFOpIylp 1707069099766', 'przedmiot nr XfgVjcaTao 1707069099766', 'przedmiot nr SIJfeWbnbV 1707069099766', 'przedmiot nr TGKYLhHVcI 1707069099766', 'przedmiot nr LJpgliYPhC 1707069099766', 'przedmiot nr hCoPBjrhwj 1707069099766', 'przedmiot nr pQDJZOITBE 1707069099766', 'przedmiot nr mVQhvkCCBQ 1707069099766', 'przedmiot nr BxmCEoLEcb 1707069099766', 'przedmiot nr FvpmgvgohP 1707069099766', 'przedmiot nr StokUWyckf 1707069099766', 'przedmiot nr zzCQzZOJGM 1707069099766', 'przedmiot nr sBcGDOMTIa 1707069099766', 'przedmiot nr WOABUkGRVl 1707069099766', 'przedmiot nr flyueZhhMb 1707069099766', 'przedmiot nr jgkbkzxVTD 1707069099766', 'przedmiot nr IAFvPGYEjg 1707069099767', 'przedmiot nr uBlqzfibJw 1707069099767', 'przedmiot nr SExaJcFacS 1707069197581', 'przedmiot nr RxlYqcOlDK 1707069197581', 'przedmiot nr VszCeKktsY 1707069197581', 'przedmiot nr vbvTovWVnq 1707069197581', 'przedmiot nr YeOrIUJCfz 1707069197581', 'przedmiot nr fNziCcpmzy 1707069197582', 'przedmiot nr JqDmKINTRs 1707069197582', 'przedmiot nr yHZEoZvMWc 1707069197582', 'przedmiot nr KawcyxRdsd 1707069197582', 'przedmiot nr RxzSJgWAIW 1707069197582', 'przedmiot nr VRHbchEtoy 1707069197582', 'przedmiot nr VWizaQOjCA 1707069197582', 'przedmiot nr ZUTZONSerk 1707069197582', 'przedmiot nr KLJuZaaSbq 1707069197582', 'przedmiot nr xTwKJURnaP 1707069197582', 'przedmiot nr EMZwBylNFG 1707069197582', 'przedmiot nr nzQruUyQTQ 1707069197582', 'przedmiot nr djpOzKYava 1707069197582', 'przedmiot nr uYzBzzEHet 1707069197582', 'przedmiot nr fZlzcetOni 1707069197582', 'przedmiot nr vRJtWIhaVl 1707069197582', 'przedmiot nr evUiqAkzqO 1707069197582', 'przedmiot nr HvmZcJXect 1707069197582', 'przedmiot nr PPREfhVilT 1707069197582', 'przedmiot nr CKgOiyJBzf 1707069197582', 'przedmiot nr TqcTTvJmmj 1707069197582', 'przedmiot nr sCKoopxGDJ 1707069197582', 'przedmiot nr OabbQcPOsU 1707069197582', 'przedmiot nr NVyNNXfbkG 1707069197582', 'przedmiot nr DIOoXTbNAa 1707069197582', 'przedmiot nr lnEjAaaQnZ 1707069197582', 'przedmiot nr OYJmIUOiTe 1707069197582', 'przedmiot nr FsVENggaEd 1707069197583', 'przedmiot nr jhVfnpIaAJ 1707069197583', 'przedmiot nr BRDRKfCPoA 1707069197583', 'przedmiot nr gPFZccXUTL 1707069197583', 'przedmiot nr vSWmFoBEgd 1707069197583', 'przedmiot nr jJPPeOXZHx 1707069197583', 'przedmiot nr tTlCWhcjKh 1707069197583', 'przedmiot nr cVPxlSOCGA 1707069197583', 'przedmiot nr VOIKpUGaIp 1707069197583', 'przedmiot nr StZlbXNaeB 1707069197584', 'przedmiot nr EVwWSDqFAW 1707069197584', 'przedmiot nr KQgjiLpkmk 1707069197584', 'przedmiot nr amvDMdUuBF 1707069197584', 'przedmiot nr BxKPiWygJF 1707069197584', 'przedmiot nr TmNFEDfTKo 1707069197584', 'przedmiot nr RXAdTZvBNB 1707069197584', 'przedmiot nr zQpLdtlBSV 1707069197584', 'przedmiot nr eNjsiSQbKB 1707069197584', 'przedmiot nr iNrbkBVGTn 1707069197584', 'przedmiot nr cArjxMZzKR 1707069197584', 'przedmiot nr oAborYJlmH 1707069197584', 'przedmiot nr aFXstKSCXl 1707069197584', 'przedmiot nr GkEAuuYoUO 1707069197584', 'przedmiot nr PfNaWuRDDT 1707069197584', 'przedmiot nr QsQNKbomAT 1707069197584', 'przedmiot nr GcBpTwmZPN 1707069197584', 'przedmiot nr mqdxAavArs 1707069197584', 'przedmiot nr hWKsYsvqck 1707069197584', 'przedmiot nr DErRKmttny 1707069197584', 'przedmiot nr EjXeZzsTEk 1707069197584', 'przedmiot nr mnYPIrlMzb 1707069197584', 'przedmiot nr BmBIFReqRS 1707069197584', 'przedmiot nr INIMUWVKRY 1707069197584', 'przedmiot nr KYVUtMyePQ 1707069197584', 'przedmiot nr RPEkWsDPgy 1707069197585', 'przedmiot nr TmMZoDoIFw 1707069197585', 'przedmiot nr nZbtRCNVCZ 1707069197585', 'przedmiot nr bqVTwNbEnI 1707069197585', 'przedmiot nr pKJsrsrBxB 1707069197585', 'przedmiot nr DgfijsUEEe 1707069197585', 'przedmiot nr aABqXQrhnu 1707069197585', 'przedmiot nr bGCGjKfcCF 1707069197585', 'przedmiot nr fvgRsPXjiY 1707069197585', 'przedmiot nr yJtHmbyFMf 1707069197585', 'przedmiot nr YMIoZPtXWw 1707069197585', 'przedmiot nr FhbVNegtKI 1707069197585', 'przedmiot nr bYlQyhsRoy 1707069197585', 'przedmiot nr AJLLDCweAn 1707069197585', 'przedmiot nr mxOCIvwgFP 1707069197585', 'przedmiot nr WUaXtXRUAi 1707069197585', 'przedmiot nr KKCrGMornB 1707069197585', 'przedmiot nr FCEcrHQWgE 1707069197585', 'przedmiot nr QCEWIKWxxV 1707069197585', 'przedmiot nr gBLRTgEofV 1707069197585', 'przedmiot nr FbCYCyMkdK 1707069197585', 'przedmiot nr IfTwlrWGhf 1707069197585', 'przedmiot nr hCvpXUTjIQ 1707069197585', 'przedmiot nr TyqmYbLEYq 1707069197585', 'przedmiot nr dUzyIQweod 1707069197585', 'przedmiot nr ekJsIVxTUU 1707069197585', 'przedmiot nr FqRjlcfxEW 1707069197585', 'przedmiot nr uoeAPRMbix 1707069197585', 'przedmiot nr CZTCQhtMuO 1707069197585', 'przedmiot nr sKRWNXJlPr 1707069197586', 'przedmiot nr SoinCgiiWU 1707069197586', 'przedmiot nr jobIufUjvt 1707069197586', 'przedmiot nr dRGEQEAyOM 1707069197586', 'przedmiot nr SOdZRzsCPb 1707069197586', 'przedmiot nr JIdvBURBDy 1707069212629', 'przedmiot nr wowaUroZNk 1707069212629', 'przedmiot nr NjNhbGDmMm 1707069212629', 'przedmiot nr FQpbJNZoWA 1707069212629', 'przedmiot nr YnrEyzWXmc 1707069212630', 'przedmiot nr srgNCLeIjo 1707069212630', 'przedmiot nr cfccQckSeS 1707069212630', 'przedmiot nr mVLXyAtLef 1707069212630', 'przedmiot nr llgXiGejeF 1707069212630', 'przedmiot nr DgwqEPKHMv 1707069212630', 'przedmiot nr uxFzPPUkCy 1707069212630', 'przedmiot nr lllRfyWFtm 1707069212630', 'przedmiot nr EeSZjVBzEC 1707069212630', 'przedmiot nr YLBWadmtbP 1707069212630', 'przedmiot nr PklsZqfhAR 1707069212630', 'przedmiot nr VBlyUMCmZL 1707069212630', 'przedmiot nr LjJOZozudz 1707069212631', 'przedmiot nr wahfBtGbxL 1707069212631', 'przedmiot nr ElaBPEqatk 1707069212631', 'przedmiot nr rdhIeAdPos 1707069212631', 'przedmiot nr gBNADDToZB 1707069212631', 'przedmiot nr zsXJScoSqI 1707069212631', 'przedmiot nr kbpoplzMVR 1707069212631', 'przedmiot nr EWowCVNZPn 1707069212631', 'przedmiot nr rafMsCisHs 1707069212631', 'przedmiot nr kRwwCfMGSU 1707069212631', 'przedmiot nr LvYogzIxYb 1707069212631', 'przedmiot nr ccBUEAcEpi 1707069212631', 'przedmiot nr dEXTEQeMBC 1707069212631', 'przedmiot nr ZpmSIeyEBh 1707069212632', 'przedmiot nr ugsEBdbkGu 1707069212632', 'przedmiot nr xyveTntcwD 1707069212632', 'przedmiot nr IXripLDIlA 1707069212632', 'przedmiot nr NgkcjTvEpg 1707069212639', 'przedmiot nr PUSEkvOXwt 1707069212639', 'przedmiot nr rCmhvhWUdV 1707069212639', 'przedmiot nr DfncVjRGgR 1707069212639', 'przedmiot nr xTkNrdCvea 1707069212640', 'przedmiot nr WDyuBErpsH 1707069212640', 'przedmiot nr xlpWEqeUFd 1707069212640', 'przedmiot nr aIIjVEkBIo 1707069212640', 'przedmiot nr LYpsEVGGlA 1707069212640', 'przedmiot nr pgRmJGNRCj 1707069212640', 'przedmiot nr cOhaHjApde 1707069212640', 'przedmiot nr rPqTvlxyIy 1707069212640', 'przedmiot nr JasQBDZnsV 1707069212640', 'przedmiot nr zwupVMGuvV 1707069212640', 'przedmiot nr SqSOYtXASn 1707069212640', 'przedmiot nr KKEbGemGYA 1707069212640', 'przedmiot nr koGwDtxnbg 1707069212640', 'przedmiot nr JRzQDLxzII 1707069212640', 'przedmiot nr wdGTQstfOM 1707069212640', 'przedmiot nr HTFbBFCmPr 1707069212640', 'przedmiot nr xQxUhvGKsb 1707069212640', 'przedmiot nr zTXgWkXHwm 1707069212641', 'przedmiot nr ndicURtJES 1707069212641', 'przedmiot nr yqBnPeFbeF 1707069212641', 'przedmiot nr FHXZpwyXek 1707069212641', 'przedmiot nr RBkedGdaCl 1707069212641', 'przedmiot nr tnEkjToQWo 1707069212641', 'przedmiot nr SrhWbMusSq 1707069212641', 'przedmiot nr ZnJuPRnRHv 1707069212641', 'przedmiot nr NgmxhvTRcY 1707069212641', 'przedmiot nr ThnVnGdmFY 1707069212641', 'przedmiot nr bsIvKwtqil 1707069212641', 'przedmiot nr cOwQszbuZz 1707069212641', 'przedmiot nr amjJcfviSf 1707069212641', 'przedmiot nr pygMFhkqhY 1707069212641', 'przedmiot nr rTQuRvkxgl 1707069212641', 'przedmiot nr SiIyVhLkfp 1707069212641', 'przedmiot nr YzSFPAVYbz 1707069212641', 'przedmiot nr LxQauSvotq 1707069212642', 'przedmiot nr oGditBAorc 1707069212642', 'przedmiot nr UIahcWbmLL 1707069212642', 'przedmiot nr JWPHxmxhyy 1707069212642', 'przedmiot nr woSkfkwrFy 1707069212642', 'przedmiot nr UawotHwfDR 1707069212642', 'przedmiot nr KkCBvWZCEY 1707069212642', 'przedmiot nr AgrQtPiLkE 1707069212642', 'przedmiot nr JNVkiVhlWm 1707069212642', 'przedmiot nr UMBWABuQiD 1707069212642', 'przedmiot nr aQjMwoMzsP 1707069212642', 'przedmiot nr nwmyHcTLOw 1707069212642', 'przedmiot nr fhgxpZoPOz 1707069212642', 'przedmiot nr qTKfiYzaPS 1707069212642', 'przedmiot nr izvhmVOWAL 1707069212642', 'przedmiot nr sUSwXAOaHt 1707069212642', 'przedmiot nr zqrURyplcc 1707069212642', 'przedmiot nr tVjLVAAvOc 1707069212643', 'przedmiot nr yJjSYvLXUV 1707069212643', 'przedmiot nr uPYGqjuHhg 1707069212643', 'przedmiot nr XGfBpanvyl 1707069212643', 'przedmiot nr zTlSigAUAg 1707069212643', 'przedmiot nr dLmANvWjWC 1707069212643', 'przedmiot nr NNkPjZqpbW 1707069212643', 'przedmiot nr qGTdELzpvx 1707069212643', 'przedmiot nr mkXqZOfbkq 1707069212643', 'przedmiot nr QFukPAKASV 1707069212643', 'przedmiot nr KkjnHHVqLQ 1707069212643', 'przedmiot nr ioxqfSoNko 1707069212645', 'przedmiot nr LqRlqCRZVw 1707070208280', 'przedmiot nr DSCaPIQRGY 1707070219979', 'przedmiot nr tjTmTPVgNz 1707070236920', 'przedmiot nr PXFgmWVyEW 1707070324713', 'przedmiot nr mNjbjSDSXJ 1707070338723', 'przedmiot nr JBDCUwRyKb 1707070366833', 'przedmiot nr PFtJpxCVdJ 1707070527548', 'przedmiot nr FOOxkfzAhi 1707070550583', 'przedmiot nr aJBXxrLDRI 1707070571359', 'przedmiot nr MfKgDHjCvR 1707070582981', 'przedmiot nr TTelrNkwFe 1707070604413', 'przedmiot nr JUZQAfwhbC 1707070657655']\n",
            "klucz: D, wartość: [54, 64, 74, 19, 45, 16, 8, 67, 36, 83, 28, 78, 33, 46, 71, 17, 8, 32, 94, 86, 54, 91, 71, 41, 77, 39, 82, 70, 83, 69, 99, 30, 51, 19, 48, 28, 54, 49, 25, 70, 35, 78, 28, 45, 33, 87, 18, 68, 20, 88, 56, 67, 51, 16, 35, 62, 45, 38, 87, 92, 87, 96, 95, 91, 97, 59, 49, 90, 3, 49, 14, 82, 100, 42, 95, 38, 52, 38, 79, 100, 15, 45, 78, 32, 69, 96, 4, 96, 96, 86, 74, 16, 69, 48, 28, 1, 66, 55, 86, 43, 3, 38, 2, 3, 81, 19, 31, 33, 6, 59, 18, 56, 31, 87, 81, 60, 68, 98, 79, 91, 100, 8, 33, 86, 60, 33, 49, 71, 32, 70, 66, 39, 46, 82, 71, 13, 42, 76, 24, 59, 84, 70, 76, 61, 18, 13, 96, 80, 24, 14, 20, 61, 30, 21, 81, 13, 48, 96, 70, 98, 50, 31, 56, 10, 64, 45, 87, 38, 26, 69, 53, 53, 27, 41, 93, 21, 90, 86, 61, 12, 56, 68, 9, 3, 87, 80, 94, 82, 60, 11, 60, 68, 51, 42, 15, 50, 44, 97, 81, 83, 85, 59, 44, 59, 24, 47, 90, 30, 57, 92, 44, 80, 53, 7, 75, 91, 52, 67, 24, 41, 60, 33, 28, 26, 44, 68, 43, 88, 100, 81, 51, 46, 32, 37, 12, 27, 23, 78, 57, 28, 66, 44, 30, 89, 86, 22, 92, 67, 91, 15, 26, 81, 84, 68, 80, 58, 7, 24, 54, 32, 59, 99, 9, 58, 59, 88, 52, 8, 17, 63, 15, 60, 69, 53, 89, 92, 34, 46, 50, 22, 41, 8, 85, 87, 37, 13, 91, 47, 23, 55, 29, 71, 78, 69, 61, 90, 65, 1, 72, 59, 62, 32, 3, 58, 39, 49, 53, 28, 36, 62, 90, 67, 10, 8, 96, 29, 43, 92, 37, 51, 31, 73, 24, 85, 36, 97, 61, 19, 93, 2, 55, 71, 65, 33, 85, 24, 74, 57, 88, 69, 90, 84, 35, 92, 32, 93, 50, 55, 45, 64, 77, 14, 79, 62, 19, 71, 13, 60, 57, 5, 88, 9, 61, 52, 71, 98, 82, 81, 31, 9, 88, 88, 80, 35, 76, 58, 29, 95, 68, 17, 60, 63, 42, 12, 86, 88, 51, 24, 68, 8, 84, 34, 71, 8, 50, 73, 82, 57, 33, 26, 31, 22, 93, 95, 5, 56, 80, 39, 13, 14, 96, 80, 4, 64, 25, 49, 55, 24, 1, 83, 24, 75, 37, 54, 97, 45, 83, 85, 87, 86, 73, 89, 98, 98, 96, 22, 44, 61, 88, 70, 33, 13, 83, 66, 97, 87, 77, 6, 4, 29, 78, 86, 67, 97, 74, 94, 22, 39, 13, 23, 17, 12, 42, 5, 73, 9, 14, 84, 75, 7, 2, 6, 8, 65, 66, 56, 46, 44, 72, 11, 32, 73, 52, 27, 96, 35, 79, 88, 33, 42, 38, 95, 25, 54, 64, 51, 79, 37, 55, 94, 88, 64, 43, 83, 10, 89, 11, 86, 35, 99, 14, 40, 92, 21, 30, 18, 77, 15, 57, 79, 34, 75, 78, 10, 77, 35, 51, 59, 52, 92, 39, 42, 91, 58, 13, 87, 67, 52, 95, 74, 86, 2, 43, 84, 79, 37, 69, 63, 54, 11, 58, 100, 15, 94, 39, 34, 99, 56, 18, 12, 22, 100, 5, 22, 81, 73, 75, 27, 84, 63, 46, 73, 80, 74, 7, 55, 26, 28, 62, 83, 98, 2, 11, 81, 47, 45, 62, 37, 78, 39, 90, 48, 80, 90, 67, 74, 45, 34, 86, 15, 85, 89, 36, 10, 21, 95, 26, 94, 76, 79, 82, 81, 53, 1, 34, 43, 8, 40, 74, 22, 35, 17, 62, 39, 8, 23, 65, 43, 48, 27, 35, 89, 26, 86, 18, 93, 46, 10, 99, 98, 36, 46, 9, 91, 37, 4, 76, 71, 2, 64, 42, 86, 50, 20, 87, 66, 53, 95, 23, 29, 58, 40, 3, 63, 44, 74, 32, 33, 6, 30, 79, 6, 43, 11, 99, 98, 29, 15, 88, 28, 27, 83, 59, 27, 80, 89, 36, 79, 85, 71, 37, 50, 38, 31, 57, 76, 2, 36, 13, 100, 10, 74, 1, 8, 40, 18, 31, 27, 53, 56, 44, 78, 88, 62, 95, 14, 40, 54, 30, 75, 4, 24, 5, 62, 94, 82, 43, 61, 64, 4, 54, 71, 14, 93, 9]\n",
            "klucz: E, wartość: ['m', 'szt', 'szt', 'szt', 'szt', 'szt', 'szt', 'szt', 'kpl', 'szt', 'm', 'szt', 'szt', 'szt', 'szt', 'litr', 'szt', 'szt', 'szt', 'szt', 'szt', 'szt', 'litr', 'szt', 'szt', 'szt', 'szt', 'm', 'szt', 'szt', 'szt', 'szt', 'szt', 'litr', 'szt', 'szt', 'szt', 'szt', 'szt', 'm', 'szt', 'szt', 'litr', 'szt', 'szt', 'litr', 'szt', 'szt', 'litr', 'szt', 'szt', 'litr', 'szt', 'szt', 'szt', 'szt', 'szt', 'szt', 'szt', 'szt', 'szt', 'm', 'kpl', 'szt', 'szt', 'szt', 'szt', 'szt', 'szt', 'szt', 'm', 'szt', 'szt', 'szt', 'szt', 'szt', 'szt', 'szt', 'szt', 'szt', 'szt', 'szt', 'szt', 'szt', 'kpl', 'szt', 'litr', 'szt', 'szt', 'szt', 'szt', 'szt', 'szt', 'm', 'szt', 'szt', 'szt', 'szt', 'szt', 'litr', 'm', 'szt', 'szt', 'szt', 'szt', 'kpl', 'szt', 'm', 'szt', 'szt', 'szt', 'kpl', 'litr', 'litr', 'szt', 'szt', 'szt', 'm', 'szt', 'szt', 'szt', 'szt', 'szt', 'szt', 'szt', 'szt', 'szt', 'szt', 'szt', 'szt', 'szt', 'szt', 'szt', 'szt', 'szt', 'szt', 'szt', 'szt', 'm', 'szt', 'szt', 'szt', 'litr', 'm', 'szt', 'm', 'szt', 'szt', 'szt', 'szt', 'litr', 'szt', 'szt', 'kpl', 'szt', 'szt', 'szt', 'szt', 'm', 'szt', 'szt', 'szt', 'm', 'szt', 'szt', 'szt', 'litr', 'szt', 'szt', 'szt', 'szt', 'szt', 'szt', 'szt', 'kpl', 'szt', 'szt', 'litr', 'szt', 'szt', 'szt', 'szt', 'szt', 'szt', 'szt', 'szt', 'szt', 'szt', 'litr', 'szt', 'szt', 'szt', 'szt', 'szt', 'szt', 'kpl', 'szt', 'szt', 'szt', 'litr', 'kpl', 'szt', 'szt', 'm', 'szt', 'szt', 'szt', 'szt', 'szt', 'szt', 'szt', 'litr', 'szt', 'szt', 'szt', 'm', 'szt', 'szt', 'szt', 'szt', 'kpl', 'kpl', 'szt', 'szt', 'litr', 'szt', 'szt', 'szt', 'litr', 'szt', 'szt', 'szt', 'szt', 'szt', 'szt', 'szt', 'szt', 'litr', 'szt', 'szt', 'szt', 'kpl', 'm', 'szt', 'szt', 'szt', 'szt', 'szt', 'szt', 'szt', 'szt', 'kpl', 'szt', 'szt', 'kpl', 'szt', 'szt', 'litr', 'litr', 'szt', 'szt', 'szt', 'kpl', 'szt', 'szt', 'szt', 'litr', 'szt', 'szt', 'szt', 'szt', 'szt', 'szt', 'szt', 'szt', 'szt', 'szt', 'szt', 'szt', 'szt', 'szt', 'szt', 'szt', 'szt', 'szt', 'szt', 'szt', 'm', 'litr', 'szt', 'szt', 'szt', 'szt', 'm', 'szt', 'szt', 'szt', 'szt', 'szt', 'szt', 'szt', 'szt', 'kpl', 'szt', 'szt', 'm', 'szt', 'szt', 'szt', 'szt', 'szt', 'szt', 'szt', 'szt', 'szt', 'szt', 'szt', 'kpl', 'szt', 'szt', 'szt', 'szt', 'szt', 'szt', 'szt', 'szt', 'szt', 'szt', 'szt', 'szt', 'szt', 'szt', 'szt', 'szt', 'szt', 'szt', 'szt', 'szt', 'szt', 'kpl', 'szt', 'szt', 'litr', 'kpl', 'szt', 'szt', 'szt', 'szt', 'szt', 'kpl', 'szt', 'kpl', 'm', 'szt', 'kpl', 'szt', 'szt', 'm', 'szt', 'szt', 'szt', 'szt', 'szt', 'szt', 'szt', 'szt', 'szt', 'szt', 'szt', 'szt', 'szt', 'szt', 'szt', 'm', 'szt', 'szt', 'szt', 'm', 'szt', 'szt', 'szt', 'szt', 'szt', 'szt', 'szt', 'szt', 'szt', 'szt', 'szt', 'litr', 'szt', 'szt', 'm', 'szt', 'szt', 'szt', 'szt', 'szt', 'szt', 'm', 'litr', 'kpl', 'szt', 'm', 'litr', 'szt', 'szt', 'szt', 'szt', 'kpl', 'm', 'litr', 'szt', 'szt', 'm', 'szt', 'szt', 'kpl', 'szt', 'szt', 'szt', 'szt', 'szt', 'szt', 'szt', 'szt', 'szt', 'szt', 'kpl', 'szt', 'szt', 'kpl', 'szt', 'szt', 'szt', 'szt', 'szt', 'szt', 'm', 'szt', 'szt', 'szt', 'szt', 'kpl', 'szt', 'szt', 'szt', 'szt', 'litr', 'szt', 'litr', 'szt', 'szt', 'szt', 'szt', 'szt', 'kpl', 'szt', 'szt', 'kpl', 'szt', 'szt', 'szt', 'm', 'szt', 'szt', 'szt', 'szt', 'szt', 'szt', 'szt', 'szt', 'szt', 'kpl', 'szt', 'szt', 'szt', 'szt', 'szt', 'litr', 'szt', 'litr', 'm', 'szt', 'szt', 'kpl', 'szt', 'kpl', 'litr', 'szt', 'szt', 'kpl', 'szt', 'szt', 'szt', 'kpl', 'szt', 'szt', 'kpl', 'm', 'szt', 'szt', 'szt', 'szt', 'kpl', 'm', 'szt', 'kpl', 'szt', 'szt', 'szt', 'szt', 'szt', 'szt', 'szt', 'szt', 'szt', 'm', 'szt', 'litr', 'szt', 'szt', 'szt', 'szt', 'szt', 'szt', 'kpl', 'szt', 'szt', 'm', 'szt', 'szt', 'litr', 'm', 'szt', 'szt', 'szt', 'szt', 'szt', 'szt', 'szt', 'szt', 'szt', 'szt', 'szt', 'szt', 'szt', 'szt', 'szt', 'szt', 'szt', 'szt', 'szt', 'szt', 'kpl', 'szt', 'szt', 'szt', 'szt', 'm', 'szt', 'szt', 'szt', 'szt', 'szt', 'szt', 'szt', 'szt', 'szt', 'litr', 'szt', 'szt', 'szt', 'szt', 'szt', 'szt', 'szt', 'szt', 'litr', 'litr', 'szt', 'szt', 'szt', 'kpl', 'szt', 'szt', 'kpl', 'szt', 'szt', 'szt', 'szt', 'szt', 'litr', 'szt', 'm', 'szt', 'szt', 'szt', 'szt', 'szt', 'szt', 'szt', 'szt', 'szt', 'kpl', 'szt', 'szt', 'szt', 'kpl', 'szt', 'szt', 'szt', 'szt', 'szt', 'litr', 'szt', 'szt', 'szt', 'szt', 'kpl', 'szt', 'szt', 'szt', 'm', 'szt', 'szt', 'szt', 'szt', 'szt', 'szt', 'kpl', 'szt', 'm', 'szt', 'szt', 'm', 'szt', 'szt', 'szt', 'szt', 'szt', 'szt', 'szt', 'szt', 'szt', 'szt', 'szt', 'szt', 'szt', 'szt', 'szt', 'kpl', 'szt', 'szt', 'szt', 'szt', 'szt', 'szt', 'szt', 'szt', 'm', 'szt', 'kpl', 'litr', 'szt', 'szt', 'szt', 'szt', 'szt', 'szt', 'szt', 'szt', 'szt', 'szt', 'szt', 'litr', 'szt', 'szt', 'szt', 'szt', 'szt', 'szt', 'szt', 'szt', 'litr', 'szt', 'szt', 'szt', 'szt', 'szt', 'szt', 'szt', 'szt', 'szt', 'szt', 'szt', 'szt', 'szt', 'szt', 'szt', 'szt', 'szt', 'szt', 'kpl', 'szt', 'm', 'szt', 'szt', 'kpl', 'szt', 'szt', 'szt', 'szt', 'szt', 'litr', 'szt', 'szt', 'szt', 'szt', 'szt', 'szt', 'szt', 'szt', 'szt', 'szt', 'szt', 'szt', 'szt', 'szt', 'szt', 'szt', 'm', 'szt', 'kpl', 'szt']\n",
            "klucz: F, wartość: ['08.12.2024', '08.12.2024', '01.12.2024', '10.12.2024', '14.12.2024', '08.12.2024', '01.12.2024', '14.12.2024', '09.12.2024', '06.12.2024', '02.12.2024', '04.12.2024', '29.08.2024', '16.09.2024', '15.03.2024', '09.07.2024', '22.02.2024', '14.07.2024', '05.11.2024', '17.02.2024', '20.04.2024', '01.04.2024', '10.04.2024', '13.07.2024', '27.10.2024', '01.07.2024', '23.03.2024', '01.09.2024', '26.12.2024', '26.05.2024', '20.07.2024', '17.08.2024', '19.05.2024', '18.05.2024', '14.05.2024', '26.09.2024', '03.08.2024', '24.10.2024', '21.12.2024', '20.07.2024', '09.11.2024', '25.08.2024', '29.04.2024', '30.09.2024', '08.07.2024', '27.05.2024', '03.12.2024', '27.10.2024', '08.06.2024', '01.10.2024', '06.05.2024', '07.06.2024', '26.03.2024', '05.07.2024', '02.06.2024', '30.07.2024', '11.08.2024', '02.04.2024', '09.10.2024', '18.02.2024', '15.10.2024', '16.07.2024', '26.04.2024', '15.06.2024', '01.10.2024', '28.02.2024', '07.07.2024', '19.03.2024', '15.02.2024', '19.05.2024', '17.12.2024', '02.06.2024', '12.07.2024', '26.10.2024', '17.07.2024', '22.09.2024', '25.09.2024', '18.03.2024', '17.09.2024', '15.03.2024', '07.08.2024', '24.06.2024', '09.08.2024', '22.06.2024', '16.12.2024', '22.06.2024', '08.09.2024', '08.12.2024', '07.11.2024', '07.05.2024', '08.04.2024', '06.09.2024', '19.03.2024', '24.02.2024', '04.05.2024', '14.02.2024', '25.10.2024', '22.09.2024', '25.06.2024', '25.06.2024', '20.03.2024', '20.08.2024', '28.06.2024', '28.06.2024', '01.04.2024', '09.12.2024', '07.10.2024', '30.08.2024', '30.03.2024', '17.06.2024', '13.09.2024', '28.07.2024', '05.12.2024', '25.06.2024', '11.08.2024', '24.06.2024', '16.10.2024', '06.11.2024', '27.02.2024', '17.12.2024', '15.09.2024', '16.05.2024', '23.08.2024', '19.11.2024', '20.08.2024', '27.05.2024', '24.07.2024', '18.12.2024', '26.10.2024', '06.06.2024', '25.11.2024', '20.06.2024', '25.07.2024', '18.03.2024', '23.02.2024', '21.09.2024', '28.07.2024', '25.04.2024', '14.03.2024', '18.08.2024', '19.12.2024', '30.12.2024', '29.04.2024', '15.07.2024', '19.10.2024', '27.12.2024', '20.06.2024', '24.10.2024', '26.06.2024', '03.07.2024', '14.03.2024', '31.10.2024', '10.09.2024', '30.09.2024', '17.05.2024', '27.04.2024', '31.03.2024', '17.12.2024', '24.02.2024', '07.06.2024', '27.12.2024', '23.06.2024', '17.04.2024', '22.09.2024', '05.06.2024', '08.04.2024', '15.11.2024', '04.03.2024', '16.07.2024', '16.04.2024', '30.06.2024', '03.06.2024', '09.11.2024', '20.05.2024', '24.02.2024', '13.11.2024', '07.11.2024', '09.11.2024', '27.11.2024', '16.03.2024', '09.03.2024', '19.05.2024', '06.08.2024', '13.08.2024', '11.12.2024', '05.11.2024', '06.06.2024', '09.07.2024', '09.09.2024', '25.10.2024', '07.10.2024', '19.09.2024', '24.05.2024', '09.04.2024', '03.04.2024', '15.03.2024', '10.10.2024', '20.08.2024', '25.07.2024', '22.04.2024', '29.02.2024', '16.10.2024', '02.10.2024', '09.08.2024', '01.05.2024', '21.11.2024', '09.03.2024', '11.03.2024', '20.07.2024', '21.02.2024', '11.08.2024', '27.08.2024', '08.12.2024', '10.03.2024', '06.04.2024', '02.12.2024', '16.12.2024', '21.03.2024', '31.08.2024', '25.10.2024', '02.11.2024', '30.09.2024', '08.02.2024', '08.02.2024', '08.02.2024', '08.02.2024', '08.02.2024', '08.02.2024', '08.02.2024', '08.02.2024', '08.02.2024', '08.02.2024', '08.02.2024', '08.02.2024', '08.02.2024', '08.02.2024', '08.02.2024', '08.02.2024', '08.02.2024', '08.02.2024', '08.02.2024', '08.02.2024', '08.02.2024', '08.02.2024', '08.02.2024', '08.02.2024', '08.02.2024', '08.02.2024', '08.02.2024', '08.02.2024', '08.02.2024', '08.02.2024', '08.02.2024', '08.02.2024', '08.02.2024', '08.02.2024', '08.02.2024', '08.02.2024', '08.02.2024', '08.02.2024', '08.02.2024', '08.02.2024', '08.02.2024', '08.02.2024', '08.02.2024', '08.02.2024', '08.02.2024', '08.02.2024', '08.02.2024', '08.02.2024', '08.02.2024', '08.02.2024', '08.02.2024', '08.02.2024', '08.02.2024', '08.02.2024', '08.02.2024', '08.02.2024', '08.02.2024', '08.02.2024', '08.02.2024', '08.02.2024', '08.02.2024', '08.02.2024', '08.02.2024', '08.02.2024', '08.02.2024', '08.02.2024', '08.02.2024', '08.02.2024', '08.02.2024', '08.02.2024', '08.02.2024', '08.02.2024', '08.02.2024', '08.02.2024', '08.02.2024', '08.02.2024', '08.02.2024', '08.02.2024', '08.02.2024', '08.02.2024', '08.02.2024', '08.02.2024', '08.02.2024', '08.02.2024', '08.02.2024', '08.02.2024', '08.02.2024', '08.02.2024', '08.02.2024', '08.02.2024', '08.02.2024', '08.02.2024', '08.02.2024', '08.02.2024', '08.02.2024', '08.02.2024', '08.02.2024', '08.02.2024', '08.02.2024', '08.02.2024', '08.02.2024', '08.02.2024', '08.02.2024', '08.02.2024', '08.02.2024', '08.02.2024', '08.02.2024', '08.02.2024', '08.02.2024', '08.02.2024', '08.02.2024', '08.02.2024', '08.02.2024', '08.02.2024', '08.02.2024', '08.02.2024', '08.02.2024', '08.02.2024', '08.02.2024', '08.02.2024', '08.02.2024', '08.02.2024', '08.02.2024', '08.02.2024', '08.02.2024', '08.02.2024', '08.02.2024', '08.02.2024', '08.02.2024', '08.02.2024', '08.02.2024', '08.02.2024', '08.02.2024', '08.02.2024', '08.02.2024', '08.02.2024', '08.02.2024', '08.02.2024', '08.02.2024', '08.02.2024', '08.02.2024', '08.02.2024', '08.02.2024', '08.02.2024', '08.02.2024', '08.02.2024', '08.02.2024', '08.02.2024', '08.02.2024', '08.02.2024', '08.02.2024', '08.02.2024', '08.02.2024', '08.02.2024', '08.02.2024', '08.02.2024', '08.02.2024', '08.02.2024', '08.02.2024', '08.02.2024', '08.02.2024', '08.02.2024', '08.02.2024', '08.02.2024', '08.02.2024', '08.02.2024', '08.02.2024', '08.02.2024', '08.02.2024', '08.02.2024', '08.02.2024', '08.02.2024', '08.02.2024', '08.02.2024', '08.02.2024', '08.02.2024', '08.02.2024', '08.02.2024', '08.02.2024', '08.02.2024', '08.02.2024', '08.02.2024', '08.02.2024', '08.02.2024', '08.02.2024', '08.02.2024', '08.02.2024', '08.02.2024', '08.02.2024', '08.02.2024', '08.02.2024', '08.02.2024', '08.02.2024', '08.02.2024', '08.02.2024', '08.02.2024', '08.02.2024', '08.02.2024', '08.02.2024', '08.02.2024', '08.02.2024', '08.02.2024', '08.02.2024', '08.02.2024', '08.02.2024', '08.02.2024', '08.02.2024', '08.02.2024', '08.02.2024', '08.02.2024', '08.02.2024', '08.02.2024', '08.02.2024', '08.02.2024', '08.02.2024', '08.02.2024', '08.02.2024', '08.02.2024', '08.02.2024', '08.02.2024', '08.02.2024', '08.02.2024', '08.02.2024', '08.02.2024', '08.02.2024', '08.02.2024', '08.02.2024', '08.02.2024', '08.02.2024', '08.02.2024', '08.02.2024', '08.02.2024', '08.02.2024', '08.02.2024', '08.02.2024', '08.02.2024', '08.02.2024', '08.02.2024', '08.02.2024', '08.02.2024', '08.02.2024', '08.02.2024', '08.02.2024', '08.02.2024', '08.02.2024', '08.02.2024', '08.02.2024', '08.02.2024', '08.02.2024', '08.02.2024', '08.02.2024', '08.02.2024', '08.02.2024', '08.02.2024', '08.02.2024', '08.02.2024', '08.02.2024', '08.02.2024', '08.02.2024', '08.02.2024', '08.02.2024', '08.02.2024', '08.02.2024', '08.02.2024', '08.02.2024', '08.02.2024', '08.02.2024', '08.02.2024', '08.02.2024', '08.02.2024', '08.02.2024', '08.02.2024', '08.02.2024', '08.02.2024', '08.02.2024', '08.02.2024', '08.02.2024', '08.02.2024', '08.02.2024', '08.02.2024', '08.02.2024', '08.02.2024', '08.02.2024', '08.02.2024', '08.02.2024', '08.02.2024', '08.02.2024', '08.02.2024', '08.02.2024', '08.02.2024', '08.02.2024', '08.02.2024', '08.02.2024', '08.02.2024', '08.02.2024', '08.02.2024', '08.02.2024', '08.02.2024', '08.02.2024', '08.02.2024', '08.02.2024', '08.02.2024', '08.02.2024', '08.02.2024', '08.02.2024', '08.02.2024', '08.02.2024', '08.02.2024', '08.02.2024', '08.02.2024', '08.02.2024', '08.02.2024', '08.02.2024', '08.02.2024', '08.02.2024', '08.02.2024', '08.02.2024', '08.02.2024', '08.02.2024', '08.02.2024', '08.02.2024', '08.02.2024', '08.02.2024', '08.02.2024', '08.02.2024', '08.02.2024', '08.02.2024', '08.02.2024', '08.02.2024', '08.02.2024', '08.02.2024', '08.02.2024', '08.02.2024', '08.02.2024', '08.02.2024', '08.02.2024', '08.02.2024', '08.02.2024', '08.02.2024', '08.02.2024', '08.02.2024', '08.02.2024', '08.02.2024', '08.02.2024', '08.02.2024', '08.02.2024', '08.02.2024', '08.02.2024', '08.02.2024', '08.02.2024', '08.02.2024', '08.02.2024', '08.02.2024', '08.02.2024', '08.02.2024', '08.02.2024', '08.02.2024', '08.02.2024', '08.02.2024', '08.02.2024', '08.02.2024', '08.02.2024', '08.02.2024', '08.02.2024', '08.02.2024', '08.02.2024', '08.02.2024', '08.02.2024', '08.02.2024', '08.02.2024', '08.02.2024', '08.02.2024', '08.02.2024', '08.02.2024', '08.02.2024', '08.02.2024', '08.02.2024', '08.02.2024', '08.02.2024', '08.02.2024', '08.02.2024', '08.02.2024', '08.02.2024', '08.02.2024', '08.02.2024', '08.02.2024', '08.02.2024', '08.02.2024', '08.02.2024', '08.02.2024', '08.02.2024', '08.02.2024', '08.02.2024', '08.02.2024', '08.02.2024', '08.02.2024', '08.02.2024', '08.02.2024', '08.02.2024', '08.02.2024', '08.02.2024', '08.02.2024', '08.02.2024', '08.02.2024', '08.02.2024', '08.02.2024', '08.02.2024', '08.02.2024', '08.02.2024', '08.02.2024', '08.02.2024', '08.02.2024', '08.02.2024', '08.02.2024', '08.02.2024', '08.02.2024', '08.02.2024', '08.02.2024', '08.02.2024', '08.02.2024', '08.02.2024', '08.02.2024', '08.02.2024', '08.02.2024', '08.02.2024', '08.02.2024', '08.02.2024', '08.02.2024', '08.02.2024', '08.02.2024', '08.02.2024', '08.02.2024', '08.02.2024', '08.02.2024', '08.02.2024', '08.02.2024', '08.02.2024', '08.02.2024', '08.02.2024', '08.02.2024', '08.02.2024', '08.02.2024', '08.02.2024', '08.02.2024', '08.02.2024', '08.02.2024', '08.02.2024', '08.02.2024', '08.02.2024', '08.02.2024', '08.02.2024', '08.02.2024', '08.02.2024', '08.02.2024', '08.02.2024', '08.02.2024', '08.02.2024', '08.02.2024', '08.02.2024', '08.02.2024', '08.02.2024', '08.02.2024', '08.02.2024', '08.02.2024', '08.02.2024', '08.02.2024', '08.02.2024', '08.02.2024', '08.02.2024', '08.02.2024', '08.02.2024', '08.02.2024', '08.02.2024', '08.02.2024', '08.02.2024', '08.02.2024', '08.02.2024', '08.02.2024', '08.02.2024', '08.02.2024', '08.02.2024', '08.02.2024', '08.02.2024', '08.02.2024', '08.02.2024', '08.02.2024', '08.02.2024', '08.02.2024', '08.02.2024', '08.02.2024', '08.02.2024', '08.02.2024', '08.02.2024', '08.02.2024', '08.02.2024', '08.02.2024', '08.02.2024', '08.02.2024', '08.02.2024', '08.02.2024', '08.02.2024', '08.02.2024', '08.02.2024', '08.02.2024', '08.02.2024', '08.02.2024', '08.02.2024', '08.02.2024', '08.02.2024', '08.02.2024', '08.02.2024', '08.02.2024']\n",
            "klucz: K, wartość: [10.39, 222.3, 684.1, 313.94, 988.56, 505.78, 813.42, 172.31, 493.72, 56.58, 615.28, 847.2, 880.0, 898.45, 195.6, 232.38, 22.35, 239.54, 267.43, 865.14, 717.52, 905.81, 622.07, 841.92, 257.9, 319.26, 709.58, 237.46, 366.72, 103.59, 8.97, 75.85, 87.08, 509.46, 169.83, 149.66, 898.36, 508.0, 140.95, 396.81, 451.37, 11.08, 186.17, 104.68, 529.76, 598.39, 690.67, 305.4, 89.87, 641.06, 578.92, 475.44, 456.12, 239.6, 450.69, 949.18, 713.81, 860.43, 691.74, 644.21, 494.02, 737.59, 34.67, 726.53, 223.79, 459.08, 302.48, 473.99, 809.57, 410.82, 747.68, 815.08, 513.0, 455.45, 109.91, 43.68, 20.01, 646.28, 422.19, 333.0, 342.52, 845.17, 340.41, 1.88, 297.34, 35.35, 112.77, 132.12, 392.87, 491.53, 514.13, 957.67, 920.99, 382.38, 578.51, 210.74, 612.64, 736.62, 215.81, 316.68, 996.75, 634.15, 858.39, 867.99, 298.45, 45.91, 426.99, 567.27, 53.06, 488.47, 919.53, 179.13, 405.51, 702.96, 850.58, 807.49, 571.21, 282.69, 79.72, 540.58, 105.91, 891.1, 434.67, 894.59, 713.97, 58.91, 502.76, 359.17, 907.33, 485.0, 82.56, 793.57, 735.98, 8.89, 646.32, 837.51, 412.63, 819.22, 878.38, 345.32, 65.0, 398.62, 454.38, 846.0, 785.28, 546.47, 236.7, 99.14, 62.83, 566.1, 18.95, 977.81, 565.75, 262.51, 368.46, 746.59, 307.16, 457.74, 245.52, 554.67, 142.76, 853.35, 505.34, 464.73, 717.36, 808.48, 45.82, 241.8, 910.87, 745.91, 926.0, 109.43, 456.8, 29.5, 792.58, 346.92, 3.76, 631.14, 599.9, 711.31, 461.61, 175.82, 747.97, 365.35, 358.43, 378.67, 286.54, 197.32, 368.14, 230.24, 676.48, 196.43, 611.32, 185.11, 228.4, 857.75, 617.41, 344.46, 41.41, 737.64, 30.51, 769.16, 494.29, 597.61, 556.57, 234.13, 897.11, 406.81, 634.06, 255.22, 796.54, 540.58, 633.94, 194.97, 331.13, 576.59, 653.12, 808.86, 902.05, 311.86, 986.94, 184.92, 526.32, 3.4, 154.29, 551.11, 873.31, 596.09, 261.97, 778.74, 809.95, 766.04, 195.99, 891.32, 604.13, 612.75, 856.56, 776.86, 452.01, 431.12, 409.17, 912.93, 444.03, 558.64, 377.41, 314.1, 270.64, 200.24, 561.31, 245.54, 352.41, 209.36, 216.66, 959.84, 524.93, 576.22, 108.07, 505.05, 344.17, 530.38, 325.91, 236.55, 331.99, 756.91, 308.86, 963.6, 936.81, 639.4, 597.1, 518.09, 284.78, 688.61, 326.53, 352.38, 438.7, 577.49, 391.74, 905.1, 157.44, 416.33, 949.36, 544.74, 869.48, 305.82, 613.27, 880.35, 820.39, 995.23, 158.01, 200.6, 971.98, 231.55, 981.11, 832.13, 720.53, 208.68, 354.31, 560.25, 550.03, 320.59, 312.79, 225.35, 142.92, 257.5, 672.45, 810.08, 861.92, 696.52, 638.36, 463.27, 335.58, 530.23, 983.99, 186.14, 662.92, 52.87, 687.99, 844.04, 835.16, 849.87, 589.92, 74.94, 404.08, 488.53, 212.0, 942.09, 513.06, 650.84, 253.27, 910.13, 264.06, 437.64, 884.54, 143.59, 947.54, 752.0, 294.38, 533.73, 140.33, 977.2, 966.8, 219.5, 183.02, 454.69, 18.19, 263.85, 924.6, 982.2, 683.36, 635.86, 45.3, 291.6, 787.44, 980.0, 406.56, 159.76, 686.3, 80.57, 364.03, 992.66, 826.91, 263.69, 820.82, 195.71, 45.2, 651.14, 63.79, 612.18, 157.57, 408.78, 951.05, 511.8, 833.33, 129.08, 941.45, 355.6, 577.21, 492.69, 969.21, 426.5, 836.36, 983.29, 258.0, 206.93, 302.92, 450.94, 486.83, 458.29, 536.71, 548.08, 969.59, 855.53, 651.3, 819.19, 517.49, 194.34, 234.53, 245.73, 334.71, 943.68, 311.49, 385.44, 302.11, 954.74, 654.78, 626.17, 215.78, 525.84, 351.14, 477.33, 746.93, 414.3, 63.51, 1.88, 362.59, 577.79, 286.3, 100.01, 817.77, 214.2, 902.01, 84.82, 293.25, 851.42, 920.77, 441.11, 175.42, 829.71, 735.48, 886.11, 693.21, 82.14, 599.16, 875.26, 373.87, 693.22, 191.26, 549.3, 712.28, 210.26, 929.93, 170.36, 352.32, 256.63, 932.56, 424.5, 27.94, 796.98, 858.69, 151.38, 965.19, 200.4, 726.19, 77.99, 623.05, 315.39, 106.13, 15.56, 723.44, 353.7, 22.07, 221.15, 256.01, 106.82, 343.34, 520.57, 877.57, 673.05, 864.32, 680.19, 269.66, 703.96, 320.92, 184.62, 36.22, 207.44, 959.39, 687.82, 611.11, 559.92, 288.51, 828.27, 805.0, 834.83, 318.43, 847.16, 286.36, 814.51, 462.67, 411.68, 961.76, 98.87, 333.77, 274.48, 882.38, 923.12, 388.18, 579.89, 993.6, 695.83, 666.88, 389.53, 562.93, 924.11, 531.88, 309.89, 41.25, 86.36, 842.67, 497.72, 597.13, 99.99, 745.51, 761.36, 28.53, 178.91, 685.05, 999.18, 689.86, 568.26, 718.88, 222.22, 696.13, 809.06, 820.63, 69.85, 259.05, 48.97, 442.98, 282.93, 6.7, 128.14, 415.67, 424.38, 918.16, 146.22, 259.96, 210.46, 594.8, 251.73, 963.99, 357.61, 81.53, 816.88, 220.33, 802.75, 610.13, 428.62, 629.28, 337.85, 192.95, 218.42, 946.32, 587.19, 524.51, 986.32, 514.06, 773.92, 116.55, 178.22, 678.35, 875.93, 409.72, 878.1, 216.78, 29.91, 486.02, 654.05, 982.66, 557.76, 478.65, 91.07, 576.11, 31.46, 418.46, 197.56, 149.53, 561.79, 352.9, 756.76, 378.83, 159.25, 302.21, 188.07, 420.25, 29.12, 106.14, 856.85, 20.44, 282.81, 259.3, 153.82, 688.86, 99.47, 92.5, 988.3, 512.78, 423.71, 354.49, 398.23, 243.92, 116.59, 76.17, 402.77, 101.41, 109.47, 255.24, 39.98, 804.59, 668.86, 437.9, 982.53, 527.44, 85.6, 552.38, 16.61, 670.95, 233.4, 218.45, 772.69, 8.94, 76.25, 30.44, 159.11, 773.53, 242.46, 378.28, 483.98, 998.87, 38.61, 243.7, 107.0, 602.56, 954.89, 311.52, 87.7, 362.76, 199.01, 954.75, 180.45, 333.48, 210.95, 60.56, 649.61, 502.14, 404.88, 558.23, 250.17, 475.72, 184.96, 304.69, 950.55, 704.23, 798.79, 153.57, 545.33, 923.49, 900.42, 952.7, 880.95, 854.84, 691.93, 396.02, 707.06, 232.1, 272.23, 23.4, 874.21, 920.92, 1.51, 308.04, 839.17, 572.29, 356.67, 253.93, 60.89, 737.98, 528.41, 567.53, 116.06, 659.03, 657.57, 598.38, 967.3, 414.38, 597.24, 630.78, 283.47, 825.77, 933.95, 267.32, 255.91, 625.99, 601.92, 631.13, 302.01, 448.05, 875.97, 597.79, 581.68, 337.86, 851.63, 740.93, 971.41, 126.22, 425.64, 61.58, 627.43, 722.95, 43.73, 469.2, 392.86, 45.57, 751.25, 640.74, 593.83, 103.77, 958.07, 364.43, 993.27, 641.33, 416.32, 486.71, 772.43, 492.43, 40.25, 403.22, 82.8, 12.23, 951.04, 626.49, 748.23, 948.85, 445.61]\n",
            "klucz: S, wartość: [561.06, 14227.2, 50623.4, 5964.86, 44485.2, 8092.48, 6507.36, 11544.77, 17773.92, 4696.14, 17227.84, 66081.6, 40480.0, 63789.95, 3325.2, 1859.04, 715.2, 22516.76, 22998.98, 46717.56, 65294.32, 64312.51, 25504.87, 64827.84, 10058.1, 26179.32, 49670.6, 19709.18, 25303.68, 10255.41, 269.1, 3868.35, 1654.52, 24454.08, 4755.24, 8081.64, 44019.64, 12700.0, 9866.5, 13888.35, 35206.86, 310.24, 8377.65, 3454.44, 46089.12, 10771.02, 46965.56, 6108.0, 7908.56, 35899.36, 38787.64, 24247.44, 7297.92, 8386.0, 27942.78, 42713.1, 27124.78, 74857.41, 63640.08, 56046.27, 47425.92, 70071.05, 3154.97, 70473.41, 13203.61, 22494.92, 27223.2, 1421.97, 39668.93, 5751.48, 61309.76, 81508.0, 21546.0, 43267.75, 4176.58, 2271.36, 760.38, 51056.12, 42219.0, 4995.0, 15413.4, 65923.26, 10893.12, 129.72, 28544.64, 141.4, 10825.92, 12683.52, 33786.82, 36373.22, 8226.08, 66079.23, 44207.52, 10706.64, 578.51, 13908.84, 33695.2, 63349.32, 9279.83, 950.04, 37876.5, 1268.3, 2575.17, 70307.19, 5670.55, 1423.21, 14090.67, 3403.62, 3130.54, 8792.46, 51493.68, 5553.03, 35279.37, 56939.76, 51034.8, 54909.32, 55978.58, 22332.51, 7254.52, 54058.0, 847.28, 29406.3, 37381.62, 53675.4, 23561.01, 2886.59, 35695.96, 11493.44, 63513.1, 32010.0, 3219.84, 36504.22, 60350.36, 631.19, 8402.16, 35175.42, 31359.88, 19661.28, 51824.42, 29006.88, 4550.0, 30295.12, 27717.18, 15228.0, 10208.64, 52461.12, 18936.0, 2379.36, 879.62, 11322.0, 1155.95, 29334.3, 11880.75, 21263.31, 4789.98, 35836.32, 29487.36, 32041.8, 24060.96, 27733.5, 4425.56, 47787.6, 5053.4, 29742.72, 32281.2, 70337.76, 1741.16, 6286.8, 62850.03, 39533.23, 49078.0, 2954.61, 18728.8, 2743.5, 16644.18, 31222.8, 323.36, 38499.54, 7198.8, 39833.36, 31389.48, 1582.38, 2243.91, 31785.45, 28674.4, 35594.98, 23496.28, 11839.2, 4049.54, 13814.4, 46000.64, 10017.93, 25675.44, 2776.65, 11420.0, 37741.0, 59888.77, 27901.26, 3437.03, 62699.4, 1800.09, 33843.04, 29163.11, 14342.64, 26158.79, 21071.7, 26913.3, 23188.17, 58333.52, 11229.68, 63723.2, 28650.74, 4437.58, 14622.75, 30132.83, 29982.68, 43759.04, 19412.64, 36984.05, 18711.6, 32569.02, 5177.76, 13684.32, 149.6, 10491.72, 23697.73, 76851.28, 59609.0, 21219.57, 39715.74, 37257.7, 24513.28, 7251.63, 10695.84, 16311.51, 14093.25, 66811.68, 44281.02, 12656.28, 28453.92, 18003.48, 27387.9, 39518.67, 48043.04, 8303.02, 28897.2, 18132.88, 18221.84, 8419.65, 6384.04, 28545.21, 17586.24, 14732.88, 76787.2, 30445.94, 4033.54, 2593.68, 27272.7, 11013.44, 31292.42, 32265.09, 2128.95, 19255.42, 44657.69, 27179.68, 50107.2, 7494.48, 10869.8, 37617.3, 7771.35, 17086.8, 47514.09, 17306.09, 31361.82, 40360.4, 19634.66, 18020.04, 45255.0, 3463.68, 17069.53, 7594.88, 46302.9, 75644.76, 11315.34, 7972.51, 80111.85, 38558.33, 22890.29, 8690.55, 5817.4, 69010.58, 18060.9, 67696.59, 50759.93, 64847.7, 13564.2, 354.31, 40338.0, 32451.77, 19876.58, 10009.28, 676.05, 8289.36, 10042.5, 32950.05, 42934.24, 24133.76, 25074.72, 39578.32, 41694.3, 22483.86, 5302.3, 7871.92, 17869.44, 19224.68, 2273.41, 63295.08, 31229.48, 42593.16, 26345.97, 43064.16, 1798.56, 34346.8, 17587.08, 20564.0, 57467.49, 9748.14, 60528.12, 506.54, 50057.15, 18748.26, 28446.6, 29189.82, 12205.15, 22740.96, 55648.0, 16779.66, 46968.24, 9682.77, 87948.0, 81211.2, 7682.5, 16837.84, 14550.08, 1691.67, 13192.5, 50853.0, 44199.0, 43735.04, 48961.22, 634.2, 23036.4, 48821.28, 18620.0, 28865.76, 2076.88, 41178.0, 4592.49, 1820.15, 87354.08, 7442.19, 16085.09, 42682.64, 13895.41, 4429.6, 53393.48, 5166.99, 18977.58, 1418.13, 35972.64, 83692.4, 40944.0, 29166.55, 9810.08, 54604.1, 10312.4, 54834.95, 33502.92, 16476.57, 25590.0, 52690.68, 41298.18, 3096.0, 17795.98, 26656.96, 22997.94, 11683.92, 31163.72, 4293.68, 46038.72, 32966.06, 60742.63, 5210.4, 40959.5, 37776.77, 15935.88, 13368.21, 8109.09, 8702.46, 29254.08, 6852.78, 35845.92, 28700.45, 4773.7, 36667.68, 50093.6, 8415.42, 6835.92, 4915.96, 45823.68, 59754.4, 1657.2, 4064.64, 47.0, 17766.91, 31778.45, 6871.2, 100.01, 67874.91, 5140.8, 67650.75, 3138.34, 15835.5, 82587.74, 41434.65, 36612.13, 14910.7, 72184.77, 63251.28, 64686.03, 61695.69, 8049.72, 58717.68, 84024.96, 8225.14, 30501.68, 11666.86, 48338.4, 49859.6, 6938.58, 12089.09, 14139.88, 23253.12, 24893.11, 81132.72, 32686.5, 167.64, 3187.92, 24902.01, 11807.64, 83006.34, 13426.8, 70440.43, 5771.26, 58566.7, 6938.58, 4139.07, 202.28, 16639.12, 6012.9, 264.84, 9288.3, 1280.05, 7797.86, 3090.06, 7287.98, 73715.88, 50478.75, 6050.24, 1360.38, 1617.96, 5631.68, 20859.8, 12184.92, 2028.32, 9542.24, 42213.16, 49523.04, 6722.21, 17917.44, 21061.23, 43070.04, 21735.0, 80143.68, 11145.05, 66925.64, 25199.68, 26878.83, 19432.14, 15643.84, 91367.2, 2471.75, 18023.58, 17566.72, 45001.38, 72926.48, 14362.66, 31893.95, 93398.4, 61233.04, 42680.32, 16749.79, 46723.19, 9241.1, 47337.32, 3408.79, 3547.5, 3022.6, 83424.33, 6968.08, 23885.2, 9199.08, 15655.71, 22840.8, 513.54, 13776.07, 10275.75, 56953.26, 54498.94, 19320.84, 53916.0, 17333.16, 6961.3, 62297.62, 28722.05, 3562.35, 15283.95, 2546.44, 40754.16, 11034.27, 281.4, 11660.74, 24108.86, 5516.94, 79879.92, 9796.74, 13517.92, 19993.7, 44015.2, 21648.78, 1927.98, 15377.23, 6848.52, 64533.52, 8152.21, 55389.75, 38438.19, 23145.48, 6922.08, 19595.3, 19295.0, 3276.3, 88954.08, 22900.41, 17833.34, 97645.68, 28787.36, 13930.56, 1398.6, 3920.84, 67835.0, 4379.65, 9013.84, 71126.1, 15824.94, 2243.25, 13122.54, 54940.2, 61907.58, 25656.96, 34941.45, 7285.6, 42632.14, 220.22, 23015.3, 5136.56, 4186.84, 34830.98, 29290.7, 74162.48, 757.66, 1751.75, 24479.01, 8839.29, 18911.25, 1805.44, 3927.18, 66834.3, 797.16, 25452.9, 12446.4, 12305.6, 61997.4, 6664.49, 6845.0, 44473.5, 17434.52, 36439.06, 5317.35, 33849.55, 21708.88, 4197.24, 761.7, 8458.17, 9633.95, 2846.22, 23992.56, 3038.48, 63562.61, 54846.52, 35469.9, 52074.09, 527.44, 2910.4, 23752.34, 132.88, 26838.0, 17271.6, 4805.9, 27044.15, 151.98, 4727.5, 1187.16, 1272.88, 17791.19, 15759.9, 16266.04, 23231.04, 26969.49, 1351.35, 21689.3, 2782.0, 51820.16, 17188.02, 28971.36, 4034.2, 3627.6, 19701.99, 93565.5, 6496.2, 15340.08, 1898.55, 5510.96, 24035.57, 2008.56, 30770.88, 39634.33, 500.34, 30446.08, 7768.32, 26203.34, 47527.5, 14084.6, 69494.73, 10135.62, 28902.49, 87731.55, 20709.66, 27628.3, 51095.1, 34193.6, 2075.79, 24949.26, 31110.64, 17175.4, 8711.36, 772.2, 5245.26, 27627.6, 119.29, 1848.24, 36084.31, 6295.19, 35310.33, 24885.14, 1765.81, 11069.7, 46500.08, 15890.84, 3133.62, 54699.49, 38796.63, 16156.26, 77384.0, 36879.82, 21500.64, 49831.62, 24094.95, 58629.67, 34556.15, 13366.0, 9724.58, 19405.69, 34309.44, 47965.88, 604.02, 16129.8, 11387.61, 59779.0, 5816.8, 25001.64, 851.63, 5927.44, 38856.4, 2271.96, 13194.84, 1662.66, 33253.79, 40485.2, 1924.12, 36597.6, 34571.68, 2825.34, 71368.75, 8970.36, 23753.2, 5603.58, 28742.1, 27332.25, 3973.08, 15391.92, 2081.6, 30176.02, 72608.42, 40379.26, 1730.75, 24596.42, 5299.2, 48.92, 51356.16, 44480.79, 10475.22, 88243.05, 4010.49]\n",
            "klucz: O, wartość: ['Patryk Heleniak, +48 22 280 08 80, +48764832667, radoslawflieger@example.net', 'Anna Maria Ostapiuk, 780 943 227, +48142178674, konrad81@example.org', 'Klara Chaba, +48 881 200 048, +48829840251, damianusarek@example.com', 'Anna Maria Ostapiuk, 780 943 227, +48142178674, konrad81@example.org', 'pan Konrad Haremza, 660 731 218, +48913069161, ignacy55@example.net', 'pan Konrad Haremza, 660 731 218, +48913069161, ignacy55@example.net', 'Anna Maria Ostapiuk, 780 943 227, +48142178674, konrad81@example.org', 'Daniel Tatarczuk, 508 960 948, +48171760464, xstrojna@example.net', 'pani Malwina Ulewicz, 789 845 711, +48593065851, bguziak@example.com', 'Damian Komisarczyk, +48 515 983 413, +48612758528, djuroszek@example.org', 'Damian Komisarczyk, +48 515 983 413, +48612758528, djuroszek@example.org', 'pani Marcelina Borysiuk, 884 343 002, +48149583744, roterkonrad@example.org', 'Tomasz Buszka, 22 128 18 46, +48905744652, idabogaczyk@example.org', 'Oskar Brzęk, +48 794 994 432, +48580693211, mroter@example.org', 'Natan Ćwierz, +48 600 441 572, +48879387414, paweldymarczyk@example.org', 'pani Bianka Mirgos, +48 22 579 16 54, +48861999389, krystynanoculak@example.net', 'pani Bianka Mirgos, +48 22 579 16 54, +48861999389, krystynanoculak@example.net', 'Natan Ćwierz, +48 600 441 572, +48879387414, paweldymarczyk@example.org', 'Tomasz Buszka, 22 128 18 46, +48905744652, idabogaczyk@example.org', 'Natan Ćwierz, +48 600 441 572, +48879387414, paweldymarczyk@example.org', 'Tobiasz Grycz, 886 861 426, +48108589467, krystyna82@example.net', 'Oskar Brzęk, +48 794 994 432, +48580693211, mroter@example.org', 'pan Mikołaj Jop, 32 101 47 82, +48758981428, proszkiewicz@example.net', 'Tobiasz Lazarek, +48 32 662 73 37, +48672030888, rozaliatomaszkiewicz@example.net', 'pan Mikołaj Jop, 32 101 47 82, +48758981428, proszkiewicz@example.net', 'Krystyna Proch, 797 066 378, +48654462896, krystianzyga@example.com', 'Robert Uroda, +48 889 625 182, +48220267176, szymanczykjedrzej@example.com', 'pan Kazimierz Stempel, +48 736 825 431, +48418737301, cezarynowotny@example.com', 'pani Ada Gmurczyk, +48 22 347 28 46, +48792754316, kucielroksana@example.net', 'pan Kazimierz Stempel, +48 736 825 431, +48418737301, cezarynowotny@example.com', 'Robert Uroda, +48 889 625 182, +48220267176, szymanczykjedrzej@example.com', 'pan Kazimierz Stempel, +48 736 825 431, +48418737301, cezarynowotny@example.com', 'pan Kazimierz Stempel, +48 736 825 431, +48418737301, cezarynowotny@example.com', 'pan Mikołaj Jop, 32 101 47 82, +48758981428, proszkiewicz@example.net', 'Krystyna Proch, 797 066 378, +48654462896, krystianzyga@example.com', 'Stanisław Lindner, 607 411 607, +48883598059, jamrozekgabriel@example.com', 'Dariusz Dorynek, 22 893 01 37, +48388805132, krystyna97@example.com', 'Robert Uroda, +48 889 625 182, +48220267176, szymanczykjedrzej@example.com', 'Robert Uroda, +48 889 625 182, +48220267176, szymanczykjedrzej@example.com', 'Robert Uroda, +48 889 625 182, +48220267176, szymanczykjedrzej@example.com', 'pani Ada Gmurczyk, +48 22 347 28 46, +48792754316, kucielroksana@example.net', 'Krystyna Proch, 797 066 378, +48654462896, krystianzyga@example.com', 'Ernest Burnat, +48 536 455 699, +48108155365, alexsadlocha@example.com', 'Ernest Burnat, +48 536 455 699, +48108155365, alexsadlocha@example.com', 'Robert Uroda, +48 889 625 182, +48220267176, szymanczykjedrzej@example.com', 'Krystyna Proch, 797 066 378, +48654462896, krystianzyga@example.com', 'pani Ada Gmurczyk, +48 22 347 28 46, +48792754316, kucielroksana@example.net', 'pan Kazimierz Stempel, +48 736 825 431, +48418737301, cezarynowotny@example.com', 'Krystyna Proch, 797 066 378, +48654462896, krystianzyga@example.com', 'Stanisław Lindner, 607 411 607, +48883598059, jamrozekgabriel@example.com', 'Julian Kudłacik, +48 539 591 995, +48245439455, fogielmalwina@example.com', 'Robert Uroda, +48 889 625 182, +48220267176, szymanczykjedrzej@example.com', 'pan Mikołaj Jop, 32 101 47 82, +48758981428, proszkiewicz@example.net', 'Ernest Burnat, +48 536 455 699, +48108155365, alexsadlocha@example.com', 'Ernest Burnat, +48 536 455 699, +48108155365, alexsadlocha@example.com', 'Robert Uroda, +48 889 625 182, +48220267176, szymanczykjedrzej@example.com', 'pan Kazimierz Stempel, +48 736 825 431, +48418737301, cezarynowotny@example.com', 'pan Mikołaj Jop, 32 101 47 82, +48758981428, proszkiewicz@example.net', 'Ernest Burnat, +48 536 455 699, +48108155365, alexsadlocha@example.com', 'Julian Kudłacik, +48 539 591 995, +48245439455, fogielmalwina@example.com', 'Robert Uroda, +48 889 625 182, +48220267176, szymanczykjedrzej@example.com', 'Stanisław Lindner, 607 411 607, +48883598059, jamrozekgabriel@example.com', 'Robert Uroda, +48 889 625 182, +48220267176, szymanczykjedrzej@example.com', 'Robert Uroda, +48 889 625 182, +48220267176, szymanczykjedrzej@example.com', 'Tobiasz Lazarek, +48 32 662 73 37, +48672030888, rozaliatomaszkiewicz@example.net', 'Robert Uroda, +48 889 625 182, +48220267176, szymanczykjedrzej@example.com', 'pan Mikołaj Jop, 32 101 47 82, +48758981428, proszkiewicz@example.net', 'Ernest Burnat, +48 536 455 699, +48108155365, alexsadlocha@example.com', 'Dariusz Dorynek, 22 893 01 37, +48388805132, krystyna97@example.com', 'Ernest Burnat, +48 536 455 699, +48108155365, alexsadlocha@example.com', 'Ernest Burnat, +48 536 455 699, +48108155365, alexsadlocha@example.com', 'Dariusz Dorynek, 22 893 01 37, +48388805132, krystyna97@example.com', 'pan Kazimierz Stempel, +48 736 825 431, +48418737301, cezarynowotny@example.com', 'Julian Kudłacik, +48 539 591 995, +48245439455, fogielmalwina@example.com', 'Stanisław Lindner, 607 411 607, +48883598059, jamrozekgabriel@example.com', 'Ernest Burnat, +48 536 455 699, +48108155365, alexsadlocha@example.com', 'Ernest Burnat, +48 536 455 699, +48108155365, alexsadlocha@example.com', 'Robert Uroda, +48 889 625 182, +48220267176, szymanczykjedrzej@example.com', 'pan Kazimierz Stempel, +48 736 825 431, +48418737301, cezarynowotny@example.com', 'pan Mikołaj Jop, 32 101 47 82, +48758981428, proszkiewicz@example.net', 'Robert Uroda, +48 889 625 182, +48220267176, szymanczykjedrzej@example.com', 'Julian Kudłacik, +48 539 591 995, +48245439455, fogielmalwina@example.com', 'Dariusz Dorynek, 22 893 01 37, +48388805132, krystyna97@example.com', 'Ernest Burnat, +48 536 455 699, +48108155365, alexsadlocha@example.com', 'pan Kazimierz Stempel, +48 736 825 431, +48418737301, cezarynowotny@example.com', 'Stanisław Lindner, 607 411 607, +48883598059, jamrozekgabriel@example.com', 'pan Mikołaj Jop, 32 101 47 82, +48758981428, proszkiewicz@example.net', 'Krystyna Proch, 797 066 378, +48654462896, krystianzyga@example.com', 'pan Kazimierz Stempel, +48 736 825 431, +48418737301, cezarynowotny@example.com', 'pan Mikołaj Jop, 32 101 47 82, +48758981428, proszkiewicz@example.net', 'Stanisław Lindner, 607 411 607, +48883598059, jamrozekgabriel@example.com', 'Stanisław Lindner, 607 411 607, +48883598059, jamrozekgabriel@example.com', 'Robert Uroda, +48 889 625 182, +48220267176, szymanczykjedrzej@example.com', 'Dariusz Dorynek, 22 893 01 37, +48388805132, krystyna97@example.com', 'pani Ada Gmurczyk, +48 22 347 28 46, +48792754316, kucielroksana@example.net', 'Julian Kudłacik, +48 539 591 995, +48245439455, fogielmalwina@example.com', 'Krystyna Proch, 797 066 378, +48654462896, krystianzyga@example.com', 'Tobiasz Lazarek, +48 32 662 73 37, +48672030888, rozaliatomaszkiewicz@example.net', 'Ernest Burnat, +48 536 455 699, +48108155365, alexsadlocha@example.com', 'Krystyna Proch, 797 066 378, +48654462896, krystianzyga@example.com', 'pan Kazimierz Stempel, +48 736 825 431, +48418737301, cezarynowotny@example.com', 'Tobiasz Lazarek, +48 32 662 73 37, +48672030888, rozaliatomaszkiewicz@example.net', 'Tobiasz Lazarek, +48 32 662 73 37, +48672030888, rozaliatomaszkiewicz@example.net', 'pan Mikołaj Jop, 32 101 47 82, +48758981428, proszkiewicz@example.net', 'pan Kazimierz Stempel, +48 736 825 431, +48418737301, cezarynowotny@example.com', 'Ernest Burnat, +48 536 455 699, +48108155365, alexsadlocha@example.com', 'pan Mikołaj Jop, 32 101 47 82, +48758981428, proszkiewicz@example.net', 'Stanisław Lindner, 607 411 607, +48883598059, jamrozekgabriel@example.com', 'pan Mikołaj Jop, 32 101 47 82, +48758981428, proszkiewicz@example.net', 'Stanisław Lindner, 607 411 607, +48883598059, jamrozekgabriel@example.com', 'Dariusz Dorynek, 22 893 01 37, +48388805132, krystyna97@example.com', 'Dariusz Dorynek, 22 893 01 37, +48388805132, krystyna97@example.com', 'pan Mikołaj Jop, 32 101 47 82, +48758981428, proszkiewicz@example.net', 'Robert Uroda, +48 889 625 182, +48220267176, szymanczykjedrzej@example.com', 'pan Kazimierz Stempel, +48 736 825 431, +48418737301, cezarynowotny@example.com', 'Stanisław Lindner, 607 411 607, +48883598059, jamrozekgabriel@example.com', 'Dariusz Dorynek, 22 893 01 37, +48388805132, krystyna97@example.com', 'Krystyna Proch, 797 066 378, +48654462896, krystianzyga@example.com', 'Ernest Burnat, +48 536 455 699, +48108155365, alexsadlocha@example.com', 'Krystyna Proch, 797 066 378, +48654462896, krystianzyga@example.com', 'pani Ada Gmurczyk, +48 22 347 28 46, +48792754316, kucielroksana@example.net', 'Dariusz Dorynek, 22 893 01 37, +48388805132, krystyna97@example.com', 'Leon Serwach, +48 22 267 08 60, +48930201323, raleksandrzak@example.com', 'Ernest Brózda, 32 082 82 33, +48460592582, kostroemil@example.org', 'pan Błażej Potęga, 736 987 453, +48981950295, aniela90@example.com', 'Dagmara Ścieszka, 795 372 530, +48239552279, miloszskalka@example.net', 'Alex Kazior, +48 505 654 176, +48737874961, kszmurlo@example.org', 'Ernest Brózda, 32 082 82 33, +48460592582, kostroemil@example.org', 'Alex Kazior, +48 505 654 176, +48737874961, kszmurlo@example.org', 'Aleksander Labudda, +48 32 744 52 62, +48117888438, piesikradoslaw@example.org', 'Leon Serwach, +48 22 267 08 60, +48930201323, raleksandrzak@example.com', 'Iwo Okła, 504 808 267, +48295613745, oskarszybiak@example.org', 'pan Błażej Potęga, 736 987 453, +48981950295, aniela90@example.com', 'Leon Serwach, +48 22 267 08 60, +48930201323, raleksandrzak@example.com', 'Iwo Okła, 504 808 267, +48295613745, oskarszybiak@example.org', 'Aleksander Labudda, +48 32 744 52 62, +48117888438, piesikradoslaw@example.org', 'Łukasz Byra, +48 22 902 97 44, +48276049284, folgaaleksander@example.net', 'Aleksander Labudda, +48 32 744 52 62, +48117888438, piesikradoslaw@example.org', 'Cezary Garczarek, +48 666 470 899, +48225107350, dominik26@example.com', 'Cezary Garczarek, +48 666 470 899, +48225107350, dominik26@example.com', 'Leon Serwach, +48 22 267 08 60, +48930201323, raleksandrzak@example.com', 'Łukasz Byra, +48 22 902 97 44, +48276049284, folgaaleksander@example.net', 'Łukasz Byra, +48 22 902 97 44, +48276049284, folgaaleksander@example.net', 'Iwo Okła, 504 808 267, +48295613745, oskarszybiak@example.org', 'Łukasz Byra, +48 22 902 97 44, +48276049284, folgaaleksander@example.net', 'Łukasz Byra, +48 22 902 97 44, +48276049284, folgaaleksander@example.net', 'Łukasz Byra, +48 22 902 97 44, +48276049284, folgaaleksander@example.net', 'Leon Serwach, +48 22 267 08 60, +48930201323, raleksandrzak@example.com', 'Łukasz Byra, +48 22 902 97 44, +48276049284, folgaaleksander@example.net', 'Iwo Okła, 504 808 267, +48295613745, oskarszybiak@example.org', 'Dagmara Ścieszka, 795 372 530, +48239552279, miloszskalka@example.net', 'pan Błażej Potęga, 736 987 453, +48981950295, aniela90@example.com', 'Dagmara Ścieszka, 795 372 530, +48239552279, miloszskalka@example.net', 'Dagmara Ścieszka, 795 372 530, +48239552279, miloszskalka@example.net', 'Alex Kazior, +48 505 654 176, +48737874961, kszmurlo@example.org', 'Aleksander Labudda, +48 32 744 52 62, +48117888438, piesikradoslaw@example.org', 'Alex Kazior, +48 505 654 176, +48737874961, kszmurlo@example.org', 'Łukasz Byra, +48 22 902 97 44, +48276049284, folgaaleksander@example.net', 'Aleksander Labudda, +48 32 744 52 62, +48117888438, piesikradoslaw@example.org', 'Leon Serwach, +48 22 267 08 60, +48930201323, raleksandrzak@example.com', 'Ernest Brózda, 32 082 82 33, +48460592582, kostroemil@example.org', 'Dagmara Ścieszka, 795 372 530, +48239552279, miloszskalka@example.net', 'Leon Serwach, +48 22 267 08 60, +48930201323, raleksandrzak@example.com', 'Łukasz Byra, +48 22 902 97 44, +48276049284, folgaaleksander@example.net', 'Cezary Garczarek, +48 666 470 899, +48225107350, dominik26@example.com', 'Alex Kazior, +48 505 654 176, +48737874961, kszmurlo@example.org', 'Aleksander Labudda, +48 32 744 52 62, +48117888438, piesikradoslaw@example.org', 'pan Błażej Potęga, 736 987 453, +48981950295, aniela90@example.com', 'Aleksander Labudda, +48 32 744 52 62, +48117888438, piesikradoslaw@example.org', 'Dagmara Ścieszka, 795 372 530, +48239552279, miloszskalka@example.net', 'Alex Kazior, +48 505 654 176, +48737874961, kszmurlo@example.org', 'Iwo Okła, 504 808 267, +48295613745, oskarszybiak@example.org', 'Łukasz Byra, +48 22 902 97 44, +48276049284, folgaaleksander@example.net', 'Cezary Garczarek, +48 666 470 899, +48225107350, dominik26@example.com', 'Tadeusz Rudyk, 780 103 450, +48143856550, olga09@example.net', 'Cezary Garczarek, +48 666 470 899, +48225107350, dominik26@example.com', 'Dagmara Ścieszka, 795 372 530, +48239552279, miloszskalka@example.net', 'Ernest Brózda, 32 082 82 33, +48460592582, kostroemil@example.org', 'Leon Serwach, +48 22 267 08 60, +48930201323, raleksandrzak@example.com', 'Alex Kazior, +48 505 654 176, +48737874961, kszmurlo@example.org', 'Tadeusz Rudyk, 780 103 450, +48143856550, olga09@example.net', 'Dagmara Ścieszka, 795 372 530, +48239552279, miloszskalka@example.net', 'Aleksander Labudda, +48 32 744 52 62, +48117888438, piesikradoslaw@example.org', 'Aleksander Labudda, +48 32 744 52 62, +48117888438, piesikradoslaw@example.org', 'Tadeusz Rudyk, 780 103 450, +48143856550, olga09@example.net', 'Łukasz Byra, +48 22 902 97 44, +48276049284, folgaaleksander@example.net', 'Tadeusz Rudyk, 780 103 450, +48143856550, olga09@example.net', 'Łukasz Byra, +48 22 902 97 44, +48276049284, folgaaleksander@example.net', 'Ernest Brózda, 32 082 82 33, +48460592582, kostroemil@example.org', 'Łukasz Byra, +48 22 902 97 44, +48276049284, folgaaleksander@example.net', 'Łukasz Byra, +48 22 902 97 44, +48276049284, folgaaleksander@example.net', 'Cezary Garczarek, +48 666 470 899, +48225107350, dominik26@example.com', 'Iwo Okła, 504 808 267, +48295613745, oskarszybiak@example.org', 'Alex Kazior, +48 505 654 176, +48737874961, kszmurlo@example.org', 'Leon Serwach, +48 22 267 08 60, +48930201323, raleksandrzak@example.com', 'Dagmara Ścieszka, 795 372 530, +48239552279, miloszskalka@example.net', 'Alex Kazior, +48 505 654 176, +48737874961, kszmurlo@example.org', 'Leon Serwach, +48 22 267 08 60, +48930201323, raleksandrzak@example.com', 'Iwo Okła, 504 808 267, +48295613745, oskarszybiak@example.org', 'Aleksander Labudda, +48 32 744 52 62, +48117888438, piesikradoslaw@example.org', 'Dagmara Ścieszka, 795 372 530, +48239552279, miloszskalka@example.net', 'Leon Serwach, +48 22 267 08 60, +48930201323, raleksandrzak@example.com', 'Ernest Brózda, 32 082 82 33, +48460592582, kostroemil@example.org', 'Leon Serwach, +48 22 267 08 60, +48930201323, raleksandrzak@example.com', 'Ernest Brózda, 32 082 82 33, +48460592582, kostroemil@example.org', 'Alex Kazior, +48 505 654 176, +48737874961, kszmurlo@example.org', 'Łukasz Byra, +48 22 902 97 44, +48276049284, folgaaleksander@example.net', 'Dagmara Ścieszka, 795 372 530, +48239552279, miloszskalka@example.net', 'Aleksander Labudda, +48 32 744 52 62, +48117888438, piesikradoslaw@example.org', 'Iwo Okła, 504 808 267, +48295613745, oskarszybiak@example.org', 'Alex Kazior, +48 505 654 176, +48737874961, kszmurlo@example.org', 'Ernest Brózda, 32 082 82 33, +48460592582, kostroemil@example.org', 'Cezary Garczarek, +48 666 470 899, +48225107350, dominik26@example.com', 'Cezary Garczarek, +48 666 470 899, +48225107350, dominik26@example.com', 'Leon Serwach, +48 22 267 08 60, +48930201323, raleksandrzak@example.com', 'Cezary Garczarek, +48 666 470 899, +48225107350, dominik26@example.com', 'Tadeusz Rudyk, 780 103 450, +48143856550, olga09@example.net', 'Alex Kazior, +48 505 654 176, +48737874961, kszmurlo@example.org', 'Aleksander Labudda, +48 32 744 52 62, +48117888438, piesikradoslaw@example.org', 'Iwo Okła, 504 808 267, +48295613745, oskarszybiak@example.org', 'Iwo Okła, 504 808 267, +48295613745, oskarszybiak@example.org', 'Leon Serwach, +48 22 267 08 60, +48930201323, raleksandrzak@example.com', 'Rozalia Dąbrówka, 792 124 185, +48707456789, krzysztofmroczko@example.net', 'Dorota Bakalarczyk, +48 881 689 033, +48506167447, kalinawakula@example.com', 'Urszula Becker, +48 886 397 826, +48591340205, srogamarika@example.net', 'Urszula Jędrasiak, 723 835 174, +48146002736, kajetan83@example.net', 'Ernest Franiak, 690 280 488, +48580473934, ufnalandrzej@example.org', 'Urszula Jędrasiak, 723 835 174, +48146002736, kajetan83@example.net', 'Ernest Franiak, 690 280 488, +48580473934, ufnalandrzej@example.org', 'Malwina Pokrzywa, +48 729 740 585, +48111752653, dabrowkajakub@example.com', 'Dariusz Taranek, +48 728 552 164, +48118840912, jedrzej66@example.com', 'Marcelina Patyna, 508 774 763, +48893269378, juliannakolesnik@example.org', 'Ernest Franiak, 690 280 488, +48580473934, ufnalandrzej@example.org', 'Rozalia Dąbrówka, 792 124 185, +48707456789, krzysztofmroczko@example.net', 'Franciszek Gramza, +48 782 253 332, +48139957585, kazimierz17@example.net', 'Malwina Pokrzywa, +48 729 740 585, +48111752653, dabrowkajakub@example.com', 'Urszula Jędrasiak, 723 835 174, +48146002736, kajetan83@example.net', 'Malwina Pokrzywa, +48 729 740 585, +48111752653, dabrowkajakub@example.com', 'Rozalia Dąbrówka, 792 124 185, +48707456789, krzysztofmroczko@example.net', 'Dariusz Taranek, +48 728 552 164, +48118840912, jedrzej66@example.com', 'Marcelina Patyna, 508 774 763, +48893269378, juliannakolesnik@example.org', 'Malwina Pokrzywa, +48 729 740 585, +48111752653, dabrowkajakub@example.com', 'Urszula Jędrasiak, 723 835 174, +48146002736, kajetan83@example.net', 'Rozalia Dąbrówka, 792 124 185, +48707456789, krzysztofmroczko@example.net', 'Franciszek Gramza, +48 782 253 332, +48139957585, kazimierz17@example.net', 'Dorota Bakalarczyk, +48 881 689 033, +48506167447, kalinawakula@example.com', 'Bianka Dubel, +48 722 951 615, +48392172198, szczepanksawery@example.org', 'Bianka Dubel, +48 722 951 615, +48392172198, szczepanksawery@example.org', 'Malwina Pokrzywa, +48 729 740 585, +48111752653, dabrowkajakub@example.com', 'Ernest Franiak, 690 280 488, +48580473934, ufnalandrzej@example.org', 'Ernest Franiak, 690 280 488, +48580473934, ufnalandrzej@example.org', 'Urszula Becker, +48 886 397 826, +48591340205, srogamarika@example.net', 'Dariusz Taranek, +48 728 552 164, +48118840912, jedrzej66@example.com', 'Urszula Jędrasiak, 723 835 174, +48146002736, kajetan83@example.net', 'Rozalia Dąbrówka, 792 124 185, +48707456789, krzysztofmroczko@example.net', 'Marcelina Patyna, 508 774 763, +48893269378, juliannakolesnik@example.org', 'Rozalia Dąbrówka, 792 124 185, +48707456789, krzysztofmroczko@example.net', 'Malwina Pokrzywa, +48 729 740 585, +48111752653, dabrowkajakub@example.com', 'Urszula Jędrasiak, 723 835 174, +48146002736, kajetan83@example.net', 'Bianka Dubel, +48 722 951 615, +48392172198, szczepanksawery@example.org', 'Ernest Franiak, 690 280 488, +48580473934, ufnalandrzej@example.org', 'Urszula Becker, +48 886 397 826, +48591340205, srogamarika@example.net', 'Bianka Dubel, +48 722 951 615, +48392172198, szczepanksawery@example.org', 'Urszula Jędrasiak, 723 835 174, +48146002736, kajetan83@example.net', 'Franciszek Gramza, +48 782 253 332, +48139957585, kazimierz17@example.net', 'Bianka Dubel, +48 722 951 615, +48392172198, szczepanksawery@example.org', 'Bianka Dubel, +48 722 951 615, +48392172198, szczepanksawery@example.org', 'Malwina Pokrzywa, +48 729 740 585, +48111752653, dabrowkajakub@example.com', 'Urszula Becker, +48 886 397 826, +48591340205, srogamarika@example.net', 'Dariusz Taranek, +48 728 552 164, +48118840912, jedrzej66@example.com', 'Dariusz Taranek, +48 728 552 164, +48118840912, jedrzej66@example.com', 'Urszula Jędrasiak, 723 835 174, +48146002736, kajetan83@example.net', 'Urszula Jędrasiak, 723 835 174, +48146002736, kajetan83@example.net', 'Dariusz Taranek, +48 728 552 164, +48118840912, jedrzej66@example.com', 'Ernest Franiak, 690 280 488, +48580473934, ufnalandrzej@example.org', 'Dariusz Taranek, +48 728 552 164, +48118840912, jedrzej66@example.com', 'Urszula Jędrasiak, 723 835 174, +48146002736, kajetan83@example.net', 'Malwina Pokrzywa, +48 729 740 585, +48111752653, dabrowkajakub@example.com', 'Malwina Pokrzywa, +48 729 740 585, +48111752653, dabrowkajakub@example.com', 'Marcelina Patyna, 508 774 763, +48893269378, juliannakolesnik@example.org', 'Dorota Bakalarczyk, +48 881 689 033, +48506167447, kalinawakula@example.com', 'Dariusz Taranek, +48 728 552 164, +48118840912, jedrzej66@example.com', 'Marcelina Patyna, 508 774 763, +48893269378, juliannakolesnik@example.org', 'Malwina Pokrzywa, +48 729 740 585, +48111752653, dabrowkajakub@example.com', 'Bianka Dubel, +48 722 951 615, +48392172198, szczepanksawery@example.org', 'Ernest Franiak, 690 280 488, +48580473934, ufnalandrzej@example.org', 'Franciszek Gramza, +48 782 253 332, +48139957585, kazimierz17@example.net', 'Malwina Pokrzywa, +48 729 740 585, +48111752653, dabrowkajakub@example.com', 'Rozalia Dąbrówka, 792 124 185, +48707456789, krzysztofmroczko@example.net', 'Dariusz Taranek, +48 728 552 164, +48118840912, jedrzej66@example.com', 'Dariusz Taranek, +48 728 552 164, +48118840912, jedrzej66@example.com', 'Rozalia Dąbrówka, 792 124 185, +48707456789, krzysztofmroczko@example.net', 'Urszula Becker, +48 886 397 826, +48591340205, srogamarika@example.net', 'Urszula Jędrasiak, 723 835 174, +48146002736, kajetan83@example.net', 'Marcelina Patyna, 508 774 763, +48893269378, juliannakolesnik@example.org', 'Rozalia Dąbrówka, 792 124 185, +48707456789, krzysztofmroczko@example.net', 'Marcelina Patyna, 508 774 763, +48893269378, juliannakolesnik@example.org', 'Ernest Franiak, 690 280 488, +48580473934, ufnalandrzej@example.org', 'Dorota Bakalarczyk, +48 881 689 033, +48506167447, kalinawakula@example.com', 'Bianka Dubel, +48 722 951 615, +48392172198, szczepanksawery@example.org', 'Rozalia Dąbrówka, 792 124 185, +48707456789, krzysztofmroczko@example.net', 'Dorota Bakalarczyk, +48 881 689 033, +48506167447, kalinawakula@example.com', 'Ernest Franiak, 690 280 488, +48580473934, ufnalandrzej@example.org', 'Dorota Bakalarczyk, +48 881 689 033, +48506167447, kalinawakula@example.com', 'Dorota Bakalarczyk, +48 881 689 033, +48506167447, kalinawakula@example.com', 'Franciszek Gramza, +48 782 253 332, +48139957585, kazimierz17@example.net', 'Malwina Pokrzywa, +48 729 740 585, +48111752653, dabrowkajakub@example.com', 'Urszula Becker, +48 886 397 826, +48591340205, srogamarika@example.net', 'Marcelina Patyna, 508 774 763, +48893269378, juliannakolesnik@example.org', 'Bianka Dubel, +48 722 951 615, +48392172198, szczepanksawery@example.org', 'Malwina Pokrzywa, +48 729 740 585, +48111752653, dabrowkajakub@example.com', 'Rozalia Dąbrówka, 792 124 185, +48707456789, krzysztofmroczko@example.net', 'Dariusz Taranek, +48 728 552 164, +48118840912, jedrzej66@example.com', 'Dariusz Taranek, +48 728 552 164, +48118840912, jedrzej66@example.com', 'Bianka Dubel, +48 722 951 615, +48392172198, szczepanksawery@example.org', 'Ernest Franiak, 690 280 488, +48580473934, ufnalandrzej@example.org', 'Bianka Dubel, +48 722 951 615, +48392172198, szczepanksawery@example.org', 'Rozalia Dąbrówka, 792 124 185, +48707456789, krzysztofmroczko@example.net', 'Urszula Becker, +48 886 397 826, +48591340205, srogamarika@example.net', 'Malwina Pokrzywa, +48 729 740 585, +48111752653, dabrowkajakub@example.com', 'Dariusz Taranek, +48 728 552 164, +48118840912, jedrzej66@example.com', 'Bianka Dubel, +48 722 951 615, +48392172198, szczepanksawery@example.org', 'Bruno Ulewicz, 510 602 210, +48870213305, adrian76@example.net', 'Andrzej Szymków, 883 931 961, +48694667276, maksymilianwyroba@example.com', 'Ewelina Hamera, 799 345 899, +48623508602, kamila44@example.com', 'Arkadiusz Mysior, 22 292 85 07, +48721022330, hadammarek@example.net', 'Aniela Janke, +48 695 442 775, +48879860130, sjargielo@example.com', 'Ewelina Hamera, 799 345 899, +48623508602, kamila44@example.com', 'pan Andrzej Hendzel, +48 794 317 923, +48144953524, perczakeliza@example.com', 'Sara Grzelczyk, +48 730 093 063, +48890168144, aleks84@example.com', 'Sara Grzelczyk, +48 730 093 063, +48890168144, aleks84@example.com', 'Aleks Łyp, 782 571 178, +48777789487, waszczykadam@example.net', 'Oliwier Kyc, 796 541 783, +48423217833, lukaszzander@example.net', 'Sara Grzelczyk, +48 730 093 063, +48890168144, aleks84@example.com', 'Aniela Janke, +48 695 442 775, +48879860130, sjargielo@example.com', 'Sara Grzelczyk, +48 730 093 063, +48890168144, aleks84@example.com', 'Andrzej Szymków, 883 931 961, +48694667276, maksymilianwyroba@example.com', 'Dorota Dzienniak, 22 703 30 55, +48735263192, kalinaloj@example.net', 'Andrzej Szymków, 883 931 961, +48694667276, maksymilianwyroba@example.com', 'Arkadiusz Mysior, 22 292 85 07, +48721022330, hadammarek@example.net', 'Arkadiusz Mysior, 22 292 85 07, +48721022330, hadammarek@example.net', 'Arkadiusz Mysior, 22 292 85 07, +48721022330, hadammarek@example.net', 'Aleks Łyp, 782 571 178, +48777789487, waszczykadam@example.net', 'Andrzej Szymków, 883 931 961, +48694667276, maksymilianwyroba@example.com', 'Andrzej Szymków, 883 931 961, +48694667276, maksymilianwyroba@example.com', 'Oliwier Kyc, 796 541 783, +48423217833, lukaszzander@example.net', 'Ewelina Hamera, 799 345 899, +48623508602, kamila44@example.com', 'Aniela Janke, +48 695 442 775, +48879860130, sjargielo@example.com', 'pan Andrzej Hendzel, +48 794 317 923, +48144953524, perczakeliza@example.com', 'Bruno Ulewicz, 510 602 210, +48870213305, adrian76@example.net', 'Aniela Janke, +48 695 442 775, +48879860130, sjargielo@example.com', 'pan Andrzej Hendzel, +48 794 317 923, +48144953524, perczakeliza@example.com', 'Dorota Dzienniak, 22 703 30 55, +48735263192, kalinaloj@example.net', 'Dorota Dzienniak, 22 703 30 55, +48735263192, kalinaloj@example.net', 'Aleks Łyp, 782 571 178, +48777789487, waszczykadam@example.net', 'Sara Grzelczyk, +48 730 093 063, +48890168144, aleks84@example.com', 'Oliwier Kyc, 796 541 783, +48423217833, lukaszzander@example.net', 'Ewelina Hamera, 799 345 899, +48623508602, kamila44@example.com', 'pan Andrzej Hendzel, +48 794 317 923, +48144953524, perczakeliza@example.com', 'Andrzej Szymków, 883 931 961, +48694667276, maksymilianwyroba@example.com', 'Aniela Janke, +48 695 442 775, +48879860130, sjargielo@example.com', 'Sara Grzelczyk, +48 730 093 063, +48890168144, aleks84@example.com', 'Aniela Janke, +48 695 442 775, +48879860130, sjargielo@example.com', 'Andrzej Szymków, 883 931 961, +48694667276, maksymilianwyroba@example.com', 'Aniela Janke, +48 695 442 775, +48879860130, sjargielo@example.com', 'Ewelina Hamera, 799 345 899, +48623508602, kamila44@example.com', 'Arkadiusz Mysior, 22 292 85 07, +48721022330, hadammarek@example.net', 'Bruno Ulewicz, 510 602 210, +48870213305, adrian76@example.net', 'Andrzej Szymków, 883 931 961, +48694667276, maksymilianwyroba@example.com', 'Arkadiusz Mysior, 22 292 85 07, +48721022330, hadammarek@example.net', 'Bruno Ulewicz, 510 602 210, +48870213305, adrian76@example.net', 'Aleks Łyp, 782 571 178, +48777789487, waszczykadam@example.net', 'Aniela Janke, +48 695 442 775, +48879860130, sjargielo@example.com', 'pan Andrzej Hendzel, +48 794 317 923, +48144953524, perczakeliza@example.com', 'Ewelina Hamera, 799 345 899, +48623508602, kamila44@example.com', 'Arkadiusz Mysior, 22 292 85 07, +48721022330, hadammarek@example.net', 'Bruno Ulewicz, 510 602 210, +48870213305, adrian76@example.net', 'Oliwier Kyc, 796 541 783, +48423217833, lukaszzander@example.net', 'Aleks Łyp, 782 571 178, +48777789487, waszczykadam@example.net', 'Andrzej Szymków, 883 931 961, +48694667276, maksymilianwyroba@example.com', 'pan Andrzej Hendzel, +48 794 317 923, +48144953524, perczakeliza@example.com', 'pan Andrzej Hendzel, +48 794 317 923, +48144953524, perczakeliza@example.com', 'Ewelina Hamera, 799 345 899, +48623508602, kamila44@example.com', 'Aleks Łyp, 782 571 178, +48777789487, waszczykadam@example.net', 'Aleks Łyp, 782 571 178, +48777789487, waszczykadam@example.net', 'Oliwier Kyc, 796 541 783, +48423217833, lukaszzander@example.net', 'Andrzej Szymków, 883 931 961, +48694667276, maksymilianwyroba@example.com', 'Bruno Ulewicz, 510 602 210, +48870213305, adrian76@example.net', 'Aleks Łyp, 782 571 178, +48777789487, waszczykadam@example.net', 'Aleks Łyp, 782 571 178, +48777789487, waszczykadam@example.net', 'Aniela Janke, +48 695 442 775, +48879860130, sjargielo@example.com', 'Sara Grzelczyk, +48 730 093 063, +48890168144, aleks84@example.com', 'Arkadiusz Mysior, 22 292 85 07, +48721022330, hadammarek@example.net', 'Sara Grzelczyk, +48 730 093 063, +48890168144, aleks84@example.com', 'Oliwier Kyc, 796 541 783, +48423217833, lukaszzander@example.net', 'Ewelina Hamera, 799 345 899, +48623508602, kamila44@example.com', 'Arkadiusz Mysior, 22 292 85 07, +48721022330, hadammarek@example.net', 'Andrzej Szymków, 883 931 961, +48694667276, maksymilianwyroba@example.com', 'Bruno Ulewicz, 510 602 210, +48870213305, adrian76@example.net', 'Aleks Łyp, 782 571 178, +48777789487, waszczykadam@example.net', 'Aleks Łyp, 782 571 178, +48777789487, waszczykadam@example.net', 'Ewelina Hamera, 799 345 899, +48623508602, kamila44@example.com', 'Ewelina Hamera, 799 345 899, +48623508602, kamila44@example.com', 'Sara Grzelczyk, +48 730 093 063, +48890168144, aleks84@example.com', 'Aleks Łyp, 782 571 178, +48777789487, waszczykadam@example.net', 'Aniela Janke, +48 695 442 775, +48879860130, sjargielo@example.com', 'Ewelina Hamera, 799 345 899, +48623508602, kamila44@example.com', 'Dorota Dzienniak, 22 703 30 55, +48735263192, kalinaloj@example.net', 'Andrzej Szymków, 883 931 961, +48694667276, maksymilianwyroba@example.com', 'Ewelina Hamera, 799 345 899, +48623508602, kamila44@example.com', 'Aniela Janke, +48 695 442 775, +48879860130, sjargielo@example.com', 'pan Andrzej Hendzel, +48 794 317 923, +48144953524, perczakeliza@example.com', 'Andrzej Szymków, 883 931 961, +48694667276, maksymilianwyroba@example.com', 'Oliwier Kyc, 796 541 783, +48423217833, lukaszzander@example.net', 'pan Andrzej Hendzel, +48 794 317 923, +48144953524, perczakeliza@example.com', 'Bruno Ulewicz, 510 602 210, +48870213305, adrian76@example.net', 'Bruno Ulewicz, 510 602 210, +48870213305, adrian76@example.net', 'pan Andrzej Hendzel, +48 794 317 923, +48144953524, perczakeliza@example.com', 'Oliwier Kyc, 796 541 783, +48423217833, lukaszzander@example.net', 'Oliwier Kyc, 796 541 783, +48423217833, lukaszzander@example.net', 'Andrzej Szymków, 883 931 961, +48694667276, maksymilianwyroba@example.com', 'Dorota Dzienniak, 22 703 30 55, +48735263192, kalinaloj@example.net', 'Jerzy Kupidura, 606 904 153, +48385622673, marceladrian@example.com', 'Franciszek Mordak, 575 885 550, +48922541938, akrecichwost@example.net', 'pani Nela Holewa, 530 107 901, +48516916381, hermanowiczrozalia@example.net', 'Jerzy Kupidura, 606 904 153, +48385622673, marceladrian@example.com', 'Franciszek Mordak, 575 885 550, +48922541938, akrecichwost@example.net', 'Przemysław Gradek, +48 22 332 59 04, +48548473268, pagaczkornel@example.org', 'Jerzy Kupidura, 606 904 153, +48385622673, marceladrian@example.com', 'Karol Bereda, +48 537 972 817, +48364647666, julitagrund@example.net', 'Jerzy Kupidura, 606 904 153, +48385622673, marceladrian@example.com', 'Aurelia Patora, +48 730 005 675, +48910814975, rjozefczak@example.net', 'Karol Bereda, +48 537 972 817, +48364647666, julitagrund@example.net', 'Przemysław Gradek, +48 22 332 59 04, +48548473268, pagaczkornel@example.org', 'Mariusz Koloch, 696 922 569, +48648765366, palusjeremi@example.org', 'Aurelia Patora, +48 730 005 675, +48910814975, rjozefczak@example.net', 'Bianka Tadla, +48 737 526 438, +48116395666, fpodeszwa@example.net', 'Mariusz Koloch, 696 922 569, +48648765366, palusjeremi@example.org', 'Franciszek Mordak, 575 885 550, +48922541938, akrecichwost@example.net', 'Ernest Hołubowicz, 600 326 839, +48928240446, oliwier32@example.net', 'Aurelia Patora, +48 730 005 675, +48910814975, rjozefczak@example.net', 'Antoni Dubis, 669 413 732, +48580371206, mlynarzjeremi@example.org', 'Franciszek Mordak, 575 885 550, +48922541938, akrecichwost@example.net', 'Ernest Hołubowicz, 600 326 839, +48928240446, oliwier32@example.net', 'Antoni Dubis, 669 413 732, +48580371206, mlynarzjeremi@example.org', 'Mariusz Koloch, 696 922 569, +48648765366, palusjeremi@example.org', 'Mariusz Koloch, 696 922 569, +48648765366, palusjeremi@example.org', 'Ernest Hołubowicz, 600 326 839, +48928240446, oliwier32@example.net', 'Przemysław Gradek, +48 22 332 59 04, +48548473268, pagaczkornel@example.org', 'Karol Bereda, +48 537 972 817, +48364647666, julitagrund@example.net', 'Franciszek Mordak, 575 885 550, +48922541938, akrecichwost@example.net', 'Antoni Dubis, 669 413 732, +48580371206, mlynarzjeremi@example.org', 'Jerzy Kupidura, 606 904 153, +48385622673, marceladrian@example.com', 'Przemysław Gradek, +48 22 332 59 04, +48548473268, pagaczkornel@example.org', 'Przemysław Gradek, +48 22 332 59 04, +48548473268, pagaczkornel@example.org', 'Antoni Dubis, 669 413 732, +48580371206, mlynarzjeremi@example.org', 'pani Nela Holewa, 530 107 901, +48516916381, hermanowiczrozalia@example.net', 'pani Nela Holewa, 530 107 901, +48516916381, hermanowiczrozalia@example.net', 'Bianka Tadla, +48 737 526 438, +48116395666, fpodeszwa@example.net', 'Bianka Tadla, +48 737 526 438, +48116395666, fpodeszwa@example.net', 'Przemysław Gradek, +48 22 332 59 04, +48548473268, pagaczkornel@example.org', 'Antoni Dubis, 669 413 732, +48580371206, mlynarzjeremi@example.org', 'Aurelia Patora, +48 730 005 675, +48910814975, rjozefczak@example.net', 'Przemysław Gradek, +48 22 332 59 04, +48548473268, pagaczkornel@example.org', 'pani Nela Holewa, 530 107 901, +48516916381, hermanowiczrozalia@example.net', 'Bianka Tadla, +48 737 526 438, +48116395666, fpodeszwa@example.net', 'Ernest Hołubowicz, 600 326 839, +48928240446, oliwier32@example.net', 'pani Nela Holewa, 530 107 901, +48516916381, hermanowiczrozalia@example.net', 'Franciszek Mordak, 575 885 550, +48922541938, akrecichwost@example.net', 'Aurelia Patora, +48 730 005 675, +48910814975, rjozefczak@example.net', 'Jerzy Kupidura, 606 904 153, +48385622673, marceladrian@example.com', 'Jerzy Kupidura, 606 904 153, +48385622673, marceladrian@example.com', 'Karol Bereda, +48 537 972 817, +48364647666, julitagrund@example.net', 'Przemysław Gradek, +48 22 332 59 04, +48548473268, pagaczkornel@example.org', 'Ernest Hołubowicz, 600 326 839, +48928240446, oliwier32@example.net', 'Jerzy Kupidura, 606 904 153, +48385622673, marceladrian@example.com', 'Karol Bereda, +48 537 972 817, +48364647666, julitagrund@example.net', 'Karol Bereda, +48 537 972 817, +48364647666, julitagrund@example.net', 'Jerzy Kupidura, 606 904 153, +48385622673, marceladrian@example.com', 'Jerzy Kupidura, 606 904 153, +48385622673, marceladrian@example.com', 'Franciszek Mordak, 575 885 550, +48922541938, akrecichwost@example.net', 'Antoni Dubis, 669 413 732, +48580371206, mlynarzjeremi@example.org', 'Karol Bereda, +48 537 972 817, +48364647666, julitagrund@example.net', 'Antoni Dubis, 669 413 732, +48580371206, mlynarzjeremi@example.org', 'Jerzy Kupidura, 606 904 153, +48385622673, marceladrian@example.com', 'pani Nela Holewa, 530 107 901, +48516916381, hermanowiczrozalia@example.net', 'Bianka Tadla, +48 737 526 438, +48116395666, fpodeszwa@example.net', 'Aurelia Patora, +48 730 005 675, +48910814975, rjozefczak@example.net', 'Jerzy Kupidura, 606 904 153, +48385622673, marceladrian@example.com', 'pani Nela Holewa, 530 107 901, +48516916381, hermanowiczrozalia@example.net', 'Franciszek Mordak, 575 885 550, +48922541938, akrecichwost@example.net', 'Franciszek Mordak, 575 885 550, +48922541938, akrecichwost@example.net', 'Franciszek Mordak, 575 885 550, +48922541938, akrecichwost@example.net', 'Antoni Dubis, 669 413 732, +48580371206, mlynarzjeremi@example.org', 'Mariusz Koloch, 696 922 569, +48648765366, palusjeremi@example.org', 'Przemysław Gradek, +48 22 332 59 04, +48548473268, pagaczkornel@example.org', 'Antoni Dubis, 669 413 732, +48580371206, mlynarzjeremi@example.org', 'pani Nela Holewa, 530 107 901, +48516916381, hermanowiczrozalia@example.net', 'Ernest Hołubowicz, 600 326 839, +48928240446, oliwier32@example.net', 'pani Nela Holewa, 530 107 901, +48516916381, hermanowiczrozalia@example.net', 'Ernest Hołubowicz, 600 326 839, +48928240446, oliwier32@example.net', 'pani Nela Holewa, 530 107 901, +48516916381, hermanowiczrozalia@example.net', 'Ernest Hołubowicz, 600 326 839, +48928240446, oliwier32@example.net', 'Jerzy Kupidura, 606 904 153, +48385622673, marceladrian@example.com', 'Franciszek Mordak, 575 885 550, +48922541938, akrecichwost@example.net', 'Aurelia Patora, +48 730 005 675, +48910814975, rjozefczak@example.net', 'Bianka Tadla, +48 737 526 438, +48116395666, fpodeszwa@example.net', 'pani Nela Holewa, 530 107 901, +48516916381, hermanowiczrozalia@example.net', 'Mariusz Koloch, 696 922 569, +48648765366, palusjeremi@example.org', 'Aurelia Patora, +48 730 005 675, +48910814975, rjozefczak@example.net', 'Przemysław Gradek, +48 22 332 59 04, +48548473268, pagaczkornel@example.org', 'pani Nela Holewa, 530 107 901, +48516916381, hermanowiczrozalia@example.net', 'Franciszek Mordak, 575 885 550, +48922541938, akrecichwost@example.net', 'Ernest Hołubowicz, 600 326 839, +48928240446, oliwier32@example.net', 'Jerzy Kupidura, 606 904 153, +48385622673, marceladrian@example.com', 'Franciszek Mordak, 575 885 550, +48922541938, akrecichwost@example.net', 'Karol Bereda, +48 537 972 817, +48364647666, julitagrund@example.net', 'Ernest Hołubowicz, 600 326 839, +48928240446, oliwier32@example.net', 'pani Nela Holewa, 530 107 901, +48516916381, hermanowiczrozalia@example.net', 'Jerzy Kupidura, 606 904 153, +48385622673, marceladrian@example.com', 'Antoni Dubis, 669 413 732, +48580371206, mlynarzjeremi@example.org', 'Antoni Dubis, 669 413 732, +48580371206, mlynarzjeremi@example.org', 'Ksawery Broniek, +48 797 125 057, +48411956365, tola53@example.net', 'Fabian Klemczak, 697 441 584, +48430371829, kawulokjozef@example.com', 'Fabian Klemczak, 697 441 584, +48430371829, kawulokjozef@example.com', 'pan Jeremi Kościołek, 32 223 08 04, +48730887860, damekmariusz@example.net', 'Alex Piłka, +48 694 730 437, +48669378666, melaniawaloch@example.org', 'Ignacy Wójcikiewicz, +48 539 503 451, +48268711214, sludzik@example.net', 'Alex Piłka, +48 694 730 437, +48669378666, melaniawaloch@example.org', 'Jeremi Dobosiewicz, 509 260 368, +48599000820, hwiklo@example.net', 'Ignacy Wójcikiewicz, +48 539 503 451, +48268711214, sludzik@example.net', 'Fabian Klemczak, 697 441 584, +48430371829, kawulokjozef@example.com', 'Ignacy Wójcikiewicz, +48 539 503 451, +48268711214, sludzik@example.net', 'Ignacy Wójcikiewicz, +48 539 503 451, +48268711214, sludzik@example.net', 'Ksawery Broniek, +48 797 125 057, +48411956365, tola53@example.net', 'Malwina Andreasik, +48 786 469 013, +48969036881, jszeszko@example.com', 'pan Jeremi Kościołek, 32 223 08 04, +48730887860, damekmariusz@example.net', 'Ignacy Wójcikiewicz, +48 539 503 451, +48268711214, sludzik@example.net', 'Ignacy Wójcikiewicz, +48 539 503 451, +48268711214, sludzik@example.net', 'Ksawery Broniek, +48 797 125 057, +48411956365, tola53@example.net', 'Malwina Andreasik, +48 786 469 013, +48969036881, jszeszko@example.com', 'pan Jeremi Kościołek, 32 223 08 04, +48730887860, damekmariusz@example.net', 'Jeremi Dobosiewicz, 509 260 368, +48599000820, hwiklo@example.net', 'Fabian Klemczak, 697 441 584, +48430371829, kawulokjozef@example.com', 'Ksawery Broniek, +48 797 125 057, +48411956365, tola53@example.net', 'Alex Piłka, +48 694 730 437, +48669378666, melaniawaloch@example.org', 'Adrian Macioł, +48 22 053 61 31, +48580230110, jakubpowazka@example.com', 'Alex Foit, 538 983 386, +48207344671, robertglonek@example.net', 'Ksawery Broniek, +48 797 125 057, +48411956365, tola53@example.net', 'Adrian Macioł, +48 22 053 61 31, +48580230110, jakubpowazka@example.com', 'Malwina Andreasik, +48 786 469 013, +48969036881, jszeszko@example.com', 'Malwina Andreasik, +48 786 469 013, +48969036881, jszeszko@example.com', 'Fabian Klemczak, 697 441 584, +48430371829, kawulokjozef@example.com', 'Alex Piłka, +48 694 730 437, +48669378666, melaniawaloch@example.org', 'Adrian Macioł, +48 22 053 61 31, +48580230110, jakubpowazka@example.com', 'Alex Foit, 538 983 386, +48207344671, robertglonek@example.net', 'Jeremi Dobosiewicz, 509 260 368, +48599000820, hwiklo@example.net', 'Alex Piłka, +48 694 730 437, +48669378666, melaniawaloch@example.org', 'Adrian Macioł, +48 22 053 61 31, +48580230110, jakubpowazka@example.com', 'Jeremi Dobosiewicz, 509 260 368, +48599000820, hwiklo@example.net', 'Malwina Andreasik, +48 786 469 013, +48969036881, jszeszko@example.com', 'Ksawery Broniek, +48 797 125 057, +48411956365, tola53@example.net', 'Malwina Andreasik, +48 786 469 013, +48969036881, jszeszko@example.com', 'Jeremi Dobosiewicz, 509 260 368, +48599000820, hwiklo@example.net', 'Malwina Andreasik, +48 786 469 013, +48969036881, jszeszko@example.com', 'Alex Piłka, +48 694 730 437, +48669378666, melaniawaloch@example.org', 'Malwina Andreasik, +48 786 469 013, +48969036881, jszeszko@example.com', 'Jeremi Dobosiewicz, 509 260 368, +48599000820, hwiklo@example.net', 'Fabian Klemczak, 697 441 584, +48430371829, kawulokjozef@example.com', 'Alex Piłka, +48 694 730 437, +48669378666, melaniawaloch@example.org', 'Alex Piłka, +48 694 730 437, +48669378666, melaniawaloch@example.org', 'pan Jeremi Kościołek, 32 223 08 04, +48730887860, damekmariusz@example.net', 'Adrian Macioł, +48 22 053 61 31, +48580230110, jakubpowazka@example.com', 'Fabian Klemczak, 697 441 584, +48430371829, kawulokjozef@example.com', 'Alex Piłka, +48 694 730 437, +48669378666, melaniawaloch@example.org', 'Alex Foit, 538 983 386, +48207344671, robertglonek@example.net', 'Alex Piłka, +48 694 730 437, +48669378666, melaniawaloch@example.org', 'Jeremi Dobosiewicz, 509 260 368, +48599000820, hwiklo@example.net', 'Malwina Andreasik, +48 786 469 013, +48969036881, jszeszko@example.com', 'Alex Foit, 538 983 386, +48207344671, robertglonek@example.net', 'Jeremi Dobosiewicz, 509 260 368, +48599000820, hwiklo@example.net', 'Fabian Klemczak, 697 441 584, +48430371829, kawulokjozef@example.com', 'Ignacy Wójcikiewicz, +48 539 503 451, +48268711214, sludzik@example.net', 'pan Jeremi Kościołek, 32 223 08 04, +48730887860, damekmariusz@example.net', 'Ignacy Wójcikiewicz, +48 539 503 451, +48268711214, sludzik@example.net', 'Apolonia Mikosz, +48 785 345 288, +48694381561, dominik51@example.org', 'Alex Piłka, +48 694 730 437, +48669378666, melaniawaloch@example.org', 'Jeremi Dobosiewicz, 509 260 368, +48599000820, hwiklo@example.net', 'Apolonia Mikosz, +48 785 345 288, +48694381561, dominik51@example.org', 'Alex Foit, 538 983 386, +48207344671, robertglonek@example.net', 'Alex Foit, 538 983 386, +48207344671, robertglonek@example.net', 'Apolonia Mikosz, +48 785 345 288, +48694381561, dominik51@example.org', 'Apolonia Mikosz, +48 785 345 288, +48694381561, dominik51@example.org', 'Adrian Macioł, +48 22 053 61 31, +48580230110, jakubpowazka@example.com', 'Alex Piłka, +48 694 730 437, +48669378666, melaniawaloch@example.org', 'Fabian Klemczak, 697 441 584, +48430371829, kawulokjozef@example.com', 'Jeremi Dobosiewicz, 509 260 368, +48599000820, hwiklo@example.net', 'Ksawery Broniek, +48 797 125 057, +48411956365, tola53@example.net', 'pan Jeremi Kościołek, 32 223 08 04, +48730887860, damekmariusz@example.net', 'Malwina Andreasik, +48 786 469 013, +48969036881, jszeszko@example.com', 'Alex Piłka, +48 694 730 437, +48669378666, melaniawaloch@example.org', 'Fabian Klemczak, 697 441 584, +48430371829, kawulokjozef@example.com', 'Jeremi Dobosiewicz, 509 260 368, +48599000820, hwiklo@example.net', 'Fabian Klemczak, 697 441 584, +48430371829, kawulokjozef@example.com', 'Alex Piłka, +48 694 730 437, +48669378666, melaniawaloch@example.org', 'Ksawery Broniek, +48 797 125 057, +48411956365, tola53@example.net', 'Malwina Andreasik, +48 786 469 013, +48969036881, jszeszko@example.com', 'pan Jeremi Kościołek, 32 223 08 04, +48730887860, damekmariusz@example.net', 'pan Jeremi Kościołek, 32 223 08 04, +48730887860, damekmariusz@example.net', 'Alex Foit, 538 983 386, +48207344671, robertglonek@example.net', 'pan Jeremi Kościołek, 32 223 08 04, +48730887860, damekmariusz@example.net', 'Apolonia Mikosz, +48 785 345 288, +48694381561, dominik51@example.org', 'Malwina Andreasik, +48 786 469 013, +48969036881, jszeszko@example.com', 'Alex Piłka, +48 694 730 437, +48669378666, melaniawaloch@example.org', 'pan Jeremi Kościołek, 32 223 08 04, +48730887860, damekmariusz@example.net', 'Jeremi Dobosiewicz, 509 260 368, +48599000820, hwiklo@example.net', 'Adrian Macioł, +48 22 053 61 31, +48580230110, jakubpowazka@example.com', 'Fabian Klemczak, 697 441 584, +48430371829, kawulokjozef@example.com', 'pan Jeremi Kościołek, 32 223 08 04, +48730887860, damekmariusz@example.net', 'Ignacy Wójcikiewicz, +48 539 503 451, +48268711214, sludzik@example.net', 'Jeremi Dobosiewicz, 509 260 368, +48599000820, hwiklo@example.net', 'Ignacy Wójcikiewicz, +48 539 503 451, +48268711214, sludzik@example.net', 'Oliwier Wojtyś, 883 513 402, +48387085285, robert53@example.com', 'pani Anastazja Elwart, 729 671 843, +48714961540, fziarnik@example.org', 'pani Apolonia Piersa, +48 691 231 953, +48826135493, wojtunikjuliusz@example.org', 'Monika Wiertel, 780 038 903, +48151456083, mesjaszolaf@example.org', 'Nela Karczmarz, 502 067 993, +48826206811, klara42@example.org', 'Fryderyk Pera, 692 288 574, +48863525968, nciesielka@example.net', 'Oliwier Wojtyś, 883 513 402, +48387085285, robert53@example.com', 'Bianka Franiak, +48 533 781 654, +48584617013, julitazaborek@example.org', 'Bartek Bakun, 662 964 243, +48190598893, gwyciszkiewicz@example.net', 'pan Alan Hajdukiewicz, 22 194 78 13, +48534717068, dynakjulianna@example.net', 'Kamil Żal, +48 738 685 785, +48225481657, swrochna@example.com', 'Tola Seweryniak, +48 660 808 850, +48855298225, gaja77@example.com', 'Nela Karczmarz, 502 067 993, +48826206811, klara42@example.org', 'Oliwier Wośko, 886 942 542, +48795789963, wyrobekarkadiusz@example.org', 'Kajetan Kuryłowicz, 729 574 784, +48382511927, szmajdaapolonia@example.com', 'Melania Klamka, +48 889 076 020, +48260300093, urszuladulas@example.org', 'Tomasz Marcińczyk, +48 739 696 678, +48959339250, lepekcezary@example.net', 'Łukasz Durczok, +48 889 964 044, +48730170554, dorota40@example.net', 'Kaja Hawro, 738 492 955, +48928860014, ciulaleonard@example.net', 'pan Krystian Bodziony, 730 628 003, +48768384161, karinakusnierek@example.net', 'Apolonia Brodawka, 579 044 742, +48516152456, borysosipiuk@example.net', 'Adrianna Lew, 32 768 04 12, +48923800524, marcel22@example.com', 'pan Oliwier Solarek, 32 687 14 62, +48640937875, gustawfamula@example.org', 'pani Apolonia Piersa, +48 691 231 953, +48826135493, wojtunikjuliusz@example.org', 'pani Anastazja Elwart, 729 671 843, +48714961540, fziarnik@example.org', 'pan Borys Andrearczyk, 730 942 064, +48643026084, xwitko@example.net', 'pan Witold Anders, +48 532 438 678, +48128517158, herbutaleksander@example.com', 'Marika Kotala, +48 783 819 906, +48743322350, xpiesik@example.com', 'Monika Wiertel, 780 038 903, +48151456083, mesjaszolaf@example.org', 'Konstanty Kucharzyk, +48 32 958 60 45, +48782933665, kazimierz26@example.net', 'Oliwier Wośko, 886 942 542, +48795789963, wyrobekarkadiusz@example.org', 'Julianna Stachewicz, 578 330 645, +48964106318, melaniagoral@example.net', 'Hubert Kenig, 600 402 466, +48947768567, emisiejuk@example.com', 'Leonard Kołaczek, 22 827 41 22, +48955434972, bianka84@example.com', 'Anita Białous, +48 513 429 249, +48294760859, furgaladaniel@example.org', 'Urszula Tryc, 609 512 737, +48434844991, busztaeryk@example.net', 'pani Julita Początek, +48 727 276 025, +48986906799, sonia01@example.com', 'Mateusz Szołtysik, 888 074 139, +48363457598, vkapinos@example.net', 'pan Witold Anders, +48 532 438 678, +48128517158, herbutaleksander@example.com', 'Oskar Cukier, 32 420 26 27, +48209610821, saraluczka@example.net', 'Kamil Żal, +48 738 685 785, +48225481657, swrochna@example.com', 'pan Jakub Kałek, 575 424 554, +48371635267, trokatymoteusz@example.com', 'Julianna Stachewicz, 578 330 645, +48964106318, melaniagoral@example.net', 'Konstanty Kucharzyk, +48 32 958 60 45, +48782933665, kazimierz26@example.net', 'Oliwier Wośko, 886 942 542, +48795789963, wyrobekarkadiusz@example.org', 'pan Krystian Bodziony, 730 628 003, +48768384161, karinakusnierek@example.net', 'Krystian Bluszcz, +48 664 788 190, +48950386392, ksawery18@example.net', 'Kajetan Łabuś, 666 288 912, +48350962669, maciejciurus@example.net', 'Ksawery Groth, 32 791 02 82, +48317892754, ochabroksana@example.org', 'pani Blanka Mikołajewicz, +48 736 877 873, +48942807377, kajetan49@example.org', 'Kornel Dobrosz, 517 622 837, +48560645313, adam55@example.com', 'Ewelina Ryszkiewicz, 667 844 128, +48270130385, ppodgorny@example.com', 'pani Dorota Szczerek, 576 124 370, +48254899414, rsoczewka@example.com', 'Julita Paśnik, +48 530 485 999, +48599916377, emil48@example.org', 'Stanisław Plaskota, +48 518 806 558, +48898902012, bielatjanina@example.net', 'Angelika Stoch, +48 729 785 406, +48324469518, ada77@example.org', 'Hubert Kenig, 600 402 466, +48947768567, emisiejuk@example.com', 'pan Artur Księżyk, 720 815 012, +48429623591, ugramza@example.net', 'Bartek Bakun, 662 964 243, +48190598893, gwyciszkiewicz@example.net', 'Nela Karczmarz, 502 067 993, +48826206811, klara42@example.org', 'Karol Dąbrowicz, 577 642 981, +48702436326, lukaszpleban@example.com', 'Anita Porzucek, 781 146 530, +48178094166, laszczykmieszko@example.com', 'Konstanty Kucharzyk, +48 32 958 60 45, +48782933665, kazimierz26@example.net', 'Grzegorz Koźlak, 535 112 572, +48865500393, egrygorcewicz@example.net', 'Aurelia Powała, 601 703 407, +48908635415, mateusz32@example.org', 'Radosław Lisik, +48 515 491 414, +48649359425, wfronia@example.net', 'Ewelina Ryszkiewicz, 667 844 128, +48270130385, ppodgorny@example.com', 'Elżbieta Myszor, +48 785 932 680, +48200314486, sara27@example.com', 'Justyna Biernacik, +48 532 943 663, +48822162128, andrysewa@example.com', 'Róża Pietrek, 32 437 02 44, +48544052524, dryndakamil@example.org', 'pan Eryk Oleszczak, 728 421 194, +48139879797, pkusyk@example.com', 'pan Juliusz Smykała, 531 267 298, +48527057163, eryk37@example.com', 'pani Julita Początek, +48 727 276 025, +48986906799, sonia01@example.com', 'Marianna Biernacik, +48 783 386 769, +48231447664, johnarkadiusz@example.com', 'Julian Wołoszczuk, +48 695 707 343, +48207905106, ibeker@example.com', 'Marcelina Turoń, +48 533 413 327, +48175070799, adunal@example.com', 'Miłosz Katana, 511 810 596, +48183223823, wmiszkiel@example.org', 'Kamil Żal, +48 738 685 785, +48225481657, swrochna@example.com', 'Apolonia Kopyt, +48 739 158 567, +48356336629, ada99@example.org', 'Grzegorz Kwak, 782 428 497, +48486099731, andryszczyknela@example.com', 'Angelika Stoch, +48 729 785 406, +48324469518, ada77@example.org', 'pan Alan Hajdukiewicz, 22 194 78 13, +48534717068, dynakjulianna@example.net', 'Dominik Bieszke, 608 317 026, +48455171594, jeremipieczarka@example.net', 'pan Witold Anders, +48 532 438 678, +48128517158, herbutaleksander@example.com', 'pan Juliusz Smykała, 531 267 298, +48527057163, eryk37@example.com', 'pan Eryk Oleszczak, 728 421 194, +48139879797, pkusyk@example.com', 'Anita Gęca, +48 785 842 768, +48748240204, ldros@example.net', 'Fabian Grubba, 532 607 948, +48819236680, pawel82@example.com', 'Ksawery Groth, 32 791 02 82, +48317892754, ochabroksana@example.org', 'Kazimierz Księżak, 605 158 204, +48777603569, szlufikeliza@example.com', 'Mateusz Mądrzyk, +48 692 852 272, +48517563708, anastazjakryszkiewicz@example.org', 'Olga Czerkies, +48 883 141 672, +48544519570, kijnorbert@example.org', 'Stanisław Plaskota, +48 518 806 558, +48898902012, bielatjanina@example.net', 'Inga Komsta, 602 828 124, +48624544254, rjedrasiak@example.net', 'pan Eryk Oleszczak, 728 421 194, +48139879797, pkusyk@example.com', 'Leon Godzisz, 533 403 471, +48579796642, nataszamorys@example.net', 'Kaja Hawro, 738 492 955, +48928860014, ciulaleonard@example.net', 'pani Dorota Kurzyna, 501 024 850, +48598953091, kamila44@example.org', 'Kaja Hawro, 738 492 955, +48928860014, ciulaleonard@example.net', 'Julian Wołoszczuk, +48 695 707 343, +48207905106, ibeker@example.com', 'Cezary Sych, +48 602 616 802, +48720309529, npeszko@example.net', 'Dorota Koloch, +48 22 648 89 46, +48880666571, koralmarcel@example.net', 'Jan Szelest, +48 780 008 338, +48524877431, konstantyszlapka@example.com', 'pan Juliusz Krenc, 799 927 525, +48606322648, banachowiczadrianna@example.com', 'pan Dariusz Radzio, 783 610 932, +48820691190, marek60@example.org', 'Ida Iwanow, 781 686 828, +48201228665, kazioraleks@example.net', 'Wojciech Grabara, 733 585 871, +48530774113, marek73@example.net', 'pani Liwia Szmagaj, +48 691 566 604, +48270753723, kwojtanowicz@example.org', 'pan Wojciech Baś, 533 622 396, +48414657948, dariusz50@example.net', 'pani Julianna Terka, +48 607 211 926, +48568593254, mariuszpagacz@example.net', 'pani Janina Borysiewicz, +48 32 494 98 64, +48852734430, igorparzonka@example.com', 'Tobiasz Ziegert, 726 792 713, +48183761022, sarankrzysztof@example.net']\n",
            "Plik /content/KZP_LA_2110_03_2024_Dostawa_skanerow_plomienia_Lamtec.xlsx istnieje.\n",
            "Plik 'KZP_LA_2110_03_2024_Dostawa_skanerow_plomienia_Lamtec.xlsx' już istnieje i zostanie nadpisany.\n"
          ]
        }
      ]
    },
    {
      "cell_type": "code",
      "source": [
        "# @title skopiuj kolumny z katalogu { form-width: \"400px\", display-mode: \"both\" }\n",
        "\n",
        "directory_path = \"\"\n",
        "\n",
        "def skopiuj_kolumny_z_katalogu(sciezka_katalogu):\n",
        "    try:\n",
        "        lista_wynikowa = []\n",
        "\n",
        "        # Sprawdź, czy ścieżka katalogu ma poprawny separator na końcu\n",
        "        if not sciezka_katalogu.endswith(os.path.sep):\n",
        "            sciezka_katalogu += os.path.sep\n",
        "\n",
        "        # Indeksy kolumn do skopiowania\n",
        "        kolumny_do_skopiowania = [2, 3, 4, 5, 6, 11, 19]  # Kolumny B, C, D, E, F, K, S\n",
        "\n",
        "        # Pętla po plikach Excel w podanym katalogu\n",
        "        for plik in os.listdir(sciezka_katalogu):\n",
        "            if plik.lower().endswith((\".xlsx\", \".xls\")):  # Sprawdź, czy plik to Excel (ignoruj wielkość liter)\n",
        "                pelna_sciezka = os.path.join(sciezka_katalogu, plik)\n",
        "\n",
        "                # Wczytaj plik Excel\n",
        "                workbook = openpyxl.load_workbook(pelna_sciezka)\n",
        "                sheet = workbook.active\n",
        "\n",
        "                # Inicjalizuj listę krotek dla bieżącego pliku\n",
        "                lista_krotek = []\n",
        "\n",
        "                # Iteruj po kolumnach i dodawaj każdą do osobnej krotki\n",
        "                for kolumna_index in kolumny_do_skopiowania:\n",
        "                    krotka = tuple(\n",
        "                        sheet.komórka(row=row, column=kolumna_index).value for row in range(2, sheet.max_row + 1))\n",
        "                    lista_krotek.append(krotka)\n",
        "\n",
        "                # Dodaj listę krotek dla bieżącego pliku do listy wynikowej\n",
        "                lista_wynikowa.append(lista_krotek)\n",
        "\n",
        "        return lista_wynikowa\n",
        "    except Exception as e:\n",
        "        print(f\"Błąd podczas przetwarzania plików Excel: {e}\")\n",
        "        return None\n"
      ],
      "metadata": {
        "id": "KAfydFuLEh-G"
      },
      "execution_count": null,
      "outputs": []
    },
    {
      "cell_type": "code",
      "source": [
        "# @title dodaj krotki { form-width: \"500px\", display-mode: \"both\" }\n",
        "lista_wynikowa = \"\"\n",
        "\n",
        "def dodaj_krotki(lista_wynikowa):\n",
        "    if lista_wynikowa is not None:\n",
        "        suma_krotek = []\n",
        "\n",
        "        # Iteruj po indeksach krotek (kolumnach)\n",
        "        for indeks_kolumny in range(len(lista_wynikowa[0])):\n",
        "            suma_kolumny = ()\n",
        "\n",
        "            # Iteruj po plikach i dodawaj odpowiadające sobie krotki\n",
        "            for lista_krotek in lista_wynikowa:\n",
        "                suma_kolumny += lista_krotek[indeks_kolumny]\n",
        "\n",
        "            suma_krotek.append(suma_kolumny)\n",
        "\n",
        "        return suma_krotek\n",
        "    else:\n",
        "        print(\"Błąd podczas przetwarzania listy krotek.\")\n",
        "        return None\n"
      ],
      "metadata": {
        "id": "s6JjurXoEkCx"
      },
      "execution_count": null,
      "outputs": []
    },
    {
      "cell_type": "code",
      "source": [
        "# @title oblicz najdluzszy string w kolumnie { form-width: \"500px\", display-mode: \"both\" }\n",
        "\n",
        "kolumna = \"\"\n",
        "\n",
        "def oblicz_najdluzszy_string(kolumna):\n",
        "    return max(len(str(wartosc)) for wartosc in kolumna if isinstance(wartosc, str))\n"
      ],
      "metadata": {
        "id": "2VgGnQNqEmET"
      },
      "execution_count": null,
      "outputs": []
    },
    {
      "cell_type": "code",
      "source": [
        "# @title zapisz sumy do excel { form-width: \"500px\", display-mode: \"both\" }\n",
        "\n",
        "def zapisz_sumy_do_excel(suma_krotek, sciezka_do_pliku_excel):\n",
        "    try:\n",
        "        # Utwórz nowy plik Excel\n",
        "        wb = load_workbook(sciezka_do_pliku_excel)\n",
        "\n",
        "        # nowy_workbook = openpyxl.Workbook()\n",
        "        nowy_sheet = wb.active\n",
        "\n",
        "        # Ustaw szerokość kolumn do zawartości\n",
        "        for kolumna_index, suma_kolumny in enumerate(suma_krotek, start=2):\n",
        "            szerokosc_kolumny = max(len(str(wartosc)) for wartosc in suma_kolumny)\n",
        "            nowy_sheet.column_dimensions[openpyxl.utils.get_column_letter(kolumna_index)].width = szerokosc_kolumny\n",
        "\n",
        "        # Ustawienia formatowania\n",
        "        align_center = Alignment(horizontal='center', vertical='center', wrap_text=True)\n",
        "        date_format = '%Y.%m.%d'\n",
        "\n",
        "        # Zapisz sumy kolumn do kolumny B, zaczynając od wiersza 4\n",
        "        for indeks, suma_kolumny in enumerate(suma_krotek, start=1):\n",
        "            for nr_wiersza, wartosc in enumerate(suma_kolumny, start=4):\n",
        "                komorka = nowy_sheet.komórka(row=nr_wiersza, column=indeks + 1, value=wartosc)\n",
        "\n",
        "                # Wysrodkuj komórkę\n",
        "                komorka.alignment = align_center\n",
        "\n",
        "                # Ustaw format daty w kolumnie C\n",
        "                if indeks == 4:\n",
        "                    if isinstance(wartosc, datetime):\n",
        "                        komorka.number_format = date_format\n",
        "\n",
        "        # Zapisz plik Excel\n",
        "        wb.save(sciezka_do_pliku_excel)\n",
        "        print(f\"Sumy kolumn zostały zapisane do pliku Excel: {sciezka_do_pliku_excel}\")\n",
        "    except Exception as e:\n",
        "        print(f\"Błąd podczas zapisywania pliku Excel: {e}\")\n"
      ],
      "metadata": {
        "id": "BHKrRicVEpjn"
      },
      "execution_count": null,
      "outputs": []
    },
    {
      "cell_type": "code",
      "source": [
        "# @title godz. i data w nazwie pliku { vertical-output: true, form-width: \"650px\", display-mode: \"both\" }\n",
        "nazwa_pliku_z_rozszerzeniem = \"jakis plik.xlsx\" # @param {type:\"string\"}\n",
        "nazwa_katalogu = \"folder_na_pliki\" # @param {type:\"string\"}\n",
        "\n",
        "# Funkcja tworzy nowy plik exel i zapisuje z nazwa zawierająca m.in\n",
        "# godzinę i datę utworzenie pliku\n",
        "\n",
        "def czas_i_data_w_nazwie_pliku(arg_1_positional_nazwa_pliku_z_rozszerzeniem, arg_2_named_nazwa_katalogu = 'NowyFolderDefault'):\n",
        "\n",
        "  try:\n",
        "    sprawdz_czy_katalog_istnieje(arg_2_named_nazwa_katalogu)\n",
        "\n",
        "    wb = Workbook()\n",
        "    ws = wb.active\n",
        "\n",
        "    # Save the file with actual date and time\n",
        "    data_czas = actual_datetime()\n",
        "    print(data_czas)\n",
        "\n",
        "    lista_daty = [\"_\", data_czas['czas'], \"___\", data_czas['data']]\n",
        "    skrot_do_daty_i_godziny = \"\".join(lista_daty)\n",
        "    print(skrot_do_daty_i_godziny)\n",
        "\n",
        "    podzielona_nazwa_pliku = split_filename_and_extension(arg_1_positional_nazwa_pliku_z_rozszerzeniem)\n",
        "    print(podzielona_nazwa_pliku)\n",
        "\n",
        "    nowa_nazwa_pliku_skladowe = [podzielona_nazwa_pliku.get('name_key'),\n",
        "                                skrot_do_daty_i_godziny,\n",
        "                                podzielona_nazwa_pliku.get('ext_key')]\n",
        "    print(nowa_nazwa_pliku_skladowe)\n",
        "\n",
        "    nowa_nazwa_pliku = \"\".join(nowa_nazwa_pliku_skladowe)\n",
        "    print(nowa_nazwa_pliku)\n",
        "\n",
        "    wb.save(os.path.join(arg_2_named_nazwa_katalogu, nowa_nazwa_pliku))\n",
        "    files.download(os.path.join(arg_2_named_nazwa_katalogu, nowa_nazwa_pliku))\n",
        "\n",
        "  except Exception as e:\n",
        "    print(f\"wyje.ało błęda: {e}\")\n",
        "\n",
        "# testy\n",
        "# czas_i_data_w_nazwie_pliku(nazwa_pliku_z_rozszerzeniem, arg_2_named_nazwa_katalogu=nazwa_katalogu)\n",
        "# czas_i_data_w_nazwie_pliku(nazwa_pliku_z_rozszerzeniem)\n"
      ],
      "metadata": {
        "id": "Su2OfI8BDZGN"
      },
      "execution_count": null,
      "outputs": []
    },
    {
      "cell_type": "code",
      "source": [
        "# @title usun_pliki_lub_katalogi { vertical-output: true, form-width: \"650px\", display-mode: \"both\" }\n",
        "usun_pliki_lub_katalogi(\"/content/NowyFolderDefault\")"
      ],
      "metadata": {
        "id": "IKh_GfR0yikj"
      },
      "execution_count": null,
      "outputs": []
    },
    {
      "cell_type": "code",
      "source": [
        "# @title znajdz słownik { form-width: \"500px\", display-mode: \"both\" }\n",
        "\n",
        "def znajdz_slownik(lista_slownikow, szukany_klucz):\n",
        "    for slownik in lista_slownikow:\n",
        "        if \"klucz\" in slownik and slownik[\"klucz\"] == szukany_klucz:\n",
        "            return slownik\n",
        "    return None  # Zwraca None, jeśli nie znaleziono słownika o podanym kluczu"
      ],
      "metadata": {
        "id": "VCmPL966I8w8"
      },
      "execution_count": null,
      "outputs": []
    },
    {
      "cell_type": "code",
      "source": [
        "# @title przetwarzaj pliki excel { form-width: \"500px\", display-mode: \"both\" }\n",
        "\n",
        "def przetwarzaj_pliki_excel(sciezka_katalogu):\n",
        "    # Zamień wszystkie ukośniki na /\n",
        "    sciezka_katalogu = sciezka_katalogu.replace('\\\\', '/')\n",
        "\n",
        "    # Upewnij się, że ścieżka ma poprawny separator na końcu\n",
        "    if not sciezka_katalogu.endswith('/'):\n",
        "        sciezka_katalogu += '/'\n",
        "\n",
        "    # Inicjalizuj kolekcje kolumn\n",
        "    kolumny_do_skopiowania = ['B', 'C', 'D', 'E', 'F', 'K', 'S']\n",
        "    lista_slownikow_z_wartosciami_kolumn = []\n",
        "\n",
        "    for item in kolumny_do_skopiowania:\n",
        "      lista_slownikow_z_wartosciami_kolumn.append({\"klucz\": item, \"val\": []})\n",
        "\n",
        "    # Wyświetl utworzoną listę słowników\n",
        "    # for slownik in lista_slownikow_z_wartosciami_kolumn:\n",
        "        # print(slownik)\n",
        "\n",
        "    # Pętla po plikach Excel w podanym katalogu\n",
        "    for plik in os.listdir(sciezka_katalogu):\n",
        "        if plik.lower().endswith((\".xlsx\", \".xls\")):  # Sprawdź, czy plik to Excel (ignoruj wielkość liter)\n",
        "            pelna_sciezka = os.path.join(sciezka_katalogu, plik)\n",
        "            # print()\n",
        "            nazwa_pliku = os.path.basename(pelna_sciezka)\n",
        "            slownik_z_nazwa_pliku = rozdziel_nazwe_pliku_od_rozszerzenia(nazwa_pliku)\n",
        "\n",
        "            # Sprawdź, czy ścieżka do pliku istnieje, a jeśli nie, spróbuj dokonać zamiany ukośników\n",
        "            if not os.path.exists(pelna_sciezka):\n",
        "                pelna_sciezka = pelna_sciezka.replace('/', '\\\\') if '/' in pelna_sciezka else pelna_sciezka.replace(\n",
        "                    '\\\\', '/')\n",
        "\n",
        "            arkusz = openpyxl.load_workbook(pelna_sciezka).active\n",
        "\n",
        "            daty_jako_string = []\n",
        "\n",
        "            for kolumna in kolumny_do_skopiowania:\n",
        "                szukany_klucz = kolumna\n",
        "                znaleziony_slownik = znajdz_slownik(lista_slownikow_z_wartosciami_kolumn, szukany_klucz)\n",
        "\n",
        "                for wiersz in range(2, arkusz.max_row + 1):\n",
        "                  numer_komorki = kolumna + str(wiersz)\n",
        "                  wartosc = arkusz[numer_komorki].value\n",
        "\n",
        "                  if znaleziony_slownik['klucz'] == 'F':\n",
        "                    # Konwertujemy wartość daty do formatu \"22.12.2024\" i zapisujemy jako string\n",
        "                    if isinstance(wartosc, datetime):\n",
        "                      znaleziony_slownik[\"val\"].append(wartosc.strftime(\"%d.%m.%Y\"))\n",
        "                    else:\n",
        "                        daty_jako_string.append(None)\n",
        "                  else:\n",
        "                    znaleziony_slownik[\"val\"].append(wartosc)\n",
        "\n",
        "    return lista_slownikow_z_wartosciami_kolumn"
      ],
      "metadata": {
        "id": "AKTkiALLZ0bS"
      },
      "execution_count": null,
      "outputs": []
    },
    {
      "cell_type": "code",
      "source": [
        "# @title Excel MainAPP { vertical-output: false, form-width: \"600px\", display-mode: \"both\" }\n",
        "nazwa_sprawy = \"KZP-ŁA.2110.03.2024 Dostawa skanerów płomienia Lamtec\"\n",
        "rozszerzenie = \"xlsx\"\n",
        "\n",
        "print(\"nazwa sprawy:\\t\\t\\t\\t\\t\", nazwa_sprawy)\n",
        "\n",
        "# KZP-ŁA.2110.03.2024 Dostawa skanerów płomienia Lamtec\n",
        "\n",
        "# pełna ścieżka do pliku (bez unidekodowania)\n",
        "pelna_sciezka_do_pliku = f\"/content/{nazwa_sprawy}.{rozszerzenie}\"\n",
        "print(\"pelna_sciezka_do_pliku (bez dekodowania):\\t\", pelna_sciezka_do_pliku)\n",
        "\n",
        "# podaj nazwę wraz z rozszerzeniem\n",
        "nazwa_sprawy_w_nazwie_pliku_bez_ogonkow = zamien_znaki_w_nazwie_pliku(f\"{nazwa_sprawy}.{rozszerzenie}\")\n",
        "print(f\"nazwa sprawy w nazwie pliku (bez ogonkow):\\t{nazwa_sprawy_w_nazwie_pliku_bez_ogonkow}\")\n",
        "\n",
        "\n",
        "\n",
        "# sprawdz_czy_katalog_istnieje(\"/content/zz\")\n",
        "# import_files(\"/content/zz\")\n",
        "# wartosci_kolumn = przetwarzaj_pliki_excel(\"/content/zz\")\n",
        "\n",
        "# for slownik in wartosci_kolumn:\n",
        "#   print(slownik)\n",
        "\n",
        "# utworz_plik_excel(nazwa_sprawy, nazwa_sprawy_w_nazwie_pliku_bez_ogonkow)\n",
        "# wklej_dane_do_arkusza(nazwa_sprawy_w_nazwie_pliku_bez_ogonkow, wartosci_kolumn)\n"
      ],
      "metadata": {
        "id": "aAIuSDQsGsVf"
      },
      "execution_count": null,
      "outputs": []
    },
    {
      "cell_type": "markdown",
      "source": [
        "# `word`"
      ],
      "metadata": {
        "id": "4lYVGb71Yua9"
      }
    },
    {
      "cell_type": "code",
      "source": [
        "# @title klasa - encja punktów { vertical-output: true, form-width: \"600px\", display-mode: \"both\" }\n",
        "\n",
        "\n",
        "class Punkt:\n",
        "  levels_number = None\n",
        "\n",
        "  def __init__(self, point_dict):\n",
        "    self._levels_number = len(point_dict)\n",
        "    self._dict_with_data = point_dict\n",
        "\n",
        "  @property\n",
        "  def get_levels_number(self):\n",
        "    return self._levels_number\n",
        "\n",
        "  @property\n",
        "  def get_dict_with_data(self):\n",
        "    return self._dict_with_data"
      ],
      "metadata": {
        "id": "QEWMIcCBSWEc"
      },
      "execution_count": null,
      "outputs": []
    },
    {
      "cell_type": "code",
      "source": [
        "# @title utwórz punkty do Word'a { form-width: \"600px\", display-mode: \"both\" }\n",
        "string_level_1 = \"\"\n",
        "string_level_2 = \"\"\n",
        "variable_name = \"\"\n",
        "\n",
        "\n",
        "def utworz_punkty():\n",
        "  level_1 = [\"CENA OFERTOWA (CENA ZA WYKONANIE PRZEDMIOTU ZAMÓWIENIA):\",\n",
        "             \"W ofercie Wykonawca poda Cenę ofertową w PLN w następującym układzie:\"]\n",
        "  level_2 = [\"Cena ofertowa netto\\t\\t(wartościowo),\",\n",
        "             \"Podatek VAT\\t\\t\\t(wartościowo),\", \"Cena ofertowa brutto\\t\\t(wartościowo i słownie).\"]\n",
        "  levels = {\"1\": level_1,\n",
        "            \"2\": level_2}\n",
        "\n",
        "  # wyświetlenie parametrów punktu\n",
        "  punkt_1 = Punkt(levels)\n",
        "  # print(\"Liczba poziomów: \", punkt_1.get_levels_number)\n",
        "\n",
        "  for key, value in punkt_1.get_dict_with_data.items():\n",
        "    print(f\"poziom: {key}\")\n",
        "    for vals in value:\n",
        "      print(vals)\n",
        "\n",
        "  doc = Document()\n",
        "\n",
        "  if isinstance(levels, dict):\n",
        "    for key, value in levels.items():\n",
        "      if key == \"1\":\n",
        "        paragraf = doc.add_paragraph(value, style = 'ListNumber')\n",
        "      elif key == \"2\":\n",
        "        for list_item in value:\n",
        "          sub_paragraf = doc.add_paragraph(list_item, style = 'ListBullet')\n",
        "\n",
        "  doc.add_page_break()\n",
        "\n",
        "  doc.save(\"sample_word_levels.docx\")\n",
        "  files.download(\"sample_word_levels.docx\")"
      ],
      "metadata": {
        "id": "qdlzqh7FNhT4"
      },
      "execution_count": null,
      "outputs": []
    },
    {
      "cell_type": "code",
      "source": [
        "# @title wczytaj paragrafy z pliku docs - analiza zawartości { form-width: \"500px\", display-mode: \"both\" }\n",
        "nazwa_pliku = \"\"\n",
        "upload_directory_path = \"\"\n",
        "\n",
        "def wczytaj_paragrafy_z_pliku_word(nazwa_pliku, upload_directory_path):\n",
        "    import_files(upload_directory_path)\n",
        "    doc = Document(os.path.join(upload_directory_path, \"demo.docx\"))\n",
        "    # for index, paragraf in enumerate(doc.paragraphs):\n",
        "      # print(f\"\\n\\n--> Paragraf nr {index} \\n\", paragraf.text)\n",
        "\n",
        "# testy\n",
        "# wczytaj_paragrafy_z_pliku_word(\"zz\", \"demo.docx\")\n"
      ],
      "metadata": {
        "id": "Yl-3b22HSjSn"
      },
      "execution_count": null,
      "outputs": []
    },
    {
      "cell_type": "code",
      "source": [
        "# @title praca z plikiem word { form-width: \"300px\", display-mode: \"both\" }\n",
        "\n",
        "def praca_z_plikiem_word():\n",
        "\n",
        "  doc = Document()\n",
        "\n",
        "  # modyfikacja stylu Normal\n",
        "  normal_style = doc.styles['Normal']\n",
        "  normal_style.font.name = 'Tahoma'\n",
        "  normal_style.font.size = Pt(9)\n",
        "  normal_style.paragraph_format.alignment = WD_ALIGN_PARAGRAPH.LEFT\n",
        "\n",
        "  # styl nagłówka GŁÓWNEGO\n",
        "  style = doc.styles.add_style('nagłówek_główny_styl', 1)\n",
        "  style.font.name = 'Tahoma'\n",
        "  style.font.size = Pt(9)\n",
        "  style.paragraph_format.alignment = WD_ALIGN_PARAGRAPH.CENTER\n",
        "\n",
        "  # zmiana marginesu storny\n",
        "  sekcja = doc.sections[0]\n",
        "  sekcja.left_margin = Inches(1)\n",
        "  sekcja.right_margin = Inches(1)\n",
        "  szerokosc_strony = sekcja.page_width - sekcja.left_margin - sekcja.right_margin\n",
        "\n",
        "  # dodanie logo firmy\n",
        "  logo_sciezka = '/content/uploaded/nagłowek_enea.PNG'\n",
        "\n",
        "  if not check_if_file_exists(logo_sciezka):\n",
        "    upload_files(os.path.dirname(logo_sciezka))\n",
        "    logo_added = doc.add_picture(logo_sciezka)\n",
        "    wciecie_logo = szerokosc_strony - logo_added.width / 2\n",
        "  else:\n",
        "    logo_added = doc.add_picture(logo_sciezka)\n",
        "    wciecie_logo = szerokosc_strony - logo_added.width / 2\n",
        "\n",
        "  # dane wejściowe\n",
        "  nazwa_sprawy = \"KZP.ŁA.2110.23.2024 Dostawa łożysk\"\n",
        "  data_dokumentu = datetime.now().strftime('%d.%m.%Y')\n",
        "  # data_dokumentu = datetime.now().strftime('%d.%m.%Y %H:%M:%S')\n",
        "\n",
        "  # dodanie znaku sprawy i daty\n",
        "  p = doc.add_paragraph(f'Nasz znak: ')\n",
        "  run_znak_sprawy = p.add_run(f'{nazwa_sprawy}')\n",
        "  run_znak_sprawy.bold = True\n",
        "  p.style = 'Normal'\n",
        "\n",
        "  # dodanie daty dokumentu\n",
        "  data = doc.add_paragraph(f\"Świerże Górne, dn. \")\n",
        "  data_run = data.add_run(f'{data_dokumentu}r.')\n",
        "  data_run.bold = True\n",
        "  data.alignment = WD_ALIGN_PARAGRAPH.RIGHT\n",
        "\n",
        "  # dodanie nagłówka\n",
        "  nagłówek_text = doc.add_heading('ZAPYTANIE OFERTOWE (RFX)', 0)\n",
        "  nagłówek_text.style = 'nagłówek_główny_styl'\n",
        "\n",
        "  pkt_1 = \"WPROWADZENIE:\\nNiniejsze Zapytanie jest podstawą do złożenia ofert.\"\n",
        "  pkt_2 = \"TRYB UDZIELENIA ZAMÓWIENIA:\\nPostępowanie w trybie Zapytania Ofertowego (RFX) prowadzone jest w oparciu o wewnętrzny Regulamin Udzielania Zamówień i Zawierania Umów (RUZiZU) Zamawiającego, dla którego nie mają zastosowania przepisy ustawy z dnia 11.09.2019 r. Prawo zamówień publicznych.\"\n",
        "  podpunkt_3_1 = f\"Wykonanie usługi pn. \\\"{nazwa_sprawy}\\\".\"\n",
        "  podpunkt_3_2 = \"Zakres dostawy wg: Załącznika Nr 1 pn. \\\"Zakres Przedmiotu zamówienia\\\".\"\n",
        "  pkt_3 = {\"PRZEDMIOT ZAMÓWIENIA\": [podpunkt_3_1, podpunkt_3_2]}\n",
        "  pkt_4 = \"OFERTY CZĘŚCIOWE:\\nZamawiający dopuszcza składania ofert częściowych.\"\n",
        "  pkt_5 = \"OFERTY WARIANTOWE:\\nZamawiający nie dopuszcza składania ofert wariantowych.\"\n",
        "  podpunkt_6_1 = \"rozpoczęcie wykonywania Przedmiotu umowy  – od dnia podpisania Zamówienia,\"\n",
        "  podpunkt_6_2 = f\"zakończenie wykonywania Przedmiotu umowy – zgodnie z załącznikiem „1. Załącznik {nazwa_sprawy} — zakres przedmiotu zamówienia”; lub 1 tydzień od daty otrzymania zamówienia, termin ten uważany będzie za dochowany przez Wykonawcę w przypadku, gdy przed jego upływem nastąpi protokolarny, bezusterkowy odbiór końcowy prac będących Przedmiotem umowy,\"\n",
        "  pkt_6 = {\"TERMINY REALIZACJI: \":[podpunkt_6_1, podpunkt_6_2]}\n",
        "  podpunkt_7_1 = \"Realizacja przedmiotu zamówienia polega na:  Dostawie dla Enea Wytwarzanie sp. z o.o. fabrycznie nowych, nieużywanych, nieregenerowanych wyrobów będących przedmiotem niniejszego zapytania ofertowego wykonanych zgodnie z opisem przedmiotu zamówienia.\"\n",
        "  pkt_7 = {\"SZCZEGÓŁOWE WARUNKI TECHNICZNE/TECHNOLOGICZNE REALIZACJI PRZEDMIOTU ZAMÓWIENIA\":[podpunkt_7_1]}\n",
        "\n",
        "  lista_punktów = [pkt_1, pkt_2, pkt_3, pkt_4, pkt_5, pkt_6, pkt_7]\n",
        "\n",
        "  for punkt in lista_punktów:\n",
        "    if isinstance(punkt, dict):\n",
        "      for main_item, sub_items in punkt.items():\n",
        "        paragraf = doc.add_paragraph(main_item, style = 'ListNumber')\n",
        "        for sub_item in sub_items:\n",
        "          sub_paragraf = doc.add_paragraph(sub_item, style = 'ListBullet')\n",
        "          sub_paragraf.paragraph_format.left_indent = 360\n",
        "    else:\n",
        "      paragraf = doc.add_paragraph(punkt, style = 'ListNumber')\n",
        "\n",
        "  doc.add_page_break()\n",
        "\n",
        "  # złożenie nowej nazwy pliku wraz z nazwą sprawy\n",
        "  podzielona_nazwa_pliku_slownik = split_filename_and_extension(\"Zapytanie_ofertowe_RFX.docx\")\n",
        "  nazwa_trzon = podzielona_nazwa_pliku_slownik['name_key']\n",
        "  rozszerzenie = podzielona_nazwa_pliku_slownik['ext_key']\n",
        "\n",
        "  skladowe_nazwy_pliku = [nazwa_trzon, \"_\", nazwa_sprawy, rozszerzenie]\n",
        "  nowa_nazwa_pliku = \"\".join(skladowe_nazwy_pliku)\n",
        "  print(nowa_nazwa_pliku)\n",
        "\n",
        "  doc.save(nowa_nazwa_pliku)\n",
        "  files.download(nowa_nazwa_pliku)"
      ],
      "metadata": {
        "id": "wf66CvM8gDzw"
      },
      "execution_count": null,
      "outputs": []
    },
    {
      "cell_type": "code",
      "source": [
        "# @title main word app { form-width: \"600px\", display-mode: \"both\" }\n",
        "# praca_z_plikiem_word()"
      ],
      "metadata": {
        "id": "4xMe8z93R2_W"
      },
      "execution_count": null,
      "outputs": []
    },
    {
      "cell_type": "markdown",
      "source": [
        "# `PDF`"
      ],
      "metadata": {
        "id": "wF_ZEWJCJuue"
      }
    },
    {
      "cell_type": "code",
      "source": [
        "# @title konwertuje format daty z PDF { vertical-output: true, form-width: \"500px\", display-mode: \"both\" }\n",
        "pd = \"\" # @param {type:\"string\"}\n",
        "\n",
        "def convertPdfDatetime(pd):\n",
        "    dtformat = \"%Y%m%d%H%M%S\"\n",
        "    clean = pd.replace(\"D:\", \"\").split('+')[0]\n",
        "    return datetime.strptime(clean, dtformat)\n",
        "\n",
        "# Przykładowa data z pliku PDF\n",
        "data_z_pdf = \"D:20220127153000+02'00'\"\n",
        "\n",
        "# Wywołanie funkcji\n",
        "wynik = convertPdfDatetime(data_z_pdf)\n",
        "\n",
        "# Wyświetlenie wyniku\n",
        "print(wynik)\n"
      ],
      "metadata": {
        "id": "V1NCC5KMp3HF"
      },
      "execution_count": null,
      "outputs": []
    },
    {
      "cell_type": "code",
      "source": [
        "# @title dodaj pustą stronę do pliku PDF { vertical-output: true, form-width: \"500px\", display-mode: \"both\" }\n",
        "\n",
        "writer = \"\" # @param {type:\"string\"}\n",
        "path_destination = \"\" # @param {type:\"string\"}\n",
        "\n",
        "def add_blank_page(writer, path_destination):\n",
        "  writer.add_blank_page(width=200, height=200)\n",
        "\n",
        "  data = b\"any bytes - typically read from a file\"\n",
        "  writer.add_attachment(\"smile.png\", data)\n",
        "\n",
        "  with open(\"output.pdf\", \"wb\") as output_stream:\n",
        "      writer.write(output_stream)"
      ],
      "metadata": {
        "id": "7TgbeKzZJ348"
      },
      "execution_count": null,
      "outputs": []
    },
    {
      "cell_type": "code",
      "source": [
        "# @title sprawdź czy plik PDF jest zaszyfrowany { vertical-output: true, form-width: \"500px\" }\n",
        "path_to_file = \"\" # @param {type:\"string\"}\n",
        "\n",
        "def check_if_encrypted(path_to_file):\n",
        "  if os.path.isfile(path_to_file):\n",
        "    reader = PdfReader(path_to_file)\n",
        "\n",
        "    if reader.is_encrypted:\n",
        "      writer = PdfWriter()\n",
        "      password = input(\"Enter your password: \")\n",
        "      reader.decrypt(password)\n",
        "\n",
        "      # Add all pages to the writer\n",
        "      for page in reader.pages:\n",
        "          writer.add_page(page)\n",
        "\n",
        "      # Save the new PDF to a file\n",
        "      with open(path_to_file, \"wb\") as f:\n",
        "          writer.write(f)\n",
        "\n",
        "      print(\"plik rozszyfrowany\")\n",
        "    else:\n",
        "      print(\"plik NIE był zaszyfrowany\")"
      ],
      "metadata": {
        "id": "HBLizJN1J57Y"
      },
      "execution_count": null,
      "outputs": []
    },
    {
      "cell_type": "code",
      "source": [
        "# @title czytaj adnotacje { vertical-output: true, form-width: \"500px\", display-mode: \"both\" }\n",
        "reader = \"\" # @param {type:\"string\"}\n",
        "\n",
        "def annots_reading(reader):\n",
        "  print(\"funkcja annots_reading załadowana\")\n",
        "\n",
        "  attachments = {}\n",
        "\n",
        "  for page in reader.pages:\n",
        "    if \"/Annots\" in page:\n",
        "        for annot in page[\"/Annots\"]:\n",
        "            obj = annot.get_object()\n",
        "            annotation = {\"subtype\": obj[\"/Subtype\"], \"location\": obj[\"/Rect\"]}\n",
        "            print(annotation)\n",
        "\n",
        "            # text\n",
        "            subtype = annot.get_object()[\"/Subtype\"]\n",
        "            if subtype == \"/Text\":\n",
        "                print(annot.get_object()[\"/Contents\"])\n",
        "\n",
        "            # Highlights\n",
        "            subtype = annot.get_object()[\"/Subtype\"]\n",
        "            if subtype == \"/Highlight\":\n",
        "                coords = annot.get_object()[\"/QuadPoints\"]\n",
        "                x1, y1, x2, y2, x3, y3, x4, y4 = coords\n",
        "\n",
        "            # # attachments\n",
        "            # subtype = annot.get_object()[\"/Subtype\"]\n",
        "            # if subtype == \"/FileAttachment\":\n",
        "            #     fileobj = annotobj[\"/FS\"]\n",
        "            #     attachments[fileobj[\"/F\"]] = fileobj[\"/EF\"][\"/F\"].get_data()\n",
        "    else:\n",
        "      # print(\"brak andotacji w pliku\")\n",
        "      pass"
      ],
      "metadata": {
        "id": "YmfxSlVKJ8Gm"
      },
      "execution_count": null,
      "outputs": []
    },
    {
      "cell_type": "code",
      "source": [
        "# @title Add the metadata { vertical-output: true, form-width: \"500px\", display-mode: \"both\" }\n",
        "path_to_file = \"\" # @param {type:\"string\"}\n",
        "\n",
        "def add_metadata(path_to_file):\n",
        "  reader = PdfReader(path_to_file)\n",
        "  writer = PdfWriter()\n",
        "\n",
        "  # Add all pages to the writer\n",
        "  for page in reader.pages:\n",
        "      writer.add_page(page)\n",
        "\n",
        "  writer.add_metadata(\n",
        "      {\n",
        "          \"/Author\": \"Martino\",\n",
        "          \"/Producer\": \"Libre Writer\",\n",
        "          \"/Subject\": \"kikk\",\n",
        "          \"/Title\": \"jakis_tytul\",\n",
        "          # \"/ModDate\": modification_date  # Adding modification date\n",
        "      }\n",
        "  )\n",
        "\n",
        "  with open(os.path.join(path_to_working_directory, path_to_file), \"wb\") as f:\n",
        "    writer.write(f)"
      ],
      "metadata": {
        "id": "OFp22hZoKAIK"
      },
      "execution_count": null,
      "outputs": []
    },
    {
      "cell_type": "code",
      "source": [
        "# @title czytaj metadane { vertical-output: true, form-width: \"500px\", display-mode: \"both\" }\n",
        "\n",
        "reader = \"\" # @param {type:\"string\"}\n",
        "\n",
        "def read_metadata(reader):\n",
        "  meta = reader.metadata\n",
        "  print(len(reader.pages))\n",
        "\n",
        "  # All of the following could be None!\n",
        "  print(f\"author: {meta.author}\")\n",
        "  print(f\"creator: {meta.creator}\")\n",
        "  print(f\"producer: {meta.producer}\")\n",
        "  print(f\"subject: {meta.subject}\")\n",
        "  print(f\"title: {meta.title}\")"
      ],
      "metadata": {
        "id": "vujDNiZ7KCEb"
      },
      "execution_count": null,
      "outputs": []
    },
    {
      "cell_type": "code",
      "source": [
        "# @title reading form fields { vertical-output: true, form-width: \"500px\", display-mode: \"both\" }\n",
        "reader = \"\" # @param {type:\"string\"}\n",
        "\n",
        "def reading_form_fields(reader):\n",
        "  # fields = reader.get_form_text_fields()\n",
        "  # fields == {\"key\": \"value\", \"key2\": \"value2\"}\n",
        "  # if reader.isEditable:\n",
        "  fields = reader.get_fields()\n",
        "\n",
        "  if bool(fields):\n",
        "    # print(fields)\n",
        "    for field_name, field_value in fields.items():\n",
        "      print(f\"nazwa pola: {field_name}, wartość: {field_value}\")\n",
        "  else:\n",
        "    print(\"brak fields-ów\")\n",
        "\n",
        "  # for field_name in fields:\n",
        "    # print(field_name)"
      ],
      "metadata": {
        "id": "sATs-Mh5KEDP"
      },
      "execution_count": null,
      "outputs": []
    },
    {
      "cell_type": "code",
      "source": [
        "# @title extract text { vertical-output: true, form-width: \"500px\", display-mode: \"both\" }\n",
        "reader = \"\" # @param {type:\"string\"}\n",
        "\n",
        "def extract_text(reader):\n",
        "  text = \"\"\n",
        "  try:\n",
        "      for page in reader.pages:\n",
        "          text += page.extract_text()\n",
        "  except Exception as exc:\n",
        "      text = fallback_text_extraction(\"example.pdf\")\n",
        "\n",
        "  return text"
      ],
      "metadata": {
        "id": "44WNpoL6KF6g"
      },
      "execution_count": null,
      "outputs": []
    },
    {
      "cell_type": "code",
      "source": [
        "# @title usuwanie stron w pdf { vertical-output: true, form-width: \"500px\", display-mode: \"both\" }\n",
        "source_file = \"\" # @param {type:\"string\"}\n",
        "pages_nums_to_delete = 0 # @param {type:\"integer\"}\n",
        "\n",
        "def page_deleting(source_file, pages_nums_to_delete):\n",
        "  print(source_file)\n",
        "\n",
        "  file_name_without_ext, ext = os.path.splitext(source_file)\n",
        "  new_file_name = ''.join([os.path.basename(file_name_without_ext), ext])\n",
        "\n",
        "  destination_file = os.path.join(os.path.dirname(source_file), new_file_name)\n",
        "  print(file_name_without_ext)\n",
        "  print(ext)\n",
        "  print(new_file_name)\n",
        "\n",
        "  with open(source_file, \"rb\") as file:\n",
        "    reader = PdfReader(file)\n",
        "    writer = PdfWriter()\n",
        "\n",
        "    for page_num in range(len(reader.pages)):\n",
        "      if page_num + 1 not in pages_nums_to_delete:\n",
        "        page_to_stay = reader.pages[page_num]\n",
        "        writer.add_page(page_to_stay)\n",
        "\n",
        "  with open(destination_file, \"wb\") as new_file:\n",
        "    writer.write(new_file)\n",
        "\n",
        "  with open(destination_file, \"rb\") as new_file:\n",
        "    print(f\"liczba stron nowego pliku: {len(PdfReader(new_file).pages)}\")"
      ],
      "metadata": {
        "id": "mTiNoP74KLcB"
      },
      "execution_count": null,
      "outputs": []
    },
    {
      "cell_type": "code",
      "source": [
        "# @title PDF MainAPP { vertical-output: true, form-width: \"500px\", display-mode: \"both\" }\n",
        "\n",
        "def pdf_operations():\n",
        "\n",
        "  filename = os.path.join(os.getcwd(), \"pypdf2\", \"oferta_handlowa_wzor.pdf\")\n",
        "\n",
        "  if check_if_file_exists(filename):\n",
        "    pdf_operations()\n",
        "  else:\n",
        "    upload_files(\"pypdf2\")\n",
        "    pdf_operations()\n",
        "\n",
        "  # usuwanie stron\n",
        "  page_to_delete = [2,3,4,5,6,7,8,9,10,11,12,13,14,15,16]\n",
        "  page_deleting(filename, page_to_delete)\n",
        "\n",
        "  reader = PdfReader(filename)\n",
        "  writer = PdfWriter()\n",
        "\n",
        "  check_if_encrypted(filename)\n",
        "\n",
        "  # annots reading\n",
        "  annots_reading(reader)\n",
        "\n",
        "  # czytanie metadanych\n",
        "  meta = reader.metadata\n",
        "  meta\n",
        "\n",
        "  # iterate over files in directory\n",
        "  # iterate_over_files_in_directory(path_to_working_directory)\n",
        "\n",
        "  # Reading form fields\n",
        "  reading_form_fields(reader)\n",
        "\n",
        "  # extract text\n",
        "  text = extract_text(reader)\n",
        "  print(text)\n",
        "\n",
        "  # add metadata\n",
        "  # add_metadata(filename)"
      ],
      "metadata": {
        "id": "rettydBbKPBy"
      },
      "execution_count": null,
      "outputs": []
    },
    {
      "cell_type": "markdown",
      "source": [
        "# `Brudnopis`"
      ],
      "metadata": {
        "id": "moObirtZmaGM"
      }
    },
    {
      "cell_type": "code",
      "source": [
        "# @title brudnopis { vertical-output: true, form-width: \"600px\", display-mode: \"both\" }\n",
        "\n",
        "class Osoba:\n",
        "    def __init__(self, imie, nazwisko):\n",
        "        self._imie = imie\n",
        "        self._nazwisko = nazwisko\n",
        "\n",
        "    @property\n",
        "    def pelne_imie(self):\n",
        "        return f\"{self._imie} {self._nazwisko}\"\n",
        "\n",
        "    @property\n",
        "    def imie(self):\n",
        "        return self._imie\n",
        "\n",
        "    @imie.setter\n",
        "    def imie(self, nowe_imie):\n",
        "        self._imie = nowe_imie\n",
        "\n",
        "    @property\n",
        "    def nazwisko(self):\n",
        "        return self._nazwisko\n",
        "\n",
        "    @nazwisko.setter\n",
        "    def nazwisko(self, nowe_nazwisko):\n",
        "        self._nazwisko = nowe_nazwisko\n",
        "\n",
        "# Użycie\n",
        "osoba = Osoba(\"Jan\", \"Kowalski\")\n",
        "print(osoba.pelne_imie)  # Odczyt za pomocą gettera\n",
        "osoba.imie = \"Adam\"      # Ustawianie za pomocą settera\n",
        "print(osoba.pelne_imie)  # Odczyt po zmianie imienia\n"
      ],
      "metadata": {
        "id": "iiCagBVXEDUZ"
      },
      "execution_count": null,
      "outputs": []
    },
    {
      "cell_type": "code",
      "source": [
        "# @title Domyślny tekst tytułu { vertical-output: true }\n",
        "\n",
        "def dekorator(funkcja):\n",
        "    def opakowanie():\n",
        "        print(\"Wykonywanie przed funkcją.\")\n",
        "        funkcja()\n",
        "        print(\"Wykonywanie po funkcji.\")\n",
        "    return opakowanie\n",
        "\n",
        "@dekorator\n",
        "def moja_funkcja():\n",
        "    print(\"To jest oryginalna funkcja.\")\n",
        "\n",
        "moja_funkcja()\n"
      ],
      "metadata": {
        "id": "M0JE3NLk0XQP"
      },
      "execution_count": null,
      "outputs": []
    }
  ]
}