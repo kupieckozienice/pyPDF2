{
  "nbformat": 4,
  "nbformat_minor": 0,
  "metadata": {
    "colab": {
      "provenance": []
    },
    "kernelspec": {
      "name": "python3",
      "display_name": "Python 3"
    },
    "language_info": {
      "name": "python"
    }
  },
  "cells": [
    {
      "cell_type": "markdown",
      "source": [
        "# `klonowanie repozytorium`"
      ],
      "metadata": {
        "id": "rjx3N18uNlXN"
      }
    },
    {
      "cell_type": "code",
      "source": [
        "# @title Clone the entire repo { vertical-output: true }\n",
        "repo_link = \"https://github.com/kupieckozienice/pyPDF2\" # @param {type:\"string\"}\n",
        "\n",
        "# https://github.com/kupieckozienice/pyPDF2\n",
        "\n",
        "# !git clone -l -s repo_link cloned-repo\n",
        "# %cd cloned-repo\n",
        "# !ls"
      ],
      "metadata": {
        "id": "MrQetC9ddQdI"
      },
      "execution_count": 1,
      "outputs": []
    },
    {
      "cell_type": "markdown",
      "source": [
        "# `instalowanie bibliotek`"
      ],
      "metadata": {
        "id": "ZdGgafE6Gzpq"
      }
    },
    {
      "cell_type": "code",
      "source": [
        "# @title install unidecode { form-width: \"500px\", display-mode: \"both\" }\n",
        "%pip install unidecode"
      ],
      "metadata": {
        "colab": {
          "base_uri": "https://localhost:8080/"
        },
        "id": "22smGidmdP1U",
        "outputId": "31646a02-c2ee-4685-ef18-b2157d9730ec"
      },
      "execution_count": 2,
      "outputs": [
        {
          "output_type": "stream",
          "name": "stdout",
          "text": [
            "Collecting unidecode\n",
            "  Downloading Unidecode-1.3.8-py3-none-any.whl (235 kB)\n",
            "\u001b[?25l     \u001b[90m━━━━━━━━━━━━━━━━━━━━━━━━━━━━━━━━━━━━━━━━\u001b[0m \u001b[32m0.0/235.5 kB\u001b[0m \u001b[31m?\u001b[0m eta \u001b[36m-:--:--\u001b[0m\r\u001b[2K     \u001b[90m━━━━━━━━━━━━━━━━━━━━━━━━━━━━━━━━━━━━━━━━\u001b[0m \u001b[32m235.5/235.5 kB\u001b[0m \u001b[31m8.5 MB/s\u001b[0m eta \u001b[36m0:00:00\u001b[0m\n",
            "\u001b[?25hInstalling collected packages: unidecode\n",
            "Successfully installed unidecode-1.3.8\n"
          ]
        }
      ]
    },
    {
      "cell_type": "code",
      "source": [
        "# @title install python-docx { form-width: \"750px\", display-mode: \"both\" }\n",
        "%pip install python-docx"
      ],
      "metadata": {
        "id": "PO0M9LH0gVDY",
        "outputId": "faf67110-f18c-4d61-97cb-679d316c3090",
        "colab": {
          "base_uri": "https://localhost:8080/"
        }
      },
      "execution_count": 3,
      "outputs": [
        {
          "output_type": "stream",
          "name": "stdout",
          "text": [
            "Collecting python-docx\n",
            "  Downloading python_docx-1.1.0-py3-none-any.whl (239 kB)\n",
            "\u001b[?25l     \u001b[90m━━━━━━━━━━━━━━━━━━━━━━━━━━━━━━━━━━━━━━━━\u001b[0m \u001b[32m0.0/239.6 kB\u001b[0m \u001b[31m?\u001b[0m eta \u001b[36m-:--:--\u001b[0m\r\u001b[2K     \u001b[90m━━━━━━━━━━━━━━━━━━━━━━━━━━━━━━━━━━━━━━━━\u001b[0m \u001b[32m239.6/239.6 kB\u001b[0m \u001b[31m8.5 MB/s\u001b[0m eta \u001b[36m0:00:00\u001b[0m\n",
            "\u001b[?25hRequirement already satisfied: lxml>=3.1.0 in /usr/local/lib/python3.10/dist-packages (from python-docx) (4.9.4)\n",
            "Requirement already satisfied: typing-extensions in /usr/local/lib/python3.10/dist-packages (from python-docx) (4.5.0)\n",
            "Installing collected packages: python-docx\n",
            "Successfully installed python-docx-1.1.0\n"
          ]
        }
      ]
    },
    {
      "cell_type": "code",
      "source": [
        "# @title install PyPDF2 { form-width: \"600px\", display-mode: \"both\" }\n",
        "%pip install PyPDF2"
      ],
      "metadata": {
        "id": "a8lERaDC0s-u",
        "outputId": "dbfa19ec-431e-4fc1-f82b-08858f36fc04",
        "colab": {
          "base_uri": "https://localhost:8080/"
        }
      },
      "execution_count": 4,
      "outputs": [
        {
          "output_type": "stream",
          "name": "stdout",
          "text": [
            "Collecting PyPDF2\n",
            "  Downloading pypdf2-3.0.1-py3-none-any.whl (232 kB)\n",
            "\u001b[?25l     \u001b[90m━━━━━━━━━━━━━━━━━━━━━━━━━━━━━━━━━━━━━━━━\u001b[0m \u001b[32m0.0/232.6 kB\u001b[0m \u001b[31m?\u001b[0m eta \u001b[36m-:--:--\u001b[0m\r\u001b[2K     \u001b[90m━━━━━━━━━━━━━━━━━━━━━━━━━━━━━━━━━━━━━━━━\u001b[0m \u001b[32m232.6/232.6 kB\u001b[0m \u001b[31m7.6 MB/s\u001b[0m eta \u001b[36m0:00:00\u001b[0m\n",
            "\u001b[?25hInstalling collected packages: PyPDF2\n",
            "Successfully installed PyPDF2-3.0.1\n"
          ]
        }
      ]
    },
    {
      "cell_type": "code",
      "source": [
        "# @title install pdfminer.six { form-width: \"600px\", display-mode: \"both\" }\n",
        "%pip install pdfminer.six"
      ],
      "metadata": {
        "colab": {
          "base_uri": "https://localhost:8080/"
        },
        "id": "Ip0ocTxo2sPI",
        "outputId": "07c46e1c-2294-4e36-d3b9-0a2115adc8b1"
      },
      "execution_count": 5,
      "outputs": [
        {
          "output_type": "stream",
          "name": "stdout",
          "text": [
            "Collecting pdfminer.six\n",
            "  Downloading pdfminer.six-20231228-py3-none-any.whl (5.6 MB)\n",
            "\u001b[2K     \u001b[90m━━━━━━━━━━━━━━━━━━━━━━━━━━━━━━━━━━━━━━━━\u001b[0m \u001b[32m5.6/5.6 MB\u001b[0m \u001b[31m26.4 MB/s\u001b[0m eta \u001b[36m0:00:00\u001b[0m\n",
            "\u001b[?25hRequirement already satisfied: charset-normalizer>=2.0.0 in /usr/local/lib/python3.10/dist-packages (from pdfminer.six) (3.3.2)\n",
            "Requirement already satisfied: cryptography>=36.0.0 in /usr/local/lib/python3.10/dist-packages (from pdfminer.six) (42.0.2)\n",
            "Requirement already satisfied: cffi>=1.12 in /usr/local/lib/python3.10/dist-packages (from cryptography>=36.0.0->pdfminer.six) (1.16.0)\n",
            "Requirement already satisfied: pycparser in /usr/local/lib/python3.10/dist-packages (from cffi>=1.12->cryptography>=36.0.0->pdfminer.six) (2.21)\n",
            "Installing collected packages: pdfminer.six\n",
            "Successfully installed pdfminer.six-20231228\n"
          ]
        }
      ]
    },
    {
      "cell_type": "code",
      "source": [
        "# @title install openpyxl { form-width: \"600px\", display-mode: \"both\" }\n",
        "%pip install openpyxl"
      ],
      "metadata": {
        "id": "dY2jkySJFpti",
        "outputId": "77969889-3faa-4401-cc9a-6f5f1e9c6246",
        "colab": {
          "base_uri": "https://localhost:8080/"
        }
      },
      "execution_count": 6,
      "outputs": [
        {
          "output_type": "stream",
          "name": "stdout",
          "text": [
            "Requirement already satisfied: openpyxl in /usr/local/lib/python3.10/dist-packages (3.1.2)\n",
            "Requirement already satisfied: et-xmlfile in /usr/local/lib/python3.10/dist-packages (from openpyxl) (1.1.0)\n"
          ]
        }
      ]
    },
    {
      "cell_type": "code",
      "source": [
        "# @title install pillow\n",
        "%pip install pillow"
      ],
      "metadata": {
        "id": "F2AEpA3pJCUs",
        "outputId": "cabf74a0-c9c8-4d7f-f4bd-b55d8abcc969",
        "colab": {
          "base_uri": "https://localhost:8080/"
        }
      },
      "execution_count": 7,
      "outputs": [
        {
          "output_type": "stream",
          "name": "stdout",
          "text": [
            "Requirement already satisfied: pillow in /usr/local/lib/python3.10/dist-packages (9.4.0)\n"
          ]
        }
      ]
    },
    {
      "cell_type": "code",
      "source": [
        "# @title install faker\n",
        "%pip install faker"
      ],
      "metadata": {
        "colab": {
          "base_uri": "https://localhost:8080/"
        },
        "id": "B6DgsenUMieI",
        "outputId": "e96e7484-8d5a-459e-a8e0-40a7cd3bcdff"
      },
      "execution_count": 8,
      "outputs": [
        {
          "output_type": "stream",
          "name": "stdout",
          "text": [
            "Collecting faker\n",
            "  Downloading Faker-22.6.0-py3-none-any.whl (1.7 MB)\n",
            "\u001b[?25l     \u001b[90m━━━━━━━━━━━━━━━━━━━━━━━━━━━━━━━━━━━━━━━━\u001b[0m \u001b[32m0.0/1.7 MB\u001b[0m \u001b[31m?\u001b[0m eta \u001b[36m-:--:--\u001b[0m\r\u001b[2K     \u001b[91m━━━━━━━━━\u001b[0m\u001b[90m╺\u001b[0m\u001b[90m━━━━━━━━━━━━━━━━━━━━━━━━━━━━━━\u001b[0m \u001b[32m0.4/1.7 MB\u001b[0m \u001b[31m11.7 MB/s\u001b[0m eta \u001b[36m0:00:01\u001b[0m\r\u001b[2K     \u001b[91m━━━━━━━━━━━━━━━━━━━━━━━━━\u001b[0m\u001b[90m╺\u001b[0m\u001b[90m━━━━━━━━━━━━━━\u001b[0m \u001b[32m1.1/1.7 MB\u001b[0m \u001b[31m16.1 MB/s\u001b[0m eta \u001b[36m0:00:01\u001b[0m\r\u001b[2K     \u001b[91m━━━━━━━━━━━━━━━━━━━━━━━━━━━━━━━━━━━━━━━\u001b[0m\u001b[91m╸\u001b[0m \u001b[32m1.7/1.7 MB\u001b[0m \u001b[31m18.3 MB/s\u001b[0m eta \u001b[36m0:00:01\u001b[0m\r\u001b[2K     \u001b[90m━━━━━━━━━━━━━━━━━━━━━━━━━━━━━━━━━━━━━━━━\u001b[0m \u001b[32m1.7/1.7 MB\u001b[0m \u001b[31m16.3 MB/s\u001b[0m eta \u001b[36m0:00:00\u001b[0m\n",
            "\u001b[?25hRequirement already satisfied: python-dateutil>=2.4 in /usr/local/lib/python3.10/dist-packages (from faker) (2.8.2)\n",
            "Requirement already satisfied: six>=1.5 in /usr/local/lib/python3.10/dist-packages (from python-dateutil>=2.4->faker) (1.16.0)\n",
            "Installing collected packages: faker\n",
            "Successfully installed faker-22.6.0\n"
          ]
        }
      ]
    },
    {
      "cell_type": "markdown",
      "source": [
        "# `import dependencies`"
      ],
      "metadata": {
        "id": "h892SdotOs3i"
      }
    },
    {
      "cell_type": "code",
      "source": [
        "# @title import dependencies { vertical-output: true, form-width: \"500px\", display-mode: \"both\" }\n",
        "# @markdown instalowanie zależności:\n",
        "# @markdown  `os`,\n",
        "# @markdown  `pathlib`, `typing`\n",
        "\n",
        "import os\n",
        "import faker\n",
        "import pathlib as pth\n",
        "from typing import Union, Literal, List\n",
        "from PyPDF2 import PdfReader, PdfWriter\n",
        "from pdfminer.high_level import extract_text as fallback_text_extraction\n",
        "from google.colab import files\n",
        "from docx import Document\n",
        "from docx.shared import Inches, Pt\n",
        "from docx.enum.text import WD_ALIGN_PARAGRAPH\n",
        "from openpyxl import Workbook\n",
        "from openpyxl.worksheet.table import Table, TableStyleInfo\n",
        "import openpyxl\n",
        "from openpyxl.reader.excel import load_workbook\n",
        "from openpyxl.styles import Alignment, Font\n",
        "import pandas as pd\n",
        "from dateutil import tz\n",
        "import re\n",
        "from unidecode import unidecode\n",
        "import random\n",
        "import string\n",
        "import time\n",
        "import random\n",
        "from datetime import datetime, timedelta\n",
        "from enum import Enum\n"
      ],
      "metadata": {
        "id": "oC_2Bdqlp849"
      },
      "execution_count": 83,
      "outputs": []
    },
    {
      "cell_type": "markdown",
      "source": [
        "# `data`"
      ],
      "metadata": {
        "id": "0LedkM_8zqvs"
      }
    },
    {
      "cell_type": "code",
      "source": [
        "# @title aktualna data i godzina { vertical-output: true, form-width: \"500px\", display-mode: \"both\" }\n",
        "\n",
        "def actual_datetime():\n",
        "  teraz = datetime.now(tz=tz.gettz('Europe/Warsaw'))\n",
        "  formatted_date = teraz.strftime(\"%d.%m.%Y\")\n",
        "  formatted_time = teraz.strftime(\"%H:%M:%S\")\n",
        "\n",
        "  # print(formatted_date)\n",
        "  # print(formatted_time)\n",
        "\n",
        "  return {'data': formatted_date, 'czas': formatted_time}\n",
        "\n",
        "################# przykład użycia\n",
        "aktualna_data = actual_datetime()\n",
        "aktualna_data_jako_napis = f\"{aktualna_data['czas']} {aktualna_data['data']}\"\n",
        "# print(aktualna_data)\n",
        "data_wysrodkowana = aktualna_data_jako_napis.center(30, '_')\n",
        "print(data_wysrodkowana)\n",
        "\n"
      ],
      "metadata": {
        "id": "Bw8RT8BLFCTn",
        "outputId": "f55b7894-2b83-4196-e81a-1f56c57d9867",
        "colab": {
          "base_uri": "https://localhost:8080/"
        }
      },
      "execution_count": 69,
      "outputs": [
        {
          "output_type": "stream",
          "name": "stdout",
          "text": [
            "_____08:27:09 04.02.2024______\n"
          ]
        }
      ]
    },
    {
      "cell_type": "markdown",
      "source": [
        "# `operacje systemowe`"
      ],
      "metadata": {
        "id": "APoQdXDuHA83"
      }
    },
    {
      "cell_type": "code",
      "source": [
        "# @title zmień katalog domyślny na /content { vertical-output: true, form-width: \"500px\", display-mode: \"both\" }\n",
        "new_directory_name = \"/content\" # @param {type:\"string\"}\n",
        "os.chdir(new_directory_name)\n",
        "print(os.getcwd())"
      ],
      "metadata": {
        "id": "oRlzm6ULfoak",
        "colab": {
          "base_uri": "https://localhost:8080/"
        },
        "outputId": "c673dd6f-8e18-47a5-c124-4cc1b3d166af"
      },
      "execution_count": 87,
      "outputs": [
        {
          "output_type": "stream",
          "name": "stdout",
          "text": [
            "/content\n"
          ]
        }
      ]
    },
    {
      "cell_type": "code",
      "source": [
        "# @title sprawdzenie czy istnieje katalog roboczy, w którym chcemy pracować { vertical-output: true, form-width: \"500px\", display-mode: \"both\" }\n",
        "directory_path = \"\" # @param {type:\"string\"}\n",
        "\n",
        "def sprawdz_czy_katalog_istnieje(directory_name):\n",
        "  # Ścieżka do katalogu bieżącego\n",
        "  cwd = os.getcwd()\n",
        "  print(f\"katalog \\\"bieżący\\\": {cwd}\")\n",
        "\n",
        "  working_directory_for_creating = os.path.join(cwd, directory_name)\n",
        "  print(f\"katalog roboczy do utworzenia (jeśli nie istnieje): {working_directory_for_creating}\")\n",
        "\n",
        "  try:\n",
        "    if not os.path.exists(working_directory_for_creating):\n",
        "      print(f\"katalog: {working_directory_for_creating} nie istnieje i zostanie utworzony\")\n",
        "      os.makedirs(working_directory_for_creating)\n",
        "    else:\n",
        "      print(f\"katalog: {working_directory_for_creating} już istnieje!\")\n",
        "  except FileExistsError:\n",
        "    print(f\"katalog o nazwie {working_directory_for_creating} już istnieje!\")\n",
        "  except Exception as e:\n",
        "    print(f\"wystąpił błąd podczas tworzenie katalogu: {working_directory_for_creating}\")\n",
        "\n",
        "# testy\n",
        "sprawdz_czy_katalog_istnieje(\"/content/zz\")"
      ],
      "metadata": {
        "id": "xpHkhACx7wIH",
        "outputId": "d10f9419-5044-4312-932c-63bfce43cf3d",
        "colab": {
          "base_uri": "https://localhost:8080/"
        }
      },
      "execution_count": 88,
      "outputs": [
        {
          "output_type": "stream",
          "name": "stdout",
          "text": [
            "katalog \"bieżący\": /content\n",
            "katalog roboczy do utworzenia (jeśli nie istnieje): /content/zz\n",
            "katalog: /content/zz już istnieje!\n"
          ]
        }
      ]
    },
    {
      "cell_type": "code",
      "source": [
        "# @title utwórz nowy plik { vertical-output: true, form-width: \"500px\", display-mode: \"both\" }\n",
        "\n",
        "def utworz_nowy_plik(nazwa_pliku):\n",
        "  aktualna_data_i_godzina = datetime.now().strftime(\"%d.%m.%Y %H.%M.%S %Z\")\n",
        "  print(\"aktualna_data_i_godzina:\", aktualna_data_i_godzina)\n",
        "  sciezka_do_pliku = f'/content/{nazwa_pliku}'\n",
        "\n",
        "  with open(sciezka_do_pliku, \"w\") as plik:\n",
        "    plik.write(aktualna_data_i_godzina)\n"
      ],
      "metadata": {
        "id": "crPKXV29_nC-"
      },
      "execution_count": 13,
      "outputs": []
    },
    {
      "cell_type": "code",
      "source": [
        "# @title sprawdź czy podany plik istnieje { vertical-output: true, form-width: \"500px\", display-mode: \"both\" }\n",
        "\n",
        "path_to_file = \"/content/sample_data/README.md\" # @param {type:\"string\"}\n",
        "# @markdown sprawdza czy plik o podanej ścieżce istnieje\n",
        "\n",
        "def sprawdz_czy_dany_plik_istnieje(path_to_file):\n",
        "  try:\n",
        "    with open(path_to_file, 'r') as file:\n",
        "      print(f\"Plik {path_to_file} istnieje i ma się całkiem nieźle ;-)\")\n",
        "      return True\n",
        "  except FileNotFoundError:\n",
        "    print('Sorry the file we\\'re looking for doesn\\' exist')\n",
        "    return False\n",
        "  except Exception as e:\n",
        "    print(f\"Wystąpił błąd: {e}\")\n",
        "    return False\n",
        "\n",
        "# testy\n",
        "#  /content/KZP-ŁA.2110.03.2024 Dostawa skanerów płomienia Lamtec.xlsx\n",
        "sprawdz_czy_dany_plik_istnieje(path_to_file)"
      ],
      "metadata": {
        "id": "NwyYKWSoW4Uo",
        "outputId": "c613a0aa-30f9-4013-a1d0-8a7ad1d97ffc",
        "colab": {
          "base_uri": "https://localhost:8080/"
        }
      },
      "execution_count": 94,
      "outputs": [
        {
          "output_type": "stream",
          "name": "stdout",
          "text": [
            "Plik /content/sample_data/README.md istnieje i ma się całkiem nieźle ;-)\n"
          ]
        },
        {
          "output_type": "execute_result",
          "data": {
            "text/plain": [
              "True"
            ]
          },
          "metadata": {},
          "execution_count": 94
        }
      ]
    },
    {
      "cell_type": "code",
      "source": [
        "# @title usuń pliki lub katalogi { vertical-output: true, form-width: \"500px\", display-mode: \"both\" }\n",
        "sciezka = \"\" # @param {type:\"string\"}\n",
        "# usuwanie katalogów i plików\n",
        "\n",
        "import shutil\n",
        "\n",
        "def usun_pliki_lub_katalogi(sciezka):\n",
        "  try:\n",
        "    if os.path.isfile(sciezka):\n",
        "      os.remove(sciezka)\n",
        "    elif os.path.isdir(sciezka):\n",
        "      shutil.rmtree(sciezka)\n",
        "      print(f\"Katalog/Plik '{sciezka}' został usunięty\")\n",
        "  except Exception as e:\n",
        "    print(f\"Wystąpił błąd podczas usuwania '{sciezka}': {e}\")\n",
        "\n"
      ],
      "metadata": {
        "id": "vADvmVuixTXi"
      },
      "execution_count": 16,
      "outputs": []
    },
    {
      "cell_type": "code",
      "source": [
        "# @title iteruje przez podany katalog i wyświetle nazwy plików { vertical-output: true, form-width: \"500px\", display-mode: \"both\" }\n",
        "path_to_directory = \"/content/sample_data\" # @param {type:\"string\"}\n",
        "\n",
        "def iterate_over_files_in_directory(path_to_directory):\n",
        "\n",
        "  numerate = 1\n",
        "\n",
        "  for filename in os.listdir(path_to_directory):\n",
        "    f = os.path.join(path_to_directory, filename)\n",
        "    if os.path.isfile(f):\n",
        "      print(f\"{numerate}. {f}\")\n",
        "      numerate = numerate + 1\n",
        "\n",
        "# przykład użycia\n",
        "iterate_over_files_in_directory(path_to_directory)"
      ],
      "metadata": {
        "id": "fpixjq3eJ-T1",
        "outputId": "b132c8b9-65e5-4df8-e2b8-daa68ffa4d88",
        "colab": {
          "base_uri": "https://localhost:8080/"
        }
      },
      "execution_count": 95,
      "outputs": [
        {
          "output_type": "stream",
          "name": "stdout",
          "text": [
            "1. /content/sample_data/README.md\n",
            "2. /content/sample_data/anscombe.json\n",
            "3. /content/sample_data/california_housing_train.csv\n",
            "4. /content/sample_data/mnist_train_small.csv\n",
            "5. /content/sample_data/california_housing_test.csv\n",
            "6. /content/sample_data/mnist_test.csv\n"
          ]
        }
      ]
    },
    {
      "cell_type": "code",
      "source": [
        "# @title importuj pliki do wskazanego katalogu { vertical-output: true, form-width: \"500px\", display-mode: \"both\" }\n",
        "destination_directory = \"/content/zz\" # @param {type:\"string\"}\n",
        "\n",
        "def import_files(destination_directory):\n",
        "\n",
        "  uploaded = files.upload()\n",
        "  # print(uploaded.keys())\n",
        "\n",
        "  for fn in uploaded.keys():\n",
        "    print('User uploaded file \"{name}\" with length {length} bytes'.format(\n",
        "        name=fn, length=len(uploaded[fn])))\n",
        "\n",
        "  for filename, file_content in uploaded.items():\n",
        "    if os.path.exists(destination_directory) and os.path.isdir(destination_directory):\n",
        "      with open(os.path.join(destination_directory, filename), \"wb\") as f:\n",
        "        f.write(file_content)\n",
        "\n",
        "      # remove files from /content\n",
        "      file_to_remove_after_copying_to_working_directory = os.path.join(os.getcwd(), filename)\n",
        "      if os.path.isfile(file_to_remove_after_copying_to_working_directory):\n",
        "        os.remove(file_to_remove_after_copying_to_working_directory)\n",
        "        if not os.path.exists(file_to_remove_after_copying_to_working_directory):\n",
        "          print(f\"plik: {os.path.basename(file_to_remove_after_copying_to_working_directory)} \"\n",
        "          f\"usunięty z katalogu {os.path.dirname(file_to_remove_after_copying_to_working_directory)}\")\n",
        "        else:\n",
        "          print(f\"plik: {os.path.basename(file_to_remove_after_copying_to_working_directory)} \"\n",
        "          f\"NIE usunięty z katalogu {os.path.dirname(file_to_remove_after_copying_to_working_directory)}\")\n",
        "\n",
        "# przykład uzycia\n",
        "# import_files(destination_directory)"
      ],
      "metadata": {
        "id": "itYcWazRKJaO"
      },
      "execution_count": 100,
      "outputs": []
    },
    {
      "cell_type": "code",
      "source": [
        "# @title rozdziel nazwe pliku od rozszerzenia { form-width: \"500px\", display-mode: \"both\" }\n",
        "filename = \"1_Zalacznik_Zakres_Przedmiotu_zamowienia_KZP_LA_2110_01_2024_Dostawa_silownika_Auma____kopia.xlsx\" # @param {type:\"string\"}\n",
        "\n",
        "def split_filename_and_extension(filename):\n",
        "  nazwa_pliku, rozszerzenie_pliku = os.path.splitext(filename)\n",
        "\n",
        "  return {'name_key': nazwa_pliku, 'ext_key': rozszerzenie_pliku}\n",
        "\n",
        "\n",
        "# testy\n",
        "\n",
        "nazwa_pliku_z_rozszerzeniem = split_filename_and_extension(filename)\n",
        "for key, value in nazwa_pliku_z_rozszerzeniem.items():\n",
        "  print(nazwa_pliku_z_rozszerzeniem[key])"
      ],
      "metadata": {
        "id": "23c8w_EjGIkB",
        "outputId": "931fbde4-4fc4-4c16-e9fe-876a6f9b0ab6",
        "colab": {
          "base_uri": "https://localhost:8080/"
        }
      },
      "execution_count": 101,
      "outputs": [
        {
          "output_type": "stream",
          "name": "stdout",
          "text": [
            "1_Zalacznik_Zakres_Przedmiotu_zamowienia_KZP_LA_2110_01_2024_Dostawa_silownika_Auma____kopia\n",
            ".xlsx\n"
          ]
        }
      ]
    },
    {
      "cell_type": "code",
      "source": [
        "# @title zamienia wszystkie inne znaki niż litery i cyfry (oprócz ost. kropki) na '_' (podaj nazwę w formacie nazwa_pliku.rozszerzenie) { form-width: \"600px\", display-mode: \"both\" }\n",
        "nazwa_pliku = \"\\\"nowy plik\\\\xF3 Do\\\\u015B\\\\u0107.doc\\\"\"\n",
        "\n",
        "def generate_random_filename():\n",
        "    # Lista dostępnych liter\n",
        "    litery = list(string.ascii_letters + \"ąćęłńóśźżĄĆĘŁŃÓŚŹŻ\")\n",
        "\n",
        "    # Lista dostępnych rozszerzeń\n",
        "    rozszerzenia = ['txt', 'docx', 'xlsx', 'pdf']\n",
        "\n",
        "    # Wygeneruj losową liczbę członów (od 2 do 5)\n",
        "    liczba_czlonow = random.randint(2, 5)\n",
        "\n",
        "    # Wygeneruj losową nazwę pliku składającą się z członów\n",
        "    nazwa_pliku = ' '.join(''.join(random.choice(litery) for _ in range(random.randint(5, 10))) for _ in range(liczba_czlonow))\n",
        "\n",
        "    # Wygeneruj losowe rozszerzenie\n",
        "    rozszerzenie = random.choice(rozszerzenia)\n",
        "\n",
        "    return f\"{nazwa_pliku}.{rozszerzenie}\"\n",
        "\n",
        "class Wielkosc_Liter(Enum):\n",
        "  DUZE_LITERY_W_CALOSCI = \"UPPER\"\n",
        "  MALE_LITERY_W_CALOSCI = \"LOWER\"\n",
        "  TYLKO_PIERWSZA_NA_POCZATKU_DUZA = \"TITLE\"\n",
        "  DUZA_PIERWSZA_W_KAZDYM_CZLONIE = \"ALL_UPPER\"\n",
        "\n",
        "def switch_case(argument):\n",
        "    switch_dict = {\n",
        "        'case1': 'To jest przypadek 1',\n",
        "        'case2': 'To jest przypadek 2',\n",
        "        'case3': 'To jest przypadek 3',\n",
        "    }\n",
        "\n",
        "    return switch_dict.get(argument, 'To jest domyślny przypadek')\n",
        "\n",
        "def zamien_znaki_w_nazwie_pliku(nazwa_pliku_do_zmiany_znakow, wielkosc_liter = Wielkosc_Liter.MALE_LITERY_W_CALOSCI):\n",
        "  nazwa, rozszerzenie = nazwa_pliku_do_zmiany_znakow.rsplit('.',1) if '.' in nazwa_pliku_do_zmiany_znakow else (nazwa_pliku_do_zmiany_znakow, '')\n",
        "  nazwa_bez_polskich_znakow = unidecode(nazwa)\n",
        "  zmodyfikowana_nazwa = re.sub(r'[^a-zA-Z0-9]', '_', nazwa_bez_polskich_znakow)\n",
        "  zmodyfikowany_string = zmodyfikowana_nazwa + ('.' + rozszerzenie if rozszerzenie else '')\n",
        "\n",
        "  return zmodyfikowany_string\n",
        "\n",
        "# testy\n",
        "losowa_nazwa_pliku = generate_random_filename()\n",
        "print(losowa_nazwa_pliku)\n",
        "result = zamien_znaki_w_nazwie_pliku(losowa_nazwa_pliku)\n",
        "print(result)\n"
      ],
      "metadata": {
        "id": "XeiehizdNfw_",
        "outputId": "ea1db64b-1a56-4da1-9a9f-d30b6d5ad54d",
        "colab": {
          "base_uri": "https://localhost:8080/"
        }
      },
      "execution_count": 112,
      "outputs": [
        {
          "output_type": "stream",
          "name": "stdout",
          "text": [
            "ŻEtTŁłSŃ FRIPźpcAŹ ęArNrŚx źŹgUyTV ńwTBiXCe.docx\n",
            "ZEtTLlSN_FRIPzpcAZ_eArNrSx_zZgUyTV_nwTBiXCe.docx\n"
          ]
        }
      ]
    },
    {
      "cell_type": "code",
      "source": [
        "# @title Generator Nazw Plikow { vertical-output: true, form-width: \"500px\", display-mode: \"both\" }\n",
        "class GeneratorNazwPlikow:\n",
        "  static_variable = 0\n",
        "\n",
        "  def generuj_nazwe_pliku(self, nazwa_pliku, rozszerzenie = \"docx\"):\n",
        "    GeneratorNazwPlikow.static_variable += 1\n",
        "    file_name = f\"{nazwa_pliku}_{GeneratorNazwPlikow.static_variable}.{rozszerzenie}\"\n",
        "\n",
        "    return file_name"
      ],
      "metadata": {
        "id": "WSBLeMYv2lPG"
      },
      "execution_count": 22,
      "outputs": []
    },
    {
      "cell_type": "code",
      "source": [
        "# @title czyszczenie zawartości pliku { vertical-output: true, form-width: \"500px\", display-mode: \"both\" }\n",
        "\n",
        "def wyczysc_zawartosc_pliku(sciezka_do_pliku):\n",
        "  with open(sciezka_do_pliku, \"w\") as plik:\n",
        "    plik.truncate(0)"
      ],
      "metadata": {
        "id": "0MK_ijL870wj"
      },
      "execution_count": 23,
      "outputs": []
    },
    {
      "cell_type": "markdown",
      "source": [
        "# `excel - generowanie danych testowych`"
      ],
      "metadata": {
        "id": "6pXZgq52cJb0"
      }
    },
    {
      "cell_type": "code",
      "source": [
        "# @title generuj losowy numer indeksu { vertical-output: true, form-width: \"300px\", display-mode: \"both\" }\n",
        "\n",
        "def generuj_losowy_numer_indeksu():\n",
        "    numer = \"\"\n",
        "    for _ in range(3):\n",
        "        numer += str(random.randint(100, 999)) + \"-\"\n",
        "    numer += str(random.randint(0, 9))\n",
        "    return numer\n",
        "\n",
        "  # Przykład użycia\n",
        "losowy_numer = generuj_losowy_numer_indeksu()\n",
        "print(losowy_numer)"
      ],
      "metadata": {
        "colab": {
          "base_uri": "https://localhost:8080/"
        },
        "id": "jToLS75snTJQ",
        "outputId": "deb0e7e5-b0a4-4249-c407-ba518e654d94"
      },
      "execution_count": 24,
      "outputs": [
        {
          "output_type": "stream",
          "name": "stdout",
          "text": [
            "406-361-356-8\n"
          ]
        }
      ]
    },
    {
      "cell_type": "code",
      "source": [
        "# @title opis przedmiotu { vertical-output: true, form-width: \"400px\", display-mode: \"both\" }\n",
        "\n",
        "def generuj_losowy_tekst(dlugosc):\n",
        "    litery = string.ascii_letters\n",
        "    return ''.join(random.choice(litery) for _ in range(dlugosc))\n",
        "\n",
        "def generuj_losowa_nazwe_przedmiotu():\n",
        "    losowy_tekst = generuj_losowy_tekst(10)\n",
        "    czas_w_milisekundach = int(round(time.time() * 1000))\n",
        "    nazwa = f\"przedmiot nr {losowy_tekst} {czas_w_milisekundach}\"\n",
        "    return nazwa\n",
        "\n",
        "# Przykład użycia\n",
        "losowa_nazwa = generuj_losowa_nazwe_przedmiotu()\n",
        "print(losowa_nazwa)\n"
      ],
      "metadata": {
        "colab": {
          "base_uri": "https://localhost:8080/"
        },
        "id": "JK8VZeQJoMCZ",
        "outputId": "e2ebcae4-401b-492c-e9fc-5ff8854093f8"
      },
      "execution_count": 25,
      "outputs": [
        {
          "output_type": "stream",
          "name": "stdout",
          "text": [
            "przedmiot nr tDkMcHHgKk 1707031507689\n"
          ]
        }
      ]
    },
    {
      "cell_type": "code",
      "source": [
        "# @title ilość { vertical-output: true, form-width: \"400px\", display-mode: \"both\" }\n",
        "\n",
        "variable_name_1 = 1 # @param {type:\"integer\"}\n",
        "variable_name_2 = 100 # @param {type:\"integer\"}\n",
        "\n",
        "def generuj_ilosc(variable_name_1, variable_name_2):\n",
        "    return random.randint(variable_name_1, variable_name_2)\n",
        "\n",
        "# Przykład użycia\n",
        "zakres_od = 1\n",
        "zakres_do = 100\n",
        "losowa_liczba = generuj_ilosc(variable_name_1, variable_name_2)\n",
        "print(losowa_liczba)\n",
        "\n"
      ],
      "metadata": {
        "colab": {
          "base_uri": "https://localhost:8080/"
        },
        "id": "1A2zs2v3ooiZ",
        "outputId": "f4040587-662f-4c93-bf15-32c8ee944f02"
      },
      "execution_count": 26,
      "outputs": [
        {
          "output_type": "stream",
          "name": "stdout",
          "text": [
            "19\n"
          ]
        }
      ]
    },
    {
      "cell_type": "code",
      "source": [
        "# @title jednostki miary { vertical-output: true, form-width: \"300px\", display-mode: \"both\" }\n",
        "\n",
        "def generuj_jednostke_miary():\n",
        "  tablica_jednostek = ['szt', 'kpl', 'm', 'litr']\n",
        "\n",
        "  prawdopodobienstwo_zerowego_elementu = [0.8]+[0.2/ (len(tablica_jednostek) - 1)] * (len(tablica_jednostek) - 1)\n",
        "  return random.choices(tablica_jednostek, prawdopodobienstwo_zerowego_elementu)[0]\n",
        "\n",
        "# testy\n",
        "print(generuj_jednostke_miary())"
      ],
      "metadata": {
        "colab": {
          "base_uri": "https://localhost:8080/"
        },
        "id": "PAjUUse2yAWy",
        "outputId": "45a4dcf3-c605-4778-ee04-e88e6a70283a"
      },
      "execution_count": 27,
      "outputs": [
        {
          "output_type": "stream",
          "name": "stdout",
          "text": [
            "szt\n"
          ]
        }
      ]
    },
    {
      "cell_type": "code",
      "source": [
        "# @title generuje losową datę { vertical-output: true, form-width: \"450px\", display-mode: \"both\" }\n",
        "zakres_poczatek_str = \"2024-03-15\" # @param {type:\"date\"}\n",
        "zakres_koniec_str = \"2024-12-28\" # @param {type:\"date\"}\n",
        "\n",
        "# Konwersja na obiekty datetime\n",
        "zakres_poczatek = datetime.strptime(zakres_poczatek_str, \"%Y-%m-%d\")\n",
        "zakres_koniec = datetime.strptime(zakres_koniec_str, \"%Y-%m-%d\")\n",
        "\n",
        "# def generuj_date_plus_dwa_tygodnie():\n",
        "#     aktualna_data = datetime.now()\n",
        "#     data_plus_dwa_tygodnie = aktualna_data + timedelta(days=14)\n",
        "#     return data_plus_dwa_tygodnie.strftime(\"%d.%m.%Y\")\n",
        "\n",
        "def generuj_losowa_date(zakres_poczatek, zakres_koniec):\n",
        "    zakres_dat = zakres_koniec - zakres_poczatek\n",
        "    # print(\"zakres_dat: \\t\\t\", zakres_dat)\n",
        "    losowa_liczba_dni = random.randint(0, zakres_dat.days)\n",
        "    losowa_data = zakres_poczatek + timedelta(days=losowa_liczba_dni)\n",
        "    return losowa_data.strftime(\"%d.%m.%Y\")\n",
        "\n",
        "# Przykład użycia\n",
        "zakres_poczatek = datetime(2024, 1, 1)\n",
        "print(\"zakres_poczatek:\\t\", zakres_poczatek)\n",
        "zakres_koniec = datetime(2024, 12, 31)\n",
        "print(\"zakres_koniec:\\t\\t\", zakres_koniec)\n",
        "\n",
        "losowa_data = generuj_losowa_date(zakres_poczatek, zakres_koniec)\n",
        "print(\"losowa_data: \\t\\t\", losowa_data)"
      ],
      "metadata": {
        "colab": {
          "base_uri": "https://localhost:8080/"
        },
        "id": "T6dsDA_Epml0",
        "outputId": "67f8aefb-2af2-4c96-8e64-721bc07da749"
      },
      "execution_count": 28,
      "outputs": [
        {
          "output_type": "stream",
          "name": "stdout",
          "text": [
            "zakres_poczatek:\t 2024-01-01 00:00:00\n",
            "zakres_koniec:\t\t 2024-12-31 00:00:00\n",
            "losowa_data: \t\t 29.08.2024\n"
          ]
        }
      ]
    },
    {
      "cell_type": "code",
      "source": [
        "# @title cena jednostkowa { vertical-output: true, form-width: \"400px\", display-mode: \"both\" }\n",
        "zakres_od = 10 # @param {type:\"number\"}\n",
        "zakres_do = 3455 # @param {type:\"number\"}\n",
        "\n",
        "def generuj_cene_jednostkowa(zakres_od, zakres_do):\n",
        "    losowa_liczba_float = random.uniform(zakres_od, zakres_do)\n",
        "    return round(losowa_liczba_float, 2)\n",
        "\n",
        "# Przykład użycia\n",
        "zakres_od = 1.0\n",
        "zakres_do = 10.0\n",
        "losowa_liczba_float = generuj_cene_jednostkowa(zakres_od, zakres_do)\n",
        "print(losowa_liczba_float)"
      ],
      "metadata": {
        "colab": {
          "base_uri": "https://localhost:8080/"
        },
        "id": "g9g-Ibp9zwCi",
        "outputId": "6041e507-149c-4e4e-fbb7-f19e6682be43"
      },
      "execution_count": 29,
      "outputs": [
        {
          "output_type": "stream",
          "name": "stdout",
          "text": [
            "4.69\n"
          ]
        }
      ]
    },
    {
      "cell_type": "code",
      "source": [
        "# @title kwota za całośc (iloczyn ilości i ceny jedn.) { vertical-output: true, form-width: \"500px\", display-mode: \"both\" }\n",
        "\n",
        "def kwota_za_calosc(ilosc, cena_jednostkowa):\n",
        "  return round(ilosc * cena_jednostkowa, 2)\n",
        "\n",
        "def generuj_losowa_liczbe():\n",
        "    return random.randint(1, 100)\n",
        "\n",
        "def generuj_losowa_liczbe_float():\n",
        "    return round(random.uniform(1.0, 250.0), 2)\n",
        "\n",
        "# Wygeneruj losowe liczby\n",
        "liczba_calkowita = generuj_losowa_liczbe()\n",
        "liczba_zmiennoprzecinkowa = generuj_losowa_liczbe_float()\n",
        "\n",
        "# Pomnóż liczby\n",
        "wynik_mnozenia = round(liczba_calkowita * liczba_zmiennoprzecinkowa, 2)\n",
        "\n",
        "# Wyświetl wyniki\n",
        "print(f\"Liczba całkowita: {liczba_calkowita}\")\n",
        "print(f\"Liczba zmiennoprzecinkowa: {liczba_zmiennoprzecinkowa}\")\n",
        "print(f\"Wynik mnoż. zaokr. do 2 miejsc po przecinku: {wynik_mnozenia}\")"
      ],
      "metadata": {
        "colab": {
          "base_uri": "https://localhost:8080/"
        },
        "id": "Qz-5sxi45mn-",
        "outputId": "db20cedd-463e-4b8a-c5a6-70aeb1850163"
      },
      "execution_count": 30,
      "outputs": [
        {
          "output_type": "stream",
          "name": "stdout",
          "text": [
            "Liczba całkowita: 49\n",
            "Liczba zmiennoprzecinkowa: 161.27\n",
            "Wynik mnoż. zaokr. do 2 miejsc po przecinku: 7902.23\n"
          ]
        }
      ]
    },
    {
      "cell_type": "code",
      "source": [
        "# @title generuj fikcyjne dane osobowe { vertical-output: true, form-width: \"500px\", display-mode: \"both\" }\n",
        "\n",
        "fake = faker.Faker('pl_Pl')\n",
        "\n",
        "class Osoba:\n",
        "\n",
        "  osoby = {}\n",
        "\n",
        "  @staticmethod\n",
        "  def reset_osob():\n",
        "    Osoba.osoby = {}\n",
        "\n",
        "  @staticmethod\n",
        "  def init_osoby(ile_osob):\n",
        "    Osoba.reset_osob()\n",
        "    for _ in range(ile_osob):\n",
        "      osoba = Osoba()\n",
        "      Osoba.osoby[osoba._get_numer_osoby()] = osoba.to_dict()\n",
        "\n",
        "  @staticmethod\n",
        "  def wyswietl_osoby():\n",
        "    for numer, dane_osoby in Osoba.osoby.items():\n",
        "      print(f'\\n{numer}', end=\" \")\n",
        "      for klucz, dane in dane_osoby.items():\n",
        "        print(f'{dane}', end=\" \")\n",
        "\n",
        "  @staticmethod\n",
        "  def wyswietl_pojedyncza_osobe(nr_osoby):\n",
        "    print(Osoba.osoby.get(f'Osoba {nr_osoby}').get('Imię i nazwisko'))\n",
        "\n",
        "  def __init__(self):\n",
        "    self.imie_nazwisko = fake.name()\n",
        "    self.tel_kom = fake.phone_number()\n",
        "    self.tel_stacj = f\"+48{random.randint(100000000, 999999999)}\"\n",
        "    self.email = fake.email()\n",
        "\n",
        "  def _get_numer_osoby(self):\n",
        "    return f'Osoba {len(Osoba.osoby) + 1}'\n",
        "\n",
        "  def __str__(self):\n",
        "    return f\"{self.imie_nazwisko}, {self.tel_stacj}, {self.tel_kom}, {self.email}\"\n",
        "\n",
        "  def to_dict(self):\n",
        "    return {\n",
        "        'Imię i nazwisko':self.imie_nazwisko,\n",
        "        'Telefon komórkowy':self.tel_kom,\n",
        "        'Telefon stacjonarny':self.tel_stacj,\n",
        "        'E-mail':self.email\n",
        "    }\n",
        "\n",
        "# testy\n",
        "Osoba.init_osoby(50)\n",
        "Osoba.wyswietl_osoby()"
      ],
      "metadata": {
        "id": "cmvVZV4RK5o3",
        "outputId": "823dd988-f4a9-4c27-ab85-08be8b8094f9",
        "colab": {
          "base_uri": "https://localhost:8080/"
        }
      },
      "execution_count": 86,
      "outputs": [
        {
          "output_type": "stream",
          "name": "stdout",
          "text": [
            "\n",
            "Osoba 1 Ewa Beck +48 666 917 363 +48382178388 mikolaj84@example.net \n",
            "Osoba 2 Maurycy Wieja +48 608 302 889 +48414157681 elizajedraszek@example.com \n",
            "Osoba 3 pani Sylwia Burczak 537 810 460 +48957331237 olgierd06@example.org \n",
            "Osoba 4 Julita Stiller 22 374 76 61 +48540840983 jeremi76@example.com \n",
            "Osoba 5 pan Fabian Kielan +48 796 456 998 +48388310566 ycierpisz@example.com \n",
            "Osoba 6 Tadeusz Fąferek 536 537 807 +48631704311 aleks02@example.org \n",
            "Osoba 7 Maciej Łaś 22 730 82 40 +48836539194 pachowiczmarcin@example.org \n",
            "Osoba 8 Justyna Galon 668 515 684 +48650075814 cyprianpompa@example.net \n",
            "Osoba 9 Gaja Mądro 32 993 94 41 +48936786590 julianmatula@example.net \n",
            "Osoba 10 pani Liwia Haponiuk +48 579 791 681 +48968572362 aniela63@example.net \n",
            "Osoba 11 Jeremi Kalka +48 32 644 12 09 +48865525965 dukataurelia@example.net \n",
            "Osoba 12 pani Liwia Kryszkiewicz 734 994 252 +48757650571 andrzejworach@example.org \n",
            "Osoba 13 Jan Oleksik 519 354 884 +48488769227 justyna72@example.net \n",
            "Osoba 14 Wojciech Łaciak 781 952 147 +48429350814 zborkiewicz@example.net \n",
            "Osoba 15 pani Blanka Wojczuk +48 795 058 914 +48966485657 jakub76@example.net \n",
            "Osoba 16 Adam Pasierbek +48 781 213 940 +48252671186 zbrogkrzysztof@example.com \n",
            "Osoba 17 Bartek Kempka +48 693 183 709 +48363128475 ksawerykruger@example.com \n",
            "Osoba 18 pan Emil Gierach 577 852 004 +48443876315 kacper01@example.org \n",
            "Osoba 19 Olga Zapaśnik +48 22 902 80 29 +48122499494 bwenda@example.net \n",
            "Osoba 20 Nela Nałęcz +48 795 936 517 +48978463720 lodejantoni@example.org \n",
            "Osoba 21 Oskar Chojna 791 163 053 +48718807218 zachwiejamichal@example.net \n",
            "Osoba 22 Olga Szczypiór +48 535 662 381 +48666907925 gustaw76@example.net \n",
            "Osoba 23 Angelika Łuczkiewicz 881 051 530 +48498583214 oliwier99@example.com \n",
            "Osoba 24 Kamil Wudarczyk 22 342 35 16 +48882302454 grzegorzglowiak@example.net \n",
            "Osoba 25 Adam Gryka 663 615 408 +48477972969 tkwak@example.org \n",
            "Osoba 26 Andrzej Przeniosło +48 32 608 48 69 +48342448651 lawniczeklukasz@example.net \n",
            "Osoba 27 Borys Druszcz 788 559 670 +48656759883 patryk84@example.com \n",
            "Osoba 28 Dominik Wenda +48 32 306 25 44 +48485203391 kajaszymala@example.net \n",
            "Osoba 29 Łukasz Ryszkiewicz 22 819 01 35 +48488157752 anna-mariajanic@example.com \n",
            "Osoba 30 pani Marianna Banek +48 501 432 058 +48195553487 ewelina45@example.net \n",
            "Osoba 31 Eliza Bugno 537 990 723 +48152081236 kubasiakdamian@example.com \n",
            "Osoba 32 Karina Łyczak +48 668 377 031 +48776671557 kazimierzpitala@example.com \n",
            "Osoba 33 Rozalia Malisz 32 614 15 29 +48609017747 cierpkakonrad@example.net \n",
            "Osoba 34 pan Przemysław Ostafin 889 216 538 +48212620569 adambartkowicz@example.com \n",
            "Osoba 35 Marek Janduła +48 886 809 800 +48939539716 plesniaknatasza@example.org \n",
            "Osoba 36 pan Arkadiusz Mazepa +48 794 498 768 +48458026566 dpilich@example.net \n",
            "Osoba 37 pani Klara Dziarmaga 725 159 790 +48506855903 nszczap@example.com \n",
            "Osoba 38 Gaja Żelazo +48 663 888 065 +48947058976 wkunert@example.org \n",
            "Osoba 39 Tadeusz Trojanek +48 600 014 685 +48303291071 pleskotmalwina@example.org \n",
            "Osoba 40 Bartek Nikel +48 665 551 095 +48784989603 ejarka@example.com \n",
            "Osoba 41 Wojciech Liśkiewicz +48 783 383 124 +48152897950 marcelina15@example.com \n",
            "Osoba 42 Kaja Godzwon +48 530 272 708 +48518695627 wrochnamarcin@example.net \n",
            "Osoba 43 Olga Suchora +48 695 923 940 +48122214068 mkanarek@example.net \n",
            "Osoba 44 Jacek Fąferek +48 792 282 870 +48239361589 kornelzajko@example.net \n",
            "Osoba 45 Aleksander Rubacha +48 501 968 946 +48340657065 gzagula@example.org \n",
            "Osoba 46 Józef Mikita 32 162 64 58 +48974447775 barszczakjulianna@example.net \n",
            "Osoba 47 Tymoteusz Pierzak +48 532 204 936 +48721281604 zkazberuk@example.org \n",
            "Osoba 48 Maurycy Tylec +48 695 991 785 +48915349113 tharemza@example.net \n",
            "Osoba 49 Jacek Uliczka 732 292 687 +48113551886 hdusik@example.com \n",
            "Osoba 50 Igor Zagrodnik +48 22 930 04 44 +48949517730 andruszkoprzemyslaw@example.net "
          ]
        }
      ]
    },
    {
      "cell_type": "code",
      "source": [
        "# @title generuj nazwe pliku { vertical-output: true, form-width: \"400px\", display-mode: \"both\" }\n",
        "\n",
        "def generuj_nazwe_pliku():\n",
        "    numer = random.randint(10000, 99999)\n",
        "    nazwa_pliku = f\"Zapotrzebzakupu1{numer}.xlsx\"\n",
        "    return nazwa_pliku\n",
        "\n",
        "# Przykład użycia\n",
        "nazwa_pliku = generuj_nazwe_pliku()\n",
        "print(nazwa_pliku)"
      ],
      "metadata": {
        "colab": {
          "base_uri": "https://localhost:8080/"
        },
        "id": "-YWaurfc1TB8",
        "outputId": "2bbc4778-e388-49d7-ae06-9f5d2998f6d0"
      },
      "execution_count": 32,
      "outputs": [
        {
          "output_type": "stream",
          "name": "stdout",
          "text": [
            "Zapotrzebzakupu146655.xlsx\n"
          ]
        }
      ]
    },
    {
      "cell_type": "code",
      "source": [
        "# @title sparsuj nazwę pliku { vertical-output: true, form-width: \"400px\", display-mode: \"both\" }\n",
        "nazwa_pliku = \"\" # @param {type:\"string\"}\n",
        "nowe_rozszerzenie = \"\" # @param {type:\"string\"}\n",
        "\n",
        "\n",
        "# nazwa_pliku = \"Zapotrzebuzakupu123921.xlsx\"\n",
        "\n",
        "def sparsuj_i_utworz_nazwe(nazwa_pliku, nowe_rozszerzenie):\n",
        "    wynik = re.search(r'\\d+', nazwa_pliku)\n",
        "\n",
        "    if wynik:\n",
        "        sparsowana_liczba = wynik.group()\n",
        "        nowa_nazwa_pliku = f\"{sparsowana_liczba}.{nowe_rozszerzenie}\"\n",
        "        return nowa_nazwa_pliku\n",
        "    else:\n",
        "        print(\"Nie znaleziono liczby w nazwie pliku.\")\n",
        "        return None\n",
        "\n",
        "# Przykład użycia\n",
        "nazwa_pliku = \"Zapotrzebuzakupu123921.xlsx\"\n",
        "nowe_rozszerzenie = \"xlsx\"\n",
        "nowa_nazwa = sparsuj_i_utworz_nazwe(nazwa_pliku, nowe_rozszerzenie)\n",
        "\n",
        "if nowa_nazwa:\n",
        "    print(nowa_nazwa)"
      ],
      "metadata": {
        "colab": {
          "base_uri": "https://localhost:8080/"
        },
        "id": "8bVfVAQ72jIP",
        "outputId": "236c0645-1bc0-4013-9fa6-87ea1143fd4d"
      },
      "execution_count": 33,
      "outputs": [
        {
          "output_type": "stream",
          "name": "stdout",
          "text": [
            "123921.xlsx\n"
          ]
        }
      ]
    },
    {
      "cell_type": "code",
      "source": [
        "# @title utwórz baze danych osób do kontaktu (z pliku *.txt) { vertical-output: true, form-width: \"700px\", display-mode: \"both\" }\n",
        "\n",
        "def singleton(cls):\n",
        "  instances = {}\n",
        "\n",
        "  def get_instance(*args, **kwargs):\n",
        "    if cls not in instances:\n",
        "      instances[cls] = cls(*args, **kwargs)\n",
        "    return instances[cls]\n",
        "\n",
        "  return get_instance\n",
        "\n",
        "@singleton\n",
        "class Utworz_baze_kontaktow:\n",
        "\n",
        "  def __init__(self):\n",
        "    # zawiera liste slownikow kontaktow imie nazwisko : reszta danych\n",
        "    self._baza = []\n",
        "\n",
        "  @property\n",
        "  def get_baza(self):\n",
        "    return self._baza\n",
        "\n",
        "  def utworz_kontakt(self, linia_kontaktu):\n",
        "    parts = linia_kontaktu.strip().split(',')\n",
        "    key = parts[0]\n",
        "    value = '.'.join(parts[1:]).strip()\n",
        "    self.get_baza.append({key : value})\n",
        "\n",
        "  def otworz_plik_z_kontaktami(self, kodowanie = \"windows-1250\"):\n",
        "    sciezka_do_pliku_kontaktow = \"/content/uploaded/ludzie_do_kontaktu_po_RFX — kopia.txt\"\n",
        "    if not sprawdz_czy_dany_plik_istnieje(sciezka_do_pliku_kontaktow):\n",
        "      upload_files()\n",
        "\n",
        "    with open(sciezka_do_pliku_kontaktow, 'r', encoding=kodowanie) as file:\n",
        "      for linia_kontaktu in file:\n",
        "        self.utworz_kontakt(linia_kontaktu)\n",
        "\n",
        "  def wyswietl_baze_kontaktow(self):\n",
        "    for item in self.get_baza:\n",
        "      for key, value in item.items():\n",
        "        print(f\"{key}, {value}\")\n",
        "\n",
        "  def zapisz_baze_do_pliku(self, sciezka, download = False):\n",
        "    with open(sciezka, \"w\") as plik_bazy:\n",
        "      for rekord in self.get_baza:\n",
        "        for key, value in rekord.items():\n",
        "          plik_bazy.write(key + \", \" + value + \"\\n\")\n",
        "\n",
        "    if(download): files.download(sciezka)\n",
        "\n",
        "\n",
        "# test\n",
        "\n",
        "# utworz_baze_kontaktow = Utworz_baze_kontaktow()\n",
        "# utworz_baze_kontaktow.otworz_plik_z_kontaktami()\n",
        "# utworz_baze_kontaktow.wyswietl_baze_kontaktow()\n",
        "# baza = utworz_baze_kontaktow.get_baza\n",
        "\n",
        "# for rekord in baza:\n",
        "#   for key, val in rekord.items():\n",
        "#     print(key, val)\n",
        "\n",
        "# utworz_baze_kontaktow.zapisz_baze_do_pliku(\"baza.txt\")"
      ],
      "metadata": {
        "id": "M2PdDgw5lICp"
      },
      "execution_count": 34,
      "outputs": []
    },
    {
      "cell_type": "code",
      "source": [
        "# @title Tworzenie randomowych plików zz { vertical-output: true, form-width: \"600px\", display-mode: \"both\" }\n",
        "\n",
        "# kolumna B - nr pozycji (indeks),\n",
        "# kolumna C - opis pozycji,\n",
        "# kolumna D - ilość,\n",
        "# kolumna E - jednostka mag.,\n",
        "# kolumna F - wym. data dostawy,\n",
        "# kolumna K - cena jedn.,\n",
        "# kolumna S - cena całość\n",
        "# kolumna O - osoba kontaktowa\n",
        "\n",
        "class RandomExcelFile:\n",
        "\n",
        "  zakres_poczatek = datetime(2024, 1, 1)\n",
        "  zakres_koniec = datetime(2024, 12, 31)\n",
        "\n",
        "  nazwa_pliku_1 = generuj_nazwe_pliku()\n",
        "  print(\"nazwa_pliku:\\t\\t\", nazwa_pliku_1)\n",
        "\n",
        "  numer_zz_z_nazwy_pliku = sparsuj_i_utworz_nazwe(nazwa_pliku_1, \"xlsx\")\n",
        "  print(\"numer_zz_z_nazwy_pliku:\\t\", numer_zz_z_nazwy_pliku)\n",
        "\n",
        "  nr_zz_dict = split_filename_and_extension(numer_zz_z_nazwy_pliku)\n",
        "  nr_zz = nr_zz_dict['name_key']\n",
        "  print(\"nr_zz:\\t\\t\\t\", nr_zz)\n",
        "\n",
        "  _zagniezdzone_slowniki_plikow = {nr_zz:{\n",
        "    'B':[], 'C':[], 'D':[], 'E':[], 'F':[], 'K':[], 'S':[], 'O':[]}}\n",
        "\n",
        "\n",
        "  @classmethod\n",
        "  def zeruj_slownik(cls):\n",
        "    for key, inner_dict in cls._zagniezdzone_slowniki_plikow.items():\n",
        "      inner_dict = {}\n",
        "\n",
        "\n",
        "  @staticmethod\n",
        "  def get_zagniezdzone_slowniki_plikow(ile_pozycji_zakupowych: int = 1, ile_osob_wygenerowac: int = 1):\n",
        "    print(\"Start\")\n",
        "    RandomExcelFile.zeruj_slownik()\n",
        "    print(\"wyzerowane...\")\n",
        "\n",
        "    RandomExcelFile.utworz_randomowe_dane_do_pliku_zz(ile_pozycji_zakupowych, ile_osob_wygenerowac)\n",
        "    print(\"utworzono randomowe dane\")\n",
        "\n",
        "    return RandomExcelFile._zagniezdzone_slowniki_plikow\n",
        "\n",
        "\n",
        "  @staticmethod\n",
        "  def utworz_randomowe_dane_do_pliku_zz(ile_pozycji_zakupowych: int, ile_osob_wygenerowac: int):\n",
        "\n",
        "    # Generuj osoby\n",
        "    Osoba.init_osoby(ile_osob_wygenerowac)\n",
        "\n",
        "    for i in range(1, ile_pozycji_zakupowych + 1):\n",
        "      indeks = generuj_losowy_numer_indeksu()\n",
        "      RandomExcelFile._zagniezdzone_slowniki_plikow[RandomExcelFile.nr_zz]['B'].append(indeks)\n",
        "\n",
        "      opis_pozycji = generuj_losowa_nazwe_przedmiotu()\n",
        "      RandomExcelFile._zagniezdzone_slowniki_plikow[RandomExcelFile.nr_zz]['C'].append(opis_pozycji)\n",
        "\n",
        "      ilosc = generuj_ilosc(1, 100)\n",
        "      RandomExcelFile._zagniezdzone_slowniki_plikow[RandomExcelFile.nr_zz]['D'].append(ilosc)\n",
        "\n",
        "      jednostka_miary = generuj_jednostke_miary()\n",
        "      RandomExcelFile._zagniezdzone_slowniki_plikow[RandomExcelFile.nr_zz]['E'].append(jednostka_miary)\n",
        "\n",
        "      wymagana_data_przyjecia = generuj_losowa_date(zakres_poczatek, zakres_koniec)\n",
        "      RandomExcelFile._zagniezdzone_slowniki_plikow[RandomExcelFile.nr_zz]['F'].append(wymagana_data_przyjecia)\n",
        "\n",
        "      cena_jednostkowa = generuj_cene_jednostkowa(1, 1000)\n",
        "      RandomExcelFile._zagniezdzone_slowniki_plikow[RandomExcelFile.nr_zz]['K'].append(cena_jednostkowa)\n",
        "\n",
        "      kwota_za_calosc_netto = kwota_za_calosc(ilosc, cena_jednostkowa)\n",
        "      RandomExcelFile._zagniezdzone_slowniki_plikow[RandomExcelFile.nr_zz]['S'].append(kwota_za_calosc_netto)\n",
        "\n",
        "      nr_osoby_kontaktowej = int(generuj_ilosc(1, ile_osob_wygenerowac))\n",
        "      osoba_kontaktowa_slownik = Osoba.osoby.get(f'Osoba {nr_osoby_kontaktowej}')\n",
        "      imie_nazwisko = f\"{osoba_kontaktowa_slownik.get('Imię i nazwisko')}\"\n",
        "      telefon_komorkowy = f\"{osoba_kontaktowa_slownik.get('Telefon komórkowy')}\"\n",
        "      telefon_stacjonarny = f\"{osoba_kontaktowa_slownik.get('Telefon stacjonarny')}\"\n",
        "      email = f\"{osoba_kontaktowa_slownik.get('E-mail')}\"\n",
        "      osoba_dane_osobowe = [imie_nazwisko, telefon_komorkowy, telefon_stacjonarny, email]\n",
        "      osoba_kontaktowa_string = \", \".join(osoba_dane_osobowe)\n",
        "      osoba_wydzialowa_do_kontaktu = osoba_kontaktowa_string\n",
        "      RandomExcelFile._zagniezdzone_slowniki_plikow[RandomExcelFile.nr_zz]['O'].append(osoba_wydzialowa_do_kontaktu)\n",
        "\n",
        "  @staticmethod\n",
        "  def czy_iterowalny(objekt):\n",
        "    try:\n",
        "      iter(objekt)\n",
        "      return True\n",
        "    except TypeError:\n",
        "      return False\n",
        "\n",
        "  @staticmethod\n",
        "  def wyswiatlaj_dane_randomowego_pliku_excel(slownik_danych):\n",
        "    for key1, val1 in slownik_danych.items():\n",
        "      if (isinstance(val1, dict)):\n",
        "        for key2, val2 in val1.items():\n",
        "          if RandomExcelFile.czy_iterowalny(val2):\n",
        "            print(f'klucz: {key2}, wartość: {val2}')\n",
        "          else:\n",
        "            print(\"Objekt nie jest iterowalny\")\n",
        "      else:\n",
        "        print(key1, val1)\n",
        "\n",
        "\n",
        "#################### testy #####################\n",
        "# slownik = RandomExcelFile.get_zagniezdzone_slowniki_plikow(12,11)\n",
        "# RandomExcelFile.wyswiatlaj_dane_randomowego_pliku_excel(slownik)"
      ],
      "metadata": {
        "colab": {
          "base_uri": "https://localhost:8080/"
        },
        "id": "KZrs_tT2kO2E",
        "outputId": "e78d8812-50d6-4431-8913-fba47aa1b7ea"
      },
      "execution_count": 35,
      "outputs": [
        {
          "output_type": "stream",
          "name": "stdout",
          "text": [
            "nazwa_pliku:\t\t Zapotrzebzakupu131464.xlsx\n",
            "numer_zz_z_nazwy_pliku:\t 131464.xlsx\n",
            "nr_zz:\t\t\t 131464\n"
          ]
        }
      ]
    },
    {
      "cell_type": "markdown",
      "source": [
        "# `Excel`"
      ],
      "metadata": {
        "id": "uiwMpbF5Gbhy"
      }
    },
    {
      "cell_type": "code",
      "source": [
        "# @title wklej dane do arkusza { vertical-output: true, form-width: \"600px\", display-mode: \"both\" }\n",
        "\n",
        "from openpyxl.utils import get_column_letter, column_index_from_string\n",
        "\n",
        "\n",
        "def litera_na_indeks_openpyxl(litera):\n",
        "  if isinstance(litera, str) and len(litera) == 1:\n",
        "    digit = column_index_from_string(litera.upper())\n",
        "    return digit\n",
        "  else:\n",
        "    raise ValueError(\"Podana wartość musi być pojedyńczą literą.\")\n",
        "\n",
        "\n",
        "def zamien_litere_na_liczbe(litera):\n",
        "  return ord(litera.upper()) - ord('A' + 1)\n",
        "\n",
        "\n",
        "def wklej_dane_do_arkusza(arkusz, lista_slownikow, wiersz_start=4):\n",
        "    for key1, value1 in lista_slownikow.items():\n",
        "      # print(f\"key1: {key1}, value1: {value1}\")\n",
        "      for key2, value2 in value1.items():\n",
        "        # print(key2, value2)\n",
        "        kolumna = litera_na_indeks_openpyxl(key2)\n",
        "        print(f'w: {wiersz_start}, k: {kolumna}')\n",
        "        for item in value2:\n",
        "          print(item)\n",
        "          arkusz.cell(row=wiersz_start, column=kolumna, value=item)\n"
      ],
      "metadata": {
        "id": "goIdDvT1WKtq"
      },
      "execution_count": 36,
      "outputs": []
    },
    {
      "cell_type": "code",
      "source": [
        "# @title utworz plik excel (szablon z nagłówkami itp) { vertical-output: true, form-width: \"600px\", display-mode: \"both\" }\n",
        "nazwa_sprawy = \"KZP-ŁA.2110.03.2024 Dostawa skanerów płomienia Lamtec\"\n",
        "nazwa_sprawy_w_nazwie_pliku_bez_ogonkow = \"KZP_LA_2110_03_2024_Dostawa_skanerow_plomienia_Lamtec.xlsx\"\n",
        "\n",
        "#  /content/KZP-ŁA.2110.03.2024 Dostawa skanerów płomienia Lamtec.xlsx\n",
        "# KZP-ŁA.2110.03.2024 Dostawa skanerów płomienia Lamtec\n",
        "# xlsx\n",
        "# KZP_LA_2110_03_2024_Dostawa_skanerow_plomienia_Lamtec.xlsx\n",
        "\n",
        "def utworz_plik_excel_do_rfx(nazwa_sprawy, nazwa_sprawy_w_nazwie_pliku_bez_ogonkow):\n",
        "\n",
        "    wb = openpyxl.Workbook()\n",
        "    arkusz = wb.active\n",
        "\n",
        "    # Nagłówki\n",
        "    naglowki = ['lp', 'Indeks', 'Opis pozycji', 'Ilość', 'Jednostka masy',\n",
        "                'Data dostawy', 'Cena jednostkowa netto',\n",
        "                'Wartość kontraktu netto', 'Osoba do kontaktu']\n",
        "\n",
        "    # Wklejanie nagłówków w wierszu 3, zaczynając od kolumny 1\n",
        "    for index, naglowek in enumerate(naglowki, start=1):\n",
        "        komorka = arkusz.cell(row=3, column=index, value=naglowek)\n",
        "        komorka.alignment = Alignment(horizontal='center', vertical='center', wrap_text=True)\n",
        "        komorka.font = Font(bold=True)\n",
        "\n",
        "    # Wiersz 1\n",
        "    komorka_wiersz_1 = arkusz.cell(row=1, column=1, value=f\"Zapytanie ofertowe RFX nr sprawy {nazwa_sprawy}\")\n",
        "    komorka_wiersz_1.alignment = Alignment(horizontal='left', vertical='center', wrap_text=False)\n",
        "    komorka_wiersz_1.font = Font(size=20, bold=True)\n",
        "\n",
        "    # Wiersz 2\n",
        "    data_wygenerowania = datetime.now().strftime(\"%Y-%m-%d\")\n",
        "    komorka_wiersz_2 = arkusz.cell(row=2, column=1, value=f\"Data wygenerowania dokumentu: {data_wygenerowania}\")\n",
        "    komorka_wiersz_2.alignment = Alignment(horizontal='left', vertical='center', wrap_text=False)\n",
        "\n",
        "    # dopisuj do odp. wierszy i kolumn fikcyjne dane\n",
        "    # slownik = RandomExcelFile.utworz_randomowe_dane_do_pliku_zz(1,1)\n",
        "    # slownik_danych = RandomExcelFile._zagniezdzone_slowniki_plikow\n",
        "    # RandomExcelFile.wyswiatlaj_dane_randomowego_pliku_excel(slownik_danych)\n",
        "    wklej_dane_do_arkusza(arkusz, RandomExcelFile.get_zagniezdzone_slowniki_plikow())\n",
        "\n",
        "    if sprawdz_czy_dany_plik_istnieje(os.path.join(os.getcwd(), nazwa_sprawy_w_nazwie_pliku_bez_ogonkow)):\n",
        "      print(f\"Plik '{nazwa_sprawy_w_nazwie_pliku_bez_ogonkow}' już istnieje i zostanie nadpisany.\")\n",
        "\n",
        "    wb.save(nazwa_sprawy_w_nazwie_pliku_bez_ogonkow)\n",
        "    # files.download(nazwa_sprawy_w_nazwie_pliku_bez_ogonkow)\n",
        "\n",
        "# testy\n",
        "utworz_plik_excel_do_rfx(nazwa_sprawy, nazwa_sprawy_w_nazwie_pliku_bez_ogonkow)"
      ],
      "metadata": {
        "id": "vLq68BIbEdg3",
        "colab": {
          "base_uri": "https://localhost:8080/"
        },
        "outputId": "0869682d-46b6-4d06-ee19-6295bb186d8b"
      },
      "execution_count": 37,
      "outputs": [
        {
          "output_type": "stream",
          "name": "stdout",
          "text": [
            "Start\n",
            "wyzerowane...\n",
            "utworzono randomowe dane\n",
            "w: 4, k: 2\n",
            "500-453-627-4\n",
            "w: 4, k: 3\n",
            "przedmiot nr WJlFdRIrNR 1707031507902\n",
            "w: 4, k: 4\n",
            "82\n",
            "w: 4, k: 5\n",
            "szt\n",
            "w: 4, k: 6\n",
            "02.08.2024\n",
            "w: 4, k: 11\n",
            "507.81\n",
            "w: 4, k: 19\n",
            "41640.42\n",
            "w: 4, k: 15\n",
            "Ernest Nieradzik, 888 086 680, +48489613494, uliczkaaurelia@example.com\n",
            "Sorry the file we're looking for doesn' exist\n"
          ]
        }
      ]
    },
    {
      "cell_type": "code",
      "source": [
        "# @title skopiuj kolumny z katalogu { form-width: \"400px\", display-mode: \"both\" }\n",
        "\n",
        "directory_path = \"\"\n",
        "\n",
        "def skopiuj_kolumny_z_katalogu(sciezka_katalogu):\n",
        "    try:\n",
        "        lista_wynikowa = []\n",
        "\n",
        "        # Sprawdź, czy ścieżka katalogu ma poprawny separator na końcu\n",
        "        if not sciezka_katalogu.endswith(os.path.sep):\n",
        "            sciezka_katalogu += os.path.sep\n",
        "\n",
        "        # Indeksy kolumn do skopiowania\n",
        "        kolumny_do_skopiowania = [2, 3, 4, 5, 6, 11, 19]  # Kolumny B, C, D, E, F, K, S\n",
        "\n",
        "        # Pętla po plikach Excel w podanym katalogu\n",
        "        for plik in os.listdir(sciezka_katalogu):\n",
        "            if plik.lower().endswith((\".xlsx\", \".xls\")):  # Sprawdź, czy plik to Excel (ignoruj wielkość liter)\n",
        "                pelna_sciezka = os.path.join(sciezka_katalogu, plik)\n",
        "\n",
        "                # Wczytaj plik Excel\n",
        "                workbook = openpyxl.load_workbook(pelna_sciezka)\n",
        "                sheet = workbook.active\n",
        "\n",
        "                # Inicjalizuj listę krotek dla bieżącego pliku\n",
        "                lista_krotek = []\n",
        "\n",
        "                # Iteruj po kolumnach i dodawaj każdą do osobnej krotki\n",
        "                for kolumna_index in kolumny_do_skopiowania:\n",
        "                    krotka = tuple(\n",
        "                        sheet.komórka(row=row, column=kolumna_index).value for row in range(2, sheet.max_row + 1))\n",
        "                    lista_krotek.append(krotka)\n",
        "\n",
        "                # Dodaj listę krotek dla bieżącego pliku do listy wynikowej\n",
        "                lista_wynikowa.append(lista_krotek)\n",
        "\n",
        "        return lista_wynikowa\n",
        "    except Exception as e:\n",
        "        print(f\"Błąd podczas przetwarzania plików Excel: {e}\")\n",
        "        return None\n"
      ],
      "metadata": {
        "id": "KAfydFuLEh-G"
      },
      "execution_count": 38,
      "outputs": []
    },
    {
      "cell_type": "code",
      "source": [
        "# @title dodaj krotki { form-width: \"500px\", display-mode: \"both\" }\n",
        "lista_wynikowa = \"\"\n",
        "\n",
        "def dodaj_krotki(lista_wynikowa):\n",
        "    if lista_wynikowa is not None:\n",
        "        suma_krotek = []\n",
        "\n",
        "        # Iteruj po indeksach krotek (kolumnach)\n",
        "        for indeks_kolumny in range(len(lista_wynikowa[0])):\n",
        "            suma_kolumny = ()\n",
        "\n",
        "            # Iteruj po plikach i dodawaj odpowiadające sobie krotki\n",
        "            for lista_krotek in lista_wynikowa:\n",
        "                suma_kolumny += lista_krotek[indeks_kolumny]\n",
        "\n",
        "            suma_krotek.append(suma_kolumny)\n",
        "\n",
        "        return suma_krotek\n",
        "    else:\n",
        "        print(\"Błąd podczas przetwarzania listy krotek.\")\n",
        "        return None\n"
      ],
      "metadata": {
        "id": "s6JjurXoEkCx"
      },
      "execution_count": 39,
      "outputs": []
    },
    {
      "cell_type": "code",
      "source": [
        "# @title oblicz najdluzszy string w kolumnie { form-width: \"500px\", display-mode: \"both\" }\n",
        "\n",
        "kolumna = \"\"\n",
        "\n",
        "def oblicz_najdluzszy_string(kolumna):\n",
        "    return max(len(str(wartosc)) for wartosc in kolumna if isinstance(wartosc, str))\n"
      ],
      "metadata": {
        "id": "2VgGnQNqEmET"
      },
      "execution_count": 40,
      "outputs": []
    },
    {
      "cell_type": "code",
      "source": [
        "# @title zapisz sumy do excel { form-width: \"500px\", display-mode: \"both\" }\n",
        "\n",
        "def zapisz_sumy_do_excel(suma_krotek, sciezka_do_pliku_excel):\n",
        "    try:\n",
        "        # Utwórz nowy plik Excel\n",
        "        wb = load_workbook(sciezka_do_pliku_excel)\n",
        "\n",
        "        # nowy_workbook = openpyxl.Workbook()\n",
        "        nowy_sheet = wb.active\n",
        "\n",
        "        # Ustaw szerokość kolumn do zawartości\n",
        "        for kolumna_index, suma_kolumny in enumerate(suma_krotek, start=2):\n",
        "            szerokosc_kolumny = max(len(str(wartosc)) for wartosc in suma_kolumny)\n",
        "            nowy_sheet.column_dimensions[openpyxl.utils.get_column_letter(kolumna_index)].width = szerokosc_kolumny\n",
        "\n",
        "        # Ustawienia formatowania\n",
        "        align_center = Alignment(horizontal='center', vertical='center', wrap_text=True)\n",
        "        date_format = '%Y.%m.%d'\n",
        "\n",
        "        # Zapisz sumy kolumn do kolumny B, zaczynając od wiersza 4\n",
        "        for indeks, suma_kolumny in enumerate(suma_krotek, start=1):\n",
        "            for nr_wiersza, wartosc in enumerate(suma_kolumny, start=4):\n",
        "                komorka = nowy_sheet.komórka(row=nr_wiersza, column=indeks + 1, value=wartosc)\n",
        "\n",
        "                # Wysrodkuj komórkę\n",
        "                komorka.alignment = align_center\n",
        "\n",
        "                # Ustaw format daty w kolumnie C\n",
        "                if indeks == 4:\n",
        "                    if isinstance(wartosc, datetime):\n",
        "                        komorka.number_format = date_format\n",
        "\n",
        "        # Zapisz plik Excel\n",
        "        wb.save(sciezka_do_pliku_excel)\n",
        "        print(f\"Sumy kolumn zostały zapisane do pliku Excel: {sciezka_do_pliku_excel}\")\n",
        "    except Exception as e:\n",
        "        print(f\"Błąd podczas zapisywania pliku Excel: {e}\")\n"
      ],
      "metadata": {
        "id": "BHKrRicVEpjn"
      },
      "execution_count": 41,
      "outputs": []
    },
    {
      "cell_type": "code",
      "source": [
        "# @title godz. i data w nazwie pliku { vertical-output: true, form-width: \"650px\", display-mode: \"both\" }\n",
        "nazwa_pliku_z_rozszerzeniem = \"jakis plik.xlsx\" # @param {type:\"string\"}\n",
        "nazwa_katalogu = \"folder_na_pliki\" # @param {type:\"string\"}\n",
        "\n",
        "# Funkcja tworzy nowy plik exel i zapisuje z nazwa zawierająca m.in\n",
        "# godzinę i datę utworzenie pliku\n",
        "\n",
        "def czas_i_data_w_nazwie_pliku(arg_1_positional_nazwa_pliku_z_rozszerzeniem, arg_2_named_nazwa_katalogu = 'NowyFolderDefault'):\n",
        "\n",
        "  try:\n",
        "    sprawdz_czy_katalog_istnieje(arg_2_named_nazwa_katalogu)\n",
        "\n",
        "    wb = Workbook()\n",
        "    ws = wb.active\n",
        "\n",
        "    # Save the file with actual date and time\n",
        "    data_czas = actual_datetime()\n",
        "    print(data_czas)\n",
        "\n",
        "    lista_daty = [\"_\", data_czas['czas'], \"___\", data_czas['data']]\n",
        "    skrot_do_daty_i_godziny = \"\".join(lista_daty)\n",
        "    print(skrot_do_daty_i_godziny)\n",
        "\n",
        "    podzielona_nazwa_pliku = split_filename_and_extension(arg_1_positional_nazwa_pliku_z_rozszerzeniem)\n",
        "    print(podzielona_nazwa_pliku)\n",
        "\n",
        "    nowa_nazwa_pliku_skladowe = [podzielona_nazwa_pliku.get('name_key'),\n",
        "                                skrot_do_daty_i_godziny,\n",
        "                                podzielona_nazwa_pliku.get('ext_key')]\n",
        "    print(nowa_nazwa_pliku_skladowe)\n",
        "\n",
        "    nowa_nazwa_pliku = \"\".join(nowa_nazwa_pliku_skladowe)\n",
        "    print(nowa_nazwa_pliku)\n",
        "\n",
        "    wb.save(os.path.join(arg_2_named_nazwa_katalogu, nowa_nazwa_pliku))\n",
        "    files.download(os.path.join(arg_2_named_nazwa_katalogu, nowa_nazwa_pliku))\n",
        "\n",
        "  except Exception as e:\n",
        "    print(f\"wyje.ało błęda: {e}\")\n",
        "\n",
        "# testy\n",
        "# czas_i_data_w_nazwie_pliku(nazwa_pliku_z_rozszerzeniem, arg_2_named_nazwa_katalogu=nazwa_katalogu)\n",
        "# czas_i_data_w_nazwie_pliku(nazwa_pliku_z_rozszerzeniem)\n"
      ],
      "metadata": {
        "id": "Su2OfI8BDZGN"
      },
      "execution_count": 42,
      "outputs": []
    },
    {
      "cell_type": "code",
      "source": [
        "# @title usun_pliki_lub_katalogi { vertical-output: true, form-width: \"650px\", display-mode: \"both\" }\n",
        "usun_pliki_lub_katalogi(\"/content/NowyFolderDefault\")"
      ],
      "metadata": {
        "id": "IKh_GfR0yikj"
      },
      "execution_count": 43,
      "outputs": []
    },
    {
      "cell_type": "code",
      "source": [
        "# @title znajdz słownik { form-width: \"500px\", display-mode: \"both\" }\n",
        "\n",
        "def znajdz_slownik(lista_slownikow, szukany_klucz):\n",
        "    for slownik in lista_slownikow:\n",
        "        if \"klucz\" in slownik and slownik[\"klucz\"] == szukany_klucz:\n",
        "            return slownik\n",
        "    return None  # Zwraca None, jeśli nie znaleziono słownika o podanym kluczu"
      ],
      "metadata": {
        "id": "VCmPL966I8w8"
      },
      "execution_count": 44,
      "outputs": []
    },
    {
      "cell_type": "code",
      "source": [
        "# @title przetwarzaj pliki excel { form-width: \"500px\", display-mode: \"both\" }\n",
        "\n",
        "def przetwarzaj_pliki_excel(sciezka_katalogu):\n",
        "    # Zamień wszystkie ukośniki na /\n",
        "    sciezka_katalogu = sciezka_katalogu.replace('\\\\', '/')\n",
        "\n",
        "    # Upewnij się, że ścieżka ma poprawny separator na końcu\n",
        "    if not sciezka_katalogu.endswith('/'):\n",
        "        sciezka_katalogu += '/'\n",
        "\n",
        "    # Inicjalizuj kolekcje kolumn\n",
        "    kolumny_do_skopiowania = ['B', 'C', 'D', 'E', 'F', 'K', 'S']\n",
        "    lista_slownikow_z_wartosciami_kolumn = []\n",
        "\n",
        "    for item in kolumny_do_skopiowania:\n",
        "      lista_slownikow_z_wartosciami_kolumn.append({\"klucz\": item, \"val\": []})\n",
        "\n",
        "    # Wyświetl utworzoną listę słowników\n",
        "    # for slownik in lista_slownikow_z_wartosciami_kolumn:\n",
        "        # print(slownik)\n",
        "\n",
        "    # Pętla po plikach Excel w podanym katalogu\n",
        "    for plik in os.listdir(sciezka_katalogu):\n",
        "        if plik.lower().endswith((\".xlsx\", \".xls\")):  # Sprawdź, czy plik to Excel (ignoruj wielkość liter)\n",
        "            pelna_sciezka = os.path.join(sciezka_katalogu, plik)\n",
        "            # print()\n",
        "            nazwa_pliku = os.path.basename(pelna_sciezka)\n",
        "            slownik_z_nazwa_pliku = rozdziel_nazwe_pliku_od_rozszerzenia(nazwa_pliku)\n",
        "\n",
        "            # Sprawdź, czy ścieżka do pliku istnieje, a jeśli nie, spróbuj dokonać zamiany ukośników\n",
        "            if not os.path.exists(pelna_sciezka):\n",
        "                pelna_sciezka = pelna_sciezka.replace('/', '\\\\') if '/' in pelna_sciezka else pelna_sciezka.replace(\n",
        "                    '\\\\', '/')\n",
        "\n",
        "            arkusz = openpyxl.load_workbook(pelna_sciezka).active\n",
        "\n",
        "            daty_jako_string = []\n",
        "\n",
        "            for kolumna in kolumny_do_skopiowania:\n",
        "                szukany_klucz = kolumna\n",
        "                znaleziony_slownik = znajdz_slownik(lista_slownikow_z_wartosciami_kolumn, szukany_klucz)\n",
        "\n",
        "                for wiersz in range(2, arkusz.max_row + 1):\n",
        "                  numer_komorki = kolumna + str(wiersz)\n",
        "                  wartosc = arkusz[numer_komorki].value\n",
        "\n",
        "                  if znaleziony_slownik['klucz'] == 'F':\n",
        "                    # Konwertujemy wartość daty do formatu \"22.12.2024\" i zapisujemy jako string\n",
        "                    if isinstance(wartosc, datetime):\n",
        "                      znaleziony_slownik[\"val\"].append(wartosc.strftime(\"%d.%m.%Y\"))\n",
        "                    else:\n",
        "                        daty_jako_string.append(None)\n",
        "                  else:\n",
        "                    znaleziony_slownik[\"val\"].append(wartosc)\n",
        "\n",
        "    return lista_slownikow_z_wartosciami_kolumn"
      ],
      "metadata": {
        "id": "AKTkiALLZ0bS"
      },
      "execution_count": 45,
      "outputs": []
    },
    {
      "cell_type": "code",
      "source": [
        "# @title Excel MainAPP { vertical-output: false, form-width: \"600px\", display-mode: \"both\" }\n",
        "nazwa_sprawy = \"KZP-ŁA.2110.03.2024 Dostawa skanerów płomienia Lamtec\"\n",
        "rozszerzenie = \"xlsx\"\n",
        "\n",
        "print(\"nazwa sprawy:\\t\\t\\t\\t\\t\", nazwa_sprawy)\n",
        "\n",
        "# KZP-ŁA.2110.03.2024 Dostawa skanerów płomienia Lamtec\n",
        "\n",
        "# pełna ścieżka do pliku (bez unidekodowania)\n",
        "pelna_sciezka_do_pliku = f\"/content/{nazwa_sprawy}.{rozszerzenie}\"\n",
        "print(\"pelna_sciezka_do_pliku (bez dekodowania):\\t\", pelna_sciezka_do_pliku)\n",
        "\n",
        "# podaj nazwę wraz z rozszerzeniem\n",
        "nazwa_sprawy_w_nazwie_pliku_bez_ogonkow = zamien_znaki_w_nazwie_pliku(f\"{nazwa_sprawy}.{rozszerzenie}\")\n",
        "print(f\"nazwa sprawy w nazwie pliku (bez ogonkow):\\t{nazwa_sprawy_w_nazwie_pliku_bez_ogonkow}\")\n",
        "\n",
        "\n",
        "\n",
        "# sprawdz_czy_katalog_istnieje(\"/content/zz\")\n",
        "# import_files(\"/content/zz\")\n",
        "# wartosci_kolumn = przetwarzaj_pliki_excel(\"/content/zz\")\n",
        "\n",
        "# for slownik in wartosci_kolumn:\n",
        "#   print(slownik)\n",
        "\n",
        "# utworz_plik_excel(nazwa_sprawy, nazwa_sprawy_w_nazwie_pliku_bez_ogonkow)\n",
        "# wklej_dane_do_arkusza(nazwa_sprawy_w_nazwie_pliku_bez_ogonkow, wartosci_kolumn)\n"
      ],
      "metadata": {
        "id": "aAIuSDQsGsVf",
        "colab": {
          "base_uri": "https://localhost:8080/"
        },
        "outputId": "6c103883-0fae-4303-9b56-ef57cc4e16af"
      },
      "execution_count": 46,
      "outputs": [
        {
          "output_type": "stream",
          "name": "stdout",
          "text": [
            "nazwa sprawy:\t\t\t\t\t KZP-ŁA.2110.03.2024 Dostawa skanerów płomienia Lamtec\n",
            "pelna_sciezka_do_pliku (bez dekodowania):\t /content/KZP-ŁA.2110.03.2024 Dostawa skanerów płomienia Lamtec.xlsx\n",
            "nazwa sprawy w nazwie pliku (bez ogonkow):\tKZP_LA_2110_03_2024_Dostawa_skanerow_plomienia_Lamtec.xlsx\n"
          ]
        }
      ]
    },
    {
      "cell_type": "markdown",
      "source": [
        "# `word`"
      ],
      "metadata": {
        "id": "4lYVGb71Yua9"
      }
    },
    {
      "cell_type": "code",
      "source": [
        "# @title klasa - encja punktów { vertical-output: true, form-width: \"600px\", display-mode: \"both\" }\n",
        "\n",
        "\n",
        "class Punkt:\n",
        "  levels_number = None\n",
        "\n",
        "  def __init__(self, point_dict):\n",
        "    self._levels_number = len(point_dict)\n",
        "    self._dict_with_data = point_dict\n",
        "\n",
        "  @property\n",
        "  def get_levels_number(self):\n",
        "    return self._levels_number\n",
        "\n",
        "  @property\n",
        "  def get_dict_with_data(self):\n",
        "    return self._dict_with_data"
      ],
      "metadata": {
        "id": "QEWMIcCBSWEc"
      },
      "execution_count": 47,
      "outputs": []
    },
    {
      "cell_type": "code",
      "source": [
        "# @title utwórz punkty do Word'a { form-width: \"600px\", display-mode: \"both\" }\n",
        "string_level_1 = \"\"\n",
        "string_level_2 = \"\"\n",
        "variable_name = \"\"\n",
        "\n",
        "\n",
        "def utworz_punkty():\n",
        "  level_1 = [\"CENA OFERTOWA (CENA ZA WYKONANIE PRZEDMIOTU ZAMÓWIENIA):\",\n",
        "             \"W ofercie Wykonawca poda Cenę ofertową w PLN w następującym układzie:\"]\n",
        "  level_2 = [\"Cena ofertowa netto\\t\\t(wartościowo),\",\n",
        "             \"Podatek VAT\\t\\t\\t(wartościowo),\", \"Cena ofertowa brutto\\t\\t(wartościowo i słownie).\"]\n",
        "  levels = {\"1\": level_1,\n",
        "            \"2\": level_2}\n",
        "\n",
        "  # wyświetlenie parametrów punktu\n",
        "  punkt_1 = Punkt(levels)\n",
        "  # print(\"Liczba poziomów: \", punkt_1.get_levels_number)\n",
        "\n",
        "  for key, value in punkt_1.get_dict_with_data.items():\n",
        "    print(f\"poziom: {key}\")\n",
        "    for vals in value:\n",
        "      print(vals)\n",
        "\n",
        "  doc = Document()\n",
        "\n",
        "  if isinstance(levels, dict):\n",
        "    for key, value in levels.items():\n",
        "      if key == \"1\":\n",
        "        paragraf = doc.add_paragraph(value, style = 'ListNumber')\n",
        "      elif key == \"2\":\n",
        "        for list_item in value:\n",
        "          sub_paragraf = doc.add_paragraph(list_item, style = 'ListBullet')\n",
        "\n",
        "  doc.add_page_break()\n",
        "\n",
        "  doc.save(\"sample_word_levels.docx\")\n",
        "  files.download(\"sample_word_levels.docx\")"
      ],
      "metadata": {
        "id": "qdlzqh7FNhT4"
      },
      "execution_count": 48,
      "outputs": []
    },
    {
      "cell_type": "code",
      "source": [
        "# @title wczytaj paragrafy z pliku docs - analiza zawartości { form-width: \"500px\", display-mode: \"both\" }\n",
        "nazwa_pliku = \"\"\n",
        "upload_directory_path = \"\"\n",
        "\n",
        "def wczytaj_paragrafy_z_pliku_word(nazwa_pliku, upload_directory_path):\n",
        "    import_files(upload_directory_path)\n",
        "    doc = Document(os.path.join(upload_directory_path, \"demo.docx\"))\n",
        "    # for index, paragraf in enumerate(doc.paragraphs):\n",
        "      # print(f\"\\n\\n--> Paragraf nr {index} \\n\", paragraf.text)\n",
        "\n",
        "# testy\n",
        "# wczytaj_paragrafy_z_pliku_word(\"zz\", \"demo.docx\")\n"
      ],
      "metadata": {
        "id": "Yl-3b22HSjSn"
      },
      "execution_count": 49,
      "outputs": []
    },
    {
      "cell_type": "code",
      "source": [
        "# @title praca z plikiem word { form-width: \"300px\", display-mode: \"both\" }\n",
        "\n",
        "def praca_z_plikiem_word():\n",
        "\n",
        "  doc = Document()\n",
        "\n",
        "  # modyfikacja stylu Normal\n",
        "  normal_style = doc.styles['Normal']\n",
        "  normal_style.font.name = 'Tahoma'\n",
        "  normal_style.font.size = Pt(9)\n",
        "  normal_style.paragraph_format.alignment = WD_ALIGN_PARAGRAPH.LEFT\n",
        "\n",
        "  # styl nagłówka GŁÓWNEGO\n",
        "  style = doc.styles.add_style('nagłówek_główny_styl', 1)\n",
        "  style.font.name = 'Tahoma'\n",
        "  style.font.size = Pt(9)\n",
        "  style.paragraph_format.alignment = WD_ALIGN_PARAGRAPH.CENTER\n",
        "\n",
        "  # zmiana marginesu storny\n",
        "  sekcja = doc.sections[0]\n",
        "  sekcja.left_margin = Inches(1)\n",
        "  sekcja.right_margin = Inches(1)\n",
        "  szerokosc_strony = sekcja.page_width - sekcja.left_margin - sekcja.right_margin\n",
        "\n",
        "  # dodanie logo firmy\n",
        "  logo_sciezka = '/content/uploaded/nagłowek_enea.PNG'\n",
        "\n",
        "  if not check_if_file_exists(logo_sciezka):\n",
        "    upload_files(os.path.dirname(logo_sciezka))\n",
        "    logo_added = doc.add_picture(logo_sciezka)\n",
        "    wciecie_logo = szerokosc_strony - logo_added.width / 2\n",
        "  else:\n",
        "    logo_added = doc.add_picture(logo_sciezka)\n",
        "    wciecie_logo = szerokosc_strony - logo_added.width / 2\n",
        "\n",
        "  # dane wejściowe\n",
        "  nazwa_sprawy = \"KZP.ŁA.2110.23.2024 Dostawa łożysk\"\n",
        "  data_dokumentu = datetime.now().strftime('%d.%m.%Y')\n",
        "  # data_dokumentu = datetime.now().strftime('%d.%m.%Y %H:%M:%S')\n",
        "\n",
        "  # dodanie znaku sprawy i daty\n",
        "  p = doc.add_paragraph(f'Nasz znak: ')\n",
        "  run_znak_sprawy = p.add_run(f'{nazwa_sprawy}')\n",
        "  run_znak_sprawy.bold = True\n",
        "  p.style = 'Normal'\n",
        "\n",
        "  # dodanie daty dokumentu\n",
        "  data = doc.add_paragraph(f\"Świerże Górne, dn. \")\n",
        "  data_run = data.add_run(f'{data_dokumentu}r.')\n",
        "  data_run.bold = True\n",
        "  data.alignment = WD_ALIGN_PARAGRAPH.RIGHT\n",
        "\n",
        "  # dodanie nagłówka\n",
        "  nagłówek_text = doc.add_heading('ZAPYTANIE OFERTOWE (RFX)', 0)\n",
        "  nagłówek_text.style = 'nagłówek_główny_styl'\n",
        "\n",
        "  pkt_1 = \"WPROWADZENIE:\\nNiniejsze Zapytanie jest podstawą do złożenia ofert.\"\n",
        "  pkt_2 = \"TRYB UDZIELENIA ZAMÓWIENIA:\\nPostępowanie w trybie Zapytania Ofertowego (RFX) prowadzone jest w oparciu o wewnętrzny Regulamin Udzielania Zamówień i Zawierania Umów (RUZiZU) Zamawiającego, dla którego nie mają zastosowania przepisy ustawy z dnia 11.09.2019 r. Prawo zamówień publicznych.\"\n",
        "  podpunkt_3_1 = f\"Wykonanie usługi pn. \\\"{nazwa_sprawy}\\\".\"\n",
        "  podpunkt_3_2 = \"Zakres dostawy wg: Załącznika Nr 1 pn. \\\"Zakres Przedmiotu zamówienia\\\".\"\n",
        "  pkt_3 = {\"PRZEDMIOT ZAMÓWIENIA\": [podpunkt_3_1, podpunkt_3_2]}\n",
        "  pkt_4 = \"OFERTY CZĘŚCIOWE:\\nZamawiający dopuszcza składania ofert częściowych.\"\n",
        "  pkt_5 = \"OFERTY WARIANTOWE:\\nZamawiający nie dopuszcza składania ofert wariantowych.\"\n",
        "  podpunkt_6_1 = \"rozpoczęcie wykonywania Przedmiotu umowy  – od dnia podpisania Zamówienia,\"\n",
        "  podpunkt_6_2 = f\"zakończenie wykonywania Przedmiotu umowy – zgodnie z załącznikiem „1. Załącznik {nazwa_sprawy} — zakres przedmiotu zamówienia”; lub 1 tydzień od daty otrzymania zamówienia, termin ten uważany będzie za dochowany przez Wykonawcę w przypadku, gdy przed jego upływem nastąpi protokolarny, bezusterkowy odbiór końcowy prac będących Przedmiotem umowy,\"\n",
        "  pkt_6 = {\"TERMINY REALIZACJI: \":[podpunkt_6_1, podpunkt_6_2]}\n",
        "  podpunkt_7_1 = \"Realizacja przedmiotu zamówienia polega na:  Dostawie dla Enea Wytwarzanie sp. z o.o. fabrycznie nowych, nieużywanych, nieregenerowanych wyrobów będących przedmiotem niniejszego zapytania ofertowego wykonanych zgodnie z opisem przedmiotu zamówienia.\"\n",
        "  pkt_7 = {\"SZCZEGÓŁOWE WARUNKI TECHNICZNE/TECHNOLOGICZNE REALIZACJI PRZEDMIOTU ZAMÓWIENIA\":[podpunkt_7_1]}\n",
        "\n",
        "  lista_punktów = [pkt_1, pkt_2, pkt_3, pkt_4, pkt_5, pkt_6, pkt_7]\n",
        "\n",
        "  for punkt in lista_punktów:\n",
        "    if isinstance(punkt, dict):\n",
        "      for main_item, sub_items in punkt.items():\n",
        "        paragraf = doc.add_paragraph(main_item, style = 'ListNumber')\n",
        "        for sub_item in sub_items:\n",
        "          sub_paragraf = doc.add_paragraph(sub_item, style = 'ListBullet')\n",
        "          sub_paragraf.paragraph_format.left_indent = 360\n",
        "    else:\n",
        "      paragraf = doc.add_paragraph(punkt, style = 'ListNumber')\n",
        "\n",
        "  doc.add_page_break()\n",
        "\n",
        "  # złożenie nowej nazwy pliku wraz z nazwą sprawy\n",
        "  podzielona_nazwa_pliku_slownik = split_filename_and_extension(\"Zapytanie_ofertowe_RFX.docx\")\n",
        "  nazwa_trzon = podzielona_nazwa_pliku_slownik['name_key']\n",
        "  rozszerzenie = podzielona_nazwa_pliku_slownik['ext_key']\n",
        "\n",
        "  skladowe_nazwy_pliku = [nazwa_trzon, \"_\", nazwa_sprawy, rozszerzenie]\n",
        "  nowa_nazwa_pliku = \"\".join(skladowe_nazwy_pliku)\n",
        "  print(nowa_nazwa_pliku)\n",
        "\n",
        "  doc.save(nowa_nazwa_pliku)\n",
        "  files.download(nowa_nazwa_pliku)"
      ],
      "metadata": {
        "id": "wf66CvM8gDzw"
      },
      "execution_count": 50,
      "outputs": []
    },
    {
      "cell_type": "code",
      "source": [
        "# @title main word app { form-width: \"600px\", display-mode: \"both\" }\n",
        "# praca_z_plikiem_word()"
      ],
      "metadata": {
        "id": "4xMe8z93R2_W"
      },
      "execution_count": 51,
      "outputs": []
    },
    {
      "cell_type": "markdown",
      "source": [
        "# `PDF`"
      ],
      "metadata": {
        "id": "wF_ZEWJCJuue"
      }
    },
    {
      "cell_type": "code",
      "source": [
        "# @title konwertuje format daty z PDF { vertical-output: true, form-width: \"500px\", display-mode: \"both\" }\n",
        "pd = \"\" # @param {type:\"string\"}\n",
        "\n",
        "def convertPdfDatetime(pd):\n",
        "    dtformat = \"%Y%m%d%H%M%S\"\n",
        "    clean = pd.replace(\"D:\", \"\").split('+')[0]\n",
        "    return datetime.strptime(clean, dtformat)\n",
        "\n",
        "# Przykładowa data z pliku PDF\n",
        "data_z_pdf = \"D:20220127153000+02'00'\"\n",
        "\n",
        "# Wywołanie funkcji\n",
        "wynik = convertPdfDatetime(data_z_pdf)\n",
        "\n",
        "# Wyświetlenie wyniku\n",
        "print(wynik)\n"
      ],
      "metadata": {
        "id": "V1NCC5KMp3HF",
        "outputId": "dd9df9ef-2ca6-4102-c25c-40dd4ebda2eb",
        "colab": {
          "base_uri": "https://localhost:8080/"
        }
      },
      "execution_count": 52,
      "outputs": [
        {
          "output_type": "stream",
          "name": "stdout",
          "text": [
            "2022-01-27 15:30:00\n"
          ]
        }
      ]
    },
    {
      "cell_type": "code",
      "source": [
        "# @title dodaj pustą stronę do pliku PDF { vertical-output: true, form-width: \"500px\", display-mode: \"both\" }\n",
        "\n",
        "writer = \"\" # @param {type:\"string\"}\n",
        "path_destination = \"\" # @param {type:\"string\"}\n",
        "\n",
        "def add_blank_page(writer, path_destination):\n",
        "  writer.add_blank_page(width=200, height=200)\n",
        "\n",
        "  data = b\"any bytes - typically read from a file\"\n",
        "  writer.add_attachment(\"smile.png\", data)\n",
        "\n",
        "  with open(\"output.pdf\", \"wb\") as output_stream:\n",
        "      writer.write(output_stream)"
      ],
      "metadata": {
        "id": "7TgbeKzZJ348"
      },
      "execution_count": 53,
      "outputs": []
    },
    {
      "cell_type": "code",
      "source": [
        "# @title sprawdź czy plik PDF jest zaszyfrowany { vertical-output: true, form-width: \"500px\" }\n",
        "path_to_file = \"\" # @param {type:\"string\"}\n",
        "\n",
        "def check_if_encrypted(path_to_file):\n",
        "  if os.path.isfile(path_to_file):\n",
        "    reader = PdfReader(path_to_file)\n",
        "\n",
        "    if reader.is_encrypted:\n",
        "      writer = PdfWriter()\n",
        "      password = input(\"Enter your password: \")\n",
        "      reader.decrypt(password)\n",
        "\n",
        "      # Add all pages to the writer\n",
        "      for page in reader.pages:\n",
        "          writer.add_page(page)\n",
        "\n",
        "      # Save the new PDF to a file\n",
        "      with open(path_to_file, \"wb\") as f:\n",
        "          writer.write(f)\n",
        "\n",
        "      print(\"plik rozszyfrowany\")\n",
        "    else:\n",
        "      print(\"plik NIE był zaszyfrowany\")"
      ],
      "metadata": {
        "id": "HBLizJN1J57Y"
      },
      "execution_count": 54,
      "outputs": []
    },
    {
      "cell_type": "code",
      "source": [
        "# @title czytaj adnotacje { vertical-output: true, form-width: \"500px\", display-mode: \"both\" }\n",
        "reader = \"\" # @param {type:\"string\"}\n",
        "\n",
        "def annots_reading(reader):\n",
        "  print(\"funkcja annots_reading załadowana\")\n",
        "\n",
        "  attachments = {}\n",
        "\n",
        "  for page in reader.pages:\n",
        "    if \"/Annots\" in page:\n",
        "        for annot in page[\"/Annots\"]:\n",
        "            obj = annot.get_object()\n",
        "            annotation = {\"subtype\": obj[\"/Subtype\"], \"location\": obj[\"/Rect\"]}\n",
        "            print(annotation)\n",
        "\n",
        "            # text\n",
        "            subtype = annot.get_object()[\"/Subtype\"]\n",
        "            if subtype == \"/Text\":\n",
        "                print(annot.get_object()[\"/Contents\"])\n",
        "\n",
        "            # Highlights\n",
        "            subtype = annot.get_object()[\"/Subtype\"]\n",
        "            if subtype == \"/Highlight\":\n",
        "                coords = annot.get_object()[\"/QuadPoints\"]\n",
        "                x1, y1, x2, y2, x3, y3, x4, y4 = coords\n",
        "\n",
        "            # # attachments\n",
        "            # subtype = annot.get_object()[\"/Subtype\"]\n",
        "            # if subtype == \"/FileAttachment\":\n",
        "            #     fileobj = annotobj[\"/FS\"]\n",
        "            #     attachments[fileobj[\"/F\"]] = fileobj[\"/EF\"][\"/F\"].get_data()\n",
        "    else:\n",
        "      # print(\"brak andotacji w pliku\")\n",
        "      pass"
      ],
      "metadata": {
        "id": "YmfxSlVKJ8Gm"
      },
      "execution_count": 55,
      "outputs": []
    },
    {
      "cell_type": "code",
      "source": [
        "# @title Add the metadata { vertical-output: true, form-width: \"500px\", display-mode: \"both\" }\n",
        "path_to_file = \"\" # @param {type:\"string\"}\n",
        "\n",
        "def add_metadata(path_to_file):\n",
        "  reader = PdfReader(path_to_file)\n",
        "  writer = PdfWriter()\n",
        "\n",
        "  # Add all pages to the writer\n",
        "  for page in reader.pages:\n",
        "      writer.add_page(page)\n",
        "\n",
        "  writer.add_metadata(\n",
        "      {\n",
        "          \"/Author\": \"Martino\",\n",
        "          \"/Producer\": \"Libre Writer\",\n",
        "          \"/Subject\": \"kikk\",\n",
        "          \"/Title\": \"jakis_tytul\",\n",
        "          # \"/ModDate\": modification_date  # Adding modification date\n",
        "      }\n",
        "  )\n",
        "\n",
        "  with open(os.path.join(path_to_working_directory, path_to_file), \"wb\") as f:\n",
        "    writer.write(f)"
      ],
      "metadata": {
        "id": "OFp22hZoKAIK"
      },
      "execution_count": 56,
      "outputs": []
    },
    {
      "cell_type": "code",
      "source": [
        "# @title czytaj metadane { vertical-output: true, form-width: \"500px\", display-mode: \"both\" }\n",
        "\n",
        "reader = \"\" # @param {type:\"string\"}\n",
        "\n",
        "def read_metadata(reader):\n",
        "  meta = reader.metadata\n",
        "  print(len(reader.pages))\n",
        "\n",
        "  # All of the following could be None!\n",
        "  print(f\"author: {meta.author}\")\n",
        "  print(f\"creator: {meta.creator}\")\n",
        "  print(f\"producer: {meta.producer}\")\n",
        "  print(f\"subject: {meta.subject}\")\n",
        "  print(f\"title: {meta.title}\")"
      ],
      "metadata": {
        "id": "vujDNiZ7KCEb"
      },
      "execution_count": 57,
      "outputs": []
    },
    {
      "cell_type": "code",
      "source": [
        "# @title reading form fields { vertical-output: true, form-width: \"500px\", display-mode: \"both\" }\n",
        "reader = \"\" # @param {type:\"string\"}\n",
        "\n",
        "def reading_form_fields(reader):\n",
        "  # fields = reader.get_form_text_fields()\n",
        "  # fields == {\"key\": \"value\", \"key2\": \"value2\"}\n",
        "  # if reader.isEditable:\n",
        "  fields = reader.get_fields()\n",
        "\n",
        "  if bool(fields):\n",
        "    # print(fields)\n",
        "    for field_name, field_value in fields.items():\n",
        "      print(f\"nazwa pola: {field_name}, wartość: {field_value}\")\n",
        "  else:\n",
        "    print(\"brak fields-ów\")\n",
        "\n",
        "  # for field_name in fields:\n",
        "    # print(field_name)"
      ],
      "metadata": {
        "id": "sATs-Mh5KEDP"
      },
      "execution_count": 58,
      "outputs": []
    },
    {
      "cell_type": "code",
      "source": [
        "# @title extract text { vertical-output: true, form-width: \"500px\", display-mode: \"both\" }\n",
        "reader = \"\" # @param {type:\"string\"}\n",
        "\n",
        "def extract_text(reader):\n",
        "  text = \"\"\n",
        "  try:\n",
        "      for page in reader.pages:\n",
        "          text += page.extract_text()\n",
        "  except Exception as exc:\n",
        "      text = fallback_text_extraction(\"example.pdf\")\n",
        "\n",
        "  return text"
      ],
      "metadata": {
        "id": "44WNpoL6KF6g"
      },
      "execution_count": 59,
      "outputs": []
    },
    {
      "cell_type": "code",
      "source": [
        "# @title usuwanie stron w pdf { vertical-output: true, form-width: \"500px\", display-mode: \"both\" }\n",
        "source_file = \"\" # @param {type:\"string\"}\n",
        "pages_nums_to_delete = 0 # @param {type:\"integer\"}\n",
        "\n",
        "def page_deleting(source_file, pages_nums_to_delete):\n",
        "  print(source_file)\n",
        "\n",
        "  file_name_without_ext, ext = os.path.splitext(source_file)\n",
        "  new_file_name = ''.join([os.path.basename(file_name_without_ext), ext])\n",
        "\n",
        "  destination_file = os.path.join(os.path.dirname(source_file), new_file_name)\n",
        "  print(file_name_without_ext)\n",
        "  print(ext)\n",
        "  print(new_file_name)\n",
        "\n",
        "  with open(source_file, \"rb\") as file:\n",
        "    reader = PdfReader(file)\n",
        "    writer = PdfWriter()\n",
        "\n",
        "    for page_num in range(len(reader.pages)):\n",
        "      if page_num + 1 not in pages_nums_to_delete:\n",
        "        page_to_stay = reader.pages[page_num]\n",
        "        writer.add_page(page_to_stay)\n",
        "\n",
        "  with open(destination_file, \"wb\") as new_file:\n",
        "    writer.write(new_file)\n",
        "\n",
        "  with open(destination_file, \"rb\") as new_file:\n",
        "    print(f\"liczba stron nowego pliku: {len(PdfReader(new_file).pages)}\")"
      ],
      "metadata": {
        "id": "mTiNoP74KLcB"
      },
      "execution_count": 60,
      "outputs": []
    },
    {
      "cell_type": "code",
      "source": [
        "# @title PDF MainAPP { vertical-output: true, form-width: \"500px\", display-mode: \"both\" }\n",
        "\n",
        "def pdf_operations():\n",
        "\n",
        "  filename = os.path.join(os.getcwd(), \"pypdf2\", \"oferta_handlowa_wzor.pdf\")\n",
        "\n",
        "  if check_if_file_exists(filename):\n",
        "    pdf_operations()\n",
        "  else:\n",
        "    upload_files(\"pypdf2\")\n",
        "    pdf_operations()\n",
        "\n",
        "  # usuwanie stron\n",
        "  page_to_delete = [2,3,4,5,6,7,8,9,10,11,12,13,14,15,16]\n",
        "  page_deleting(filename, page_to_delete)\n",
        "\n",
        "  reader = PdfReader(filename)\n",
        "  writer = PdfWriter()\n",
        "\n",
        "  check_if_encrypted(filename)\n",
        "\n",
        "  # annots reading\n",
        "  annots_reading(reader)\n",
        "\n",
        "  # czytanie metadanych\n",
        "  meta = reader.metadata\n",
        "  meta\n",
        "\n",
        "  # iterate over files in directory\n",
        "  # iterate_over_files_in_directory(path_to_working_directory)\n",
        "\n",
        "  # Reading form fields\n",
        "  reading_form_fields(reader)\n",
        "\n",
        "  # extract text\n",
        "  text = extract_text(reader)\n",
        "  print(text)\n",
        "\n",
        "  # add metadata\n",
        "  # add_metadata(filename)"
      ],
      "metadata": {
        "id": "rettydBbKPBy"
      },
      "execution_count": 61,
      "outputs": []
    },
    {
      "cell_type": "markdown",
      "source": [
        "# `Brudnopis`"
      ],
      "metadata": {
        "id": "moObirtZmaGM"
      }
    },
    {
      "cell_type": "code",
      "source": [
        "# @title Ćwiczenia 1 { run: \"auto\", vertical-output: true, form-width: \"500px\", display-mode: \"both\" }\n",
        "dir(object)"
      ],
      "metadata": {
        "id": "iiCagBVXEDUZ",
        "outputId": "8b1eb6c5-26ca-4043-fd5a-3281f9c59772",
        "colab": {
          "base_uri": "https://localhost:8080/"
        }
      },
      "execution_count": 62,
      "outputs": [
        {
          "output_type": "execute_result",
          "data": {
            "text/plain": [
              "['__class__',\n",
              " '__delattr__',\n",
              " '__dir__',\n",
              " '__doc__',\n",
              " '__eq__',\n",
              " '__format__',\n",
              " '__ge__',\n",
              " '__getattribute__',\n",
              " '__gt__',\n",
              " '__hash__',\n",
              " '__init__',\n",
              " '__init_subclass__',\n",
              " '__le__',\n",
              " '__lt__',\n",
              " '__ne__',\n",
              " '__new__',\n",
              " '__reduce__',\n",
              " '__reduce_ex__',\n",
              " '__repr__',\n",
              " '__setattr__',\n",
              " '__sizeof__',\n",
              " '__str__',\n",
              " '__subclasshook__']"
            ]
          },
          "metadata": {},
          "execution_count": 62
        }
      ]
    },
    {
      "cell_type": "code",
      "source": [
        "# @title Ćwiczenia 2 { run: \"auto\", vertical-output: true, form-width: \"500px\", display-mode: \"both\" }\n",
        "\n",
        "class Samochod(object):\n",
        "  pass\n",
        "\n",
        "# dir(Samochod)\n",
        "samochod_1 = Samochod()\n",
        "hash(samochod_1)\n"
      ],
      "metadata": {
        "id": "e21vnWZNmgDm",
        "outputId": "140a242a-e8cf-4c20-fec4-5aa6234463b0",
        "colab": {
          "base_uri": "https://localhost:8080/"
        }
      },
      "execution_count": 63,
      "outputs": [
        {
          "output_type": "execute_result",
          "data": {
            "text/plain": [
              "8757864007287"
            ]
          },
          "metadata": {},
          "execution_count": 63
        }
      ]
    },
    {
      "cell_type": "code",
      "source": [
        "str = 'xyz\\t12345\\tabc'\n",
        "\n",
        "# no argument is passed\n",
        "# default tabsize is 8\n",
        "result = str.expandtabs()\n",
        "\n",
        "print(result)\n",
        "print(str)"
      ],
      "metadata": {
        "id": "rh1bJqd8YAvz",
        "outputId": "f341af69-7aea-4321-cd8a-afc72212ba3b",
        "colab": {
          "base_uri": "https://localhost:8080/"
        }
      },
      "execution_count": 64,
      "outputs": [
        {
          "output_type": "stream",
          "name": "stdout",
          "text": [
            "xyz     12345   abc\n",
            "xyz\t12345\tabc\n"
          ]
        }
      ]
    },
    {
      "cell_type": "code",
      "source": [
        "str = \"xyz\\t12345\\tabc\"\n",
        "print('Original String:', str)\n",
        "\n",
        "# tabsize is set to 2\n",
        "print('Tabsize 2:', str.expandtabs(2))\n",
        "\n",
        "# tabsize is set to 3\n",
        "print('Tabsize 3:', str.expandtabs(3))\n",
        "\n",
        "# tabsize is set to 4\n",
        "print('Tabsize 4:', str.expandtabs(4))\n",
        "\n",
        "# tabsize is set to 5\n",
        "print('Tabsize 5:', str.expandtabs(5))\n",
        "\n",
        "# tabsize is set to 6\n",
        "print('Tabsize 6:', str.expandtabs(6))"
      ],
      "metadata": {
        "id": "wlMNj2SuYP3t",
        "outputId": "6fd12e7c-d7fe-46aa-c4be-d05d8bdd113c",
        "colab": {
          "base_uri": "https://localhost:8080/"
        }
      },
      "execution_count": 65,
      "outputs": [
        {
          "output_type": "stream",
          "name": "stdout",
          "text": [
            "Original String: xyz\t12345\tabc\n",
            "Tabsize 2: xyz 12345 abc\n",
            "Tabsize 3: xyz   12345 abc\n",
            "Tabsize 4: xyz 12345   abc\n",
            "Tabsize 5: xyz  12345     abc\n",
            "Tabsize 6: xyz   12345 abc\n"
          ]
        }
      ]
    },
    {
      "cell_type": "code",
      "source": [
        "# default arguments\n",
        "print(\"Hello {}, your balance is {}.\".format(\"Adam\", 230.2346))\n",
        "\n",
        "# positional arguments\n",
        "print(\"Hello {0}, your balance is {1}.\".format(\"Adam\", 230.2346))\n",
        "\n",
        "# keyword arguments\n",
        "print(\"Hello {name}, your balance is {blc}.\".format(name=\"Adam\", blc=230.2346))\n",
        "\n",
        "# mixed arguments\n",
        "print(\"Hello {0}, your balance is {blc}.\".format(\"Adam\", blc=230.2346))"
      ],
      "metadata": {
        "id": "PXakPwFtZ6dS",
        "outputId": "b7a71ea8-3361-4441-ed3d-05d3aea430e6",
        "colab": {
          "base_uri": "https://localhost:8080/"
        }
      },
      "execution_count": 66,
      "outputs": [
        {
          "output_type": "stream",
          "name": "stdout",
          "text": [
            "Hello Adam, your balance is 230.2346.\n",
            "Hello Adam, your balance is 230.2346.\n",
            "Hello Adam, your balance is 230.2346.\n",
            "Hello Adam, your balance is 230.2346.\n"
          ]
        }
      ]
    },
    {
      "cell_type": "code",
      "source": [
        "str = 'Python'\n",
        "print(str.isidentifier())\n",
        "\n",
        "str = 'Py thon'\n",
        "print(str.isidentifier())\n",
        "\n",
        "str = '22Python'\n",
        "print(str.isidentifier())\n",
        "\n",
        "str = ''\n",
        "print(str.isidentifier())"
      ],
      "metadata": {
        "id": "24zql-lXaWVF",
        "outputId": "eb30467e-4c0a-489d-f0ee-6ba0ce4c4395",
        "colab": {
          "base_uri": "https://localhost:8080/"
        }
      },
      "execution_count": 67,
      "outputs": [
        {
          "output_type": "stream",
          "name": "stdout",
          "text": [
            "True\n",
            "False\n",
            "False\n",
            "False\n"
          ]
        }
      ]
    },
    {
      "cell_type": "code",
      "source": [
        "str = 'root33'\n",
        "if str.isidentifier() == True:\n",
        "  print(str, 'is a valid identifier.')\n",
        "else:\n",
        "  print(str, 'is not a valid identifier.')\n",
        "\n",
        "str = '33root'\n",
        "if str.isidentifier() == True:\n",
        "  print(str, 'is a valid identifier.')\n",
        "else:\n",
        "  print(str, 'is not a valid identifier.')\n",
        "\n",
        "str = 'root 33'\n",
        "if str.isidentifier() == True:\n",
        "  print(str, 'is a valid identifier.')\n",
        "else:\n",
        "  print(str, 'is not a valid identifier.')"
      ],
      "metadata": {
        "id": "RNlCUOW-anj1",
        "outputId": "4def2f11-5abe-4a8e-e492-eb1176b6947c",
        "colab": {
          "base_uri": "https://localhost:8080/"
        }
      },
      "execution_count": 68,
      "outputs": [
        {
          "output_type": "stream",
          "name": "stdout",
          "text": [
            "root33 is a valid identifier.\n",
            "33root is not a valid identifier.\n",
            "root 33 is not a valid identifier.\n"
          ]
        }
      ]
    }
  ]
}