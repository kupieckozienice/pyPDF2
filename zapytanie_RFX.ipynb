{
  "nbformat": 4,
  "nbformat_minor": 0,
  "metadata": {
    "colab": {
      "provenance": [],
      "authorship_tag": "ABX9TyNCFjRn07FSnuqNkYNyE9JL",
      "include_colab_link": true
    },
    "kernelspec": {
      "name": "python3",
      "display_name": "Python 3"
    },
    "language_info": {
      "name": "python"
    }
  },
  "cells": [
    {
      "cell_type": "markdown",
      "metadata": {
        "id": "view-in-github",
        "colab_type": "text"
      },
      "source": [
        "<a href=\"https://colab.research.google.com/github/kupieckozienice/pyPDF2/blob/main/zapytanie_RFX.ipynb\" target=\"_parent\"><img src=\"https://colab.research.google.com/assets/colab-badge.svg\" alt=\"Open In Colab\"/></a>"
      ]
    },
    {
      "cell_type": "code",
      "source": [
        "# Clone the entire repo.\n",
        "!git clone -l -s https://github.com/kupieckozienice/pyPDF2 cloned-repo\n",
        "%cd cloned-repo\n",
        "!ls"
      ],
      "metadata": {
        "id": "MrQetC9ddQdI"
      },
      "execution_count": null,
      "outputs": []
    },
    {
      "cell_type": "code",
      "source": [
        "pip install python-docx"
      ],
      "metadata": {
        "id": "PO0M9LH0gVDY"
      },
      "execution_count": null,
      "outputs": []
    },
    {
      "cell_type": "code",
      "source": [
        "pip install PyPDF2"
      ],
      "metadata": {
        "id": "a8lERaDC0s-u"
      },
      "execution_count": null,
      "outputs": []
    },
    {
      "cell_type": "code",
      "source": [
        "pip install openpyxl"
      ],
      "metadata": {
        "id": "dY2jkySJFpti"
      },
      "execution_count": null,
      "outputs": []
    },
    {
      "cell_type": "code",
      "source": [
        "pip install pdfminer.six"
      ],
      "metadata": {
        "id": "wUM9zRW2KGCt"
      },
      "execution_count": null,
      "outputs": []
    },
    {
      "cell_type": "code",
      "source": [
        "os.chdir(\"/content\")\n",
        "print(os.getcwd())"
      ],
      "metadata": {
        "id": "oRlzm6ULfoak"
      },
      "execution_count": null,
      "outputs": []
    },
    {
      "cell_type": "code",
      "source": [
        "import os\n",
        "import pathlib as pth\n",
        "from typing import Union, Literal, List\n",
        "from PyPDF2 import PdfReader, PdfWriter\n",
        "from datetime import datetime  # Import the datetime module\n",
        "from pdfminer.high_level import extract_text as fallback_text_extraction"
      ],
      "metadata": {
        "id": "oC_2Bdqlp849"
      },
      "execution_count": null,
      "outputs": []
    },
    {
      "cell_type": "code",
      "source": [
        "def convertPdfDatetime(pd):\n",
        "    from datetime import datetime\n",
        "    dtformat = \"%Y%m%d%H%M%S\"\n",
        "    clean = pd.replace(\"D:\",\"\").split('+')[0]\n",
        "    return datetime.strptime(clean,dtformat)"
      ],
      "metadata": {
        "id": "V1NCC5KMp3HF"
      },
      "execution_count": null,
      "outputs": []
    },
    {
      "cell_type": "code",
      "source": [
        "# add blank page\n",
        "def add_blank_page(writer, path_destination):\n",
        "  writer.add_blank_page(width=200, height=200)\n",
        "\n",
        "  data = b\"any bytes - typically read from a file\"\n",
        "  writer.add_attachment(\"smile.png\", data)\n",
        "\n",
        "  with open(\"output.pdf\", \"wb\") as output_stream:\n",
        "      writer.write(output_stream)"
      ],
      "metadata": {
        "id": "goDm6YP9078k"
      },
      "execution_count": null,
      "outputs": []
    },
    {
      "cell_type": "code",
      "source": [
        "def check_if_encrypted(path_to_file):\n",
        "  if os.path.isfile(path_to_file):\n",
        "    reader = PdfReader(path_to_file)\n",
        "\n",
        "    if reader.is_encrypted:\n",
        "      writer = PdfWriter()\n",
        "      password = input(\"Enter your password: \")\n",
        "      reader.decrypt(password)\n",
        "\n",
        "      # Add all pages to the writer\n",
        "      for page in reader.pages:\n",
        "          writer.add_page(page)\n",
        "\n",
        "      # Save the new PDF to a file\n",
        "      with open(path_to_file, \"wb\") as f:\n",
        "          writer.write(f)\n",
        "\n",
        "      print(\"plik rozszyfrowany\")\n",
        "    else:\n",
        "      print(\"plik NIE był zaszyfrowany\")"
      ],
      "metadata": {
        "id": "nXDIVq0z9Q2B"
      },
      "execution_count": null,
      "outputs": []
    },
    {
      "cell_type": "code",
      "source": [
        "def annots_reading(reader):\n",
        "  print(\"funkcja annots_reading załadowana\")\n",
        "\n",
        "  attachments = {}\n",
        "\n",
        "  for page in reader.pages:\n",
        "    if \"/Annots\" in page:\n",
        "        for annot in page[\"/Annots\"]:\n",
        "            obj = annot.get_object()\n",
        "            annotation = {\"subtype\": obj[\"/Subtype\"], \"location\": obj[\"/Rect\"]}\n",
        "            print(annotation)\n",
        "\n",
        "            # text\n",
        "            subtype = annot.get_object()[\"/Subtype\"]\n",
        "            if subtype == \"/Text\":\n",
        "                print(annot.get_object()[\"/Contents\"])\n",
        "\n",
        "            # Highlights\n",
        "            subtype = annot.get_object()[\"/Subtype\"]\n",
        "            if subtype == \"/Highlight\":\n",
        "                coords = annot.get_object()[\"/QuadPoints\"]\n",
        "                x1, y1, x2, y2, x3, y3, x4, y4 = coords\n",
        "\n",
        "            # # attachments\n",
        "            # subtype = annot.get_object()[\"/Subtype\"]\n",
        "            # if subtype == \"/FileAttachment\":\n",
        "            #     fileobj = annotobj[\"/FS\"]\n",
        "            #     attachments[fileobj[\"/F\"]] = fileobj[\"/EF\"][\"/F\"].get_data()\n",
        "    else:\n",
        "      # print(\"brak andotacji w pliku\")\n",
        "      pass"
      ],
      "metadata": {
        "id": "sqbxGEGksKFj"
      },
      "execution_count": null,
      "outputs": []
    },
    {
      "cell_type": "code",
      "source": [
        "# iterate over files in directory\n",
        "\n",
        "def iterate_over_files_in_directory(path_to_directory):\n",
        "\n",
        "  numerate = 1\n",
        "\n",
        "  for filename in os.listdir(path_to_directory):\n",
        "    f = os.path.join(path_to_directory, filename)\n",
        "    if os.path.isfile(f):\n",
        "      print(f\"{numerate}. {f}\")\n",
        "      numerate = numerate + 1"
      ],
      "metadata": {
        "id": "Io-gJ1Nw6Nox"
      },
      "execution_count": null,
      "outputs": []
    },
    {
      "cell_type": "code",
      "source": [
        "# Add the metadata\n",
        "def add_metadata(path_to_file):\n",
        "  reader = PdfReader(path_to_file)\n",
        "  writer = PdfWriter()\n",
        "\n",
        "  # Add all pages to the writer\n",
        "  for page in reader.pages:\n",
        "      writer.add_page(page)\n",
        "\n",
        "  writer.add_metadata(\n",
        "      {\n",
        "          \"/Author\": \"Martino\",\n",
        "          \"/Producer\": \"Libre Writer\",\n",
        "          \"/Subject\": \"kikk\",\n",
        "          \"/Title\": \"jakis_tytul\",\n",
        "          # \"/ModDate\": modification_date  # Adding modification date\n",
        "      }\n",
        "  )\n",
        "\n",
        "  with open(os.path.join(path_to_working_directory, path_to_file), \"wb\") as f:\n",
        "    writer.write(f)"
      ],
      "metadata": {
        "id": "Mz9jWz5R_PR1"
      },
      "execution_count": null,
      "outputs": []
    },
    {
      "cell_type": "code",
      "source": [
        "def read_metadata(reader):\n",
        "  meta = reader.metadata\n",
        "  print(len(reader.pages))\n",
        "\n",
        "  # All of the following could be None!\n",
        "  print(f\"author: {meta.author}\")\n",
        "  print(f\"creator: {meta.creator}\")\n",
        "  print(f\"producer: {meta.producer}\")\n",
        "  print(f\"subject: {meta.subject}\")\n",
        "  print(f\"title: {meta.title}\")"
      ],
      "metadata": {
        "id": "0T3YsCthMiKp"
      },
      "execution_count": null,
      "outputs": []
    },
    {
      "cell_type": "code",
      "source": [
        "# reading form fields\n",
        "\n",
        "def reading_form_fields(reader):\n",
        "  # fields = reader.get_form_text_fields()\n",
        "  # fields == {\"key\": \"value\", \"key2\": \"value2\"}\n",
        "  # if reader.isEditable:\n",
        "  fields = reader.get_fields()\n",
        "\n",
        "  if bool(fields):\n",
        "    # print(fields)\n",
        "    for field_name, field_value in fields.items():\n",
        "      print(f\"nazwa pola: {field_name}, wartość: {field_value}\")\n",
        "  else:\n",
        "    print(\"brak fields-ów\")\n",
        "\n",
        "  # for field_name in fields:\n",
        "    # print(field_name)"
      ],
      "metadata": {
        "id": "FAnzmvbJA9of"
      },
      "execution_count": null,
      "outputs": []
    },
    {
      "cell_type": "code",
      "source": [
        "# extract text\n",
        "def extract_text(reader):\n",
        "  text = \"\"\n",
        "  try:\n",
        "      for page in reader.pages:\n",
        "          text += page.extract_text()\n",
        "  except Exception as exc:\n",
        "      text = fallback_text_extraction(\"example.pdf\")\n",
        "\n",
        "  return text"
      ],
      "metadata": {
        "id": "5BEjMUp9NOiX"
      },
      "execution_count": null,
      "outputs": []
    },
    {
      "cell_type": "code",
      "source": [
        "# sprawdzenie czy istnieje katalog roboczy, w którym chcemy pracować\n",
        "def check_if_directory_and_path_exists(directory_name):\n",
        "  # Ścieżka do katalogu bieżącego\n",
        "  cwd = os.getcwd()\n",
        "  print(f\"katalog \\\"bieżący\\\": {cwd}\")\n",
        "\n",
        "  working_directory_for_creating = os.path.join(cwd, directory_name)\n",
        "  print(f\"katalog roboczy do utworzenia (jeśli nie istnieje): {working_directory_for_creating}\")\n",
        "\n",
        "  try:\n",
        "    if not os.path.exists(working_directory_for_creating):\n",
        "      print(f\"katalog: {working_directory_for_creating} nie istnieje i zostanie utworzony\")\n",
        "      os.makedirs(working_directory_for_creating)\n",
        "    else:\n",
        "      print(f\"katalog: {working_directory_for_creating} już istnieje!\")\n",
        "  except FileExistsError:\n",
        "    print(f\"katalog o nazwie {working_directory_for_creating} już istnieje!\")\n",
        "  except Exception as e:\n",
        "    print(f\"wystąpił błąd podczas tworzenie katalogu: {working_directory_for_creating}\")"
      ],
      "metadata": {
        "id": "xpHkhACx7wIH"
      },
      "execution_count": null,
      "outputs": []
    },
    {
      "cell_type": "code",
      "execution_count": null,
      "metadata": {
        "id": "ZtqhtE1QnKas"
      },
      "outputs": [],
      "source": [
        "def import_files(destination_directory):\n",
        "  from google.colab import files\n",
        "\n",
        "  uploaded = files.upload()\n",
        "  # print(uploaded.keys())\n",
        "\n",
        "  for fn in uploaded.keys():\n",
        "    print('User uploaded file \"{name}\" with length {length} bytes'.format(\n",
        "        name=fn, length=len(uploaded[fn])))\n",
        "\n",
        "  for filename, file_content in uploaded.items():\n",
        "    if os.path.exists(destination_directory) and os.path.isdir(destination_directory):\n",
        "      with open(os.path.join(destination_directory, filename), \"wb\") as f:\n",
        "        f.write(file_content)\n",
        "\n",
        "      # remove files from /content\n",
        "      file_to_remove_after_copying_to_working_directory = os.path.join(os.getcwd(), filename)\n",
        "      if os.path.isfile(file_to_remove_after_copying_to_working_directory):\n",
        "        os.remove(file_to_remove_after_copying_to_working_directory)\n",
        "        if not os.path.exists(file_to_remove_after_copying_to_working_directory):\n",
        "          print(f\"plik: {os.path.basename(file_to_remove_after_copying_to_working_directory)} \"\n",
        "          f\"usunięty z katalogu {os.path.dirname(file_to_remove_after_copying_to_working_directory)}\")\n",
        "        else:\n",
        "          print(f\"plik: {os.path.basename(file_to_remove_after_copying_to_working_directory)} \"\n",
        "          f\"NIE usunięty z katalogu {os.path.dirname(file_to_remove_after_copying_to_working_directory)}\")"
      ]
    },
    {
      "cell_type": "code",
      "source": [
        "# usuwanie stron w pdf\n",
        "def page_deleting(source_file, pages_nums_to_delete):\n",
        "  print(source_file)\n",
        "\n",
        "  file_name_without_ext, ext = os.path.splitext(source_file)\n",
        "  new_file_name = ''.join([os.path.basename(file_name_without_ext), ext])\n",
        "\n",
        "  destination_file = os.path.join(os.path.dirname(source_file), new_file_name)\n",
        "  print(file_name_without_ext)\n",
        "  print(ext)\n",
        "  print(new_file_name)\n",
        "\n",
        "  with open(source_file, \"rb\") as file:\n",
        "    reader = PdfReader(file)\n",
        "    writer = PdfWriter()\n",
        "\n",
        "    for page_num in range(len(reader.pages)):\n",
        "      if page_num + 1 not in pages_nums_to_delete:\n",
        "        page_to_stay = reader.pages[page_num]\n",
        "        writer.add_page(page_to_stay)\n",
        "\n",
        "  with open(destination_file, \"wb\") as new_file:\n",
        "    writer.write(new_file)\n",
        "\n",
        "  with open(destination_file, \"rb\") as new_file:\n",
        "    print(f\"liczba stron nowego pliku: {len(PdfReader(new_file).pages)}\")"
      ],
      "metadata": {
        "id": "B7eSWcC2DUJX"
      },
      "execution_count": null,
      "outputs": []
    },
    {
      "cell_type": "code",
      "source": [
        "# check if file exists\n",
        "def check_if_file_exists(path_to_file):\n",
        "  try:\n",
        "    with open(path_to_file, 'r') as file:\n",
        "      print(f\"Plik {path_to_file} istnieje i ma się całkiem nieźle ;-)\")\n",
        "      return True\n",
        "  except FileNotFoundError:\n",
        "    print('Sorry the file we\\'re looking for doesn\\' exist')\n",
        "    return False\n",
        "  except Exception as e:\n",
        "    print(f\"Wystąpił błąd: {e}\")\n",
        "    return False"
      ],
      "metadata": {
        "id": "NwyYKWSoW4Uo"
      },
      "execution_count": null,
      "outputs": []
    },
    {
      "cell_type": "code",
      "source": [
        "# upload files\n",
        "def upload_files(folder_domyslny = \"uploaded\"):\n",
        "  check_if_directory_and_path_exists(folder_domyslny)\n",
        "  import_files(folder_domyslny)"
      ],
      "metadata": {
        "id": "JIelgrZw6Q6F"
      },
      "execution_count": null,
      "outputs": []
    },
    {
      "cell_type": "code",
      "source": [
        "from docx import Document\n",
        "from docx.shared import Inches, Pt\n",
        "from docx.enum.text import WD_ALIGN_PARAGRAPH\n",
        "from google.colab import files\n",
        "from datetime import datetime"
      ],
      "metadata": {
        "id": "EZG4tY0Apppv"
      },
      "execution_count": null,
      "outputs": []
    },
    {
      "cell_type": "code",
      "source": [
        "# rozdziel nazwe pliku od rozszerzenia\n",
        "def split_filename_and_extension(filename):\n",
        "  nazwa_pliku, rozszerzenie_pliku = os.path.splitext(filename)\n",
        "\n",
        "  return {'name_key': nazwa_pliku, 'ext_key': rozszerzenie_pliku}"
      ],
      "metadata": {
        "id": "23c8w_EjGIkB"
      },
      "execution_count": null,
      "outputs": []
    },
    {
      "cell_type": "code",
      "source": [
        "# wczytaj paragrafy z pliku docs - analiza zawartości\n",
        "\n",
        "from docx import Document\n",
        "doc = Document()\n",
        "\n",
        "dokument_word_do_analizy = Document(os.path.join(os.getcwd(), \"Zapytanie ofertowe RFX KZP-ŁA.2110.54.2023.docx\"))\n",
        "print(dokument_word_do_analizy)\n",
        "\n",
        "for index, paragraf in enumerate(dokument_word_do_analizy.paragraphs):\n",
        "  pass\n",
        "  # print(f\"\\n\\n--> Paragraf nr {index} \\n\", paragraf.text)"
      ],
      "metadata": {
        "colab": {
          "base_uri": "https://localhost:8080/"
        },
        "id": "Yl-3b22HSjSn",
        "outputId": "1a794d95-9eb9-4ac1-ef51-77216e7741dd"
      },
      "execution_count": null,
      "outputs": [
        {
          "output_type": "stream",
          "name": "stdout",
          "text": [
            "<docx.document.Document object at 0x7acd93cfd810>\n"
          ]
        }
      ]
    },
    {
      "cell_type": "code",
      "source": [
        "doc = Document()\n",
        "\n",
        "# modyfikacja stylu Normal\n",
        "normal_style = doc.styles['Normal']\n",
        "normal_style.font.name = 'Tahoma'\n",
        "normal_style.font.size = Pt(9)\n",
        "normal_style.paragraph_format.alignment = WD_ALIGN_PARAGRAPH.LEFT\n",
        "\n",
        "# styl nagłówka GŁÓWNEGO\n",
        "style = doc.styles.add_style('nagłówek_główny_styl', 1)\n",
        "style.font.name = 'Tahoma'\n",
        "style.font.size = Pt(9)\n",
        "style.paragraph_format.alignment = WD_ALIGN_PARAGRAPH.CENTER\n",
        "\n",
        "# zmiana marginesu storny\n",
        "sekcja = doc.sections[0]\n",
        "sekcja.left_margin = Inches(1)\n",
        "sekcja.right_margin = Inches(1)\n",
        "szerokosc_strony = sekcja.page_width - sekcja.left_margin - sekcja.right_margin\n",
        "\n",
        "# dodanie logo firmy\n",
        "logo_sciezka = '/content/uploaded/nagłowek_enea.PNG'\n",
        "\n",
        "if not check_if_file_exists(logo_sciezka):\n",
        "  upload_files(os.path.dirname(logo_sciezka))\n",
        "  logo_added = doc.add_picture(logo_sciezka)\n",
        "  wciecie_logo = szerokosc_strony - logo_added.width / 2\n",
        "else:\n",
        "  logo_added = doc.add_picture(logo_sciezka)\n",
        "  wciecie_logo = szerokosc_strony - logo_added.width / 2\n",
        "\n",
        "# dane wejściowe\n",
        "nazwa_sprawy = \"KZP.ŁA.2110.23.2024 Dostawa łożysk\"\n",
        "data_dokumentu = datetime.now().strftime('%d.%m.%Y')\n",
        "# data_dokumentu = datetime.now().strftime('%d.%m.%Y %H:%M:%S')\n",
        "\n",
        "# dodanie znaku sprawy i daty\n",
        "p = doc.add_paragraph(f'Nasz znak: ')\n",
        "run_znak_sprawy = p.add_run(f'{nazwa_sprawy}')\n",
        "run_znak_sprawy.bold = True\n",
        "p.style = 'Normal'\n",
        "\n",
        "# dodanie daty dokumentu\n",
        "data = doc.add_paragraph(f\"Świerże Górne, dn. \")\n",
        "data_run = data.add_run(f'{data_dokumentu}r.')\n",
        "data_run.bold = True\n",
        "data.alignment = WD_ALIGN_PARAGRAPH.RIGHT\n",
        "\n",
        "# dodanie nagłówka\n",
        "nagłówek_text = doc.add_heading('ZAPYTANIE OFERTOWE (RFX)', 0)\n",
        "nagłówek_text.style = 'nagłówek_główny_styl'\n",
        "\n",
        "pkt_1 = \"WPROWADZENIE:\\nNiniejsze Zapytanie jest podstawą do złożenia ofert.\"\n",
        "pkt_2 = \"TRYB UDZIELENIA ZAMÓWIENIA:\\nPostępowanie w trybie Zapytania Ofertowego (RFX) prowadzone jest w oparciu o wewnętrzny Regulamin Udzielania Zamówień i Zawierania Umów (RUZiZU) Zamawiającego, dla którego nie mają zastosowania przepisy ustawy z dnia 11.09.2019 r. Prawo zamówień publicznych.\"\n",
        "podpunkt_3_1 = f\"Wykonanie usługi pn. \\\"{nazwa_sprawy}\\\".\"\n",
        "podpunkt_3_2 = \"Zakres dostawy wg: Załącznika Nr 1 pn. \\\"Zakres Przedmiotu zamówienia\\\".\"\n",
        "pkt_3 = {\"PRZEDMIOT ZAMÓWIENIA\": [podpunkt_3_1, podpunkt_3_2]}\n",
        "pkt_4 = \"OFERTY CZĘŚCIOWE:\\nZamawiający dopuszcza składania ofert częściowych.\"\n",
        "pkt_5 = \"OFERTY WARIANTOWE:\\nZamawiający nie dopuszcza składania ofert wariantowych.\"\n",
        "podpunkt_6_1 = \"rozpoczęcie wykonywania Przedmiotu umowy  – od dnia podpisania Zamówienia,\"\n",
        "podpunkt_6_2 = f\"zakończenie wykonywania Przedmiotu umowy – zgodnie z załącznikiem „1. Załącznik {nazwa_sprawy} — zakres przedmiotu zamówienia”; lub 1 tydzień od daty otrzymania zamówienia, termin ten uważany będzie za dochowany przez Wykonawcę w przypadku, gdy przed jego upływem nastąpi protokolarny, bezusterkowy odbiór końcowy prac będących Przedmiotem umowy,\"\n",
        "pkt_6 = {\"TERMINY REALIZACJI: \":[podpunkt_6_1, podpunkt_6_2]}\n",
        "podpunkt_7_1 = \"Realizacja przedmiotu zamówienia polega na:  Dostawie dla Enea Wytwarzanie sp. z o.o. fabrycznie nowych, nieużywanych, nieregenerowanych wyrobów będących przedmiotem niniejszego zapytania ofertowego wykonanych zgodnie z opisem przedmiotu zamówienia.\"\n",
        "pkt_7 = {\"SZCZEGÓŁOWE WARUNKI TECHNICZNE/TECHNOLOGICZNE REALIZACJI PRZEDMIOTU ZAMÓWIENIA\":[podpunkt_7_1]}\n",
        "\n",
        "lista_punktów = [pkt_1, pkt_2, pkt_3, pkt_4, pkt_5, pkt_6, pkt_7]\n",
        "\n",
        "for punkt in lista_punktów:\n",
        "  if isinstance(punkt, dict):\n",
        "    for main_item, sub_items in punkt.items():\n",
        "      paragraf = doc.add_paragraph(main_item, style = 'ListNumber')\n",
        "      for sub_item in sub_items:\n",
        "        sub_paragraf = doc.add_paragraph(sub_item, style = 'ListBullet')\n",
        "        sub_paragraf.paragraph_format.left_indent = 360\n",
        "  else:\n",
        "    paragraf = doc.add_paragraph(punkt, style = 'ListNumber')\n",
        "\n",
        "doc.add_page_break()\n",
        "\n",
        "# złożenie nowej nazwy pliku wraz z nazwą sprawy\n",
        "podzielona_nazwa_pliku_slownik = split_filename_and_extension(\"Zapytanie_ofertowe_RFX.docx\")\n",
        "nazwa_trzon = podzielona_nazwa_pliku_slownik['name_key']\n",
        "rozszerzenie = podzielona_nazwa_pliku_slownik['ext_key']\n",
        "\n",
        "skladowe_nazwy_pliku = [nazwa_trzon, \"_\", nazwa_sprawy, rozszerzenie]\n",
        "nowa_nazwa_pliku = \"\".join(skladowe_nazwy_pliku)\n",
        "print(nowa_nazwa_pliku)\n",
        "\n",
        "doc.save(nowa_nazwa_pliku)\n",
        "files.download(nowa_nazwa_pliku)"
      ],
      "metadata": {
        "id": "wf66CvM8gDzw",
        "outputId": "e39b2741-93c1-448a-aa31-cbab19843ff1",
        "colab": {
          "base_uri": "https://localhost:8080/",
          "height": 90
        }
      },
      "execution_count": null,
      "outputs": [
        {
          "output_type": "stream",
          "name": "stdout",
          "text": [
            "Plik /content/uploaded/nagłowek_enea.PNG istnieje i ma się całkiem nieźle ;-)\n",
            "Zapytanie_ofertowe_RFX_KZP.ŁA.2110.23.2024 Dostawa łożysk.docx\n"
          ]
        },
        {
          "output_type": "stream",
          "name": "stderr",
          "text": [
            "/usr/local/lib/python3.10/dist-packages/docx/styles/styles.py:130: UserWarning: style lookup by style_id is deprecated. Use style name as key instead.\n",
            "  return self._get_style_id_from_style(self[style_name], style_type)\n"
          ]
        },
        {
          "output_type": "display_data",
          "data": {
            "text/plain": [
              "<IPython.core.display.Javascript object>"
            ],
            "application/javascript": [
              "\n",
              "    async function download(id, filename, size) {\n",
              "      if (!google.colab.kernel.accessAllowed) {\n",
              "        return;\n",
              "      }\n",
              "      const div = document.createElement('div');\n",
              "      const label = document.createElement('label');\n",
              "      label.textContent = `Downloading \"${filename}\": `;\n",
              "      div.appendChild(label);\n",
              "      const progress = document.createElement('progress');\n",
              "      progress.max = size;\n",
              "      div.appendChild(progress);\n",
              "      document.body.appendChild(div);\n",
              "\n",
              "      const buffers = [];\n",
              "      let downloaded = 0;\n",
              "\n",
              "      const channel = await google.colab.kernel.comms.open(id);\n",
              "      // Send a message to notify the kernel that we're ready.\n",
              "      channel.send({})\n",
              "\n",
              "      for await (const message of channel.messages) {\n",
              "        // Send a message to notify the kernel that we're ready.\n",
              "        channel.send({})\n",
              "        if (message.buffers) {\n",
              "          for (const buffer of message.buffers) {\n",
              "            buffers.push(buffer);\n",
              "            downloaded += buffer.byteLength;\n",
              "            progress.value = downloaded;\n",
              "          }\n",
              "        }\n",
              "      }\n",
              "      const blob = new Blob(buffers, {type: 'application/binary'});\n",
              "      const a = document.createElement('a');\n",
              "      a.href = window.URL.createObjectURL(blob);\n",
              "      a.download = filename;\n",
              "      div.appendChild(a);\n",
              "      a.click();\n",
              "      div.remove();\n",
              "    }\n",
              "  "
            ]
          },
          "metadata": {}
        },
        {
          "output_type": "display_data",
          "data": {
            "text/plain": [
              "<IPython.core.display.Javascript object>"
            ],
            "application/javascript": [
              "download(\"download_6e85e167-d240-477d-9830-fefd19dcbd1f\", \"Zapytanie_ofertowe_RFX_KZP.\\u0141A.2110.23.2024 Dostawa \\u0142o\\u017cysk.docx\", 47178)"
            ]
          },
          "metadata": {}
        }
      ]
    },
    {
      "cell_type": "code",
      "source": [
        "def actual_datetime():\n",
        "  teraz = datetime.now(tz=tz.gettz('Europe/Warsaw'))\n",
        "  formatted_date = teraz.strftime(\"%d_%m_%Y\")\n",
        "  formatted_time = teraz.strftime(\"%H_%M_%S\")\n",
        "\n",
        "  # print(formatted_date)\n",
        "  # print(formatted_time)\n",
        "\n",
        "  return {'data': formatted_date, 'czas': formatted_time}\n"
      ],
      "metadata": {
        "id": "Bw8RT8BLFCTn"
      },
      "execution_count": null,
      "outputs": []
    },
    {
      "cell_type": "code",
      "source": [
        "from openpyxl import Workbook\n",
        "from openpyxl.worksheet.table import Table, TableStyleInfo\n",
        "from dateutil import tz\n",
        "from datetime import datetime  # Import the datetime module\n",
        "\n",
        "# utworzenie katalogu do pracy z biblioteka openpyxl\n",
        "\n",
        "try:\n",
        "  dir_name_for_openpyxl = \"openpyxl\"\n",
        "  check_if_directory_and_path_exists(dir_name_for_openpyxl)\n",
        "\n",
        "  wb = Workbook()\n",
        "  ws = wb.active\n",
        "\n",
        "  data = [\n",
        "      ['Apples', 10000, 5000, 8000, 6000],\n",
        "      ['Pears',   2000, 3000, 4000, 5000],\n",
        "      ['Bananas', 6000, 6000, 6500, 6000],\n",
        "      ['Oranges',  500,  300,  200,  700],\n",
        "  ]\n",
        "\n",
        "  # add column headings. NB. these must be strings\n",
        "  ws.append([\"Fruit\", \"2011\", \"2012\", \"2013\", \"2014\"])\n",
        "  for row in data:\n",
        "      ws.append(row)\n",
        "\n",
        "  tab = Table(displayName=\"Table1\", ref=\"A1:E5\")\n",
        "\n",
        "  # Add a default style with striped rows and banded columns\n",
        "  style = TableStyleInfo(name=\"TableStyleMedium9\", showFirstColumn=False,\n",
        "                        showLastColumn=False, showRowStripes=True, showColumnStripes=True)\n",
        "  tab.tableStyleInfo = style\n",
        "\n",
        "  '''\n",
        "  Table must be added using ws.add_table() method to avoid duplicate names.\n",
        "  Using this method ensures table name is unque through out defined names and all other table name.\n",
        "  '''\n",
        "  ws.add_table(tab)\n",
        "\n",
        "  # Save the file with actual date and time\n",
        "  data_czas = actual_datetime()\n",
        "  lista_daty = [\"_\", data_czas['czas'], \"___\", data_czas['data']]\n",
        "  skrot_do_daty_i_godziny = \"\".join(lista_daty)\n",
        "\n",
        "  podzielona_nazwa_pliku = split_filename_and_extension(\"sample.xlsx\")\n",
        "  nowa_nazwa_pliku_skladowe = [podzielona_nazwa_pliku.get('name_key'),\n",
        "                               skrot_do_daty_i_godziny,\n",
        "                               podzielona_nazwa_pliku.get('ext_key')]\n",
        "\n",
        "  nowa_nazwa_pliku = \"\".join(nowa_nazwa_pliku_skladowe)\n",
        "\n",
        "  wb.save(nowa_nazwa_pliku)\n",
        "\n",
        "except Exception as e:\n",
        "  print(f\"wyje.ało błęda: {e}\")"
      ],
      "metadata": {
        "id": "Su2OfI8BDZGN",
        "outputId": "228ae286-be9c-403b-f9ee-1fa1211ea50c",
        "colab": {
          "base_uri": "https://localhost:8080/"
        }
      },
      "execution_count": null,
      "outputs": [
        {
          "output_type": "stream",
          "name": "stdout",
          "text": [
            "katalog \"bieżący\": /content\n",
            "katalog roboczy do utworzenia (jeśli nie istnieje): /content/openpyxl\n",
            "katalog: /content/openpyxl już istnieje!\n"
          ]
        }
      ]
    }
  ]
}