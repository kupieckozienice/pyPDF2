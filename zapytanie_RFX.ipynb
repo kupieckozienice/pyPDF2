{
  "nbformat": 4,
  "nbformat_minor": 0,
  "metadata": {
    "colab": {
      "provenance": [],
      "toc_visible": true,
      "include_colab_link": true
    },
    "kernelspec": {
      "name": "python3",
      "display_name": "Python 3"
    },
    "language_info": {
      "name": "python"
    }
  },
  "cells": [
    {
      "cell_type": "markdown",
      "metadata": {
        "id": "view-in-github",
        "colab_type": "text"
      },
      "source": [
        "<a href=\"https://colab.research.google.com/github/kupieckozienice/pyPDF2/blob/main/zapytanie_RFX.ipynb\" target=\"_parent\"><img src=\"https://colab.research.google.com/assets/colab-badge.svg\" alt=\"Open In Colab\"/></a>"
      ]
    },
    {
      "cell_type": "markdown",
      "source": [
        "# `klonowanie repozytorium`"
      ],
      "metadata": {
        "id": "rjx3N18uNlXN"
      }
    },
    {
      "cell_type": "code",
      "source": [
        "# @title Clone the entire repo { vertical-output: true }\n",
        "repo_link = \"https://github.com/kupieckozienice/pyPDF2\" # @param {type:\"string\"}\n",
        "\n",
        "# https://github.com/kupieckozienice/pyPDF2\n",
        "\n",
        "# !git clone -l -s repo_link cloned-repo\n",
        "# %cd cloned-repo\n",
        "# !ls"
      ],
      "metadata": {
        "id": "MrQetC9ddQdI"
      },
      "execution_count": 1,
      "outputs": []
    },
    {
      "cell_type": "markdown",
      "source": [
        "# `instalowanie bibliotek`"
      ],
      "metadata": {
        "id": "ZdGgafE6Gzpq"
      }
    },
    {
      "cell_type": "code",
      "source": [
        "# @title install unidecode { form-width: \"500px\", display-mode: \"both\" }\n",
        "%pip install unidecode"
      ],
      "metadata": {
        "colab": {
          "base_uri": "https://localhost:8080/"
        },
        "id": "22smGidmdP1U",
        "outputId": "f9e8e509-5b33-4b9a-cb44-2d981ccb26a2"
      },
      "execution_count": 2,
      "outputs": [
        {
          "output_type": "stream",
          "name": "stdout",
          "text": [
            "Collecting unidecode\n",
            "  Downloading Unidecode-1.3.8-py3-none-any.whl (235 kB)\n",
            "\u001b[2K     \u001b[90m━━━━━━━━━━━━━━━━━━━━━━━━━━━━━━━━━━━━━━━━\u001b[0m \u001b[32m235.5/235.5 kB\u001b[0m \u001b[31m2.0 MB/s\u001b[0m eta \u001b[36m0:00:00\u001b[0m\n",
            "\u001b[?25hInstalling collected packages: unidecode\n",
            "Successfully installed unidecode-1.3.8\n"
          ]
        }
      ]
    },
    {
      "cell_type": "code",
      "source": [
        "# @title install python-docx { form-width: \"750px\", display-mode: \"both\" }\n",
        "%pip install python-docx"
      ],
      "metadata": {
        "id": "PO0M9LH0gVDY",
        "outputId": "8d8ee762-4092-4c9c-db63-3383ee404b16",
        "colab": {
          "base_uri": "https://localhost:8080/"
        }
      },
      "execution_count": 3,
      "outputs": [
        {
          "output_type": "stream",
          "name": "stdout",
          "text": [
            "Collecting python-docx\n",
            "  Downloading python_docx-1.1.0-py3-none-any.whl (239 kB)\n",
            "\u001b[2K     \u001b[90m━━━━━━━━━━━━━━━━━━━━━━━━━━━━━━━━━━━━━━━━\u001b[0m \u001b[32m239.6/239.6 kB\u001b[0m \u001b[31m1.1 MB/s\u001b[0m eta \u001b[36m0:00:00\u001b[0m\n",
            "\u001b[?25hRequirement already satisfied: lxml>=3.1.0 in /usr/local/lib/python3.10/dist-packages (from python-docx) (4.9.4)\n",
            "Requirement already satisfied: typing-extensions in /usr/local/lib/python3.10/dist-packages (from python-docx) (4.5.0)\n",
            "Installing collected packages: python-docx\n",
            "Successfully installed python-docx-1.1.0\n"
          ]
        }
      ]
    },
    {
      "cell_type": "code",
      "source": [
        "# @title install PyPDF2 { form-width: \"600px\", display-mode: \"both\" }\n",
        "%pip install PyPDF2"
      ],
      "metadata": {
        "id": "a8lERaDC0s-u",
        "outputId": "aa0c5f76-e2ef-404a-9e9e-16dc26a86dd0",
        "colab": {
          "base_uri": "https://localhost:8080/"
        }
      },
      "execution_count": 4,
      "outputs": [
        {
          "output_type": "stream",
          "name": "stdout",
          "text": [
            "Collecting PyPDF2\n",
            "  Downloading pypdf2-3.0.1-py3-none-any.whl (232 kB)\n",
            "\u001b[?25l     \u001b[90m━━━━━━━━━━━━━━━━━━━━━━━━━━━━━━━━━━━━━━━━\u001b[0m \u001b[32m0.0/232.6 kB\u001b[0m \u001b[31m?\u001b[0m eta \u001b[36m-:--:--\u001b[0m\r\u001b[2K     \u001b[91m━━━━━━━━━━\u001b[0m\u001b[91m╸\u001b[0m\u001b[90m━━━━━━━━━━━━━━━━━━━━━━━━━━━━━\u001b[0m \u001b[32m61.4/232.6 kB\u001b[0m \u001b[31m1.9 MB/s\u001b[0m eta \u001b[36m0:00:01\u001b[0m\r\u001b[2K     \u001b[90m━━━━━━━━━━━━━━━━━━━━━━━━━━━━━━━━━━━━━━━━\u001b[0m \u001b[32m232.6/232.6 kB\u001b[0m \u001b[31m4.1 MB/s\u001b[0m eta \u001b[36m0:00:00\u001b[0m\n",
            "\u001b[?25hInstalling collected packages: PyPDF2\n",
            "Successfully installed PyPDF2-3.0.1\n"
          ]
        }
      ]
    },
    {
      "cell_type": "code",
      "source": [
        "# @title install pdfminer.six { form-width: \"600px\", display-mode: \"both\" }\n",
        "%pip install pdfminer.six"
      ],
      "metadata": {
        "colab": {
          "base_uri": "https://localhost:8080/"
        },
        "id": "Ip0ocTxo2sPI",
        "outputId": "7a8ec052-ca0f-4f3d-dcb6-b1ead7edbb1f"
      },
      "execution_count": 5,
      "outputs": [
        {
          "output_type": "stream",
          "name": "stdout",
          "text": [
            "Collecting pdfminer.six\n",
            "  Downloading pdfminer.six-20231228-py3-none-any.whl (5.6 MB)\n",
            "\u001b[?25l     \u001b[90m━━━━━━━━━━━━━━━━━━━━━━━━━━━━━━━━━━━━━━━━\u001b[0m \u001b[32m0.0/5.6 MB\u001b[0m \u001b[31m?\u001b[0m eta \u001b[36m-:--:--\u001b[0m\r\u001b[2K     \u001b[90m━━━━━━━━━━━━━━━━━━━━━━━━━━━━━━━━━━━━━━━━\u001b[0m \u001b[32m0.1/5.6 MB\u001b[0m \u001b[31m1.7 MB/s\u001b[0m eta \u001b[36m0:00:04\u001b[0m\r\u001b[2K     \u001b[91m━━━━━━━━━━━━━━━━━\u001b[0m\u001b[90m╺\u001b[0m\u001b[90m━━━━━━━━━━━━━━━━━━━━━━\u001b[0m \u001b[32m2.4/5.6 MB\u001b[0m \u001b[31m35.2 MB/s\u001b[0m eta \u001b[36m0:00:01\u001b[0m\r\u001b[2K     \u001b[91m━━━━━━━━━━━━━━━━━━━━━━━━━━━━━━━━━━━━━━━\u001b[0m\u001b[91m╸\u001b[0m \u001b[32m5.6/5.6 MB\u001b[0m \u001b[31m63.6 MB/s\u001b[0m eta \u001b[36m0:00:01\u001b[0m\r\u001b[2K     \u001b[90m━━━━━━━━━━━━━━━━━━━━━━━━━━━━━━━━━━━━━━━━\u001b[0m \u001b[32m5.6/5.6 MB\u001b[0m \u001b[31m38.6 MB/s\u001b[0m eta \u001b[36m0:00:00\u001b[0m\n",
            "\u001b[?25hRequirement already satisfied: charset-normalizer>=2.0.0 in /usr/local/lib/python3.10/dist-packages (from pdfminer.six) (3.3.2)\n",
            "Requirement already satisfied: cryptography>=36.0.0 in /usr/local/lib/python3.10/dist-packages (from pdfminer.six) (41.0.7)\n",
            "Requirement already satisfied: cffi>=1.12 in /usr/local/lib/python3.10/dist-packages (from cryptography>=36.0.0->pdfminer.six) (1.16.0)\n",
            "Requirement already satisfied: pycparser in /usr/local/lib/python3.10/dist-packages (from cffi>=1.12->cryptography>=36.0.0->pdfminer.six) (2.21)\n",
            "Installing collected packages: pdfminer.six\n",
            "Successfully installed pdfminer.six-20231228\n"
          ]
        }
      ]
    },
    {
      "cell_type": "code",
      "source": [
        "# @title install openpyxl { form-width: \"600px\", display-mode: \"both\" }\n",
        "%pip install openpyxl"
      ],
      "metadata": {
        "id": "dY2jkySJFpti",
        "outputId": "1d56d5e2-cf19-455b-9cb9-a828c03f7e17",
        "colab": {
          "base_uri": "https://localhost:8080/"
        }
      },
      "execution_count": 6,
      "outputs": [
        {
          "output_type": "stream",
          "name": "stdout",
          "text": [
            "Requirement already satisfied: openpyxl in /usr/local/lib/python3.10/dist-packages (3.1.2)\n",
            "Requirement already satisfied: et-xmlfile in /usr/local/lib/python3.10/dist-packages (from openpyxl) (1.1.0)\n"
          ]
        }
      ]
    },
    {
      "cell_type": "code",
      "source": [
        "# @title install pillow\n",
        "%pip install pillow"
      ],
      "metadata": {
        "id": "F2AEpA3pJCUs"
      },
      "execution_count": null,
      "outputs": []
    },
    {
      "cell_type": "code",
      "source": [
        "# @title install faker\n",
        "%pip install faker"
      ],
      "metadata": {
        "id": "B6DgsenUMieI",
        "outputId": "b0b130cd-cec2-42c3-b3b5-ce65ced5fd3c",
        "colab": {
          "base_uri": "https://localhost:8080/"
        }
      },
      "execution_count": 74,
      "outputs": [
        {
          "output_type": "stream",
          "name": "stdout",
          "text": [
            "Collecting faker\n",
            "  Downloading Faker-22.5.0-py3-none-any.whl (1.7 MB)\n",
            "\u001b[?25l     \u001b[90m━━━━━━━━━━━━━━━━━━━━━━━━━━━━━━━━━━━━━━━━\u001b[0m \u001b[32m0.0/1.7 MB\u001b[0m \u001b[31m?\u001b[0m eta \u001b[36m-:--:--\u001b[0m\r\u001b[2K     \u001b[91m━━\u001b[0m\u001b[91m╸\u001b[0m\u001b[90m━━━━━━━━━━━━━━━━━━━━━━━━━━━━━━━━━━━━━\u001b[0m \u001b[32m0.1/1.7 MB\u001b[0m \u001b[31m3.1 MB/s\u001b[0m eta \u001b[36m0:00:01\u001b[0m\r\u001b[2K     \u001b[91m━━━━━━━━━━━━━━━━━━━━━━━━━━━━━━━━━━━━━━━\u001b[0m\u001b[91m╸\u001b[0m \u001b[32m1.7/1.7 MB\u001b[0m \u001b[31m27.0 MB/s\u001b[0m eta \u001b[36m0:00:01\u001b[0m\r\u001b[2K     \u001b[90m━━━━━━━━━━━━━━━━━━━━━━━━━━━━━━━━━━━━━━━━\u001b[0m \u001b[32m1.7/1.7 MB\u001b[0m \u001b[31m21.1 MB/s\u001b[0m eta \u001b[36m0:00:00\u001b[0m\n",
            "\u001b[?25hRequirement already satisfied: python-dateutil>=2.4 in /usr/local/lib/python3.10/dist-packages (from faker) (2.8.2)\n",
            "Requirement already satisfied: six>=1.5 in /usr/local/lib/python3.10/dist-packages (from python-dateutil>=2.4->faker) (1.16.0)\n",
            "Installing collected packages: faker\n",
            "Successfully installed faker-22.5.0\n"
          ]
        }
      ]
    },
    {
      "cell_type": "markdown",
      "source": [
        "# `import dependencies`"
      ],
      "metadata": {
        "id": "h892SdotOs3i"
      }
    },
    {
      "cell_type": "code",
      "source": [
        "# @title import dependencies { vertical-output: true, form-width: \"500px\", display-mode: \"both\" }\n",
        "# @markdown instalowanie zależności:\n",
        "# @markdown  `os`,\n",
        "# @markdown  `pathlib`, `typing`\n",
        "\n",
        "import os\n",
        "import faker\n",
        "import pathlib as pth\n",
        "from typing import Union, Literal, List\n",
        "from PyPDF2 import PdfReader, PdfWriter\n",
        "from pdfminer.high_level import extract_text as fallback_text_extraction\n",
        "from google.colab import files\n",
        "from docx import Document\n",
        "from docx.shared import Inches, Pt\n",
        "from docx.enum.text import WD_ALIGN_PARAGRAPH\n",
        "from openpyxl import Workbook\n",
        "from openpyxl.worksheet.table import Table, TableStyleInfo\n",
        "import openpyxl\n",
        "from openpyxl.reader.excel import load_workbook\n",
        "from openpyxl.styles import Alignment, Font\n",
        "import pandas as pd\n",
        "from dateutil import tz\n",
        "import re\n",
        "from unidecode import unidecode\n",
        "import random\n",
        "import string\n",
        "import time\n",
        "import random\n",
        "from datetime import datetime, timedelta"
      ],
      "metadata": {
        "id": "oC_2Bdqlp849"
      },
      "execution_count": 75,
      "outputs": []
    },
    {
      "cell_type": "markdown",
      "source": [
        "# `operacje systemowe`"
      ],
      "metadata": {
        "id": "APoQdXDuHA83"
      }
    },
    {
      "cell_type": "code",
      "source": [
        "# @title rozdziel nazwe pliku od rozszerzenia { vertical-output: true, form-width: \"500px\", display-mode: \"both\" }\n",
        "filename = \"\" # @param {type:\"string\"}\n",
        "\n",
        "def rozdziel_nazwe_pliku_od_rozszerzenia(filename):\n",
        "  nazwa_pliku, rozszerzenie_pliku = os.path.splitext(filename)\n",
        "\n",
        "  return {'name_key': nazwa_pliku, 'ext_key': rozszerzenie_pliku}"
      ],
      "metadata": {
        "id": "RJeoYBCbKdBm"
      },
      "execution_count": 8,
      "outputs": []
    },
    {
      "cell_type": "code",
      "source": [
        "# @title zmień katalog domyślny na /content { vertical-output: true, form-width: \"500px\", display-mode: \"both\" }\n",
        "new_directory_name = \"/content\" # @param {type:\"string\"}\n",
        "os.chdir(new_directory_name)\n",
        "print(os.getcwd())"
      ],
      "metadata": {
        "id": "oRlzm6ULfoak",
        "colab": {
          "base_uri": "https://localhost:8080/"
        },
        "outputId": "5128ffcf-7b92-4c00-beba-218fc1153df8"
      },
      "execution_count": 9,
      "outputs": [
        {
          "output_type": "stream",
          "name": "stdout",
          "text": [
            "/content\n"
          ]
        }
      ]
    },
    {
      "cell_type": "code",
      "source": [
        "# @title konwertuje format daty { vertical-output: true, form-width: \"500px\", display-mode: \"both\" }\n",
        "pd = \"\" # @param {type:\"string\"}\n",
        "\n",
        "def convertPdfDatetime(pd):\n",
        "    dtformat = \"%Y%m%d%H%M%S\"\n",
        "    clean = pd.replace(\"D:\",\"\").split('+')[0]\n",
        "    return datetime.strptime(clean,dtformat)"
      ],
      "metadata": {
        "id": "V1NCC5KMp3HF"
      },
      "execution_count": 10,
      "outputs": []
    },
    {
      "cell_type": "code",
      "source": [
        "# @title iteruj pliki w podanym katalogu { vertical-output: true, form-width: \"500px\", display-mode: \"both\" }\n",
        "\n",
        "directory_path = \"\" # @param {type:\"string\"}\n",
        "\n",
        "def iterate_over_files_in_directory(path_to_directory):\n",
        "\n",
        "  numerate = 1\n",
        "\n",
        "  for filename in os.listdir(path_to_directory):\n",
        "    f = os.path.join(path_to_directory, filename)\n",
        "    if os.path.isfile(f):\n",
        "      print(f\"{numerate}. {f}\")\n",
        "      numerate = numerate + 1"
      ],
      "metadata": {
        "id": "Io-gJ1Nw6Nox"
      },
      "execution_count": 11,
      "outputs": []
    },
    {
      "cell_type": "code",
      "source": [
        "# @title sprawdzenie czy istnieje katalog roboczy, w którym chcemy pracować { vertical-output: true, form-width: \"500px\", display-mode: \"both\" }\n",
        "directory_path = \"\" # @param {type:\"string\"}\n",
        "\n",
        "def sprawdz_czy_katalog_istnieje(directory_name):\n",
        "  # Ścieżka do katalogu bieżącego\n",
        "  cwd = os.getcwd()\n",
        "  print(f\"katalog \\\"bieżący\\\": {cwd}\")\n",
        "\n",
        "  working_directory_for_creating = os.path.join(cwd, directory_name)\n",
        "  print(f\"katalog roboczy do utworzenia (jeśli nie istnieje): {working_directory_for_creating}\")\n",
        "\n",
        "  try:\n",
        "    if not os.path.exists(working_directory_for_creating):\n",
        "      print(f\"katalog: {working_directory_for_creating} nie istnieje i zostanie utworzony\")\n",
        "      os.makedirs(working_directory_for_creating)\n",
        "    else:\n",
        "      print(f\"katalog: {working_directory_for_creating} już istnieje!\")\n",
        "  except FileExistsError:\n",
        "    print(f\"katalog o nazwie {working_directory_for_creating} już istnieje!\")\n",
        "  except Exception as e:\n",
        "    print(f\"wystąpił błąd podczas tworzenie katalogu: {working_directory_for_creating}\")\n",
        "\n",
        "# testy\n",
        "# sprawdz_czy_katalog_istnieje(\"/content/zz\")"
      ],
      "metadata": {
        "id": "xpHkhACx7wIH"
      },
      "execution_count": 12,
      "outputs": []
    },
    {
      "cell_type": "code",
      "source": [
        "# @title sprawdź czy podany plik istnieje { vertical-output: true, form-width: \"500px\", display-mode: \"both\" }\n",
        "\n",
        "path_to_file = \"/content/KZP-\\u0141A.2110.03.2024 Dostawa skaner\\xF3w p\\u0142omienia Lamtec.xlsx\" # @param {type:\"string\"}\n",
        "# @markdown sprawdza czy plik o podanej ścieżce istnieje\n",
        "\n",
        "def sprawdz_czy_dany_plik_istnieje(path_to_file):\n",
        "  try:\n",
        "    with open(path_to_file, 'r') as file:\n",
        "      print(f\"Plik {path_to_file} istnieje i ma się całkiem nieźle ;-)\")\n",
        "      return True\n",
        "  except FileNotFoundError:\n",
        "    print('Sorry the file we\\'re looking for doesn\\' exist')\n",
        "    return False\n",
        "  except Exception as e:\n",
        "    print(f\"Wystąpił błąd: {e}\")\n",
        "    return False\n",
        "\n",
        "# testy\n",
        "#  /content/KZP-ŁA.2110.03.2024 Dostawa skanerów płomienia Lamtec.xlsx\n",
        "sprawdz_czy_dany_plik_istnieje(\"/content/KZP-ŁA.2110.03.2024 Dostawa skanerów płomienia Lamtec.xlsx\")"
      ],
      "metadata": {
        "id": "NwyYKWSoW4Uo",
        "outputId": "84cd4efc-32cf-4cb8-907b-7f5c565e335b",
        "colab": {
          "base_uri": "https://localhost:8080/"
        }
      },
      "execution_count": 13,
      "outputs": [
        {
          "output_type": "stream",
          "name": "stdout",
          "text": [
            "Sorry the file we're looking for doesn' exist\n"
          ]
        },
        {
          "output_type": "execute_result",
          "data": {
            "text/plain": [
              "False"
            ]
          },
          "metadata": {},
          "execution_count": 13
        }
      ]
    },
    {
      "cell_type": "code",
      "execution_count": 14,
      "metadata": {
        "id": "ZtqhtE1QnKas"
      },
      "outputs": [],
      "source": [
        "# @title importuj pliki do wskazanego katalogu { vertical-output: true, form-width: \"500px\", display-mode: \"both\" }\n",
        "destination_directory_path = \"\" # @param {type:\"string\"}\n",
        "\n",
        "def import_files(destination_directory_path):\n",
        "  uploaded = files.upload()\n",
        "  print(uploaded.keys())\n",
        "\n",
        "  for fn in uploaded.keys():\n",
        "    print('User uploaded file \"{name}\" with length {length} bytes'.format(\n",
        "        name=fn, length=len(uploaded[fn])))\n",
        "\n",
        "  for filename, file_content in uploaded.items():\n",
        "    if os.path.exists(destination_directory_path) and os.path.isdir(destination_directory_path):\n",
        "      with open(os.path.join(destination_directory_path, filename), \"wb\") as f:\n",
        "        f.write(file_content)\n",
        "\n",
        "      # remove files from /content\n",
        "      file_to_remove_after_copying_to_working_directory = os.path.join(os.getcwd(), filename)\n",
        "      if os.path.isfile(file_to_remove_after_copying_to_working_directory):\n",
        "        os.remove(file_to_remove_after_copying_to_working_directory)\n",
        "        if not os.path.exists(file_to_remove_after_copying_to_working_directory):\n",
        "          print(f\"plik: {os.path.basename(file_to_remove_after_copying_to_working_directory)} \"\n",
        "          f\"usunięty z katalogu {os.path.dirname(file_to_remove_after_copying_to_working_directory)}\")\n",
        "        else:\n",
        "          print(f\"plik: {os.path.basename(file_to_remove_after_copying_to_working_directory)} \"\n",
        "          f\"NIE usunięty z katalogu {os.path.dirname(file_to_remove_after_copying_to_working_directory)}\")"
      ]
    },
    {
      "cell_type": "code",
      "source": [
        "# @title upload files { vertical-output: true, form-width: \"500px\", display-mode: \"both\" }\n",
        "folder_domyslny = \"\" # @param {type:\"string\"}\n",
        "\n",
        "def upload_files(folder_domyslny = \"uploaded\"):\n",
        "  check_if_directory_and_path_exists(folder_domyslny)\n",
        "  import_files(folder_domyslny)"
      ],
      "metadata": {
        "id": "JIelgrZw6Q6F"
      },
      "execution_count": 15,
      "outputs": []
    },
    {
      "cell_type": "code",
      "source": [
        "# @title aktualna data i godzina { vertical-output: true, form-width: \"500px\", display-mode: \"both\" }\n",
        "\n",
        "def actual_datetime():\n",
        "  teraz = datetime.now(tz=tz.gettz('Europe/Warsaw'))\n",
        "  formatted_date = teraz.strftime(\"data_%d_%m_%Y\")\n",
        "  formatted_time = teraz.strftime(\"czas_%H_%M_%S\")\n",
        "\n",
        "  # print(formatted_date)\n",
        "  # print(formatted_time)\n",
        "\n",
        "  return {'data': formatted_date, 'czas': formatted_time}\n"
      ],
      "metadata": {
        "id": "Bw8RT8BLFCTn"
      },
      "execution_count": 16,
      "outputs": []
    },
    {
      "cell_type": "code",
      "source": [
        "# @title rozdziel nazwe pliku od rozszerzenia { vertical-output: true, form-width: \"500px\", display-mode: \"both\" }\n",
        "filename = \"\" # @param {type:\"string\"}\n",
        "\n",
        "def split_filename_and_extension(filename):\n",
        "  nazwa_pliku, rozszerzenie_pliku = os.path.splitext(filename)\n",
        "\n",
        "  return {'name_key': nazwa_pliku, 'ext_key': rozszerzenie_pliku}"
      ],
      "metadata": {
        "id": "23c8w_EjGIkB"
      },
      "execution_count": 17,
      "outputs": []
    },
    {
      "cell_type": "code",
      "source": [
        "# @title zamienia wszystkie inne znaki niż litery i cyfry (oprócz ost. kropki) na '_' (podaj nazwę w formacie nazwa_pliku.rozszerzenie) { form-width: \"600px\", display-mode: \"both\" }\n",
        "nazwa_pliku_do_zmiany_znakow = \"KZP-\\u0141A.2110.01.2024 Dostawa si\\u0142ownika Auma.xlsx\" # @param {type:\"string\"}\n",
        "\n",
        "# KZP-ŁA.2110.01.2024 Dostawa siłownika Auma.xlsx\n",
        "\n",
        "def zamien_znaki_w_nazwie_pliku(nazwa_pliku_do_zmiany_znakow):\n",
        "  nazwa, rozszerzenie = nazwa_pliku_do_zmiany_znakow.rsplit('.',1) if '.' in nazwa_pliku_do_zmiany_znakow else (nazwa_pliku_do_zmiany_znakow, '')\n",
        "  nazwa_bez_polskich_znakow = unidecode(nazwa)\n",
        "  zmodyfikowana_nazwa = re.sub(r'[^a-zA-Z0-9]', '_', nazwa_bez_polskich_znakow)\n",
        "  zmodyfikowany_string = zmodyfikowana_nazwa + ('.' + rozszerzenie if rozszerzenie else '')\n",
        "  return zmodyfikowany_string\n",
        "\n",
        "# testy\n",
        "# input_string = r\"1.Załącznik Zakres Przedmiotu zamówienia KZP-ŁA.2110.01.2024 Dostawa siłownika Auma — kopia.xlsx\"\n",
        "# result = zamien_znaki_w_nazwie_pliku(input_string)\n",
        "# print(result)\n"
      ],
      "metadata": {
        "id": "XeiehizdNfw_"
      },
      "execution_count": 18,
      "outputs": []
    },
    {
      "cell_type": "code",
      "source": [
        "# @title iteruje przez podany katalog i wyświetle nazwy plików { vertical-output: true, form-width: \"500px\", display-mode: \"both\" }\n",
        "path_to_directory = \"\" # @param {type:\"string\"}\n",
        "\n",
        "def iterate_over_files_in_directory(path_to_directory):\n",
        "\n",
        "  numerate = 1\n",
        "\n",
        "  for filename in os.listdir(path_to_directory):\n",
        "    f = os.path.join(path_to_directory, filename)\n",
        "    if os.path.isfile(f):\n",
        "      print(f\"{numerate}. {f}\")\n",
        "      numerate = numerate + 1"
      ],
      "metadata": {
        "id": "fpixjq3eJ-T1"
      },
      "execution_count": 19,
      "outputs": []
    },
    {
      "cell_type": "code",
      "source": [
        "# @title sprawdzenie czy istnieje katalog roboczy, w którym chcemy pracować { vertical-output: true, form-width: \"500px\", display-mode: \"both\" }\n",
        "directory_name_path = \"\" # @param {type:\"string\"}\n",
        "\n",
        "def check_if_directory_and_path_exists(directory_name):\n",
        "  # Ścieżka do katalogu bieżącego\n",
        "  cwd = os.getcwd()\n",
        "  print(f\"katalog \\\"bieżący\\\": {cwd}\")\n",
        "\n",
        "  working_directory_for_creating = os.path.join(cwd, directory_name)\n",
        "  print(f\"katalog roboczy do utworzenia (jeśli nie istnieje): {working_directory_for_creating}\")\n",
        "\n",
        "  try:\n",
        "    if not os.path.exists(working_directory_for_creating):\n",
        "      print(f\"katalog: {working_directory_for_creating} nie istnieje i zostanie utworzony\")\n",
        "      os.makedirs(working_directory_for_creating)\n",
        "    else:\n",
        "      print(f\"katalog: {working_directory_for_creating} już istnieje!\")\n",
        "  except FileExistsError:\n",
        "    print(f\"katalog o nazwie {working_directory_for_creating} już istnieje!\")\n",
        "  except Exception as e:\n",
        "    print(f\"wystąpił błąd podczas tworzenie katalogu: {working_directory_for_creating}\")"
      ],
      "metadata": {
        "id": "xYJkVB2xKHZJ"
      },
      "execution_count": 20,
      "outputs": []
    },
    {
      "cell_type": "code",
      "source": [
        "# @title importuj pliki do wskazanego katalogu { vertical-output: true, form-width: \"500px\", display-mode: \"both\" }\n",
        "destination_directory = \"\" # @param {type:\"string\"}\n",
        "\n",
        "def import_files(destination_directory):\n",
        "\n",
        "  uploaded = files.upload()\n",
        "  # print(uploaded.keys())\n",
        "\n",
        "  for fn in uploaded.keys():\n",
        "    print('User uploaded file \"{name}\" with length {length} bytes'.format(\n",
        "        name=fn, length=len(uploaded[fn])))\n",
        "\n",
        "  for filename, file_content in uploaded.items():\n",
        "    if os.path.exists(destination_directory) and os.path.isdir(destination_directory):\n",
        "      with open(os.path.join(destination_directory, filename), \"wb\") as f:\n",
        "        f.write(file_content)\n",
        "\n",
        "      # remove files from /content\n",
        "      file_to_remove_after_copying_to_working_directory = os.path.join(os.getcwd(), filename)\n",
        "      if os.path.isfile(file_to_remove_after_copying_to_working_directory):\n",
        "        os.remove(file_to_remove_after_copying_to_working_directory)\n",
        "        if not os.path.exists(file_to_remove_after_copying_to_working_directory):\n",
        "          print(f\"plik: {os.path.basename(file_to_remove_after_copying_to_working_directory)} \"\n",
        "          f\"usunięty z katalogu {os.path.dirname(file_to_remove_after_copying_to_working_directory)}\")\n",
        "        else:\n",
        "          print(f\"plik: {os.path.basename(file_to_remove_after_copying_to_working_directory)} \"\n",
        "          f\"NIE usunięty z katalogu {os.path.dirname(file_to_remove_after_copying_to_working_directory)}\")"
      ],
      "metadata": {
        "id": "itYcWazRKJaO"
      },
      "execution_count": 21,
      "outputs": []
    },
    {
      "cell_type": "code",
      "source": [
        "# @title check if file exists { vertical-output: true, form-width: \"500px\", display-mode: \"both\" }\n",
        "path_to_file = \"\" # @param {type:\"string\"}\n",
        "\n",
        "def check_if_file_exists(path_to_file):\n",
        "  try:\n",
        "    with open(path_to_file, 'r') as file:\n",
        "      print(f\"Plik {path_to_file} istnieje i ma się całkiem nieźle ;-)\")\n",
        "      return True\n",
        "  except FileNotFoundError:\n",
        "    print('Sorry the file we\\'re looking for doesn\\' exist')\n",
        "    return False\n",
        "  except Exception as e:\n",
        "    print(f\"Wystąpił błąd: {e}\")\n",
        "    return False"
      ],
      "metadata": {
        "id": "wu1G-0jGKNf7"
      },
      "execution_count": 22,
      "outputs": []
    },
    {
      "cell_type": "code",
      "source": [
        "# @title Generator Nazw Plikow { vertical-output: true, form-width: \"500px\", display-mode: \"both\" }\n",
        "class GeneratorNazwPlikow:\n",
        "  static_variable = 0\n",
        "\n",
        "  def generuj_nazwe_pliku(self, nazwa_pliku, rozszerzenie = \"docx\"):\n",
        "    GeneratorNazwPlikow.static_variable += 1\n",
        "    file_name = f\"{nazwa_pliku}_{GeneratorNazwPlikow.static_variable}.{rozszerzenie}\"\n",
        "\n",
        "    return file_name"
      ],
      "metadata": {
        "id": "WSBLeMYv2lPG"
      },
      "execution_count": 23,
      "outputs": []
    },
    {
      "cell_type": "code",
      "source": [
        "# @title czyszczenie zawartości pliku { vertical-output: true, form-width: \"500px\", display-mode: \"both\" }\n",
        "\n",
        "def wyczysc_zawartosc_pliku(sciezka_do_pliku):\n",
        "  with open(sciezka_do_pliku, \"w\") as plik:\n",
        "    plik.truncate(0)"
      ],
      "metadata": {
        "id": "0MK_ijL870wj"
      },
      "execution_count": 24,
      "outputs": []
    },
    {
      "cell_type": "code",
      "source": [
        "# @title utwórz nowy plik { vertical-output: true, form-width: \"500px\", display-mode: \"both\" }\n",
        "\n",
        "def utworz_nowy_plik(nazwa_pliku):\n",
        "  aktualna_data_i_godzina = datetime.now().strftime(\"%d.%m.%Y %H.%M.%S %Z\")\n",
        "  print(\"aktualna_data_i_godzina:\", aktualna_data_i_godzina)\n",
        "  sciezka_do_pliku = f'/content/{nazwa_pliku}'\n",
        "\n",
        "  with open(sciezka_do_pliku, \"w\") as plik:\n",
        "    plik.write(aktualna_data_i_godzina)\n"
      ],
      "metadata": {
        "id": "crPKXV29_nC-"
      },
      "execution_count": 25,
      "outputs": []
    },
    {
      "cell_type": "markdown",
      "source": [
        "# `excel - generowanie danych testowych`"
      ],
      "metadata": {
        "id": "6pXZgq52cJb0"
      }
    },
    {
      "cell_type": "code",
      "source": [
        "# @title jednostki miary { vertical-output: true, form-width: \"300px\", display-mode: \"both\" }\n",
        "\n",
        "def generuj_jednostke_miary():\n",
        "  tablica_jednostek = ['szt', 'kpl', 'm', 'litr']\n",
        "\n",
        "  prawdopodobienstwo_zerowego_elementu = [0.8]+[0.2/ (len(tablica_jednostek) - 1)] * (len(tablica_jednostek) - 1)\n",
        "  return random.choices(tablica_jednostek, prawdopodobienstwo_zerowego_elementu)[0]\n",
        "\n",
        "# testy\n",
        "print(generuj_jednostke_miary())"
      ],
      "metadata": {
        "colab": {
          "base_uri": "https://localhost:8080/"
        },
        "id": "PAjUUse2yAWy",
        "outputId": "dd489a15-72b4-4afe-a0a6-b9b39d102f54"
      },
      "execution_count": 66,
      "outputs": [
        {
          "output_type": "stream",
          "name": "stdout",
          "text": [
            "m\n"
          ]
        }
      ]
    },
    {
      "cell_type": "code",
      "source": [
        "# @title generuj losowy numer indeksu { vertical-output: true, form-width: \"300px\", display-mode: \"both\" }\n",
        "\n",
        "def generuj_losowy_numer_indeksu():\n",
        "    numer = \"\"\n",
        "    for _ in range(3):\n",
        "        numer += str(random.randint(100, 999)) + \"-\"\n",
        "    numer += str(random.randint(0, 9))\n",
        "    return numer\n",
        "\n",
        "  # Przykład użycia\n",
        "losowy_numer = generuj_losowy_numer_indeksu()\n",
        "print(losowy_numer)"
      ],
      "metadata": {
        "colab": {
          "base_uri": "https://localhost:8080/"
        },
        "id": "jToLS75snTJQ",
        "outputId": "716cf399-9773-41ab-c38c-c18066ff3f1c"
      },
      "execution_count": 67,
      "outputs": [
        {
          "output_type": "stream",
          "name": "stdout",
          "text": [
            "336-479-136-3\n"
          ]
        }
      ]
    },
    {
      "cell_type": "code",
      "source": [
        "# @title opis przedmiotu { vertical-output: true, form-width: \"400px\", display-mode: \"both\" }\n",
        "\n",
        "def generuj_losowy_tekst(dlugosc):\n",
        "    litery = string.ascii_letters\n",
        "    return ''.join(random.choice(litery) for _ in range(dlugosc))\n",
        "\n",
        "def generuj_losowa_nazwe_przedmiotu():\n",
        "    losowy_tekst = generuj_losowy_tekst(10)\n",
        "    czas_w_milisekundach = int(round(time.time() * 1000))\n",
        "    nazwa = f\"przedmiot nr {losowy_tekst} {czas_w_milisekundach}\"\n",
        "    return nazwa\n",
        "\n",
        "# Przykład użycia\n",
        "losowa_nazwa = generuj_losowa_nazwe_przedmiotu()\n",
        "print(losowa_nazwa)\n"
      ],
      "metadata": {
        "colab": {
          "base_uri": "https://localhost:8080/"
        },
        "id": "JK8VZeQJoMCZ",
        "outputId": "81933017-8362-40b0-a9fd-206f9853d6e7"
      },
      "execution_count": 68,
      "outputs": [
        {
          "output_type": "stream",
          "name": "stdout",
          "text": [
            "przedmiot nr xEocKgzSRY 1706010492897\n"
          ]
        }
      ]
    },
    {
      "cell_type": "code",
      "source": [
        "# @title ilość { vertical-output: true, form-width: \"400px\", display-mode: \"both\" }\n",
        "\n",
        "variable_name_1 = 1 # @param {type:\"integer\"}\n",
        "variable_name_2 = 100 # @param {type:\"integer\"}\n",
        "\n",
        "def generuj_ilosc(variable_name_1, variable_name_2):\n",
        "    return random.randint(variable_name_1, variable_name_2)\n",
        "\n",
        "# Przykład użycia\n",
        "zakres_od = 1\n",
        "zakres_do = 100\n",
        "losowa_liczba = generuj_ilosc(variable_name_1, variable_name_2)\n",
        "print(losowa_liczba)\n",
        "\n"
      ],
      "metadata": {
        "colab": {
          "base_uri": "https://localhost:8080/"
        },
        "id": "1A2zs2v3ooiZ",
        "outputId": "db88f16a-9ede-4149-89b9-eeed4e6fac92"
      },
      "execution_count": 69,
      "outputs": [
        {
          "output_type": "stream",
          "name": "stdout",
          "text": [
            "49\n"
          ]
        }
      ]
    },
    {
      "cell_type": "code",
      "source": [
        "# @title cena jednostkowa { vertical-output: true, form-width: \"400px\", display-mode: \"both\" }\n",
        "zakres_od = 10 # @param {type:\"number\"}\n",
        "zakres_do = 3455 # @param {type:\"number\"}\n",
        "\n",
        "def generuj_cene_jednostkowa(zakres_od, zakres_do):\n",
        "    losowa_liczba_float = random.uniform(zakres_od, zakres_do)\n",
        "    return round(losowa_liczba_float, 2)\n",
        "\n",
        "# Przykład użycia\n",
        "zakres_od = 1.0\n",
        "zakres_do = 10.0\n",
        "losowa_liczba_float = generuj_cene_jednostkowa(zakres_od, zakres_do)\n",
        "print(losowa_liczba_float)"
      ],
      "metadata": {
        "colab": {
          "base_uri": "https://localhost:8080/"
        },
        "id": "g9g-Ibp9zwCi",
        "outputId": "2e6c44c4-e6e8-49b6-9de1-21c7939928d5"
      },
      "execution_count": 30,
      "outputs": [
        {
          "output_type": "stream",
          "name": "stdout",
          "text": [
            "1.47\n"
          ]
        }
      ]
    },
    {
      "cell_type": "code",
      "source": [
        "# @title generuje losową datę { vertical-output: true, form-width: \"500px\", display-mode: \"both\" }\n",
        "zakres_poczatek_str = \"2024-01-16\" # @param {type:\"date\"}\n",
        "zakres_koniec_str = \"2024-12-28\" # @param {type:\"date\"}\n",
        "\n",
        "# Konwersja na obiekty datetime\n",
        "zakres_poczatek = datetime.strptime(zakres_poczatek_str, \"%Y-%m-%d\")\n",
        "zakres_koniec = datetime.strptime(zakres_koniec_str, \"%Y-%m-%d\")\n",
        "\n",
        "# def generuj_date_plus_dwa_tygodnie():\n",
        "#     aktualna_data = datetime.now()\n",
        "#     data_plus_dwa_tygodnie = aktualna_data + timedelta(days=14)\n",
        "#     return data_plus_dwa_tygodnie.strftime(\"%d.%m.%Y\")\n",
        "\n",
        "def generuj_losowa_date(zakres_poczatek, zakres_koniec):\n",
        "    zakres_dat = zakres_koniec - zakres_poczatek\n",
        "    # print(\"zakres_dat: \\t\\t\", zakres_dat)\n",
        "    losowa_liczba_dni = random.randint(0, zakres_dat.days)\n",
        "    losowa_data = zakres_poczatek + timedelta(days=losowa_liczba_dni)\n",
        "    return losowa_data.strftime(\"%d.%m.%Y\")\n",
        "\n",
        "# Przykład użycia\n",
        "zakres_poczatek = datetime(2024, 1, 1)\n",
        "print(\"zakres_poczatek:\\t\", zakres_poczatek)\n",
        "zakres_koniec = datetime(2024, 12, 31)\n",
        "print(\"zakres_koniec:\\t\\t\", zakres_koniec)\n",
        "\n",
        "losowa_data = generuj_losowa_date(zakres_poczatek, zakres_koniec)\n",
        "print(\"losowa_data: \\t\\t\", losowa_data)"
      ],
      "metadata": {
        "colab": {
          "base_uri": "https://localhost:8080/"
        },
        "id": "T6dsDA_Epml0",
        "outputId": "6b54de9b-bb33-4ea7-ed90-2a0e9bad19ab"
      },
      "execution_count": 31,
      "outputs": [
        {
          "output_type": "stream",
          "name": "stdout",
          "text": [
            "zakres_poczatek:\t 2024-01-01 00:00:00\n",
            "zakres_koniec:\t\t 2024-12-31 00:00:00\n",
            "losowa_data: \t\t 06.09.2024\n"
          ]
        }
      ]
    },
    {
      "cell_type": "code",
      "source": [
        "# @title kwota za całośc (iloczyn ilości i ceny jedn.) { vertical-output: true, form-width: \"500px\", display-mode: \"both\" }\n",
        "\n",
        "def kwota_za_calosc(ilosc, cena_jednostkowa):\n",
        "  return round(ilosc * cena_jednostkowa, 2)\n",
        "\n",
        "def generuj_losowa_liczbe():\n",
        "    return random.randint(1, 100)\n",
        "\n",
        "def generuj_losowa_liczbe_float():\n",
        "    return round(random.uniform(1.0, 250.0), 2)\n",
        "\n",
        "# Wygeneruj losowe liczby\n",
        "liczba_calkowita = generuj_losowa_liczbe()\n",
        "liczba_zmiennoprzecinkowa = generuj_losowa_liczbe_float()\n",
        "\n",
        "# Pomnóż liczby\n",
        "wynik_mnozenia = round(liczba_calkowita * liczba_zmiennoprzecinkowa, 2)\n",
        "\n",
        "# Wyświetl wyniki\n",
        "print(f\"Liczba całkowita: {liczba_calkowita}\")\n",
        "print(f\"Liczba zmiennoprzecinkowa: {liczba_zmiennoprzecinkowa}\")\n",
        "print(f\"Wynik mnoż. zaokr. do 2 miejsc po przecinku: {wynik_mnozenia}\")"
      ],
      "metadata": {
        "colab": {
          "base_uri": "https://localhost:8080/"
        },
        "id": "Qz-5sxi45mn-",
        "outputId": "146baa36-2894-4009-c8a1-181608ff03f4"
      },
      "execution_count": 32,
      "outputs": [
        {
          "output_type": "stream",
          "name": "stdout",
          "text": [
            "Liczba całkowita: 48\n",
            "Liczba zmiennoprzecinkowa: 101.59\n",
            "Wynik mnoż. zaokr. do 2 miejsc po przecinku: 4876.32\n"
          ]
        }
      ]
    },
    {
      "cell_type": "code",
      "source": [
        "# @title generuj nazwe pliku { vertical-output: true, form-width: \"400px\", display-mode: \"both\" }\n",
        "\n",
        "def generuj_nazwe_pliku():\n",
        "    numer = random.randint(10000, 99999)\n",
        "    nazwa_pliku = f\"Zapotrzebzakupu1{numer}.xlsx\"\n",
        "    return nazwa_pliku\n",
        "\n",
        "# Przykład użycia\n",
        "nazwa_pliku = generuj_nazwe_pliku()\n",
        "print(nazwa_pliku)"
      ],
      "metadata": {
        "colab": {
          "base_uri": "https://localhost:8080/"
        },
        "id": "-YWaurfc1TB8",
        "outputId": "4ea3eb80-2dfe-4097-b91c-94a2753062d2"
      },
      "execution_count": 33,
      "outputs": [
        {
          "output_type": "stream",
          "name": "stdout",
          "text": [
            "Zapotrzebzakupu198176.xlsx\n"
          ]
        }
      ]
    },
    {
      "cell_type": "code",
      "source": [
        "# @title sparsuj nazwę pliku { vertical-output: true, form-width: \"400px\", display-mode: \"both\" }\n",
        "nazwa_pliku = \"\" # @param {type:\"string\"}\n",
        "nowe_rozszerzenie = \"\" # @param {type:\"string\"}\n",
        "\n",
        "\n",
        "# nazwa_pliku = \"Zapotrzebuzakupu123921.xlsx\"\n",
        "\n",
        "def sparsuj_i_utworz_nazwe(nazwa_pliku, nowe_rozszerzenie):\n",
        "    wynik = re.search(r'\\d+', nazwa_pliku)\n",
        "\n",
        "    if wynik:\n",
        "        sparsowana_liczba = wynik.group()\n",
        "        nowa_nazwa_pliku = f\"{sparsowana_liczba}.{nowe_rozszerzenie}\"\n",
        "        return nowa_nazwa_pliku\n",
        "    else:\n",
        "        print(\"Nie znaleziono liczby w nazwie pliku.\")\n",
        "        return None\n",
        "\n",
        "# Przykład użycia\n",
        "nazwa_pliku = \"Zapotrzebuzakupu123921.xlsx\"\n",
        "nowe_rozszerzenie = \"xlsx\"\n",
        "nowa_nazwa = sparsuj_i_utworz_nazwe(nazwa_pliku, nowe_rozszerzenie)\n",
        "\n",
        "if nowa_nazwa:\n",
        "    print(nowa_nazwa)"
      ],
      "metadata": {
        "colab": {
          "base_uri": "https://localhost:8080/"
        },
        "id": "8bVfVAQ72jIP",
        "outputId": "2c5cda9d-7b0e-45fe-da7e-f39165bc0901"
      },
      "execution_count": 34,
      "outputs": [
        {
          "output_type": "stream",
          "name": "stdout",
          "text": [
            "123921.xlsx\n"
          ]
        }
      ]
    },
    {
      "cell_type": "code",
      "source": [
        "# @title generuj fikcyjne dane osobowe { vertical-output: true, form-width: \"700px\", display-mode: \"both\" }\n",
        "\n",
        "fake = faker.Faker('pl_Pl')\n",
        "\n",
        "class Osoba:\n",
        "\n",
        "  osoby = {}\n",
        "\n",
        "  @staticmethod\n",
        "  def init_osoby():\n",
        "    for _ in range(50):\n",
        "      osoba = Osoba()\n",
        "      Osoba.osoby[osoba._get_numer_osoby()] = osoba.to_dict()\n",
        "\n",
        "  def __init__(self):\n",
        "    self.imie_nazwisko = fake.name()\n",
        "    self.tel_kom = fake.phone_number()\n",
        "    self.tel_stacj = f\"+48{random.randint(100000000, 999999999)}\"\n",
        "    self.email = fake.email()\n",
        "\n",
        "  def _get_numer_osoby(self):\n",
        "    return f'Osoba {len(Osoba.osoby) + 1}'\n",
        "\n",
        "  def __str__(self):\n",
        "    return f\"{self.imie_nazwisko}, {self.tel_stacj}, {self.tel_kom}, {self.email}\"\n",
        "\n",
        "  def to_dict(self):\n",
        "    return {\n",
        "        'Imię i nazwisko':self.imie_nazwisko,\n",
        "        'Telefon komórkowy':self.tel_kom,\n",
        "        'Telefon stacjonarny':self.tel_stacj,\n",
        "        'E-mail':self.email\n",
        "    }\n",
        "\n",
        "  @staticmethod\n",
        "  def wyswietl_osoby():\n",
        "    for numer, dane_osoby in Osoba.osoby.items():\n",
        "      print(f'\\n{numer}', end=\" \")\n",
        "      for klucz, dane in dane_osoby.items():\n",
        "        print(f'{dane}', end=\" \")\n",
        "\n",
        "\n",
        "# testy\n",
        "Osoba.init_osoby()\n",
        "Osoba.wyswietl_osoby()"
      ],
      "metadata": {
        "id": "cmvVZV4RK5o3",
        "outputId": "29707441-23a0-4bf0-cdf3-cc5cf5795f59",
        "colab": {
          "base_uri": "https://localhost:8080/"
        }
      },
      "execution_count": 137,
      "outputs": [
        {
          "output_type": "stream",
          "name": "stdout",
          "text": [
            "\n",
            "Osoba 1 Tomasz Dyczko +48 607 414 797 +48843420627 barteklabaj@example.net \n",
            "Osoba 2 Jacek Wożniak +48 606 716 459 +48220883010 malkajulita@example.net \n",
            "Osoba 3 Arkadiusz Hanusiak +48 781 058 082 +48912822576 mielcarzbruno@example.org \n",
            "Osoba 4 Cyprian Budner 790 330 265 +48759010655 sylwia48@example.org \n",
            "Osoba 5 Sonia Górnisiewicz 509 468 736 +48909458010 biankagolczyk@example.net \n",
            "Osoba 6 Szymon Tyka +48 789 523 068 +48605147780 blazej07@example.com \n",
            "Osoba 7 pan Maciej Mesjasz +48 721 600 750 +48317921689 szycafilip@example.org \n",
            "Osoba 8 pan Łukasz Kajdan 723 826 822 +48288957758 julianna76@example.com \n",
            "Osoba 9 pani Julita Długajczyk 721 156 827 +48401237208 oskar64@example.com \n",
            "Osoba 10 pani Janina Opas +48 32 904 89 11 +48200726131 elizawojtiuk@example.org \n",
            "Osoba 11 pani Malwina Niećko 602 920 707 +48264855535 anielalistwan@example.com \n",
            "Osoba 12 pan Konstanty Kubrak +48 603 874 801 +48457821647 tomaszmietka@example.org \n",
            "Osoba 13 Klara Usarek 600 700 323 +48758807932 julita35@example.net \n",
            "Osoba 14 Wiktor Sroga +48 32 352 95 99 +48888794008 adamiukgabriel@example.com \n",
            "Osoba 15 Eryk Gumuła +48 22 071 49 43 +48836295065 krystianhartman@example.net \n",
            "Osoba 16 Nela Chruszcz +48 881 675 072 +48113861138 martynowiczliwia@example.com \n",
            "Osoba 17 pani Liwia Truchan +48 790 214 298 +48507140140 wojciechpietrusiak@example.com \n",
            "Osoba 18 Marcelina Zadka 662 578 179 +48593133846 juliusz45@example.net \n",
            "Osoba 19 pan Rafał Franków +48 695 484 011 +48203320954 tlison@example.net \n",
            "Osoba 20 Antoni Wałek +48 574 371 256 +48643776818 vrubacha@example.com \n",
            "Osoba 21 pani Sandra Kostro +48 505 705 009 +48872108409 xkeler@example.com \n",
            "Osoba 22 Krystyna Michalkiewicz +48 793 942 998 +48432563001 marektatarczyk@example.org \n",
            "Osoba 23 Gaja Kurcz 724 398 582 +48409452041 aleks44@example.com \n",
            "Osoba 24 Iwo Pietraś +48 533 029 014 +48539175488 stefangalek@example.org \n",
            "Osoba 25 Borys Kolonko +48 534 669 309 +48871382723 roza76@example.net \n",
            "Osoba 26 Gaja Teodorowicz 783 826 816 +48204439362 sniegmateusz@example.org \n",
            "Osoba 27 Adrian Nóżka 781 452 783 +48707774672 smagaczolgierd@example.com \n",
            "Osoba 28 Fabian Milczarczyk 514 076 882 +48528512993 frankowicztomasz@example.com \n",
            "Osoba 29 Piotr Kosowicz +48 22 306 85 96 +48309414760 dawidmajzner@example.net \n",
            "Osoba 30 Stefan Skupin +48 22 759 50 35 +48719162762 borysmilewczyk@example.com \n",
            "Osoba 31 Adam Rajch +48 793 791 148 +48549372971 dominik49@example.com \n",
            "Osoba 32 pani Ida Tworzydło +48 22 111 41 23 +48158526542 gradzielnela@example.org \n",
            "Osoba 33 Olaf Fyda +48 697 074 407 +48870198679 rupbianka@example.com \n",
            "Osoba 34 Franciszek Pleśniak 601 102 362 +48106938448 stachelekmichal@example.org \n",
            "Osoba 35 pani Sonia Wosiek +48 781 535 493 +48681934535 zawiasablanka@example.net \n",
            "Osoba 36 Tymoteusz Miąsik 532 798 869 +48334215214 surdyktobiasz@example.com \n",
            "Osoba 37 Tymoteusz Fijoł 576 180 705 +48903778389 oliwier39@example.org \n",
            "Osoba 38 pani Monika Żmija 663 185 657 +48273290700 misztelanataniel@example.net \n",
            "Osoba 39 Damian Maślach +48 881 523 443 +48248365389 jeremikuk@example.org \n",
            "Osoba 40 pan Tymon Wiese 692 873 559 +48355389984 iwaluk@example.com \n",
            "Osoba 41 Mikołaj Stachów +48 699 931 525 +48477589314 przemyslawszczot@example.org \n",
            "Osoba 42 Wojciech Sklorz 797 804 119 +48765462260 dworniczakgrzegorz@example.org \n",
            "Osoba 43 Igor Stark +48 786 588 024 +48999946565 bobeljuliusz@example.net \n",
            "Osoba 44 Karol Stempin +48 500 914 464 +48256055858 angelikapowalka@example.com \n",
            "Osoba 45 Konrad Szambelan 662 075 137 +48444422680 brunopesta@example.org \n",
            "Osoba 46 Angelika Wawrzyńczyk +48 721 532 981 +48125357893 janinaozieblo@example.net \n",
            "Osoba 47 Kajetan Łęgowik 507 888 831 +48635478680 angelikatywoniuk@example.net \n",
            "Osoba 48 Wojciech Pagacz +48 32 513 67 33 +48898845893 maciejewiczkalina@example.net \n",
            "Osoba 49 Elżbieta Łusiak +48 796 427 590 +48821595248 fciesiolka@example.org \n",
            "Osoba 50 Kornel Gamoń 883 204 023 +48211852699 whajdas@example.com "
          ]
        }
      ]
    },
    {
      "cell_type": "code",
      "source": [
        "# @title utwórz baze danych osób do kontaktu (z pliku *.txt) { vertical-output: true, form-width: \"400px\", display-mode: \"both\" }\n",
        "\n",
        "def singleton(cls):\n",
        "  instances = {}\n",
        "\n",
        "  def get_instance(*args, **kwargs):\n",
        "    if cls not in instances:\n",
        "      instances[cls] = cls(*args, **kwargs)\n",
        "    return instances[cls]\n",
        "\n",
        "  return get_instance\n",
        "\n",
        "@singleton\n",
        "class Utworz_baze_kontaktow:\n",
        "\n",
        "  def __init__(self):\n",
        "    # zawiera liste slownikow kontaktow imie nazwisko : reszta danych\n",
        "    self._baza = []\n",
        "\n",
        "  @property\n",
        "  def get_baza(self):\n",
        "    return self._baza\n",
        "\n",
        "  def utworz_kontakt(self, linia_kontaktu):\n",
        "    parts = linia_kontaktu.strip().split(',')\n",
        "    key = parts[0]\n",
        "    value = '.'.join(parts[1:]).strip()\n",
        "    self.get_baza.append({key : value})\n",
        "\n",
        "  def otworz_plik_z_kontaktami(self, kodowanie = \"windows-1250\"):\n",
        "    sciezka_do_pliku_kontaktow = \"/content/uploaded/ludzie_do_kontaktu_po_RFX — kopia.txt\"\n",
        "    if not sprawdz_czy_dany_plik_istnieje(sciezka_do_pliku_kontaktow):\n",
        "      upload_files()\n",
        "\n",
        "    with open(sciezka_do_pliku_kontaktow, 'r', encoding=kodowanie) as file:\n",
        "      for linia_kontaktu in file:\n",
        "        self.utworz_kontakt(linia_kontaktu)\n",
        "\n",
        "  def wyswietl_baze_kontaktow(self):\n",
        "    for item in self.get_baza:\n",
        "      for key, value in item.items():\n",
        "        print(f\"{key}, {value}\")\n",
        "\n",
        "  def zapisz_baze_do_pliku(self, sciezka, download = False):\n",
        "    with open(sciezka, \"w\") as plik_bazy:\n",
        "      for rekord in self.get_baza:\n",
        "        for key, value in rekord.items():\n",
        "          plik_bazy.write(key + \", \" + value + \"\\n\")\n",
        "\n",
        "    if(download): files.download(sciezka)\n",
        "\n",
        "\n",
        "# test\n",
        "\n",
        "# utworz_baze_kontaktow = Utworz_baze_kontaktow()\n",
        "# utworz_baze_kontaktow.otworz_plik_z_kontaktami()\n",
        "# utworz_baze_kontaktow.wyswietl_baze_kontaktow()\n",
        "# baza = utworz_baze_kontaktow.get_baza\n",
        "\n",
        "# for rekord in baza:\n",
        "#   for key, val in rekord.items():\n",
        "#     print(key, val)\n",
        "\n",
        "# utworz_baze_kontaktow.zapisz_baze_do_pliku(\"baza.txt\")"
      ],
      "metadata": {
        "id": "M2PdDgw5lICp"
      },
      "execution_count": 35,
      "outputs": []
    },
    {
      "cell_type": "code",
      "source": [
        "# @title Tworzenie randomowych plików zz { vertical-output: true, form-width: \"500px\", display-mode: \"both\" }\n",
        "\n",
        "# kolumna B - nr pozycji (indeks),\n",
        "# kolumna C - opis pozycji,\n",
        "# kolumna D - ilość,\n",
        "# kolumna E - jednostka mag.,\n",
        "# kolumna F - wym. data dostawy,\n",
        "# kolumna K - cena jedn.,\n",
        "# kolumna S - cena całość\n",
        "\n",
        "def utworz_randomowy_plik_zz(ile_pozycji_zakupowych):\n",
        "\n",
        "  zakres_poczatek = datetime(2024, 1, 1)\n",
        "  zakres_koniec = datetime(2024, 12, 31)\n",
        "\n",
        "  nazwa_pliku_1 = generuj_nazwe_pliku()\n",
        "  print(\"nazwa_pliku:\\t\\t\", nazwa_pliku_1)\n",
        "\n",
        "  numer_zz_z_nazwy_pliku = sparsuj_i_utworz_nazwe(nazwa_pliku_1, \"xlsx\")\n",
        "  print(\"numer_zz_z_nazwy_pliku:\\t\", numer_zz_z_nazwy_pliku)\n",
        "\n",
        "  nr_zz_dict = rozdziel_nazwe_pliku_od_rozszerzenia(numer_zz_z_nazwy_pliku)\n",
        "  nr_zz = nr_zz_dict['name_key']\n",
        "  print(\"nr_zz:\\t\\t\\t\", nr_zz)\n",
        "\n",
        "  zagniezdzone_slowniki_plikow = {nr_zz:{\n",
        "  'B':[], 'C':[], 'D':[], 'E':[], 'F':[], 'K':[], 'S':[]}}\n",
        "\n",
        "  for i in range(1, ile_pozycji_zakupowych + 1):\n",
        "    indeks = generuj_losowy_numer_indeksu()\n",
        "    zagniezdzone_slowniki_plikow[nr_zz]['B'].append(indeks)\n",
        "\n",
        "    opis_pozycji = generuj_losowa_nazwe_przedmiotu()\n",
        "    zagniezdzone_slowniki_plikow[nr_zz]['C'].append(opis_pozycji)\n",
        "\n",
        "    ilosc = generuj_ilosc(1, 100)\n",
        "    zagniezdzone_slowniki_plikow[nr_zz]['D'].append(ilosc)\n",
        "\n",
        "    jednostka_miary = generuj_jednostke_miary()\n",
        "    zagniezdzone_slowniki_plikow[nr_zz]['E'].append(jednostka_miary)\n",
        "\n",
        "    wymagana_data_przyjecia = generuj_losowa_date(zakres_poczatek, zakres_koniec)\n",
        "    zagniezdzone_slowniki_plikow[nr_zz]['F'].append(wymagana_data_przyjecia)\n",
        "\n",
        "    cena_jednostkowa = generuj_cene_jednostkowa(1, 1000)\n",
        "    zagniezdzone_slowniki_plikow[nr_zz]['K'].append(cena_jednostkowa)\n",
        "\n",
        "    kwota_za_calosc_netto = kwota_za_calosc(ilosc, cena_jednostkowa)\n",
        "    zagniezdzone_slowniki_plikow[nr_zz]['S'].append(kwota_za_calosc_netto)\n",
        "\n",
        "\n",
        "  for k, v in zagniezdzone_slowniki_plikow.items():\n",
        "    for k1, v1 in v.items():\n",
        "      print(\"\\n\" + k1)\n",
        "      for item_list in v1:\n",
        "        print(item_list)\n",
        "\n",
        "\n",
        "#################### testy #####################\n",
        "utworz_randomowy_plik_zz(5)"
      ],
      "metadata": {
        "id": "KZrs_tT2kO2E"
      },
      "execution_count": null,
      "outputs": []
    },
    {
      "cell_type": "markdown",
      "source": [
        "# `Excel`"
      ],
      "metadata": {
        "id": "uiwMpbF5Gbhy"
      }
    },
    {
      "cell_type": "code",
      "source": [
        "# @title skopiuj kolumny z katalogu { vertical-output: true, form-width: \"500px\", display-mode: \"both\" }\n",
        "\n",
        "directory_path = \"\" # @param {type:\"string\"}\n",
        "\n",
        "def skopiuj_kolumny_z_katalogu(sciezka_katalogu):\n",
        "    try:\n",
        "        lista_wynikowa = []\n",
        "\n",
        "        # Sprawdź, czy ścieżka katalogu ma poprawny separator na końcu\n",
        "        if not sciezka_katalogu.endswith(os.path.sep):\n",
        "            sciezka_katalogu += os.path.sep\n",
        "\n",
        "        # Indeksy kolumn do skopiowania\n",
        "        kolumny_do_skopiowania = [2, 3, 4, 5, 6, 11, 19]  # Kolumny B, C, D, E, F, K, S\n",
        "\n",
        "        # Pętla po plikach Excel w podanym katalogu\n",
        "        for plik in os.listdir(sciezka_katalogu):\n",
        "            if plik.lower().endswith((\".xlsx\", \".xls\")):  # Sprawdź, czy plik to Excel (ignoruj wielkość liter)\n",
        "                pelna_sciezka = os.path.join(sciezka_katalogu, plik)\n",
        "\n",
        "                # Wczytaj plik Excel\n",
        "                workbook = openpyxl.load_workbook(pelna_sciezka)\n",
        "                sheet = workbook.active\n",
        "\n",
        "                # Inicjalizuj listę krotek dla bieżącego pliku\n",
        "                lista_krotek = []\n",
        "\n",
        "                # Iteruj po kolumnach i dodawaj każdą do osobnej krotki\n",
        "                for kolumna_index in kolumny_do_skopiowania:\n",
        "                    krotka = tuple(\n",
        "                        sheet.komórka(row=row, column=kolumna_index).value for row in range(2, sheet.max_row + 1))\n",
        "                    lista_krotek.append(krotka)\n",
        "\n",
        "                # Dodaj listę krotek dla bieżącego pliku do listy wynikowej\n",
        "                lista_wynikowa.append(lista_krotek)\n",
        "\n",
        "        return lista_wynikowa\n",
        "    except Exception as e:\n",
        "        print(f\"Błąd podczas przetwarzania plików Excel: {e}\")\n",
        "        return None\n"
      ],
      "metadata": {
        "id": "KAfydFuLEh-G"
      },
      "execution_count": 37,
      "outputs": []
    },
    {
      "cell_type": "code",
      "source": [
        "# @title dodaj krotki { vertical-output: true, form-width: \"500px\", display-mode: \"both\" }\n",
        "lista_wynikowa = \"\" # @param {type:\"string\"}\n",
        "\n",
        "def dodaj_krotki(lista_wynikowa):\n",
        "    if lista_wynikowa is not None:\n",
        "        suma_krotek = []\n",
        "\n",
        "        # Iteruj po indeksach krotek (kolumnach)\n",
        "        for indeks_kolumny in range(len(lista_wynikowa[0])):\n",
        "            suma_kolumny = ()\n",
        "\n",
        "            # Iteruj po plikach i dodawaj odpowiadające sobie krotki\n",
        "            for lista_krotek in lista_wynikowa:\n",
        "                suma_kolumny += lista_krotek[indeks_kolumny]\n",
        "\n",
        "            suma_krotek.append(suma_kolumny)\n",
        "\n",
        "        return suma_krotek\n",
        "    else:\n",
        "        print(\"Błąd podczas przetwarzania listy krotek.\")\n",
        "        return None\n"
      ],
      "metadata": {
        "id": "s6JjurXoEkCx"
      },
      "execution_count": 38,
      "outputs": []
    },
    {
      "cell_type": "code",
      "source": [
        "# @title oblicz najdluzszy string w kolumnie { vertical-output: true, form-width: \"500px\", display-mode: \"both\" }\n",
        "\n",
        "kolumna = \"\" # @param {type:\"string\"}\n",
        "\n",
        "def oblicz_najdluzszy_string(kolumna):\n",
        "    return max(len(str(wartosc)) for wartosc in kolumna if isinstance(wartosc, str))\n"
      ],
      "metadata": {
        "id": "2VgGnQNqEmET"
      },
      "execution_count": 39,
      "outputs": []
    },
    {
      "cell_type": "code",
      "source": [
        "# @title zapisz sumy do excel { vertical-output: true, form-width: \"500px\", display-mode: \"both\" }\n",
        "\n",
        "def zapisz_sumy_do_excel(suma_krotek, sciezka_do_pliku_excel):\n",
        "    try:\n",
        "        # Utwórz nowy plik Excel\n",
        "        wb = load_workbook(sciezka_do_pliku_excel)\n",
        "\n",
        "        # nowy_workbook = openpyxl.Workbook()\n",
        "        nowy_sheet = wb.active\n",
        "\n",
        "        # Ustaw szerokość kolumn do zawartości\n",
        "        for kolumna_index, suma_kolumny in enumerate(suma_krotek, start=2):\n",
        "            szerokosc_kolumny = max(len(str(wartosc)) for wartosc in suma_kolumny)\n",
        "            nowy_sheet.column_dimensions[openpyxl.utils.get_column_letter(kolumna_index)].width = szerokosc_kolumny\n",
        "\n",
        "        # Ustawienia formatowania\n",
        "        align_center = Alignment(horizontal='center', vertical='center', wrap_text=True)\n",
        "        date_format = '%Y.%m.%d'\n",
        "\n",
        "        # Zapisz sumy kolumn do kolumny B, zaczynając od wiersza 4\n",
        "        for indeks, suma_kolumny in enumerate(suma_krotek, start=1):\n",
        "            for nr_wiersza, wartosc in enumerate(suma_kolumny, start=4):\n",
        "                komorka = nowy_sheet.komórka(row=nr_wiersza, column=indeks + 1, value=wartosc)\n",
        "\n",
        "                # Wysrodkuj komórkę\n",
        "                komorka.alignment = align_center\n",
        "\n",
        "                # Ustaw format daty w kolumnie C\n",
        "                if indeks == 4:\n",
        "                    if isinstance(wartosc, datetime):\n",
        "                        komorka.number_format = date_format\n",
        "\n",
        "        # Zapisz plik Excel\n",
        "        wb.save(sciezka_do_pliku_excel)\n",
        "        print(f\"Sumy kolumn zostały zapisane do pliku Excel: {sciezka_do_pliku_excel}\")\n",
        "    except Exception as e:\n",
        "        print(f\"Błąd podczas zapisywania pliku Excel: {e}\")\n"
      ],
      "metadata": {
        "id": "BHKrRicVEpjn"
      },
      "execution_count": 40,
      "outputs": []
    },
    {
      "cell_type": "code",
      "source": [
        "# @title generuj dane do excel'a { vertical-output: true, form-width: \"500px\", display-mode: \"both\" }\n",
        "ilosc_rekordow_zakupowych = 10 # @param {type:\"integer\"}\n",
        "\n",
        "\n"
      ],
      "metadata": {
        "id": "VtQM_5bTMJxy"
      },
      "execution_count": 41,
      "outputs": []
    },
    {
      "cell_type": "code",
      "source": [
        "# @title godz. i data w nazwie pliku { vertical-output: true, form-width: \"500px\", display-mode: \"both\" }\n",
        "\n",
        "# Funkcja tworzy nowy plik exel i zapisuje z nazwa zawierająca m.in\n",
        "# godzinę i datę utworzenie pliku\n",
        "\n",
        "def czas_i_data_w_nazwie_pliku():\n",
        "\n",
        "  # utworzenie katalogu do pracy z biblioteka openpyxl\n",
        "\n",
        "  try:\n",
        "    dir_name_for_openpyxl = \"openpyxl\"\n",
        "    sprawdz_czy_katalog_istnieje(dir_name_for_openpyxl)\n",
        "\n",
        "    wb = Workbook()\n",
        "    ws = wb.active\n",
        "\n",
        "    # Save the file with actual date and time\n",
        "    data_czas = actual_datetime()\n",
        "    lista_daty = [\"_\", data_czas['czas'], \"___\", data_czas['data']]\n",
        "    skrot_do_daty_i_godziny = \"\".join(lista_daty)\n",
        "\n",
        "    podzielona_nazwa_pliku = split_filename_and_extension(\"sample.xlsx\")\n",
        "    nowa_nazwa_pliku_skladowe = [podzielona_nazwa_pliku.get('name_key'),\n",
        "                                skrot_do_daty_i_godziny,\n",
        "                                podzielona_nazwa_pliku.get('ext_key')]\n",
        "\n",
        "    nowa_nazwa_pliku = \"\".join(nowa_nazwa_pliku_skladowe)\n",
        "\n",
        "    wb.save(nowa_nazwa_pliku)\n",
        "    files.download(nowa_nazwa_pliku)\n",
        "\n",
        "  except Exception as e:\n",
        "    print(f\"wyje.ało błęda: {e}\")"
      ],
      "metadata": {
        "id": "Su2OfI8BDZGN"
      },
      "execution_count": 42,
      "outputs": []
    },
    {
      "cell_type": "code",
      "source": [
        "# @title utworz plik excel (szablon z nagłówkami itp) { form-width: \"500px\", display-mode: \"both\" }\n",
        "nazwa_sprawy = \"KZP-\\u0141A.2110.03.2024 Dostawa skaner\\xF3w p\\u0142omienia Lamtec\" # @param {type:\"string\"}\n",
        "nazwa_sprawy_w_nazwie_pliku_bez_ogonkow = \"KZP_LA_2110_03_2024_Dostawa_skanerow_plomienia_Lamtec.xlsx\" # @param {type:\"string\"}\n",
        "\n",
        "#  /content/KZP-ŁA.2110.03.2024 Dostawa skanerów płomienia Lamtec.xlsx\n",
        "# KZP-ŁA.2110.03.2024 Dostawa skanerów płomienia Lamtec\n",
        "# xlsx\n",
        "# KZP_LA_2110_03_2024_Dostawa_skanerow_plomienia_Lamtec.xlsx\n",
        "\n",
        "def utworz_plik_excel(nazwa_sprawy, nazwa_sprawy_w_nazwie_pliku_bez_ogonkow):\n",
        "\n",
        "    wb = openpyxl.Workbook()\n",
        "    arkusz = wb.active\n",
        "\n",
        "    # Nagłówki\n",
        "    naglowki = ['lp', 'Indeks', 'Opis pozycji', 'Ilość', 'Jednostka masy', 'Data dostawy', 'Cena jednostkowa netto',\n",
        "                'Wartość kontraktu netto', 'Osoba do kontaktu']\n",
        "\n",
        "    # Wklejanie nagłówków w wierszu 3, zaczynając od kolumny 1\n",
        "    for index, naglowek in enumerate(naglowki, start=1):\n",
        "        komorka = arkusz.cell(row=3, column=index, value=naglowek)\n",
        "        komorka.alignment = Alignment(horizontal='center', vertical='center', wrap_text=True)\n",
        "        komorka.font = Font(bold=True)\n",
        "\n",
        "    # Wiersz 1\n",
        "    komorka_wiersz_1 = arkusz.cell(row=1, column=1, value=f\"Zapytanie ofertowe RFX nr sprawy {nazwa_sprawy}\")\n",
        "    komorka_wiersz_1.alignment = Alignment(horizontal='left', vertical='center', wrap_text=False)\n",
        "    komorka_wiersz_1.font = Font(size=20, bold=True)\n",
        "\n",
        "    # Wiersz 2\n",
        "    data_wygenerowania = datetime.now().strftime(\"%Y-%m-%d\")\n",
        "    komorka_wiersz_2 = arkusz.cell(row=2, column=1, value=f\"Data wygenerowania dokumentu: {data_wygenerowania}\")\n",
        "    komorka_wiersz_2.alignment = Alignment(horizontal='left', vertical='center', wrap_text=False)\n",
        "\n",
        "    if sprawdz_czy_dany_plik_istnieje(os.path.join(os.getcwd(), nazwa_sprawy_w_nazwie_pliku_bez_ogonkow)):\n",
        "      print(f\"Plik '{nazwa_sprawy_w_nazwie_pliku_bez_ogonkow}' już istnieje i zostanie nadpisany.\")\n",
        "\n",
        "    wb.save(nazwa_sprawy_w_nazwie_pliku_bez_ogonkow)\n",
        "    files.download(nazwa_sprawy_w_nazwie_pliku_bez_ogonkow)\n",
        "\n",
        "# testy\n",
        "# utworz_plik_excel(nazwa_sprawy, nazwa_sprawy_w_nazwie_pliku_bez_ogonkow)\n"
      ],
      "metadata": {
        "id": "vLq68BIbEdg3"
      },
      "execution_count": 43,
      "outputs": []
    },
    {
      "cell_type": "code",
      "source": [
        "# @title znajdz słownik { vertical-output: true, form-width: \"500px\", display-mode: \"both\" }\n",
        "\n",
        "def znajdz_slownik(lista_slownikow, szukany_klucz):\n",
        "    for slownik in lista_slownikow:\n",
        "        if \"klucz\" in slownik and slownik[\"klucz\"] == szukany_klucz:\n",
        "            return slownik\n",
        "    return None  # Zwraca None, jeśli nie znaleziono słownika o podanym kluczu"
      ],
      "metadata": {
        "id": "VCmPL966I8w8"
      },
      "execution_count": 44,
      "outputs": []
    },
    {
      "cell_type": "code",
      "source": [
        "# @title przetwarzaj pliki excel { form-width: \"500px\", display-mode: \"both\" }\n",
        "\n",
        "def przetwarzaj_pliki_excel(sciezka_katalogu):\n",
        "    # Zamień wszystkie ukośniki na /\n",
        "    sciezka_katalogu = sciezka_katalogu.replace('\\\\', '/')\n",
        "\n",
        "    # Upewnij się, że ścieżka ma poprawny separator na końcu\n",
        "    if not sciezka_katalogu.endswith('/'):\n",
        "        sciezka_katalogu += '/'\n",
        "\n",
        "    # Inicjalizuj kolekcje kolumn\n",
        "    kolumny_do_skopiowania = ['B', 'C', 'D', 'E', 'F', 'K', 'S']\n",
        "    lista_slownikow_z_wartosciami_kolumn = []\n",
        "\n",
        "    for item in kolumny_do_skopiowania:\n",
        "      lista_slownikow_z_wartosciami_kolumn.append({\"klucz\": item, \"val\": []})\n",
        "\n",
        "    # Wyświetl utworzoną listę słowników\n",
        "    # for slownik in lista_slownikow_z_wartosciami_kolumn:\n",
        "        # print(slownik)\n",
        "\n",
        "    # Pętla po plikach Excel w podanym katalogu\n",
        "    for plik in os.listdir(sciezka_katalogu):\n",
        "        if plik.lower().endswith((\".xlsx\", \".xls\")):  # Sprawdź, czy plik to Excel (ignoruj wielkość liter)\n",
        "            pelna_sciezka = os.path.join(sciezka_katalogu, plik)\n",
        "            # print()\n",
        "            nazwa_pliku = os.path.basename(pelna_sciezka)\n",
        "            slownik_z_nazwa_pliku = rozdziel_nazwe_pliku_od_rozszerzenia(nazwa_pliku)\n",
        "\n",
        "            # Sprawdź, czy ścieżka do pliku istnieje, a jeśli nie, spróbuj dokonać zamiany ukośników\n",
        "            if not os.path.exists(pelna_sciezka):\n",
        "                pelna_sciezka = pelna_sciezka.replace('/', '\\\\') if '/' in pelna_sciezka else pelna_sciezka.replace(\n",
        "                    '\\\\', '/')\n",
        "\n",
        "            arkusz = openpyxl.load_workbook(pelna_sciezka).active\n",
        "\n",
        "            daty_jako_string = []\n",
        "\n",
        "            for kolumna in kolumny_do_skopiowania:\n",
        "                szukany_klucz = kolumna\n",
        "                znaleziony_slownik = znajdz_slownik(lista_slownikow_z_wartosciami_kolumn, szukany_klucz)\n",
        "\n",
        "                for wiersz in range(2, arkusz.max_row + 1):\n",
        "                  numer_komorki = kolumna + str(wiersz)\n",
        "                  wartosc = arkusz[numer_komorki].value\n",
        "\n",
        "                  if znaleziony_slownik['klucz'] == 'F':\n",
        "                    # Konwertujemy wartość daty do formatu \"22.12.2024\" i zapisujemy jako string\n",
        "                    if isinstance(wartosc, datetime):\n",
        "                      znaleziony_slownik[\"val\"].append(wartosc.strftime(\"%d.%m.%Y\"))\n",
        "                    else:\n",
        "                        daty_jako_string.append(None)\n",
        "                  else:\n",
        "                    znaleziony_slownik[\"val\"].append(wartosc)\n",
        "\n",
        "    return lista_slownikow_z_wartosciami_kolumn"
      ],
      "metadata": {
        "id": "AKTkiALLZ0bS"
      },
      "execution_count": 45,
      "outputs": []
    },
    {
      "cell_type": "code",
      "source": [
        "# @title wklej dane do arkusza { vertical-output: true }\n",
        "\n",
        "from openpyxl.utils import get_column_letter, column_index_from_string\n",
        "\n",
        "def litera_na_indeks_openpyxl(litera):\n",
        "    # Zamienia literę kolumny na indeks liczbowy\n",
        "    return column_index_from_string(litera)\n",
        "\n",
        "def wklej_dane_do_arkusza(plik_excela, lista_slownikow, wiersz_start=4):\n",
        "    arkusz = openpyxl.load_workbook(plik_excela).active\n",
        "\n",
        "    # Wklejamy dane z listy 'val' do odpowiednich wierszy zaczynając od wiersza_start\n",
        "    for slownik in lista_slownikow:\n",
        "      # print(slownik)\n",
        "      for key, value_to_write in slownik.items():\n",
        "        print(key)\n",
        "        # print(arkusz[key])\n",
        "        # print(value_to_write)\n",
        "        print(value_to_write)\n",
        "        # for wartosc in value_to_write:\n",
        "          # pass\n",
        "          # print(wartosc)\n",
        "          # kolumna = litera_na_indeks_openpyxl(litera_kolumny)\n",
        "          # arkusz.cell(row=wiersz_start, column=kolumna, value=value_to_write)\n"
      ],
      "metadata": {
        "id": "goIdDvT1WKtq",
        "cellView": "form"
      },
      "execution_count": 46,
      "outputs": []
    },
    {
      "cell_type": "code",
      "source": [
        "# @title Excel MainAPP { display-mode: \"both\" }\n",
        "# nazwa_sprawy = r\"KZP-ŁA.2110.03.2024 Dostawa skanerów płomienia Lamtec\" # @param {type:\"string\"}\n",
        "# rozszerzenie = \"xlsx\" # @param {type:\"string\"}\n",
        "\n",
        "# print(\"nazwa sprawy:\\t\\t\\t\\t\\t\", nazwa_sprawy)\n",
        "\n",
        "# pełna ścieżka do pliku (bez unidekodowania)\n",
        "# pelna_sciezka_do_pliku = f\"/content/{nazwa_sprawy}.{rozszerzenie}\"\n",
        "# print(\"pelna_sciezka_do_pliku (bez dekodowania):\\t\", pelna_sciezka_do_pliku)\n",
        "\n",
        "# podaj nazwę wraz z rozszerzeniem\n",
        "# nazwa_sprawy_w_nazwie_pliku_bez_ogonkow = zamien_znaki_w_nazwie_pliku(f\"{nazwa_sprawy}.{rozszerzenie}\")\n",
        "# print(f\"nazwa sprawy w nazwie pliku (bez ogonkow):\\t{nazwa_sprawy_w_nazwie_pliku_bez_ogonkow}\")\n",
        "\n",
        "\n",
        "# sprawdz_czy_katalog_istnieje(\"/content/zz\")\n",
        "# import_files(\"/content/zz\")\n",
        "# wartosci_kolumn = przetwarzaj_pliki_excel(\"/content/zz\")\n",
        "\n",
        "# for slownik in wartosci_kolumn:\n",
        "#   print(slownik)\n",
        "\n",
        "# utworz_plik_excel(nazwa_sprawy, nazwa_sprawy_w_nazwie_pliku_bez_ogonkow)\n",
        "# wklej_dane_do_arkusza(nazwa_sprawy_w_nazwie_pliku_bez_ogonkow, wartosci_kolumn)\n"
      ],
      "metadata": {
        "id": "aAIuSDQsGsVf"
      },
      "execution_count": 47,
      "outputs": []
    },
    {
      "cell_type": "markdown",
      "source": [
        "# `word`"
      ],
      "metadata": {
        "id": "4lYVGb71Yua9"
      }
    },
    {
      "cell_type": "code",
      "source": [
        "# @title klasa - encja punktów { vertical-output: true, form-width: \"600px\", display-mode: \"both\" }\n",
        "\n",
        "\n",
        "class Punkt:\n",
        "  levels_number = None\n",
        "\n",
        "  def __init__(self, point_dict):\n",
        "    self._levels_number = len(point_dict)\n",
        "    self._dict_with_data = point_dict\n",
        "\n",
        "  @property\n",
        "  def get_levels_number(self):\n",
        "    return self._levels_number\n",
        "\n",
        "  @property\n",
        "  def get_dict_with_data(self):\n",
        "    return self._dict_with_data"
      ],
      "metadata": {
        "id": "QEWMIcCBSWEc"
      },
      "execution_count": 48,
      "outputs": []
    },
    {
      "cell_type": "code",
      "source": [
        "# @title utwórz punkty do Word'a { vertical-output: true, form-width: \"600px\", display-mode: \"both\" }\n",
        "string_level_1 = \"\" # @param {type:\"string\"}\n",
        "string_level_2 = \"\" # @param {type:\"string\"}\n",
        "variable_name = \"\"\n",
        "\n",
        "\n",
        "def utworz_punkty():\n",
        "  level_1 = [\"CENA OFERTOWA (CENA ZA WYKONANIE PRZEDMIOTU ZAMÓWIENIA):\",\n",
        "             \"W ofercie Wykonawca poda Cenę ofertową w PLN w następującym układzie:\"]\n",
        "  level_2 = [\"Cena ofertowa netto\\t\\t(wartościowo),\",\n",
        "             \"Podatek VAT\\t\\t\\t(wartościowo),\", \"Cena ofertowa brutto\\t\\t(wartościowo i słownie).\"]\n",
        "  levels = {\"1\": level_1,\n",
        "            \"2\": level_2}\n",
        "\n",
        "  # wyświetlenie parametrów punktu\n",
        "  punkt_1 = Punkt(levels)\n",
        "  # print(\"Liczba poziomów: \", punkt_1.get_levels_number)\n",
        "\n",
        "  for key, value in punkt_1.get_dict_with_data.items():\n",
        "    print(f\"poziom: {key}\")\n",
        "    for vals in value:\n",
        "      print(vals)\n",
        "\n",
        "  doc = Document()\n",
        "\n",
        "  if isinstance(levels, dict):\n",
        "    for key, value in levels.items():\n",
        "      if key == \"1\":\n",
        "        paragraf = doc.add_paragraph(value, style = 'ListNumber')\n",
        "      elif key == \"2\":\n",
        "        for list_item in value:\n",
        "          sub_paragraf = doc.add_paragraph(list_item, style = 'ListBullet')\n",
        "\n",
        "  doc.add_page_break()\n",
        "\n",
        "  doc.save(\"sample_word_levels.docx\")\n",
        "  files.download(\"sample_word_levels.docx\")"
      ],
      "metadata": {
        "id": "qdlzqh7FNhT4"
      },
      "execution_count": 49,
      "outputs": []
    },
    {
      "cell_type": "code",
      "source": [
        "# @title wczytaj paragrafy z pliku docs - analiza zawartości { form-width: \"500px\", display-mode: \"both\" }\n",
        "nazwa_pliku = \"\" # @param {type:\"string\"}\n",
        "upload_directory_path = \"\" # @param {type:\"string\"}\n",
        "\n",
        "def wczytaj_paragrafy_z_pliku_word(nazwa_pliku, upload_directory_path):\n",
        "    import_files(upload_directory_path)\n",
        "    doc = Document(os.path.join(upload_directory_path, \"demo.docx\"))\n",
        "    # for index, paragraf in enumerate(doc.paragraphs):\n",
        "      # print(f\"\\n\\n--> Paragraf nr {index} \\n\", paragraf.text)\n",
        "\n",
        "# testy\n",
        "# wczytaj_paragrafy_z_pliku_word(\"zz\", \"demo.docx\")\n"
      ],
      "metadata": {
        "id": "Yl-3b22HSjSn"
      },
      "execution_count": 50,
      "outputs": []
    },
    {
      "cell_type": "code",
      "source": [
        "# @title praca z plikiem word { vertical-output: true, form-width: \"300px\", display-mode: \"both\" }\n",
        "\n",
        "def praca_z_plikiem_word():\n",
        "\n",
        "  doc = Document()\n",
        "\n",
        "  # modyfikacja stylu Normal\n",
        "  normal_style = doc.styles['Normal']\n",
        "  normal_style.font.name = 'Tahoma'\n",
        "  normal_style.font.size = Pt(9)\n",
        "  normal_style.paragraph_format.alignment = WD_ALIGN_PARAGRAPH.LEFT\n",
        "\n",
        "  # styl nagłówka GŁÓWNEGO\n",
        "  style = doc.styles.add_style('nagłówek_główny_styl', 1)\n",
        "  style.font.name = 'Tahoma'\n",
        "  style.font.size = Pt(9)\n",
        "  style.paragraph_format.alignment = WD_ALIGN_PARAGRAPH.CENTER\n",
        "\n",
        "  # zmiana marginesu storny\n",
        "  sekcja = doc.sections[0]\n",
        "  sekcja.left_margin = Inches(1)\n",
        "  sekcja.right_margin = Inches(1)\n",
        "  szerokosc_strony = sekcja.page_width - sekcja.left_margin - sekcja.right_margin\n",
        "\n",
        "  # dodanie logo firmy\n",
        "  logo_sciezka = '/content/uploaded/nagłowek_enea.PNG'\n",
        "\n",
        "  if not check_if_file_exists(logo_sciezka):\n",
        "    upload_files(os.path.dirname(logo_sciezka))\n",
        "    logo_added = doc.add_picture(logo_sciezka)\n",
        "    wciecie_logo = szerokosc_strony - logo_added.width / 2\n",
        "  else:\n",
        "    logo_added = doc.add_picture(logo_sciezka)\n",
        "    wciecie_logo = szerokosc_strony - logo_added.width / 2\n",
        "\n",
        "  # dane wejściowe\n",
        "  nazwa_sprawy = \"KZP.ŁA.2110.23.2024 Dostawa łożysk\"\n",
        "  data_dokumentu = datetime.now().strftime('%d.%m.%Y')\n",
        "  # data_dokumentu = datetime.now().strftime('%d.%m.%Y %H:%M:%S')\n",
        "\n",
        "  # dodanie znaku sprawy i daty\n",
        "  p = doc.add_paragraph(f'Nasz znak: ')\n",
        "  run_znak_sprawy = p.add_run(f'{nazwa_sprawy}')\n",
        "  run_znak_sprawy.bold = True\n",
        "  p.style = 'Normal'\n",
        "\n",
        "  # dodanie daty dokumentu\n",
        "  data = doc.add_paragraph(f\"Świerże Górne, dn. \")\n",
        "  data_run = data.add_run(f'{data_dokumentu}r.')\n",
        "  data_run.bold = True\n",
        "  data.alignment = WD_ALIGN_PARAGRAPH.RIGHT\n",
        "\n",
        "  # dodanie nagłówka\n",
        "  nagłówek_text = doc.add_heading('ZAPYTANIE OFERTOWE (RFX)', 0)\n",
        "  nagłówek_text.style = 'nagłówek_główny_styl'\n",
        "\n",
        "  pkt_1 = \"WPROWADZENIE:\\nNiniejsze Zapytanie jest podstawą do złożenia ofert.\"\n",
        "  pkt_2 = \"TRYB UDZIELENIA ZAMÓWIENIA:\\nPostępowanie w trybie Zapytania Ofertowego (RFX) prowadzone jest w oparciu o wewnętrzny Regulamin Udzielania Zamówień i Zawierania Umów (RUZiZU) Zamawiającego, dla którego nie mają zastosowania przepisy ustawy z dnia 11.09.2019 r. Prawo zamówień publicznych.\"\n",
        "  podpunkt_3_1 = f\"Wykonanie usługi pn. \\\"{nazwa_sprawy}\\\".\"\n",
        "  podpunkt_3_2 = \"Zakres dostawy wg: Załącznika Nr 1 pn. \\\"Zakres Przedmiotu zamówienia\\\".\"\n",
        "  pkt_3 = {\"PRZEDMIOT ZAMÓWIENIA\": [podpunkt_3_1, podpunkt_3_2]}\n",
        "  pkt_4 = \"OFERTY CZĘŚCIOWE:\\nZamawiający dopuszcza składania ofert częściowych.\"\n",
        "  pkt_5 = \"OFERTY WARIANTOWE:\\nZamawiający nie dopuszcza składania ofert wariantowych.\"\n",
        "  podpunkt_6_1 = \"rozpoczęcie wykonywania Przedmiotu umowy  – od dnia podpisania Zamówienia,\"\n",
        "  podpunkt_6_2 = f\"zakończenie wykonywania Przedmiotu umowy – zgodnie z załącznikiem „1. Załącznik {nazwa_sprawy} — zakres przedmiotu zamówienia”; lub 1 tydzień od daty otrzymania zamówienia, termin ten uważany będzie za dochowany przez Wykonawcę w przypadku, gdy przed jego upływem nastąpi protokolarny, bezusterkowy odbiór końcowy prac będących Przedmiotem umowy,\"\n",
        "  pkt_6 = {\"TERMINY REALIZACJI: \":[podpunkt_6_1, podpunkt_6_2]}\n",
        "  podpunkt_7_1 = \"Realizacja przedmiotu zamówienia polega na:  Dostawie dla Enea Wytwarzanie sp. z o.o. fabrycznie nowych, nieużywanych, nieregenerowanych wyrobów będących przedmiotem niniejszego zapytania ofertowego wykonanych zgodnie z opisem przedmiotu zamówienia.\"\n",
        "  pkt_7 = {\"SZCZEGÓŁOWE WARUNKI TECHNICZNE/TECHNOLOGICZNE REALIZACJI PRZEDMIOTU ZAMÓWIENIA\":[podpunkt_7_1]}\n",
        "\n",
        "  lista_punktów = [pkt_1, pkt_2, pkt_3, pkt_4, pkt_5, pkt_6, pkt_7]\n",
        "\n",
        "  for punkt in lista_punktów:\n",
        "    if isinstance(punkt, dict):\n",
        "      for main_item, sub_items in punkt.items():\n",
        "        paragraf = doc.add_paragraph(main_item, style = 'ListNumber')\n",
        "        for sub_item in sub_items:\n",
        "          sub_paragraf = doc.add_paragraph(sub_item, style = 'ListBullet')\n",
        "          sub_paragraf.paragraph_format.left_indent = 360\n",
        "    else:\n",
        "      paragraf = doc.add_paragraph(punkt, style = 'ListNumber')\n",
        "\n",
        "  doc.add_page_break()\n",
        "\n",
        "  # złożenie nowej nazwy pliku wraz z nazwą sprawy\n",
        "  podzielona_nazwa_pliku_slownik = split_filename_and_extension(\"Zapytanie_ofertowe_RFX.docx\")\n",
        "  nazwa_trzon = podzielona_nazwa_pliku_slownik['name_key']\n",
        "  rozszerzenie = podzielona_nazwa_pliku_slownik['ext_key']\n",
        "\n",
        "  skladowe_nazwy_pliku = [nazwa_trzon, \"_\", nazwa_sprawy, rozszerzenie]\n",
        "  nowa_nazwa_pliku = \"\".join(skladowe_nazwy_pliku)\n",
        "  print(nowa_nazwa_pliku)\n",
        "\n",
        "  doc.save(nowa_nazwa_pliku)\n",
        "  files.download(nowa_nazwa_pliku)"
      ],
      "metadata": {
        "id": "wf66CvM8gDzw"
      },
      "execution_count": 51,
      "outputs": []
    },
    {
      "cell_type": "code",
      "source": [
        "# @title main word app { form-width: \"600px\", display-mode: \"both\" }\n",
        "# praca_z_plikiem_word()"
      ],
      "metadata": {
        "id": "4xMe8z93R2_W"
      },
      "execution_count": 52,
      "outputs": []
    },
    {
      "cell_type": "markdown",
      "source": [
        "# `PDF`"
      ],
      "metadata": {
        "id": "wF_ZEWJCJuue"
      }
    },
    {
      "cell_type": "code",
      "source": [
        "# @title convert Pdf date and time { vertical-output: true, form-width: \"500px\", display-mode: \"both\" }\n",
        "pd = \"\" # @param {type:\"string\"}\n",
        "\n",
        "def convert_PDF_datetime(pd):\n",
        "    dtformat = \"%Y%m%d%H%M%S\"\n",
        "    clean = pd.replace(\"D:\",\"\").split('+')[0]\n",
        "    date_converted = datetime.strptime(clean,dtformat)\n",
        "    print(date_converted)\n",
        "\n",
        "    return datetime.strptime(clean,dtformat)"
      ],
      "metadata": {
        "id": "_6ldu_8AJ2Ou"
      },
      "execution_count": 53,
      "outputs": []
    },
    {
      "cell_type": "code",
      "source": [
        "# @title dodaj pustą stronę do pliku PDF { vertical-output: true, form-width: \"500px\", display-mode: \"both\" }\n",
        "\n",
        "writer = \"\" # @param {type:\"string\"}\n",
        "path_destination = \"\" # @param {type:\"string\"}\n",
        "\n",
        "def add_blank_page(writer, path_destination):\n",
        "  writer.add_blank_page(width=200, height=200)\n",
        "\n",
        "  data = b\"any bytes - typically read from a file\"\n",
        "  writer.add_attachment(\"smile.png\", data)\n",
        "\n",
        "  with open(\"output.pdf\", \"wb\") as output_stream:\n",
        "      writer.write(output_stream)"
      ],
      "metadata": {
        "id": "7TgbeKzZJ348"
      },
      "execution_count": 54,
      "outputs": []
    },
    {
      "cell_type": "code",
      "source": [
        "# @title sprawdź czy plik PDF jest zaszyfrowany { vertical-output: true, form-width: \"500px\" }\n",
        "path_to_file = \"\" # @param {type:\"string\"}\n",
        "\n",
        "def check_if_encrypted(path_to_file):\n",
        "  if os.path.isfile(path_to_file):\n",
        "    reader = PdfReader(path_to_file)\n",
        "\n",
        "    if reader.is_encrypted:\n",
        "      writer = PdfWriter()\n",
        "      password = input(\"Enter your password: \")\n",
        "      reader.decrypt(password)\n",
        "\n",
        "      # Add all pages to the writer\n",
        "      for page in reader.pages:\n",
        "          writer.add_page(page)\n",
        "\n",
        "      # Save the new PDF to a file\n",
        "      with open(path_to_file, \"wb\") as f:\n",
        "          writer.write(f)\n",
        "\n",
        "      print(\"plik rozszyfrowany\")\n",
        "    else:\n",
        "      print(\"plik NIE był zaszyfrowany\")"
      ],
      "metadata": {
        "id": "HBLizJN1J57Y"
      },
      "execution_count": 55,
      "outputs": []
    },
    {
      "cell_type": "code",
      "source": [
        "# @title czytaj adnotacje { vertical-output: true, form-width: \"500px\", display-mode: \"both\" }\n",
        "reader = \"\" # @param {type:\"string\"}\n",
        "\n",
        "def annots_reading(reader):\n",
        "  print(\"funkcja annots_reading załadowana\")\n",
        "\n",
        "  attachments = {}\n",
        "\n",
        "  for page in reader.pages:\n",
        "    if \"/Annots\" in page:\n",
        "        for annot in page[\"/Annots\"]:\n",
        "            obj = annot.get_object()\n",
        "            annotation = {\"subtype\": obj[\"/Subtype\"], \"location\": obj[\"/Rect\"]}\n",
        "            print(annotation)\n",
        "\n",
        "            # text\n",
        "            subtype = annot.get_object()[\"/Subtype\"]\n",
        "            if subtype == \"/Text\":\n",
        "                print(annot.get_object()[\"/Contents\"])\n",
        "\n",
        "            # Highlights\n",
        "            subtype = annot.get_object()[\"/Subtype\"]\n",
        "            if subtype == \"/Highlight\":\n",
        "                coords = annot.get_object()[\"/QuadPoints\"]\n",
        "                x1, y1, x2, y2, x3, y3, x4, y4 = coords\n",
        "\n",
        "            # # attachments\n",
        "            # subtype = annot.get_object()[\"/Subtype\"]\n",
        "            # if subtype == \"/FileAttachment\":\n",
        "            #     fileobj = annotobj[\"/FS\"]\n",
        "            #     attachments[fileobj[\"/F\"]] = fileobj[\"/EF\"][\"/F\"].get_data()\n",
        "    else:\n",
        "      # print(\"brak andotacji w pliku\")\n",
        "      pass"
      ],
      "metadata": {
        "id": "YmfxSlVKJ8Gm"
      },
      "execution_count": 56,
      "outputs": []
    },
    {
      "cell_type": "code",
      "source": [
        "# @title Add the metadata { vertical-output: true, form-width: \"500px\", display-mode: \"both\" }\n",
        "path_to_file = \"\" # @param {type:\"string\"}\n",
        "\n",
        "def add_metadata(path_to_file):\n",
        "  reader = PdfReader(path_to_file)\n",
        "  writer = PdfWriter()\n",
        "\n",
        "  # Add all pages to the writer\n",
        "  for page in reader.pages:\n",
        "      writer.add_page(page)\n",
        "\n",
        "  writer.add_metadata(\n",
        "      {\n",
        "          \"/Author\": \"Martino\",\n",
        "          \"/Producer\": \"Libre Writer\",\n",
        "          \"/Subject\": \"kikk\",\n",
        "          \"/Title\": \"jakis_tytul\",\n",
        "          # \"/ModDate\": modification_date  # Adding modification date\n",
        "      }\n",
        "  )\n",
        "\n",
        "  with open(os.path.join(path_to_working_directory, path_to_file), \"wb\") as f:\n",
        "    writer.write(f)"
      ],
      "metadata": {
        "id": "OFp22hZoKAIK"
      },
      "execution_count": 57,
      "outputs": []
    },
    {
      "cell_type": "code",
      "source": [
        "# @title czytaj metadane { vertical-output: true, form-width: \"500px\", display-mode: \"both\" }\n",
        "\n",
        "reader = \"\" # @param {type:\"string\"}\n",
        "\n",
        "def read_metadata(reader):\n",
        "  meta = reader.metadata\n",
        "  print(len(reader.pages))\n",
        "\n",
        "  # All of the following could be None!\n",
        "  print(f\"author: {meta.author}\")\n",
        "  print(f\"creator: {meta.creator}\")\n",
        "  print(f\"producer: {meta.producer}\")\n",
        "  print(f\"subject: {meta.subject}\")\n",
        "  print(f\"title: {meta.title}\")"
      ],
      "metadata": {
        "id": "vujDNiZ7KCEb"
      },
      "execution_count": 58,
      "outputs": []
    },
    {
      "cell_type": "code",
      "source": [
        "# @title reading form fields { vertical-output: true, form-width: \"500px\", display-mode: \"both\" }\n",
        "reader = \"\" # @param {type:\"string\"}\n",
        "\n",
        "def reading_form_fields(reader):\n",
        "  # fields = reader.get_form_text_fields()\n",
        "  # fields == {\"key\": \"value\", \"key2\": \"value2\"}\n",
        "  # if reader.isEditable:\n",
        "  fields = reader.get_fields()\n",
        "\n",
        "  if bool(fields):\n",
        "    # print(fields)\n",
        "    for field_name, field_value in fields.items():\n",
        "      print(f\"nazwa pola: {field_name}, wartość: {field_value}\")\n",
        "  else:\n",
        "    print(\"brak fields-ów\")\n",
        "\n",
        "  # for field_name in fields:\n",
        "    # print(field_name)"
      ],
      "metadata": {
        "id": "sATs-Mh5KEDP"
      },
      "execution_count": 59,
      "outputs": []
    },
    {
      "cell_type": "code",
      "source": [
        "# @title extract text { vertical-output: true, form-width: \"500px\", display-mode: \"both\" }\n",
        "reader = \"\" # @param {type:\"string\"}\n",
        "\n",
        "def extract_text(reader):\n",
        "  text = \"\"\n",
        "  try:\n",
        "      for page in reader.pages:\n",
        "          text += page.extract_text()\n",
        "  except Exception as exc:\n",
        "      text = fallback_text_extraction(\"example.pdf\")\n",
        "\n",
        "  return text"
      ],
      "metadata": {
        "id": "44WNpoL6KF6g"
      },
      "execution_count": 60,
      "outputs": []
    },
    {
      "cell_type": "code",
      "source": [
        "# @title usuwanie stron w pdf { vertical-output: true, form-width: \"500px\", display-mode: \"both\" }\n",
        "source_file = \"\" # @param {type:\"string\"}\n",
        "pages_nums_to_delete = 0 # @param {type:\"integer\"}\n",
        "\n",
        "def page_deleting(source_file, pages_nums_to_delete):\n",
        "  print(source_file)\n",
        "\n",
        "  file_name_without_ext, ext = os.path.splitext(source_file)\n",
        "  new_file_name = ''.join([os.path.basename(file_name_without_ext), ext])\n",
        "\n",
        "  destination_file = os.path.join(os.path.dirname(source_file), new_file_name)\n",
        "  print(file_name_without_ext)\n",
        "  print(ext)\n",
        "  print(new_file_name)\n",
        "\n",
        "  with open(source_file, \"rb\") as file:\n",
        "    reader = PdfReader(file)\n",
        "    writer = PdfWriter()\n",
        "\n",
        "    for page_num in range(len(reader.pages)):\n",
        "      if page_num + 1 not in pages_nums_to_delete:\n",
        "        page_to_stay = reader.pages[page_num]\n",
        "        writer.add_page(page_to_stay)\n",
        "\n",
        "  with open(destination_file, \"wb\") as new_file:\n",
        "    writer.write(new_file)\n",
        "\n",
        "  with open(destination_file, \"rb\") as new_file:\n",
        "    print(f\"liczba stron nowego pliku: {len(PdfReader(new_file).pages)}\")"
      ],
      "metadata": {
        "id": "mTiNoP74KLcB"
      },
      "execution_count": 61,
      "outputs": []
    },
    {
      "cell_type": "code",
      "source": [
        "# @title PDF MainAPP { vertical-output: true, form-width: \"500px\", display-mode: \"both\" }\n",
        "\n",
        "def pdf_operations():\n",
        "\n",
        "  filename = os.path.join(os.getcwd(), \"pypdf2\", \"oferta_handlowa_wzor.pdf\")\n",
        "\n",
        "  if check_if_file_exists(filename):\n",
        "    pdf_operations()\n",
        "  else:\n",
        "    upload_files(\"pypdf2\")\n",
        "    pdf_operations()\n",
        "\n",
        "  # usuwanie stron\n",
        "  page_to_delete = [2,3,4,5,6,7,8,9,10,11,12,13,14,15,16]\n",
        "  page_deleting(filename, page_to_delete)\n",
        "\n",
        "  reader = PdfReader(filename)\n",
        "  writer = PdfWriter()\n",
        "\n",
        "  check_if_encrypted(filename)\n",
        "\n",
        "  # annots reading\n",
        "  annots_reading(reader)\n",
        "\n",
        "  # czytanie metadanych\n",
        "  meta = reader.metadata\n",
        "  meta\n",
        "\n",
        "  # iterate over files in directory\n",
        "  # iterate_over_files_in_directory(path_to_working_directory)\n",
        "\n",
        "  # Reading form fields\n",
        "  reading_form_fields(reader)\n",
        "\n",
        "  # extract text\n",
        "  text = extract_text(reader)\n",
        "  print(text)\n",
        "\n",
        "  # add metadata\n",
        "  # add_metadata(filename)"
      ],
      "metadata": {
        "id": "rettydBbKPBy"
      },
      "execution_count": 62,
      "outputs": []
    },
    {
      "cell_type": "markdown",
      "source": [
        "# `Brudnopis`"
      ],
      "metadata": {
        "id": "moObirtZmaGM"
      }
    },
    {
      "cell_type": "code",
      "source": [
        "# @title Ćwiczenia z Word i python-docs { run: \"auto\", vertical-output: true, form-width: \"400px\", display-mode: \"both\" }\n",
        "\n",
        "def praca_z_brudnopisem():\n",
        "  generator_nazwy_pliku = GeneratorNazwPlikow()\n",
        "  nazwa_pliku_wynikowego = generator_nazwy_pliku.generuj_nazwe_pliku(\"dokument\", \"docx\")\n",
        "  print(\"nazwa_pliku_wynikowego: \", nazwa_pliku_wynikowego)\n",
        "\n",
        "  return nazwa_pliku_wynikowego\n",
        "\n",
        "  # if sprawdz_czy_dany_plik_istnieje(os.path.join(\"/content/\", nazwa_pliku_wynikowego)):\n",
        "  # utworz_nowy_plik(nazwa_pliku_wynikowego)\n",
        "\n",
        "# nazwa_pliku_wynikowego = praca_z_brudnopisem()\n"
      ],
      "metadata": {
        "id": "e21vnWZNmgDm"
      },
      "execution_count": 63,
      "outputs": []
    },
    {
      "cell_type": "code",
      "source": [
        "# @title cwiczenia { vertical-output: true, form-width: \"500px\", display-mode: \"both\" }\n",
        "# sciezka_do_pliku_word_do_wyczyszczenia = os.path.join(\"/content/\", nazwa_pliku_wynikowego)\n",
        "# print(sciezka_do_pliku_word_do_wyczyszczenia)\n",
        "# sciezka_do_pliku_word_do_wyczyszczenia = nazwa_pliku_wynikowego\n",
        "# wyczysc_zawartosc_pliku(sciezka_do_pliku_word_do_wyczyszczenia)\n",
        "# moj_dokument = Document(f\"/content/{sciezka_do_pliku_word_do_wyczyszczenia}\") # błąd\n",
        "# paragraph = moj_dokument.add_paragraph('Lorem ipsum dolor sit amet.')\n",
        "# moj_dokument.save(nazwa_pliku_wynikowego)\n",
        "# files.download(nazwa_pliku_wynikowego)\n",
        "\n",
        "# slownik = {\"imie\": \"nazwisko\"}\n",
        "lista_ludzi = []\n",
        "\n",
        "imie_nazwisko_1 = {\"imie\": [\"Arkadiusz\", \"Łyjak\", 34]}\n",
        "imie_nazwisko_2 = {\"imie\": \"Mariusz\", \"nazwisko\": \"Bigosiński\"}\n",
        "imie_nazwisko_3 = {\"imie\": \"Adrian\", \"nazwisko\": \"Kutasiński\"}\n",
        "\n",
        "lista_ludzi.append(imie_nazwisko_1)\n",
        "lista_ludzi.append(imie_nazwisko_2)\n",
        "lista_ludzi.append(imie_nazwisko_3)\n",
        "\n",
        "lista_ludzi[0]['miasto'] = \"Zwoleń\"\n",
        "\n",
        "# for rekord in lista_ludzi:\n",
        "#   print(rekord.keys())\n",
        "#   print(rekord.values())\n",
        "#   print()\n",
        "\n",
        "# dict_1 = {'pod_pod_kluczy': 'wartosc1'}\n",
        "# dict_2 = {'pod_klucz':dict_1}\n",
        "# slownik_zagniezdzony = {'klucz1':dict_2}\n",
        "slownik_zagniezdzony = {'klucz1':{'pod_klucz':{'pod_pod_kluczy': 'wartosc1'}}}\n",
        "print(slownik_zagniezdzony)\n",
        "\n",
        "# for key, value in rekord.items():\n",
        "  # print(rekord[key])\n",
        "\n"
      ],
      "metadata": {
        "id": "dLKN09FFMHGF",
        "colab": {
          "base_uri": "https://localhost:8080/"
        },
        "outputId": "6191a76d-932a-482a-8fa5-868f30666c8c"
      },
      "execution_count": 64,
      "outputs": [
        {
          "output_type": "stream",
          "name": "stdout",
          "text": [
            "{'klucz1': {'pod_klucz': {'pod_pod_kluczy': 'wartosc1'}}}\n"
          ]
        }
      ]
    }
  ]
}