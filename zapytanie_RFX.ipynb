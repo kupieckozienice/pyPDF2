{
  "nbformat": 4,
  "nbformat_minor": 0,
  "metadata": {
    "colab": {
      "provenance": [],
      "toc_visible": true,
      "include_colab_link": true
    },
    "kernelspec": {
      "name": "python3",
      "display_name": "Python 3"
    },
    "language_info": {
      "name": "python"
    }
  },
  "cells": [
    {
      "cell_type": "markdown",
      "metadata": {
        "id": "view-in-github",
        "colab_type": "text"
      },
      "source": [
        "<a href=\"https://colab.research.google.com/github/kupieckozienice/pyPDF2/blob/main/zapytanie_RFX.ipynb\" target=\"_parent\"><img src=\"https://colab.research.google.com/assets/colab-badge.svg\" alt=\"Open In Colab\"/></a>"
      ]
    },
    {
      "cell_type": "markdown",
      "source": [
        "# `klonowanie repozytorium`"
      ],
      "metadata": {
        "id": "rjx3N18uNlXN"
      }
    },
    {
      "cell_type": "code",
      "source": [
        "# @title Clone the entire repo { vertical-output: true }\n",
        "repo_link = \"https://github.com/kupieckozienice/pyPDF2\" # @param {type:\"string\"}\n",
        "\n",
        "# https://github.com/kupieckozienice/pyPDF2\n",
        "\n",
        "# !git clone -l -s repo_link cloned-repo\n",
        "# %cd cloned-repo\n",
        "# !ls"
      ],
      "metadata": {
        "id": "MrQetC9ddQdI"
      },
      "execution_count": null,
      "outputs": []
    },
    {
      "cell_type": "markdown",
      "source": [
        "# `instalowanie bibliotek`"
      ],
      "metadata": {
        "id": "ZdGgafE6Gzpq"
      }
    },
    {
      "cell_type": "code",
      "source": [
        "# @title install python-docx { form-width: \"750px\", display-mode: \"both\" }\n",
        "%pip install python-docx"
      ],
      "metadata": {
        "id": "PO0M9LH0gVDY",
        "outputId": "9916bcf7-1818-48df-da6c-2d2d5dac39a8",
        "colab": {
          "base_uri": "https://localhost:8080/"
        }
      },
      "execution_count": 7,
      "outputs": [
        {
          "output_type": "stream",
          "name": "stdout",
          "text": [
            "Requirement already satisfied: python-docx in /usr/local/lib/python3.10/dist-packages (1.1.0)\n",
            "Requirement already satisfied: lxml>=3.1.0 in /usr/local/lib/python3.10/dist-packages (from python-docx) (4.9.4)\n",
            "Requirement already satisfied: typing-extensions in /usr/local/lib/python3.10/dist-packages (from python-docx) (4.5.0)\n"
          ]
        }
      ]
    },
    {
      "cell_type": "code",
      "source": [
        "# @title install PyPDF2 { form-width: \"600px\", display-mode: \"both\" }\n",
        "%pip install PyPDF2"
      ],
      "metadata": {
        "id": "a8lERaDC0s-u",
        "outputId": "63f96859-9dc2-42d5-b3a7-cd72f94ae5db",
        "colab": {
          "base_uri": "https://localhost:8080/"
        }
      },
      "execution_count": 2,
      "outputs": [
        {
          "output_type": "stream",
          "name": "stdout",
          "text": [
            "Collecting PyPDF2\n",
            "  Downloading pypdf2-3.0.1-py3-none-any.whl (232 kB)\n",
            "\u001b[2K     \u001b[90m━━━━━━━━━━━━━━━━━━━━━━━━━━━━━━━━━━━━━━━━\u001b[0m \u001b[32m232.6/232.6 kB\u001b[0m \u001b[31m2.6 MB/s\u001b[0m eta \u001b[36m0:00:00\u001b[0m\n",
            "\u001b[?25hInstalling collected packages: PyPDF2\n",
            "Successfully installed PyPDF2-3.0.1\n"
          ]
        }
      ]
    },
    {
      "cell_type": "code",
      "source": [
        "# @title install pdfminer.six { form-width: \"600px\", display-mode: \"both\" }\n",
        "ęę%pip install pdfminer.six"
      ],
      "metadata": {
        "colab": {
          "base_uri": "https://localhost:8080/"
        },
        "id": "Ip0ocTxo2sPI",
        "outputId": "5c5ccfea-3d7f-43fb-9b28-efb0ad215273"
      },
      "execution_count": 3,
      "outputs": [
        {
          "output_type": "stream",
          "name": "stdout",
          "text": [
            "Collecting pdfminer.six\n",
            "  Downloading pdfminer.six-20231228-py3-none-any.whl (5.6 MB)\n",
            "\u001b[2K     \u001b[90m━━━━━━━━━━━━━━━━━━━━━━━━━━━━━━━━━━━━━━━━\u001b[0m \u001b[32m5.6/5.6 MB\u001b[0m \u001b[31m13.4 MB/s\u001b[0m eta \u001b[36m0:00:00\u001b[0m\n",
            "\u001b[?25hRequirement already satisfied: charset-normalizer>=2.0.0 in /usr/local/lib/python3.10/dist-packages (from pdfminer.six) (3.3.2)\n",
            "Requirement already satisfied: cryptography>=36.0.0 in /usr/local/lib/python3.10/dist-packages (from pdfminer.six) (41.0.7)\n",
            "Requirement already satisfied: cffi>=1.12 in /usr/local/lib/python3.10/dist-packages (from cryptography>=36.0.0->pdfminer.six) (1.16.0)\n",
            "Requirement already satisfied: pycparser in /usr/local/lib/python3.10/dist-packages (from cffi>=1.12->cryptography>=36.0.0->pdfminer.six) (2.21)\n",
            "Installing collected packages: pdfminer.six\n",
            "Successfully installed pdfminer.six-20231228\n"
          ]
        }
      ]
    },
    {
      "cell_type": "code",
      "source": [
        "# @title install openpyxl { form-width: \"600px\", display-mode: \"both\" }\n",
        "%pip install openpyxl"
      ],
      "metadata": {
        "id": "dY2jkySJFpti",
        "outputId": "522dbc85-bafc-454c-9489-8a522e702059",
        "colab": {
          "base_uri": "https://localhost:8080/"
        }
      },
      "execution_count": 4,
      "outputs": [
        {
          "output_type": "stream",
          "name": "stdout",
          "text": [
            "Requirement already satisfied: openpyxl in /usr/local/lib/python3.10/dist-packages (3.1.2)\n",
            "Requirement already satisfied: et-xmlfile in /usr/local/lib/python3.10/dist-packages (from openpyxl) (1.1.0)\n"
          ]
        }
      ]
    },
    {
      "cell_type": "markdown",
      "source": [
        "# `import dependencies`"
      ],
      "metadata": {
        "id": "h892SdotOs3i"
      }
    },
    {
      "cell_type": "code",
      "source": [
        "# @title import dependencies {{ vertical-output: true, form-width: \"500px\", display-mode: \"both\" }\n",
        "# @markdown instalowanie zależności:\n",
        "# @markdown  `os`,\n",
        "# @markdown  `pathlib`, `typing`\n",
        "\n",
        "import os\n",
        "import pathlib as pth\n",
        "from typing import Union, Literal, List\n",
        "from PyPDF2 import PdfReader, PdfWriter\n",
        "from datetime import datetime  # Import the datetime module\n",
        "from pdfminer.high_level import extract_text as fallback_text_extraction\n",
        "from google.colab import files\n",
        "from docx import Document\n",
        "from docx.shared import Inches, Pt\n",
        "from docx.enum.text import WD_ALIGN_PARAGRAPH\n",
        "from openpyxl import Workbook\n",
        "from openpyxl.worksheet.table import Table, TableStyleInfo\n",
        "from dateutil import tz\n",
        "import openpyxl\n",
        "from openpyxl.reader.excel import load_workbook\n",
        "import pandas as pd\n",
        "from openpyxl.styles import Alignment, Font"
      ],
      "metadata": {
        "id": "oC_2Bdqlp849"
      },
      "execution_count": 8,
      "outputs": []
    },
    {
      "cell_type": "markdown",
      "source": [
        "# `operacje systemowe`"
      ],
      "metadata": {
        "id": "APoQdXDuHA83"
      }
    },
    {
      "cell_type": "code",
      "source": [
        "# @title rozdziel nazwe pliku od rozszerzenia { vertical-output: true, form-width: \"500px\", display-mode: \"both\" }\n",
        "filename = \"\" # @param {type:\"string\"}\n",
        "\n",
        "def split_filename_and_extension(filename):\n",
        "  nazwa_pliku, rozszerzenie_pliku = os.path.splitext(filename)\n",
        "\n",
        "  return {'name_key': nazwa_pliku, 'ext_key': rozszerzenie_pliku}"
      ],
      "metadata": {
        "id": "RJeoYBCbKdBm"
      },
      "execution_count": null,
      "outputs": []
    },
    {
      "cell_type": "code",
      "source": [
        "# @title zmień katalog domyślny na /content { vertical-output: true, form-width: \"500px\", display-mode: \"both\" }\n",
        "new_directory_name = \"/content\" # @param {type:\"string\"}\n",
        "os.chdir(new_directory_name)\n",
        "print(os.getcwd())"
      ],
      "metadata": {
        "id": "oRlzm6ULfoak",
        "colab": {
          "base_uri": "https://localhost:8080/"
        },
        "outputId": "84702802-1e10-48cd-f1af-896e8db1f572"
      },
      "execution_count": null,
      "outputs": [
        {
          "output_type": "stream",
          "name": "stdout",
          "text": [
            "/content\n"
          ]
        }
      ]
    },
    {
      "cell_type": "code",
      "source": [
        "# @title konwertuje format daty { vertical-output: true, form-width: \"500px\", display-mode: \"both\" }\n",
        "pd = \"\" # @param {type:\"string\"}\n",
        "\n",
        "from datetime import datetime\n",
        "\n",
        "def convertPdfDatetime(pd):\n",
        "    dtformat = \"%Y%m%d%H%M%S\"\n",
        "    clean = pd.replace(\"D:\",\"\").split('+')[0]\n",
        "    return datetime.strptime(clean,dtformat)"
      ],
      "metadata": {
        "id": "V1NCC5KMp3HF"
      },
      "execution_count": null,
      "outputs": []
    },
    {
      "cell_type": "code",
      "source": [
        "# @title iteruj pliki w podanym katalogu { vertical-output: true, form-width: \"500px\", display-mode: \"both\" }\n",
        "\n",
        "directory_path = \"\" # @param {type:\"string\"}\n",
        "\n",
        "def iterate_over_files_in_directory(path_to_directory):\n",
        "\n",
        "  numerate = 1\n",
        "\n",
        "  for filename in os.listdir(path_to_directory):\n",
        "    f = os.path.join(path_to_directory, filename)\n",
        "    if os.path.isfile(f):\n",
        "      print(f\"{numerate}. {f}\")\n",
        "      numerate = numerate + 1"
      ],
      "metadata": {
        "id": "Io-gJ1Nw6Nox"
      },
      "execution_count": null,
      "outputs": []
    },
    {
      "cell_type": "code",
      "source": [
        "# @title sprawdzenie czy istnieje katalog roboczy, w którym chcemy pracować { vertical-output: true, form-width: \"500px\", display-mode: \"both\" }\n",
        "directory_path = \"\" # @param {type:\"string\"}\n",
        "\n",
        "def check_if_directory_and_path_exists(directory_name):\n",
        "  # Ścieżka do katalogu bieżącego\n",
        "  cwd = os.getcwd()\n",
        "  print(f\"katalog \\\"bieżący\\\": {cwd}\")\n",
        "\n",
        "  working_directory_for_creating = os.path.join(cwd, directory_name)\n",
        "  print(f\"katalog roboczy do utworzenia (jeśli nie istnieje): {working_directory_for_creating}\")\n",
        "\n",
        "  try:\n",
        "    if not os.path.exists(working_directory_for_creating):\n",
        "      print(f\"katalog: {working_directory_for_creating} nie istnieje i zostanie utworzony\")\n",
        "      os.makedirs(working_directory_for_creating)\n",
        "    else:\n",
        "      print(f\"katalog: {working_directory_for_creating} już istnieje!\")\n",
        "  except FileExistsError:\n",
        "    print(f\"katalog o nazwie {working_directory_for_creating} już istnieje!\")\n",
        "  except Exception as e:\n",
        "    print(f\"wystąpił błąd podczas tworzenie katalogu: {working_directory_for_creating}\")"
      ],
      "metadata": {
        "id": "xpHkhACx7wIH"
      },
      "execution_count": null,
      "outputs": []
    },
    {
      "cell_type": "code",
      "execution_count": null,
      "metadata": {
        "id": "ZtqhtE1QnKas"
      },
      "outputs": [],
      "source": [
        "# @title importuj pliki do wskazanego katalogu { vertical-output: true, form-width: \"500px\", display-mode: \"both\" }\n",
        "destination_directory_path = \"\" # @param {type:\"string\"}\n",
        "\n",
        "def import_files(destination_directory):\n",
        "  uploaded = files.upload()\n",
        "  print(uploaded.keys())\n",
        "\n",
        "  for fn in uploaded.keys():\n",
        "    print('User uploaded file \"{name}\" with length {length} bytes'.format(\n",
        "        name=fn, length=len(uploaded[fn])))\n",
        "\n",
        "  for filename, file_content in uploaded.items():\n",
        "    if os.path.exists(destination_directory) and os.path.isdir(destination_directory):\n",
        "      with open(os.path.join(destination_directory, filename), \"wb\") as f:\n",
        "        f.write(file_content)\n",
        "\n",
        "      # remove files from /content\n",
        "      file_to_remove_after_copying_to_working_directory = os.path.join(os.getcwd(), filename)\n",
        "      if os.path.isfile(file_to_remove_after_copying_to_working_directory):\n",
        "        os.remove(file_to_remove_after_copying_to_working_directory)\n",
        "        if not os.path.exists(file_to_remove_after_copying_to_working_directory):\n",
        "          print(f\"plik: {os.path.basename(file_to_remove_after_copying_to_working_directory)} \"\n",
        "          f\"usunięty z katalogu {os.path.dirname(file_to_remove_after_copying_to_working_directory)}\")\n",
        "        else:\n",
        "          print(f\"plik: {os.path.basename(file_to_remove_after_copying_to_working_directory)} \"\n",
        "          f\"NIE usunięty z katalogu {os.path.dirname(file_to_remove_after_copying_to_working_directory)}\")"
      ]
    },
    {
      "cell_type": "code",
      "source": [
        "# @title check if file exists { vertical-output: true, form-width: \"500px\", display-mode: \"both\" }\n",
        "path_to_file = \"\" # @param {type:\"string\"}\n",
        "# @markdown sprawdza czy plik o podanej ścieżce istnieje\n",
        "\n",
        "def check_if_file_exists(path_to_file):\n",
        "  try:\n",
        "    with open(path_to_file, 'r') as file:\n",
        "      print(f\"Plik {path_to_file} istnieje i ma się całkiem nieźle ;-)\")\n",
        "      return True\n",
        "  except FileNotFoundError:\n",
        "    print('Sorry the file we\\'re looking for doesn\\' exist')\n",
        "    return False\n",
        "  except Exception as e:\n",
        "    print(f\"Wystąpił błąd: {e}\")\n",
        "    return False"
      ],
      "metadata": {
        "id": "NwyYKWSoW4Uo"
      },
      "execution_count": null,
      "outputs": []
    },
    {
      "cell_type": "code",
      "source": [
        "# @title upload files { vertical-output: true, form-width: \"500px\", display-mode: \"both\" }\n",
        "folder_domyslny = \"\" # @param {type:\"string\"}\n",
        "\n",
        "def upload_files(folder_domyslny = \"uploaded\"):\n",
        "  check_if_directory_and_path_exists(folder_domyslny)\n",
        "  import_files(folder_domyslny)"
      ],
      "metadata": {
        "id": "JIelgrZw6Q6F"
      },
      "execution_count": null,
      "outputs": []
    },
    {
      "cell_type": "code",
      "source": [
        "# @title rozdziel nazwe pliku od rozszerzenia { vertical-output: true, form-width: \"500px\", display-mode: \"both\" }\n",
        "filename = \"\" # @param {type:\"string\"}\n",
        "\n",
        "def split_filename_and_extension(filename):\n",
        "  nazwa_pliku, rozszerzenie_pliku = os.path.splitext(filename)\n",
        "\n",
        "  return {'name_key': nazwa_pliku, 'ext_key': rozszerzenie_pliku}"
      ],
      "metadata": {
        "id": "23c8w_EjGIkB"
      },
      "execution_count": null,
      "outputs": []
    },
    {
      "cell_type": "code",
      "source": [
        "# @title aktualna data i godzina { vertical-output: true, form-width: \"500px\", display-mode: \"both\" }\n",
        "\n",
        "def actual_datetime():\n",
        "  teraz = datetime.now(tz=tz.gettz('Europe/Warsaw'))\n",
        "  formatted_date = teraz.strftime(\"%d_%m_%Y\")\n",
        "  formatted_time = teraz.strftime(\"%H_%M_%S\")\n",
        "\n",
        "  # print(formatted_date)\n",
        "  # print(formatted_time)\n",
        "\n",
        "  return {'data': formatted_date, 'czas': formatted_time}\n"
      ],
      "metadata": {
        "id": "Bw8RT8BLFCTn"
      },
      "execution_count": null,
      "outputs": []
    },
    {
      "cell_type": "code",
      "source": [
        "# @title iteruje przez podany katalog i wyświetle nazwy plików { vertical-output: true, form-width: \"500px\", display-mode: \"both\" }\n",
        "path_to_directory = \"\" # @param {type:\"string\"}\n",
        "\n",
        "def iterate_over_files_in_directory(path_to_directory):\n",
        "\n",
        "  numerate = 1\n",
        "\n",
        "  for filename in os.listdir(path_to_directory):\n",
        "    f = os.path.join(path_to_directory, filename)\n",
        "    if os.path.isfile(f):\n",
        "      print(f\"{numerate}. {f}\")\n",
        "      numerate = numerate + 1"
      ],
      "metadata": {
        "id": "fpixjq3eJ-T1"
      },
      "execution_count": null,
      "outputs": []
    },
    {
      "cell_type": "markdown",
      "source": [
        "# `word`"
      ],
      "metadata": {
        "id": "4lYVGb71Yua9"
      }
    },
    {
      "cell_type": "code",
      "source": [
        "# @title wczytaj paragrafy z pliku docs - analiza zawartości { form-width: \"500px\", display-mode: \"both\" }\n",
        "sciezka_do_pliku_word = \"/content/zz/Za\\u0142\\u0105cznik do Zapytania Ofertowego Formularz oferta.docx\" # @param {type:\"string\"}\n",
        "from docx import Document\n",
        "\n",
        "def wczytaj_paragrafy_z_pliku_word(sciezka_do_pliku_word):\n",
        "    doc = Document(sciezka_do_pliku_word)\n",
        "\n",
        "    for index, paragraf in enumerate(doc.paragraphs):\n",
        "      print(f\"\\n\\n--> Paragraf nr {index} \\n\", paragraf.text)\n",
        "\n",
        "# testy\n",
        "wczytaj_paragrafy_z_pliku_word(\"/content/zz/Załącznik do Zapytania Ofertowego Formularz oferta.docx\")\n"
      ],
      "metadata": {
        "id": "Yl-3b22HSjSn"
      },
      "execution_count": null,
      "outputs": []
    },
    {
      "cell_type": "code",
      "source": [
        "# @title klasa - encja punktów { vertical-output: true, form-width: \"600px\", display-mode: \"both\" }\n",
        "string_level_1 = \"\" # @param {type:\"string\"}\n",
        "string_level_2 = \"\" # @param {type:\"string\"}\n",
        "variable_name = \"\"\n",
        "\n",
        "class Punkt:\n",
        "  levels_number = None\n",
        "\n",
        "  def __init__(self, point_dict):\n",
        "    self._levels_number = len(point_dict)\n",
        "    self._dict_with_data = point_dict\n",
        "\n",
        "  @property\n",
        "  def get_levels_number(self):\n",
        "    return self._levels_number\n",
        "\n",
        "  @property\n",
        "  def get_dict_with_data(self):\n",
        "    return self._dict_with_data\n",
        "\n",
        "# sprawdz\n",
        "level_1 = [\"CENA OFERTOWA (CENA ZA WYKONANIE PRZEDMIOTU ZAMÓWIENIA):\",\n",
        "           \"W ofercie Wykonawca poda Cenę ofertową w PLN w następującym układzie:\"]\n",
        "level_2 = [\"Cena ofertowa netto\\t\\t(wartościowo),\",\n",
        "           \"Podatek VAT\\t\\t\\t(wartościowo),\",\n",
        "           \"Cena ofertowa brutto\\t\\t(wartościowo i słownie).\"]\n",
        "levels = {\"1\": level_1,\n",
        "          \"2\": level_2}\n",
        "\n",
        "# wyświetlenie parametrów punktu\n",
        "punkt_1 = Punkt(levels)\n",
        "# print(\"Liczba poziomów: \", punkt_1.get_levels_number)\n",
        "\n",
        "for key, value in punkt_1.get_dict_with_data.items():\n",
        "  print(f\"poziom: {key}\")\n",
        "  for vals in value:\n",
        "    print(vals)\n",
        "\n",
        "doc = Document()\n",
        "\n",
        "if isinstance(levels, dict):\n",
        "  for key, value in levels.items():\n",
        "    if key == \"1\":\n",
        "      paragraf = doc.add_paragraph(value, style = 'ListNumber')\n",
        "    elif key == \"2\":\n",
        "      for list_item in value:\n",
        "        sub_paragraf = doc.add_paragraph(list_item, style = 'ListBullet')\n",
        "\n",
        "doc.add_page_break()\n",
        "\n",
        "doc.save(\"sample_word_levels.docx\")\n",
        "files.download(\"sample_word_levels.docx\")"
      ],
      "metadata": {
        "colab": {
          "base_uri": "https://localhost:8080/",
          "height": 159
        },
        "id": "QEWMIcCBSWEc",
        "outputId": "8f555fc1-d7ce-410e-c0cd-10ff56d6647b"
      },
      "execution_count": null,
      "outputs": [
        {
          "output_type": "stream",
          "name": "stdout",
          "text": [
            "poziom: 1\n",
            "CENA OFERTOWA (CENA ZA WYKONANIE PRZEDMIOTU ZAMÓWIENIA):\n",
            "W ofercie Wykonawca poda Cenę ofertową w PLN w następującym układzie:\n",
            "poziom: 2\n",
            "Cena ofertowa netto\t\t(wartościowo),\n",
            "Podatek VAT\t\t\t(wartościowo),\n",
            "Cena ofertowa brutto\t\t(wartościowo i słownie).\n"
          ]
        },
        {
          "output_type": "display_data",
          "data": {
            "text/plain": [
              "<IPython.core.display.Javascript object>"
            ],
            "application/javascript": [
              "\n",
              "    async function download(id, filename, size) {\n",
              "      if (!google.colab.kernel.accessAllowed) {\n",
              "        return;\n",
              "      }\n",
              "      const div = document.createElement('div');\n",
              "      const label = document.createElement('label');\n",
              "      label.textContent = `Downloading \"${filename}\": `;\n",
              "      div.appendChild(label);\n",
              "      const progress = document.createElement('progress');\n",
              "      progress.max = size;\n",
              "      div.appendChild(progress);\n",
              "      document.body.appendChild(div);\n",
              "\n",
              "      const buffers = [];\n",
              "      let downloaded = 0;\n",
              "\n",
              "      const channel = await google.colab.kernel.comms.open(id);\n",
              "      // Send a message to notify the kernel that we're ready.\n",
              "      channel.send({})\n",
              "\n",
              "      for await (const message of channel.messages) {\n",
              "        // Send a message to notify the kernel that we're ready.\n",
              "        channel.send({})\n",
              "        if (message.buffers) {\n",
              "          for (const buffer of message.buffers) {\n",
              "            buffers.push(buffer);\n",
              "            downloaded += buffer.byteLength;\n",
              "            progress.value = downloaded;\n",
              "          }\n",
              "        }\n",
              "      }\n",
              "      const blob = new Blob(buffers, {type: 'application/binary'});\n",
              "      const a = document.createElement('a');\n",
              "      a.href = window.URL.createObjectURL(blob);\n",
              "      a.download = filename;\n",
              "      div.appendChild(a);\n",
              "      a.click();\n",
              "      div.remove();\n",
              "    }\n",
              "  "
            ]
          },
          "metadata": {}
        },
        {
          "output_type": "display_data",
          "data": {
            "text/plain": [
              "<IPython.core.display.Javascript object>"
            ],
            "application/javascript": [
              "download(\"download_6e5b112c-d3a1-42d0-8978-0f06edb0e0cc\", \"sample_word_levels.docx\", 36818)"
            ]
          },
          "metadata": {}
        }
      ]
    },
    {
      "cell_type": "code",
      "source": [
        "# @title praca z plikiem word { vertical-output: true, form-width: \"600px\", display-mode: \"both\" }\n",
        "\n",
        "def praca_z_plikiem_word():\n",
        "\n",
        "  doc = Document()\n",
        "\n",
        "  # modyfikacja stylu Normal\n",
        "  normal_style = doc.styles['Normal']\n",
        "  normal_style.font.name = 'Tahoma'\n",
        "  normal_style.font.size = Pt(9)\n",
        "  normal_style.paragraph_format.alignment = WD_ALIGN_PARAGRAPH.LEFT\n",
        "\n",
        "  # styl nagłówka GŁÓWNEGO\n",
        "  style = doc.styles.add_style('nagłówek_główny_styl', 1)\n",
        "  style.font.name = 'Tahoma'\n",
        "  style.font.size = Pt(9)\n",
        "  style.paragraph_format.alignment = WD_ALIGN_PARAGRAPH.CENTER\n",
        "\n",
        "  # zmiana marginesu storny\n",
        "  sekcja = doc.sections[0]\n",
        "  sekcja.left_margin = Inches(1)\n",
        "  sekcja.right_margin = Inches(1)\n",
        "  szerokosc_strony = sekcja.page_width - sekcja.left_margin - sekcja.right_margin\n",
        "\n",
        "  # dodanie logo firmy\n",
        "  logo_sciezka = '/content/uploaded/nagłowek_enea.PNG'\n",
        "\n",
        "  if not check_if_file_exists(logo_sciezka):\n",
        "    upload_files(os.path.dirname(logo_sciezka))\n",
        "    logo_added = doc.add_picture(logo_sciezka)\n",
        "    wciecie_logo = szerokosc_strony - logo_added.width / 2\n",
        "  else:\n",
        "    logo_added = doc.add_picture(logo_sciezka)\n",
        "    wciecie_logo = szerokosc_strony - logo_added.width / 2\n",
        "\n",
        "  # dane wejściowe\n",
        "  nazwa_sprawy = \"KZP.ŁA.2110.23.2024 Dostawa łożysk\"\n",
        "  data_dokumentu = datetime.now().strftime('%d.%m.%Y')\n",
        "  # data_dokumentu = datetime.now().strftime('%d.%m.%Y %H:%M:%S')\n",
        "\n",
        "  # dodanie znaku sprawy i daty\n",
        "  p = doc.add_paragraph(f'Nasz znak: ')\n",
        "  run_znak_sprawy = p.add_run(f'{nazwa_sprawy}')\n",
        "  run_znak_sprawy.bold = True\n",
        "  p.style = 'Normal'\n",
        "\n",
        "  # dodanie daty dokumentu\n",
        "  data = doc.add_paragraph(f\"Świerże Górne, dn. \")\n",
        "  data_run = data.add_run(f'{data_dokumentu}r.')\n",
        "  data_run.bold = True\n",
        "  data.alignment = WD_ALIGN_PARAGRAPH.RIGHT\n",
        "\n",
        "  # dodanie nagłówka\n",
        "  nagłówek_text = doc.add_heading('ZAPYTANIE OFERTOWE (RFX)', 0)\n",
        "  nagłówek_text.style = 'nagłówek_główny_styl'\n",
        "\n",
        "  pkt_1 = \"WPROWADZENIE:\\nNiniejsze Zapytanie jest podstawą do złożenia ofert.\"\n",
        "  pkt_2 = \"TRYB UDZIELENIA ZAMÓWIENIA:\\nPostępowanie w trybie Zapytania Ofertowego (RFX) prowadzone jest w oparciu o wewnętrzny Regulamin Udzielania Zamówień i Zawierania Umów (RUZiZU) Zamawiającego, dla którego nie mają zastosowania przepisy ustawy z dnia 11.09.2019 r. Prawo zamówień publicznych.\"\n",
        "  podpunkt_3_1 = f\"Wykonanie usługi pn. \\\"{nazwa_sprawy}\\\".\"\n",
        "  podpunkt_3_2 = \"Zakres dostawy wg: Załącznika Nr 1 pn. \\\"Zakres Przedmiotu zamówienia\\\".\"\n",
        "  pkt_3 = {\"PRZEDMIOT ZAMÓWIENIA\": [podpunkt_3_1, podpunkt_3_2]}\n",
        "  pkt_4 = \"OFERTY CZĘŚCIOWE:\\nZamawiający dopuszcza składania ofert częściowych.\"\n",
        "  pkt_5 = \"OFERTY WARIANTOWE:\\nZamawiający nie dopuszcza składania ofert wariantowych.\"\n",
        "  podpunkt_6_1 = \"rozpoczęcie wykonywania Przedmiotu umowy  – od dnia podpisania Zamówienia,\"\n",
        "  podpunkt_6_2 = f\"zakończenie wykonywania Przedmiotu umowy – zgodnie z załącznikiem „1. Załącznik {nazwa_sprawy} — zakres przedmiotu zamówienia”; lub 1 tydzień od daty otrzymania zamówienia, termin ten uważany będzie za dochowany przez Wykonawcę w przypadku, gdy przed jego upływem nastąpi protokolarny, bezusterkowy odbiór końcowy prac będących Przedmiotem umowy,\"\n",
        "  pkt_6 = {\"TERMINY REALIZACJI: \":[podpunkt_6_1, podpunkt_6_2]}\n",
        "  podpunkt_7_1 = \"Realizacja przedmiotu zamówienia polega na:  Dostawie dla Enea Wytwarzanie sp. z o.o. fabrycznie nowych, nieużywanych, nieregenerowanych wyrobów będących przedmiotem niniejszego zapytania ofertowego wykonanych zgodnie z opisem przedmiotu zamówienia.\"\n",
        "  pkt_7 = {\"SZCZEGÓŁOWE WARUNKI TECHNICZNE/TECHNOLOGICZNE REALIZACJI PRZEDMIOTU ZAMÓWIENIA\":[podpunkt_7_1]}\n",
        "\n",
        "  lista_punktów = [pkt_1, pkt_2, pkt_3, pkt_4, pkt_5, pkt_6, pkt_7]\n",
        "\n",
        "  for punkt in lista_punktów:\n",
        "    if isinstance(punkt, dict):\n",
        "      for main_item, sub_items in punkt.items():\n",
        "        paragraf = doc.add_paragraph(main_item, style = 'ListNumber')\n",
        "        for sub_item in sub_items:\n",
        "          sub_paragraf = doc.add_paragraph(sub_item, style = 'ListBullet')\n",
        "          sub_paragraf.paragraph_format.left_indent = 360\n",
        "    else:\n",
        "      paragraf = doc.add_paragraph(punkt, style = 'ListNumber')\n",
        "\n",
        "  doc.add_page_break()\n",
        "\n",
        "  # złożenie nowej nazwy pliku wraz z nazwą sprawy\n",
        "  podzielona_nazwa_pliku_slownik = split_filename_and_extension(\"Zapytanie_ofertowe_RFX.docx\")\n",
        "  nazwa_trzon = podzielona_nazwa_pliku_slownik['name_key']\n",
        "  rozszerzenie = podzielona_nazwa_pliku_slownik['ext_key']\n",
        "\n",
        "  skladowe_nazwy_pliku = [nazwa_trzon, \"_\", nazwa_sprawy, rozszerzenie]\n",
        "  nowa_nazwa_pliku = \"\".join(skladowe_nazwy_pliku)\n",
        "  print(nowa_nazwa_pliku)\n",
        "\n",
        "  doc.save(nowa_nazwa_pliku)\n",
        "  files.download(nowa_nazwa_pliku)"
      ],
      "metadata": {
        "id": "wf66CvM8gDzw"
      },
      "execution_count": null,
      "outputs": []
    },
    {
      "cell_type": "code",
      "source": [
        "# @title main word app { form-width: \"600px\", display-mode: \"both\" }\n",
        "praca_z_plikiem_word()"
      ],
      "metadata": {
        "colab": {
          "base_uri": "https://localhost:8080/",
          "height": 284
        },
        "id": "4xMe8z93R2_W",
        "outputId": "261dfc7d-b3bb-486a-8ada-ae5a05f95f8c"
      },
      "execution_count": null,
      "outputs": [
        {
          "output_type": "stream",
          "name": "stdout",
          "text": [
            "Sorry the file we're looking for doesn' exist\n",
            "katalog \"bieżący\": /content\n",
            "katalog roboczy do utworzenia (jeśli nie istnieje): /content/uploaded\n",
            "katalog: /content/uploaded nie istnieje i zostanie utworzony\n"
          ]
        },
        {
          "output_type": "display_data",
          "data": {
            "text/plain": [
              "<IPython.core.display.HTML object>"
            ],
            "text/html": [
              "\n",
              "     <input type=\"file\" id=\"files-640bd2ef-296d-4940-abfe-b6f18ad6b42d\" name=\"files[]\" multiple disabled\n",
              "        style=\"border:none\" />\n",
              "     <output id=\"result-640bd2ef-296d-4940-abfe-b6f18ad6b42d\">\n",
              "      Upload widget is only available when the cell has been executed in the\n",
              "      current browser session. Please rerun this cell to enable.\n",
              "      </output>\n",
              "      <script>// Copyright 2017 Google LLC\n",
              "//\n",
              "// Licensed under the Apache License, Version 2.0 (the \"License\");\n",
              "// you may not use this file except in compliance with the License.\n",
              "// You may obtain a copy of the License at\n",
              "//\n",
              "//      http://www.apache.org/licenses/LICENSE-2.0\n",
              "//\n",
              "// Unless required by applicable law or agreed to in writing, software\n",
              "// distributed under the License is distributed on an \"AS IS\" BASIS,\n",
              "// WITHOUT WARRANTIES OR CONDITIONS OF ANY KIND, either express or implied.\n",
              "// See the License for the specific language governing permissions and\n",
              "// limitations under the License.\n",
              "\n",
              "/**\n",
              " * @fileoverview Helpers for google.colab Python module.\n",
              " */\n",
              "(function(scope) {\n",
              "function span(text, styleAttributes = {}) {\n",
              "  const element = document.createElement('span');\n",
              "  element.textContent = text;\n",
              "  for (const key of Object.keys(styleAttributes)) {\n",
              "    element.style[key] = styleAttributes[key];\n",
              "  }\n",
              "  return element;\n",
              "}\n",
              "\n",
              "// Max number of bytes which will be uploaded at a time.\n",
              "const MAX_PAYLOAD_SIZE = 100 * 1024;\n",
              "\n",
              "function _uploadFiles(inputId, outputId) {\n",
              "  const steps = uploadFilesStep(inputId, outputId);\n",
              "  const outputElement = document.getElementById(outputId);\n",
              "  // Cache steps on the outputElement to make it available for the next call\n",
              "  // to uploadFilesContinue from Python.\n",
              "  outputElement.steps = steps;\n",
              "\n",
              "  return _uploadFilesContinue(outputId);\n",
              "}\n",
              "\n",
              "// This is roughly an async generator (not supported in the browser yet),\n",
              "// where there are multiple asynchronous steps and the Python side is going\n",
              "// to poll for completion of each step.\n",
              "// This uses a Promise to block the python side on completion of each step,\n",
              "// then passes the result of the previous step as the input to the next step.\n",
              "function _uploadFilesContinue(outputId) {\n",
              "  const outputElement = document.getElementById(outputId);\n",
              "  const steps = outputElement.steps;\n",
              "\n",
              "  const next = steps.next(outputElement.lastPromiseValue);\n",
              "  return Promise.resolve(next.value.promise).then((value) => {\n",
              "    // Cache the last promise value to make it available to the next\n",
              "    // step of the generator.\n",
              "    outputElement.lastPromiseValue = value;\n",
              "    return next.value.response;\n",
              "  });\n",
              "}\n",
              "\n",
              "/**\n",
              " * Generator function which is called between each async step of the upload\n",
              " * process.\n",
              " * @param {string} inputId Element ID of the input file picker element.\n",
              " * @param {string} outputId Element ID of the output display.\n",
              " * @return {!Iterable<!Object>} Iterable of next steps.\n",
              " */\n",
              "function* uploadFilesStep(inputId, outputId) {\n",
              "  const inputElement = document.getElementById(inputId);\n",
              "  inputElement.disabled = false;\n",
              "\n",
              "  const outputElement = document.getElementById(outputId);\n",
              "  outputElement.innerHTML = '';\n",
              "\n",
              "  const pickedPromise = new Promise((resolve) => {\n",
              "    inputElement.addEventListener('change', (e) => {\n",
              "      resolve(e.target.files);\n",
              "    });\n",
              "  });\n",
              "\n",
              "  const cancel = document.createElement('button');\n",
              "  inputElement.parentElement.appendChild(cancel);\n",
              "  cancel.textContent = 'Cancel upload';\n",
              "  const cancelPromise = new Promise((resolve) => {\n",
              "    cancel.onclick = () => {\n",
              "      resolve(null);\n",
              "    };\n",
              "  });\n",
              "\n",
              "  // Wait for the user to pick the files.\n",
              "  const files = yield {\n",
              "    promise: Promise.race([pickedPromise, cancelPromise]),\n",
              "    response: {\n",
              "      action: 'starting',\n",
              "    }\n",
              "  };\n",
              "\n",
              "  cancel.remove();\n",
              "\n",
              "  // Disable the input element since further picks are not allowed.\n",
              "  inputElement.disabled = true;\n",
              "\n",
              "  if (!files) {\n",
              "    return {\n",
              "      response: {\n",
              "        action: 'complete',\n",
              "      }\n",
              "    };\n",
              "  }\n",
              "\n",
              "  for (const file of files) {\n",
              "    const li = document.createElement('li');\n",
              "    li.append(span(file.name, {fontWeight: 'bold'}));\n",
              "    li.append(span(\n",
              "        `(${file.type || 'n/a'}) - ${file.size} bytes, ` +\n",
              "        `last modified: ${\n",
              "            file.lastModifiedDate ? file.lastModifiedDate.toLocaleDateString() :\n",
              "                                    'n/a'} - `));\n",
              "    const percent = span('0% done');\n",
              "    li.appendChild(percent);\n",
              "\n",
              "    outputElement.appendChild(li);\n",
              "\n",
              "    const fileDataPromise = new Promise((resolve) => {\n",
              "      const reader = new FileReader();\n",
              "      reader.onload = (e) => {\n",
              "        resolve(e.target.result);\n",
              "      };\n",
              "      reader.readAsArrayBuffer(file);\n",
              "    });\n",
              "    // Wait for the data to be ready.\n",
              "    let fileData = yield {\n",
              "      promise: fileDataPromise,\n",
              "      response: {\n",
              "        action: 'continue',\n",
              "      }\n",
              "    };\n",
              "\n",
              "    // Use a chunked sending to avoid message size limits. See b/62115660.\n",
              "    let position = 0;\n",
              "    do {\n",
              "      const length = Math.min(fileData.byteLength - position, MAX_PAYLOAD_SIZE);\n",
              "      const chunk = new Uint8Array(fileData, position, length);\n",
              "      position += length;\n",
              "\n",
              "      const base64 = btoa(String.fromCharCode.apply(null, chunk));\n",
              "      yield {\n",
              "        response: {\n",
              "          action: 'append',\n",
              "          file: file.name,\n",
              "          data: base64,\n",
              "        },\n",
              "      };\n",
              "\n",
              "      let percentDone = fileData.byteLength === 0 ?\n",
              "          100 :\n",
              "          Math.round((position / fileData.byteLength) * 100);\n",
              "      percent.textContent = `${percentDone}% done`;\n",
              "\n",
              "    } while (position < fileData.byteLength);\n",
              "  }\n",
              "\n",
              "  // All done.\n",
              "  yield {\n",
              "    response: {\n",
              "      action: 'complete',\n",
              "    }\n",
              "  };\n",
              "}\n",
              "\n",
              "scope.google = scope.google || {};\n",
              "scope.google.colab = scope.google.colab || {};\n",
              "scope.google.colab._files = {\n",
              "  _uploadFiles,\n",
              "  _uploadFilesContinue,\n",
              "};\n",
              "})(self);\n",
              "</script> "
            ]
          },
          "metadata": {}
        },
        {
          "output_type": "stream",
          "name": "stdout",
          "text": [
            "Saving nagłowek_enea.PNG to nagłowek_enea.PNG\n",
            "dict_keys(['nagłowek_enea.PNG'])\n",
            "User uploaded file \"nagłowek_enea.PNG\" with length 9749 bytes\n",
            "plik: nagłowek_enea.PNG usunięty z katalogu /content\n",
            "Zapytanie_ofertowe_RFX_KZP.ŁA.2110.23.2024 Dostawa łożysk.docx\n"
          ]
        },
        {
          "output_type": "stream",
          "name": "stderr",
          "text": [
            "/usr/local/lib/python3.10/dist-packages/docx/styles/styles.py:130: UserWarning: style lookup by style_id is deprecated. Use style name as key instead.\n",
            "  return self._get_style_id_from_style(self[style_name], style_type)\n"
          ]
        },
        {
          "output_type": "display_data",
          "data": {
            "text/plain": [
              "<IPython.core.display.Javascript object>"
            ],
            "application/javascript": [
              "\n",
              "    async function download(id, filename, size) {\n",
              "      if (!google.colab.kernel.accessAllowed) {\n",
              "        return;\n",
              "      }\n",
              "      const div = document.createElement('div');\n",
              "      const label = document.createElement('label');\n",
              "      label.textContent = `Downloading \"${filename}\": `;\n",
              "      div.appendChild(label);\n",
              "      const progress = document.createElement('progress');\n",
              "      progress.max = size;\n",
              "      div.appendChild(progress);\n",
              "      document.body.appendChild(div);\n",
              "\n",
              "      const buffers = [];\n",
              "      let downloaded = 0;\n",
              "\n",
              "      const channel = await google.colab.kernel.comms.open(id);\n",
              "      // Send a message to notify the kernel that we're ready.\n",
              "      channel.send({})\n",
              "\n",
              "      for await (const message of channel.messages) {\n",
              "        // Send a message to notify the kernel that we're ready.\n",
              "        channel.send({})\n",
              "        if (message.buffers) {\n",
              "          for (const buffer of message.buffers) {\n",
              "            buffers.push(buffer);\n",
              "            downloaded += buffer.byteLength;\n",
              "            progress.value = downloaded;\n",
              "          }\n",
              "        }\n",
              "      }\n",
              "      const blob = new Blob(buffers, {type: 'application/binary'});\n",
              "      const a = document.createElement('a');\n",
              "      a.href = window.URL.createObjectURL(blob);\n",
              "      a.download = filename;\n",
              "      div.appendChild(a);\n",
              "      a.click();\n",
              "      div.remove();\n",
              "    }\n",
              "  "
            ]
          },
          "metadata": {}
        },
        {
          "output_type": "display_data",
          "data": {
            "text/plain": [
              "<IPython.core.display.Javascript object>"
            ],
            "application/javascript": [
              "download(\"download_38b103db-dbc5-4138-85b5-4379f5b0f47e\", \"Zapytanie_ofertowe_RFX_KZP.\\u0141A.2110.23.2024 Dostawa \\u0142o\\u017cysk.docx\", 47179)"
            ]
          },
          "metadata": {}
        }
      ]
    },
    {
      "cell_type": "markdown",
      "source": [
        "# `Excel`"
      ],
      "metadata": {
        "id": "uiwMpbF5Gbhy"
      }
    },
    {
      "cell_type": "code",
      "source": [
        "# @title kod w języku Python, który generuje losowe liczby w formacie \"XXX-XXX-XXX-X\" { vertical-output: true, form-width: \"500px\", display-mode: \"both\" }\n",
        "\n",
        "import random\n",
        "\n",
        "def generuj_losowy_numer():\n",
        "    numer = \"\"\n",
        "    for _ in range(3):\n",
        "        numer += str(random.randint(100, 999)) + \"-\"\n",
        "    numer += str(random.randint(0, 9))\n",
        "    return numer\n",
        "\n",
        "  # Przykład użycia\n",
        "losowy_numer = generuj_losowy_numer()\n",
        "print(losowy_numer)"
      ],
      "metadata": {
        "colab": {
          "base_uri": "https://localhost:8080/"
        },
        "id": "jToLS75snTJQ",
        "outputId": "90f7b2cb-d7dd-4545-9dc4-973f4a0ed144"
      },
      "execution_count": null,
      "outputs": [
        {
          "output_type": "stream",
          "name": "stdout",
          "text": [
            "509-376-881-0\n"
          ]
        }
      ]
    },
    {
      "cell_type": "code",
      "source": [
        "# @title kod w języku Python, który generuje losową nazwę w formacie \"przedmiot nr [losowy tekst 10 literowy] [aktualny czas w milisekundach]\" { vertical-output: true, form-width: \"500px\", display-mode: \"both\" }\n",
        "\n",
        "import random\n",
        "import string\n",
        "import time\n",
        "\n",
        "def generuj_losowy_tekst(dlugosc):\n",
        "    litery = string.ascii_letters\n",
        "    return ''.join(random.choice(litery) for _ in range(dlugosc))\n",
        "\n",
        "def generuj_losowa_nazwe():\n",
        "    losowy_tekst = generuj_losowy_tekst(10)\n",
        "    czas_w_milisekundach = int(round(time.time() * 1000))\n",
        "    nazwa = f\"przedmiot nr {losowy_tekst} {czas_w_milisekundach}\"\n",
        "    return nazwa\n",
        "\n",
        "# Przykład użycia\n",
        "losowa_nazwa = generuj_losowa_nazwe()\n",
        "print(losowa_nazwa)\n"
      ],
      "metadata": {
        "colab": {
          "base_uri": "https://localhost:8080/"
        },
        "id": "JK8VZeQJoMCZ",
        "outputId": "e92ab1d2-28fe-4c2f-c4cd-8d869a9da84b"
      },
      "execution_count": null,
      "outputs": [
        {
          "output_type": "stream",
          "name": "stdout",
          "text": [
            "przedmiot nr lpxTffhobq 1705435539315\n"
          ]
        }
      ]
    },
    {
      "cell_type": "code",
      "source": [
        "# @title kod w języku Python, który generuje losową liczbę całkowitą z podanego zakresu { vertical-output: true, form-width: \"500px\", display-mode: \"both\" }\n",
        "\n",
        "variable_name_1 = 1 # @param {type:\"integer\"}\n",
        "variable_name_2 = 100 # @param {type:\"integer\"}\n",
        "\n",
        "import random\n",
        "\n",
        "def generuj_losowa_liczbe(variable_name_1, variable_name_2):\n",
        "    return random.randint(variable_name_1, variable_name_2)\n",
        "\n",
        "# Przykład użycia\n",
        "# zakres_od = 1\n",
        "# zakres_do = 100\n",
        "losowa_liczba = generuj_losowa_liczbe(variable_name_1, variable_name_2)\n",
        "print(losowa_liczba)\n",
        "\n"
      ],
      "metadata": {
        "colab": {
          "base_uri": "https://localhost:8080/"
        },
        "id": "1A2zs2v3ooiZ",
        "outputId": "8526161a-2abe-4e3c-dcac-e8d033516c19"
      },
      "execution_count": null,
      "outputs": [
        {
          "output_type": "stream",
          "name": "stdout",
          "text": [
            "23\n"
          ]
        }
      ]
    },
    {
      "cell_type": "code",
      "source": [
        "# @title kod w języku Python, który generuje losową datę z podanego przedziału i formatuje ją w formacie \"dd.mm.rrrr\" { vertical-output: true, form-width: \"500px\", display-mode: \"both\" }\n",
        "zakres_poczatek_str = \"2024-01-16\" # @param {type:\"date\"}\n",
        "zakres_koniec_str = \"2024-02-08\" # @param {type:\"date\"}\n",
        "\n",
        "import random\n",
        "from datetime import datetime, timedelta\n",
        "\n",
        "def generuj_date_plus_dwa_tygodnie():\n",
        "    aktualna_data = datetime.now()\n",
        "    data_plus_dwa_tygodnie = aktualna_data + timedelta(days=14)\n",
        "    return data_plus_dwa_tygodnie.strftime(\"%d.%m.%Y\")\n",
        "\n",
        "# Konwersja na obiekty datetime\n",
        "zakres_poczatek = datetime.strptime(zakres_poczatek_str, \"%Y-%m-%d\")\n",
        "zakres_koniec = datetime.strptime(zakres_koniec_str, \"%Y-%m-%d\")\n",
        "\n",
        "def generuj_losowa_date(zakres_poczatek, zakres_koniec):\n",
        "    zakres_dat = zakres_koniec - zakres_poczatek\n",
        "    print(\"zakres_dat: \\t\\t\", zakres_dat)\n",
        "    losowa_liczba_dni = random.randint(0, zakres_dat.days)\n",
        "    losowa_data = zakres_poczatek + timedelta(days=losowa_liczba_dni)\n",
        "    return losowa_data.strftime(\"%d.%m.%Y\")\n",
        "\n",
        "# Przykład użycia\n",
        "# zakres_poczatek = datetime(2022, 1, 1)\n",
        "# print(\"zakres_poczatek:\\t\", zakres_poczatek)\n",
        "# zakres_koniec = datetime(2023, 12, 31)\n",
        "# print(\"zakres_koniec:\\t\\t\", zakres_koniec)\n",
        "\n",
        "losowa_data = generuj_losowa_date(zakres_poczatek, zakres_koniec)\n",
        "print(\"losowa_data: \\t\\t\", losowa_data)\n",
        "\n"
      ],
      "metadata": {
        "colab": {
          "base_uri": "https://localhost:8080/"
        },
        "id": "T6dsDA_Epml0",
        "outputId": "37aff703-f9af-4579-8cce-62495d3f4e50"
      },
      "execution_count": null,
      "outputs": [
        {
          "output_type": "stream",
          "name": "stdout",
          "text": [
            "zakres_dat: \t\t 23 days, 0:00:00\n",
            "losowa_data: \t\t 02.02.2024\n"
          ]
        }
      ]
    },
    {
      "cell_type": "code",
      "source": [
        "# @title kod w Pythonie, który generuje losową liczbę zmiennoprzecinkową (float) w podanym zakresie { vertical-output: true, form-width: \"500px\", display-mode: \"both\" }\n",
        "zakres_od = 10 # @param {type:\"number\"}\n",
        "zakres_do = 3455 # @param {type:\"number\"}\n",
        "\n",
        "import random\n",
        "\n",
        "def generuj_losowa_liczbe_float(zakres_od, zakres_do):\n",
        "    losowa_liczba_float = random.uniform(zakres_od, zakres_do)\n",
        "    return round(losowa_liczba_float, 2)\n",
        "\n",
        "# Przykład użycia\n",
        "# zakres_od = 1.0\n",
        "# zakres_do = 10.0\n",
        "losowa_liczba_float = generuj_losowa_liczbe_float(zakres_od, zakres_do)\n",
        "print(losowa_liczba_float)\n"
      ],
      "metadata": {
        "colab": {
          "base_uri": "https://localhost:8080/"
        },
        "id": "g9g-Ibp9zwCi",
        "outputId": "4f08991a-daf4-40b4-cb30-fecab9a50487"
      },
      "execution_count": null,
      "outputs": [
        {
          "output_type": "stream",
          "name": "stdout",
          "text": [
            "1426.21\n"
          ]
        }
      ]
    },
    {
      "cell_type": "code",
      "source": [
        "# @title generuj_nazwe_pliku { vertical-output: true, form-width: \"500px\", display-mode: \"both\" }\n",
        "\n",
        "def generuj_nazwe_pliku():\n",
        "    numer = random.randint(10000, 99999)\n",
        "    nazwa_pliku = f\"Zapotrzebzakupu1{numer}.xlsx\"\n",
        "    return nazwa_pliku\n",
        "\n",
        "# Przykład użycia\n",
        "nazwa_pliku = generuj_nazwe_pliku()\n",
        "print(nazwa_pliku)"
      ],
      "metadata": {
        "colab": {
          "base_uri": "https://localhost:8080/"
        },
        "id": "-YWaurfc1TB8",
        "outputId": "80ac366a-ed4c-422c-ba15-b1a0060aa5a3"
      },
      "execution_count": null,
      "outputs": [
        {
          "output_type": "stream",
          "name": "stdout",
          "text": [
            "Zapotrzebzakupu147124.xlsx\n"
          ]
        }
      ]
    },
    {
      "cell_type": "code",
      "source": [
        "# @title sparsuj nazwę pliku { vertical-output: true, form-width: \"500px\", display-mode: \"both\" }\n",
        "\n",
        "import re\n",
        "\n",
        "nazwa_pliku = \"Zapotrzebuzakupu123921.xlsx\"\n",
        "\n",
        "def sparsuj_i_utworz_nazwe(nazwa_pliku, nowe_rozszerzenie):\n",
        "    wynik = re.search(r'\\d+', nazwa_pliku)\n",
        "\n",
        "    if wynik:\n",
        "        sparsowana_liczba = wynik.group()\n",
        "        nowa_nazwa_pliku = f\"{sparsowana_liczba}.{nowe_rozszerzenie}\"\n",
        "        return nowa_nazwa_pliku\n",
        "    else:\n",
        "        print(\"Nie znaleziono liczby w nazwie pliku.\")\n",
        "        return None\n",
        "\n",
        "# Przykład użycia\n",
        "nazwa_pliku = \"Zapotrzebuzakupu123921.xlsx\"\n",
        "nowe_rozszerzenie = \"xlsx\"\n",
        "nowa_nazwa = sparsuj_i_utworz_nazwe(nazwa_pliku, nowe_rozszerzenie)\n",
        "\n",
        "if nowa_nazwa:\n",
        "    print(nowa_nazwa)"
      ],
      "metadata": {
        "colab": {
          "base_uri": "https://localhost:8080/"
        },
        "id": "8bVfVAQ72jIP",
        "outputId": "833df547-587c-48ba-d848-0313aee42e3c"
      },
      "execution_count": null,
      "outputs": [
        {
          "output_type": "stream",
          "name": "stdout",
          "text": [
            "123921.xlsx\n"
          ]
        }
      ]
    },
    {
      "cell_type": "code",
      "source": [
        "# @title generuje losową liczbę całkowitą i zmiennoprzecinkową przy użyciu wcześniej zdefiniowanych funkcji generuj_losowa_liczbe i generuj_losowa_liczbe_float, a następnie mnoży te liczby { vertical-output: true, form-width: \"500px\", display-mode: \"both\" }\n",
        "\n",
        "import random\n",
        "\n",
        "def generuj_losowa_liczbe():\n",
        "    return random.randint(1, 100)\n",
        "\n",
        "def generuj_losowa_liczbe_float():\n",
        "    return round(random.uniform(1.0, 250.0), 2)\n",
        "\n",
        "# Wygeneruj losowe liczby\n",
        "liczba_calkowita = generuj_losowa_liczbe()\n",
        "liczba_zmiennoprzecinkowa = generuj_losowa_liczbe_float()\n",
        "\n",
        "# Pomnóż liczby\n",
        "wynik_mnozenia = round(liczba_calkowita * liczba_zmiennoprzecinkowa, 2)\n",
        "\n",
        "# Wyświetl wyniki\n",
        "print(f\"Liczba całkowita: {liczba_calkowita}\")\n",
        "print(f\"Liczba zmiennoprzecinkowa: {liczba_zmiennoprzecinkowa}\")\n",
        "print(f\"Wynik mnożenia zaokrąglony do 2 miejsc po przecinku: {wynik_mnozenia}\")"
      ],
      "metadata": {
        "colab": {
          "base_uri": "https://localhost:8080/"
        },
        "id": "Qz-5sxi45mn-",
        "outputId": "e14cfcd2-1750-4aea-ae0f-7a920dbf4b06"
      },
      "execution_count": null,
      "outputs": [
        {
          "output_type": "stream",
          "name": "stdout",
          "text": [
            "Liczba całkowita: 27\n",
            "Liczba zmiennoprzecinkowa: 228.59\n",
            "Wynik mnożenia zaokrąglony do 2 miejsc po przecinku: 6171.93\n"
          ]
        }
      ]
    },
    {
      "cell_type": "code",
      "source": [
        "# @title utworz plik excel { vertical-output: true, form-width: \"500px\", display-mode: \"both\" }\n",
        "\n",
        "def utworz_plik_excel():\n",
        "    wb = openpyxl.Workbook()\n",
        "    arkusz = wb.active\n",
        "\n",
        "    # Nagłówki\n",
        "    naglowki = ['lp', 'Indeks', 'Opis pozycji', 'Ilość', 'Jednostka masy', 'Data dostawy', 'Cena jednostkowa netto',\n",
        "                'Wartość kontraktu netto', 'Osoba do kontaktu']\n",
        "\n",
        "    # Wklejanie nagłówków w wierszu 3, zaczynając od kolumny 1\n",
        "    for index, naglowek in enumerate(naglowki, start=1):\n",
        "        komorka = arkusz.cell(row=3, column=index, value=naglowek)\n",
        "        komorka.alignment = Alignment(horizontal='center', vertical='center', wrap_text=True)\n",
        "        komorka.font = Font(bold=True)\n",
        "\n",
        "    # Wiersz 1\n",
        "    komorka_wiersz_1 = arkusz.cell(row=1, column=1,\n",
        "                                      value=\"Zapytanie ofertowe RFX nr sprawy KZP.ŁA.2110.23.2024 Dostawa łożysk\")\n",
        "    komorka_wiersz_1.alignment = Alignment(horizontal='left', vertical='center', wrap_text=False)\n",
        "    komorka_wiersz_1.font = Font(size=20, bold=True)\n",
        "\n",
        "    # Wiersz 2\n",
        "    data_wygenerowania = datetime.now().strftime(\"%Y-%m-%d\")\n",
        "    komorka_wiersz_2 = arkusz.cell(row=2, column=1, value=f\"Data wygenerowania dokumentu: {data_wygenerowania}\")\n",
        "    komorka_wiersz_2.alignment = Alignment(horizontal='left', vertical='center', wrap_text=False)\n",
        "\n",
        "    nazwa_pliku = \"nowy_plik_excel.xlsx\"\n",
        "    wb.save(nazwa_pliku)\n",
        "    files.download(nazwa_pliku)\n",
        "\n",
        "    print(f\"Plik Excela '{nazwa_pliku}' został utworzony pomyślnie.\")\n",
        "\n",
        "    return nazwa_pliku\n"
      ],
      "metadata": {
        "id": "vLq68BIbEdg3"
      },
      "execution_count": null,
      "outputs": []
    },
    {
      "cell_type": "code",
      "source": [
        "# @title przetwarzaj pliki excel { vertical-output: true, form-width: \"500px\", display-mode: \"both\" }\n",
        "directory_path = \"\" # @param {type:\"string\"}\n",
        "\n",
        "def przetwarzaj_pliki_excel(sciezka_katalogu):\n",
        "    # Zamień wszystkie ukośniki na /\n",
        "    sciezka_katalogu = sciezka_katalogu.replace('\\\\', '/')\n",
        "\n",
        "    # Upewnij się, że ścieżka ma poprawny separator na końcu\n",
        "    if not sciezka_katalogu.endswith('/'):\n",
        "        sciezka_katalogu += '/'\n",
        "\n",
        "    # Inicjalizuj kolekcje kolumn\n",
        "    kolumny_do_skopiowania = ['B', 'C', 'D', 'E', 'F', 'K', 'S']\n",
        "    wyniki = []\n",
        "\n",
        "    # Pętla po plikach Excel w podanym katalogu\n",
        "    for plik in os.listdir(sciezka_katalogu):\n",
        "        if plik.lower().endswith((\".xlsx\", \".xls\")):  # Sprawdź, czy plik to Excel (ignoruj wielkość liter)\n",
        "            pelna_sciezka = os.path.join(sciezka_katalogu, plik)\n",
        "            # print(pelna_sciezka)\n",
        "\n",
        "            # Sprawdź, czy ścieżka do pliku istnieje, a jeśli nie, spróbuj dokonać zamiany ukośników\n",
        "            if not os.path.exists(pelna_sciezka):\n",
        "                pelna_sciezka = pelna_sciezka.replace('/', '\\\\') if '/' in pelna_sciezka else pelna_sciezka.replace(\n",
        "                    '\\\\', '/')\n",
        "\n",
        "            # Wczytaj arkusz z pliku Excel\n",
        "            df = pd.read_excel(pelna_sciezka, engine='openpyxl')  # Użyj openpyxl jako silnika do wczytywania Excel\n",
        "            print(df)\n",
        "\n",
        "            # Sprawdź, czy wszystkie kolumny istnieją w ramce danych\n",
        "            if set(kolumny_do_skopiowania).issubset(df.columns):\n",
        "                # Skopiuj wybrane kolumny\n",
        "                skopiowane_dane = df[kolumny_do_skopiowania].copy()\n",
        "                print(skopiowane_dane)\n",
        "\n",
        "                # Dodaj do wynikowej kolekcji\n",
        "                wyniki.append(skopiowane_dane)\n",
        "            else:\n",
        "                print(f'Plik {plik} nie zawiera wszystkich kolumn.')\n",
        "\n",
        "    # Zwróć złączone wyniki\n",
        "    if wyniki:\n",
        "        return pd.concat(wyniki, axis=0, ignore_index=True)\n",
        "    else:\n",
        "        return None\n",
        "\n",
        "\n"
      ],
      "metadata": {
        "id": "AKTkiALLZ0bS"
      },
      "execution_count": null,
      "outputs": []
    },
    {
      "cell_type": "code",
      "source": [
        "# @title skopiuj kolumny z katalogu { vertical-output: true, form-width: \"500px\", display-mode: \"both\" }\n",
        "\n",
        "directory_path = \"\" # @param {type:\"string\"}\n",
        "\n",
        "def skopiuj_kolumny_z_katalogu(sciezka_katalogu):\n",
        "    try:\n",
        "        lista_wynikowa = []\n",
        "\n",
        "        # Sprawdź, czy ścieżka katalogu ma poprawny separator na końcu\n",
        "        if not sciezka_katalogu.endswith(os.path.sep):\n",
        "            sciezka_katalogu += os.path.sep\n",
        "\n",
        "        # Indeksy kolumn do skopiowania\n",
        "        kolumny_do_skopiowania = [2, 3, 4, 5, 6, 11, 19]  # Kolumny B, C, D, E, F, K, S\n",
        "\n",
        "        # Pętla po plikach Excel w podanym katalogu\n",
        "        for plik in os.listdir(sciezka_katalogu):\n",
        "            if plik.lower().endswith((\".xlsx\", \".xls\")):  # Sprawdź, czy plik to Excel (ignoruj wielkość liter)\n",
        "                pelna_sciezka = os.path.join(sciezka_katalogu, plik)\n",
        "\n",
        "                # Wczytaj plik Excel\n",
        "                workbook = openpyxl.load_workbook(pelna_sciezka)\n",
        "                sheet = workbook.active\n",
        "\n",
        "                # Inicjalizuj listę krotek dla bieżącego pliku\n",
        "                lista_krotek = []\n",
        "\n",
        "                # Iteruj po kolumnach i dodawaj każdą do osobnej krotki\n",
        "                for kolumna_index in kolumny_do_skopiowania:\n",
        "                    krotka = tuple(\n",
        "                        sheet.komórka(row=row, column=kolumna_index).value for row in range(2, sheet.max_row + 1))\n",
        "                    lista_krotek.append(krotka)\n",
        "\n",
        "                # Dodaj listę krotek dla bieżącego pliku do listy wynikowej\n",
        "                lista_wynikowa.append(lista_krotek)\n",
        "\n",
        "        return lista_wynikowa\n",
        "    except Exception as e:\n",
        "        print(f\"Błąd podczas przetwarzania plików Excel: {e}\")\n",
        "        return None\n"
      ],
      "metadata": {
        "id": "KAfydFuLEh-G"
      },
      "execution_count": null,
      "outputs": []
    },
    {
      "cell_type": "code",
      "source": [
        "# @title dodaj krotki { vertical-output: true, form-width: \"500px\", display-mode: \"both\" }\n",
        "lista_wynikowa = \"\" # @param {type:\"string\"}\n",
        "\n",
        "def dodaj_krotki(lista_wynikowa):\n",
        "    if lista_wynikowa is not None:\n",
        "        suma_krotek = []\n",
        "\n",
        "        # Iteruj po indeksach krotek (kolumnach)\n",
        "        for indeks_kolumny in range(len(lista_wynikowa[0])):\n",
        "            suma_kolumny = ()\n",
        "\n",
        "            # Iteruj po plikach i dodawaj odpowiadające sobie krotki\n",
        "            for lista_krotek in lista_wynikowa:\n",
        "                suma_kolumny += lista_krotek[indeks_kolumny]\n",
        "\n",
        "            suma_krotek.append(suma_kolumny)\n",
        "\n",
        "        return suma_krotek\n",
        "    else:\n",
        "        print(\"Błąd podczas przetwarzania listy krotek.\")\n",
        "        return None\n"
      ],
      "metadata": {
        "id": "s6JjurXoEkCx"
      },
      "execution_count": null,
      "outputs": []
    },
    {
      "cell_type": "code",
      "source": [
        "# @title oblicz najdluzszy string w kolumnie { vertical-output: true, form-width: \"500px\", display-mode: \"both\" }\n",
        "\n",
        "kolumna = \"\" # @param {type:\"string\"}\n",
        "\n",
        "def oblicz_najdluzszy_string(kolumna):\n",
        "    return max(len(str(wartosc)) for wartosc in kolumna if isinstance(wartosc, str))\n"
      ],
      "metadata": {
        "id": "2VgGnQNqEmET"
      },
      "execution_count": null,
      "outputs": []
    },
    {
      "cell_type": "code",
      "source": [
        "# @title zapisz sumy do excel { vertical-output: true, form-width: \"500px\", display-mode: \"both\" }\n",
        "\n",
        "def zapisz_sumy_do_excel(suma_krotek, sciezka_do_pliku_excel):\n",
        "    try:\n",
        "        # Utwórz nowy plik Excel\n",
        "        wb = load_workbook(sciezka_do_pliku_excel)\n",
        "\n",
        "        # nowy_workbook = openpyxl.Workbook()\n",
        "        nowy_sheet = wb.active\n",
        "\n",
        "        # Ustaw szerokość kolumn do zawartości\n",
        "        for kolumna_index, suma_kolumny in enumerate(suma_krotek, start=2):\n",
        "            szerokosc_kolumny = max(len(str(wartosc)) for wartosc in suma_kolumny)\n",
        "            nowy_sheet.column_dimensions[openpyxl.utils.get_column_letter(kolumna_index)].width = szerokosc_kolumny\n",
        "\n",
        "        # Ustawienia formatowania\n",
        "        align_center = Alignment(horizontal='center', vertical='center', wrap_text=True)\n",
        "        date_format = '%Y.%m.%d'\n",
        "\n",
        "        # Zapisz sumy kolumn do kolumny B, zaczynając od wiersza 4\n",
        "        for indeks, suma_kolumny in enumerate(suma_krotek, start=1):\n",
        "            for nr_wiersza, wartosc in enumerate(suma_kolumny, start=4):\n",
        "                komorka = nowy_sheet.komórka(row=nr_wiersza, column=indeks + 1, value=wartosc)\n",
        "\n",
        "                # Wysrodkuj komórkę\n",
        "                komorka.alignment = align_center\n",
        "\n",
        "                # Ustaw format daty w kolumnie C\n",
        "                if indeks == 4:\n",
        "                    if isinstance(wartosc, datetime):\n",
        "                        komorka.number_format = date_format\n",
        "\n",
        "        # Zapisz plik Excel\n",
        "        wb.save(sciezka_do_pliku_excel)\n",
        "        print(f\"Sumy kolumn zostały zapisane do pliku Excel: {sciezka_do_pliku_excel}\")\n",
        "    except Exception as e:\n",
        "        print(f\"Błąd podczas zapisywania pliku Excel: {e}\")\n"
      ],
      "metadata": {
        "id": "BHKrRicVEpjn"
      },
      "execution_count": null,
      "outputs": []
    },
    {
      "cell_type": "code",
      "source": [
        "# @title praca z plikiem excel { vertical-output: true, form-width: \"500px\", display-mode: \"both\" }\n",
        "\n",
        "def praca_z_plikiem_excel():\n",
        "\n",
        "  # utworzenie katalogu do pracy z biblioteka openpyxl\n",
        "\n",
        "  try:\n",
        "    dir_name_for_openpyxl = \"openpyxl\"\n",
        "    check_if_directory_and_path_exists(dir_name_for_openpyxl)\n",
        "\n",
        "    wb = Workbook()\n",
        "    ws = wb.active\n",
        "\n",
        "    data = [\n",
        "        ['Apples', 10000, 5000, 8000, 6000],\n",
        "        ['Pears',   2000, 3000, 4000, 5000],\n",
        "        ['Bananas', 6000, 6000, 6500, 6000],\n",
        "        ['Oranges',  500,  300,  200,  700],\n",
        "    ]\n",
        "\n",
        "    # add column headings. NB. these must be strings\n",
        "    ws.append([\"Fruit\", \"2011\", \"2012\", \"2013\", \"2014\"])\n",
        "    for row in data:\n",
        "        ws.append(row)\n",
        "\n",
        "    tab = Table(displayName=\"Table1\", ref=\"A1:E5\")\n",
        "\n",
        "    # Add a default style with striped rows and banded columns\n",
        "    style = TableStyleInfo(name=\"TableStyleMedium9\", showFirstColumn=False,\n",
        "                          showLastColumn=False, showRowStripes=True, showColumnStripes=True)\n",
        "    tab.tableStyleInfo = style\n",
        "\n",
        "    '''\n",
        "    Table must be added using ws.add_table() method to avoid duplicate names.\n",
        "    Using this method ensures table name is unque through out defined names and all other table name.\n",
        "    '''\n",
        "    ws.add_table(tab)\n",
        "\n",
        "    # Save the file with actual date and time\n",
        "    data_czas = actual_datetime()\n",
        "    lista_daty = [\"_\", data_czas['czas'], \"___\", data_czas['data']]\n",
        "    skrot_do_daty_i_godziny = \"\".join(lista_daty)\n",
        "\n",
        "    podzielona_nazwa_pliku = split_filename_and_extension(\"sample.xlsx\")\n",
        "    nowa_nazwa_pliku_skladowe = [podzielona_nazwa_pliku.get('name_key'),\n",
        "                                skrot_do_daty_i_godziny,\n",
        "                                podzielona_nazwa_pliku.get('ext_key')]\n",
        "\n",
        "    nowa_nazwa_pliku = \"\".join(nowa_nazwa_pliku_skladowe)\n",
        "\n",
        "    wb.save(nowa_nazwa_pliku)\n",
        "\n",
        "  except Exception as e:\n",
        "    print(f\"wyje.ało błęda: {e}\")"
      ],
      "metadata": {
        "id": "Su2OfI8BDZGN"
      },
      "execution_count": null,
      "outputs": []
    },
    {
      "cell_type": "code",
      "source": [
        "# @title Excel MainAPP { vertical-output: true, form-width: \"500px\", display-mode: \"both\" }\n",
        "\n",
        "utworz_plik_excel()\n",
        "przetwarzaj_pliki_excel(\"/content/zz\")\n",
        "praca_z_plikiem_excel()"
      ],
      "metadata": {
        "id": "aAIuSDQsGsVf",
        "colab": {
          "base_uri": "https://localhost:8080/",
          "height": 299
        },
        "outputId": "7ae022bc-d834-4671-d49d-05e8eb02a127"
      },
      "execution_count": null,
      "outputs": [
        {
          "output_type": "display_data",
          "data": {
            "text/plain": [
              "<IPython.core.display.Javascript object>"
            ],
            "application/javascript": [
              "\n",
              "    async function download(id, filename, size) {\n",
              "      if (!google.colab.kernel.accessAllowed) {\n",
              "        return;\n",
              "      }\n",
              "      const div = document.createElement('div');\n",
              "      const label = document.createElement('label');\n",
              "      label.textContent = `Downloading \"${filename}\": `;\n",
              "      div.appendChild(label);\n",
              "      const progress = document.createElement('progress');\n",
              "      progress.max = size;\n",
              "      div.appendChild(progress);\n",
              "      document.body.appendChild(div);\n",
              "\n",
              "      const buffers = [];\n",
              "      let downloaded = 0;\n",
              "\n",
              "      const channel = await google.colab.kernel.comms.open(id);\n",
              "      // Send a message to notify the kernel that we're ready.\n",
              "      channel.send({})\n",
              "\n",
              "      for await (const message of channel.messages) {\n",
              "        // Send a message to notify the kernel that we're ready.\n",
              "        channel.send({})\n",
              "        if (message.buffers) {\n",
              "          for (const buffer of message.buffers) {\n",
              "            buffers.push(buffer);\n",
              "            downloaded += buffer.byteLength;\n",
              "            progress.value = downloaded;\n",
              "          }\n",
              "        }\n",
              "      }\n",
              "      const blob = new Blob(buffers, {type: 'application/binary'});\n",
              "      const a = document.createElement('a');\n",
              "      a.href = window.URL.createObjectURL(blob);\n",
              "      a.download = filename;\n",
              "      div.appendChild(a);\n",
              "      a.click();\n",
              "      div.remove();\n",
              "    }\n",
              "  "
            ]
          },
          "metadata": {}
        },
        {
          "output_type": "display_data",
          "data": {
            "text/plain": [
              "<IPython.core.display.Javascript object>"
            ],
            "application/javascript": [
              "download(\"download_4a06eeb9-9015-4bef-b530-bf5195c4780a\", \"nowy_plik_excel.xlsx\", 5141)"
            ]
          },
          "metadata": {}
        },
        {
          "output_type": "stream",
          "name": "stdout",
          "text": [
            "Plik Excela 'nowy_plik_excel.xlsx' został utworzony pomyślnie.\n"
          ]
        },
        {
          "output_type": "error",
          "ename": "NameError",
          "evalue": "name 'przetwarzaj_pliki_excel' is not defined",
          "traceback": [
            "\u001b[0;31m---------------------------------------------------------------------------\u001b[0m",
            "\u001b[0;31mNameError\u001b[0m                                 Traceback (most recent call last)",
            "\u001b[0;32m<ipython-input-176-993452196ab8>\u001b[0m in \u001b[0;36m<cell line: 4>\u001b[0;34m()\u001b[0m\n\u001b[1;32m      2\u001b[0m \u001b[0;34m\u001b[0m\u001b[0m\n\u001b[1;32m      3\u001b[0m \u001b[0mutworz_plik_excel\u001b[0m\u001b[0;34m(\u001b[0m\u001b[0;34m)\u001b[0m\u001b[0;34m\u001b[0m\u001b[0;34m\u001b[0m\u001b[0m\n\u001b[0;32m----> 4\u001b[0;31m \u001b[0mprzetwarzaj_pliki_excel\u001b[0m\u001b[0;34m(\u001b[0m\u001b[0;34m\"/content/zz\"\u001b[0m\u001b[0;34m)\u001b[0m\u001b[0;34m\u001b[0m\u001b[0;34m\u001b[0m\u001b[0m\n\u001b[0m\u001b[1;32m      5\u001b[0m \u001b[0mpraca_z_plikiem_excel\u001b[0m\u001b[0;34m(\u001b[0m\u001b[0;34m)\u001b[0m\u001b[0;34m\u001b[0m\u001b[0;34m\u001b[0m\u001b[0m\n",
            "\u001b[0;31mNameError\u001b[0m: name 'przetwarzaj_pliki_excel' is not defined"
          ]
        }
      ]
    },
    {
      "cell_type": "markdown",
      "source": [
        "# `PDF`"
      ],
      "metadata": {
        "id": "wF_ZEWJCJuue"
      }
    },
    {
      "cell_type": "code",
      "source": [
        "# @title convert Pdf date and time { vertical-output: true, form-width: \"500px\", display-mode: \"both\" }\n",
        "pd = \"\" # @param {type:\"string\"}\n",
        "\n",
        "def convert_PDF_datetime(pd):\n",
        "    dtformat = \"%Y%m%d%H%M%S\"\n",
        "    clean = pd.replace(\"D:\",\"\").split('+')[0]\n",
        "    date_converted = datetime.strptime(clean,dtformat)\n",
        "    print(date_converted)\n",
        "\n",
        "    return datetime.strptime(clean,dtformat)"
      ],
      "metadata": {
        "id": "_6ldu_8AJ2Ou"
      },
      "execution_count": null,
      "outputs": []
    },
    {
      "cell_type": "code",
      "source": [
        "# @title dodaj pustą stronę do pliku PDF { vertical-output: true, form-width: \"500px\", display-mode: \"both\" }\n",
        "\n",
        "writer = \"\" # @param {type:\"string\"}\n",
        "path_destination = \"\" # @param {type:\"string\"}\n",
        "\n",
        "def add_blank_page(writer, path_destination):\n",
        "  writer.add_blank_page(width=200, height=200)\n",
        "\n",
        "  data = b\"any bytes - typically read from a file\"\n",
        "  writer.add_attachment(\"smile.png\", data)\n",
        "\n",
        "  with open(\"output.pdf\", \"wb\") as output_stream:\n",
        "      writer.write(output_stream)"
      ],
      "metadata": {
        "id": "7TgbeKzZJ348"
      },
      "execution_count": null,
      "outputs": []
    },
    {
      "cell_type": "code",
      "source": [
        "# @title sprawdź czy plik PDF jest zaszyfrowany { vertical-output: true, form-width: \"500px\" }\n",
        "path_to_file = \"\" # @param {type:\"string\"}\n",
        "\n",
        "def check_if_encrypted(path_to_file):\n",
        "  if os.path.isfile(path_to_file):\n",
        "    reader = PdfReader(path_to_file)\n",
        "\n",
        "    if reader.is_encrypted:\n",
        "      writer = PdfWriter()\n",
        "      password = input(\"Enter your password: \")\n",
        "      reader.decrypt(password)\n",
        "\n",
        "      # Add all pages to the writer\n",
        "      for page in reader.pages:\n",
        "          writer.add_page(page)\n",
        "\n",
        "      # Save the new PDF to a file\n",
        "      with open(path_to_file, \"wb\") as f:\n",
        "          writer.write(f)\n",
        "\n",
        "      print(\"plik rozszyfrowany\")\n",
        "    else:\n",
        "      print(\"plik NIE był zaszyfrowany\")"
      ],
      "metadata": {
        "id": "HBLizJN1J57Y"
      },
      "execution_count": null,
      "outputs": []
    },
    {
      "cell_type": "code",
      "source": [
        "# @title czytaj adnotacje { vertical-output: true, form-width: \"500px\", display-mode: \"both\" }\n",
        "reader = \"\" # @param {type:\"string\"}\n",
        "\n",
        "def annots_reading(reader):\n",
        "  print(\"funkcja annots_reading załadowana\")\n",
        "\n",
        "  attachments = {}\n",
        "\n",
        "  for page in reader.pages:\n",
        "    if \"/Annots\" in page:\n",
        "        for annot in page[\"/Annots\"]:\n",
        "            obj = annot.get_object()\n",
        "            annotation = {\"subtype\": obj[\"/Subtype\"], \"location\": obj[\"/Rect\"]}\n",
        "            print(annotation)\n",
        "\n",
        "            # text\n",
        "            subtype = annot.get_object()[\"/Subtype\"]\n",
        "            if subtype == \"/Text\":\n",
        "                print(annot.get_object()[\"/Contents\"])\n",
        "\n",
        "            # Highlights\n",
        "            subtype = annot.get_object()[\"/Subtype\"]\n",
        "            if subtype == \"/Highlight\":\n",
        "                coords = annot.get_object()[\"/QuadPoints\"]\n",
        "                x1, y1, x2, y2, x3, y3, x4, y4 = coords\n",
        "\n",
        "            # # attachments\n",
        "            # subtype = annot.get_object()[\"/Subtype\"]\n",
        "            # if subtype == \"/FileAttachment\":\n",
        "            #     fileobj = annotobj[\"/FS\"]\n",
        "            #     attachments[fileobj[\"/F\"]] = fileobj[\"/EF\"][\"/F\"].get_data()\n",
        "    else:\n",
        "      # print(\"brak andotacji w pliku\")\n",
        "      pass"
      ],
      "metadata": {
        "id": "YmfxSlVKJ8Gm"
      },
      "execution_count": null,
      "outputs": []
    },
    {
      "cell_type": "code",
      "source": [
        "# @title Add the metadata { vertical-output: true, form-width: \"500px\", display-mode: \"both\" }\n",
        "path_to_file = \"\" # @param {type:\"string\"}\n",
        "\n",
        "def add_metadata(path_to_file):\n",
        "  reader = PdfReader(path_to_file)\n",
        "  writer = PdfWriter()\n",
        "\n",
        "  # Add all pages to the writer\n",
        "  for page in reader.pages:\n",
        "      writer.add_page(page)\n",
        "\n",
        "  writer.add_metadata(\n",
        "      {\n",
        "          \"/Author\": \"Martino\",\n",
        "          \"/Producer\": \"Libre Writer\",\n",
        "          \"/Subject\": \"kikk\",\n",
        "          \"/Title\": \"jakis_tytul\",\n",
        "          # \"/ModDate\": modification_date  # Adding modification date\n",
        "      }\n",
        "  )\n",
        "\n",
        "  with open(os.path.join(path_to_working_directory, path_to_file), \"wb\") as f:\n",
        "    writer.write(f)"
      ],
      "metadata": {
        "id": "OFp22hZoKAIK"
      },
      "execution_count": null,
      "outputs": []
    },
    {
      "cell_type": "code",
      "source": [
        "# @title czytaj metadane { vertical-output: true, form-width: \"500px\", display-mode: \"both\" }\n",
        "\n",
        "reader = \"\" # @param {type:\"string\"}\n",
        "\n",
        "def read_metadata(reader):\n",
        "  meta = reader.metadata\n",
        "  print(len(reader.pages))\n",
        "\n",
        "  # All of the following could be None!\n",
        "  print(f\"author: {meta.author}\")\n",
        "  print(f\"creator: {meta.creator}\")\n",
        "  print(f\"producer: {meta.producer}\")\n",
        "  print(f\"subject: {meta.subject}\")\n",
        "  print(f\"title: {meta.title}\")"
      ],
      "metadata": {
        "id": "vujDNiZ7KCEb"
      },
      "execution_count": null,
      "outputs": []
    },
    {
      "cell_type": "code",
      "source": [
        "# @title reading form fields { vertical-output: true, form-width: \"500px\", display-mode: \"both\" }\n",
        "reader = \"\" # @param {type:\"string\"}\n",
        "\n",
        "def reading_form_fields(reader):\n",
        "  # fields = reader.get_form_text_fields()\n",
        "  # fields == {\"key\": \"value\", \"key2\": \"value2\"}\n",
        "  # if reader.isEditable:\n",
        "  fields = reader.get_fields()\n",
        "\n",
        "  if bool(fields):\n",
        "    # print(fields)\n",
        "    for field_name, field_value in fields.items():\n",
        "      print(f\"nazwa pola: {field_name}, wartość: {field_value}\")\n",
        "  else:\n",
        "    print(\"brak fields-ów\")\n",
        "\n",
        "  # for field_name in fields:\n",
        "    # print(field_name)"
      ],
      "metadata": {
        "id": "sATs-Mh5KEDP"
      },
      "execution_count": null,
      "outputs": []
    },
    {
      "cell_type": "code",
      "source": [
        "# @title extract text { vertical-output: true, form-width: \"500px\", display-mode: \"both\" }\n",
        "reader = \"\" # @param {type:\"string\"}\n",
        "\n",
        "def extract_text(reader):\n",
        "  text = \"\"\n",
        "  try:\n",
        "      for page in reader.pages:\n",
        "          text += page.extract_text()\n",
        "  except Exception as exc:\n",
        "      text = fallback_text_extraction(\"example.pdf\")\n",
        "\n",
        "  return text"
      ],
      "metadata": {
        "id": "44WNpoL6KF6g"
      },
      "execution_count": null,
      "outputs": []
    },
    {
      "cell_type": "code",
      "source": [
        "# @title sprawdzenie czy istnieje katalog roboczy, w którym chcemy pracować { vertical-output: true, form-width: \"500px\", display-mode: \"both\" }\n",
        "directory_name_path = \"\" # @param {type:\"string\"}\n",
        "\n",
        "def check_if_directory_and_path_exists(directory_name):\n",
        "  # Ścieżka do katalogu bieżącego\n",
        "  cwd = os.getcwd()\n",
        "  print(f\"katalog \\\"bieżący\\\": {cwd}\")\n",
        "\n",
        "  working_directory_for_creating = os.path.join(cwd, directory_name)\n",
        "  print(f\"katalog roboczy do utworzenia (jeśli nie istnieje): {working_directory_for_creating}\")\n",
        "\n",
        "  try:\n",
        "    if not os.path.exists(working_directory_for_creating):\n",
        "      print(f\"katalog: {working_directory_for_creating} nie istnieje i zostanie utworzony\")\n",
        "      os.makedirs(working_directory_for_creating)\n",
        "    else:\n",
        "      print(f\"katalog: {working_directory_for_creating} już istnieje!\")\n",
        "  except FileExistsError:\n",
        "    print(f\"katalog o nazwie {working_directory_for_creating} już istnieje!\")\n",
        "  except Exception as e:\n",
        "    print(f\"wystąpił błąd podczas tworzenie katalogu: {working_directory_for_creating}\")"
      ],
      "metadata": {
        "id": "xYJkVB2xKHZJ"
      },
      "execution_count": null,
      "outputs": []
    },
    {
      "cell_type": "code",
      "source": [
        "# @title importuj pliki do wskazanego katalogu { vertical-output: true, form-width: \"500px\", display-mode: \"both\" }\n",
        "destination_directory = \"\" # @param {type:\"string\"}\n",
        "\n",
        "def import_files(destination_directory):\n",
        "\n",
        "  uploaded = files.upload()\n",
        "  # print(uploaded.keys())\n",
        "\n",
        "  for fn in uploaded.keys():\n",
        "    print('User uploaded file \"{name}\" with length {length} bytes'.format(\n",
        "        name=fn, length=len(uploaded[fn])))\n",
        "\n",
        "  for filename, file_content in uploaded.items():\n",
        "    if os.path.exists(destination_directory) and os.path.isdir(destination_directory):\n",
        "      with open(os.path.join(destination_directory, filename), \"wb\") as f:\n",
        "        f.write(file_content)\n",
        "\n",
        "      # remove files from /content\n",
        "      file_to_remove_after_copying_to_working_directory = os.path.join(os.getcwd(), filename)\n",
        "      if os.path.isfile(file_to_remove_after_copying_to_working_directory):\n",
        "        os.remove(file_to_remove_after_copying_to_working_directory)\n",
        "        if not os.path.exists(file_to_remove_after_copying_to_working_directory):\n",
        "          print(f\"plik: {os.path.basename(file_to_remove_after_copying_to_working_directory)} \"\n",
        "          f\"usunięty z katalogu {os.path.dirname(file_to_remove_after_copying_to_working_directory)}\")\n",
        "        else:\n",
        "          print(f\"plik: {os.path.basename(file_to_remove_after_copying_to_working_directory)} \"\n",
        "          f\"NIE usunięty z katalogu {os.path.dirname(file_to_remove_after_copying_to_working_directory)}\")"
      ],
      "metadata": {
        "id": "itYcWazRKJaO"
      },
      "execution_count": null,
      "outputs": []
    },
    {
      "cell_type": "code",
      "source": [
        "# @title usuwanie stron w pdf { vertical-output: true, form-width: \"500px\", display-mode: \"both\" }\n",
        "source_file = \"\" # @param {type:\"string\"}\n",
        "pages_nums_to_delete = 0 # @param {type:\"integer\"}\n",
        "\n",
        "def page_deleting(source_file, pages_nums_to_delete):\n",
        "  print(source_file)\n",
        "\n",
        "  file_name_without_ext, ext = os.path.splitext(source_file)\n",
        "  new_file_name = ''.join([os.path.basename(file_name_without_ext), ext])\n",
        "\n",
        "  destination_file = os.path.join(os.path.dirname(source_file), new_file_name)\n",
        "  print(file_name_without_ext)\n",
        "  print(ext)\n",
        "  print(new_file_name)\n",
        "\n",
        "  with open(source_file, \"rb\") as file:\n",
        "    reader = PdfReader(file)\n",
        "    writer = PdfWriter()\n",
        "\n",
        "    for page_num in range(len(reader.pages)):\n",
        "      if page_num + 1 not in pages_nums_to_delete:\n",
        "        page_to_stay = reader.pages[page_num]\n",
        "        writer.add_page(page_to_stay)\n",
        "\n",
        "  with open(destination_file, \"wb\") as new_file:\n",
        "    writer.write(new_file)\n",
        "\n",
        "  with open(destination_file, \"rb\") as new_file:\n",
        "    print(f\"liczba stron nowego pliku: {len(PdfReader(new_file).pages)}\")"
      ],
      "metadata": {
        "id": "mTiNoP74KLcB"
      },
      "execution_count": null,
      "outputs": []
    },
    {
      "cell_type": "code",
      "source": [
        "# @title check if file exists { vertical-output: true, form-width: \"500px\", display-mode: \"both\" }\n",
        "path_to_file = \"\" # @param {type:\"string\"}\n",
        "\n",
        "def check_if_file_exists(path_to_file):\n",
        "  try:\n",
        "    with open(path_to_file, 'r') as file:\n",
        "      print(f\"Plik {path_to_file} istnieje i ma się całkiem nieźle ;-)\")\n",
        "      return True\n",
        "  except FileNotFoundError:\n",
        "    print('Sorry the file we\\'re looking for doesn\\' exist')\n",
        "    return False\n",
        "  except Exception as e:\n",
        "    print(f\"Wystąpił błąd: {e}\")\n",
        "    return False"
      ],
      "metadata": {
        "id": "wu1G-0jGKNf7"
      },
      "execution_count": null,
      "outputs": []
    },
    {
      "cell_type": "code",
      "source": [
        "# @title PDF MainAPP { vertical-output: true, form-width: \"500px\", display-mode: \"both\" }\n",
        "\n",
        "def pdf_operations():\n",
        "\n",
        "  filename = os.path.join(os.getcwd(), \"pypdf2\", \"oferta_handlowa_wzor.pdf\")\n",
        "\n",
        "  if check_if_file_exists(filename):\n",
        "    pdf_operations()\n",
        "  else:\n",
        "    upload_files(\"pypdf2\")\n",
        "    pdf_operations()\n",
        "\n",
        "  # usuwanie stron\n",
        "  page_to_delete = [2,3,4,5,6,7,8,9,10,11,12,13,14,15,16]\n",
        "  page_deleting(filename, page_to_delete)\n",
        "\n",
        "  reader = PdfReader(filename)\n",
        "  writer = PdfWriter()\n",
        "\n",
        "  check_if_encrypted(filename)\n",
        "\n",
        "  # annots reading\n",
        "  annots_reading(reader)\n",
        "\n",
        "  # czytanie metadanych\n",
        "  meta = reader.metadata\n",
        "  meta\n",
        "\n",
        "  # iterate over files in directory\n",
        "  # iterate_over_files_in_directory(path_to_working_directory)\n",
        "\n",
        "  # Reading form fields\n",
        "  reading_form_fields(reader)\n",
        "\n",
        "  # extract text\n",
        "  text = extract_text(reader)\n",
        "  print(text)\n",
        "\n",
        "  # add metadata\n",
        "  # add_metadata(filename)"
      ],
      "metadata": {
        "id": "rettydBbKPBy"
      },
      "execution_count": null,
      "outputs": []
    }
  ]
}