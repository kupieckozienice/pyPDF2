{
  "nbformat": 4,
  "nbformat_minor": 0,
  "metadata": {
    "colab": {
      "provenance": [],
      "mount_file_id": "1NQohPRAFwpfEeGA7vbOt-xT32Jw22OeN",
      "authorship_tag": "ABX9TyNX5hjbazcDgCf8hX5XxjeB",
      "include_colab_link": true
    },
    "kernelspec": {
      "name": "python3",
      "display_name": "Python 3"
    },
    "language_info": {
      "name": "python"
    }
  },
  "cells": [
    {
      "cell_type": "markdown",
      "metadata": {
        "id": "view-in-github",
        "colab_type": "text"
      },
      "source": [
        "<a href=\"https://colab.research.google.com/github/kupieckozienice/pyPDF2/blob/main/pypdf.ipynb\" target=\"_parent\"><img src=\"https://colab.research.google.com/assets/colab-badge.svg\" alt=\"Open In Colab\"/></a>"
      ]
    },
    {
      "cell_type": "markdown",
      "source": [
        "[LIBRARY] zainstalowanie biblioteki PyPDF2"
      ],
      "metadata": {
        "id": "biC7PTKPylQi"
      }
    },
    {
      "cell_type": "code",
      "source": [
        "pip install PyPDF2"
      ],
      "metadata": {
        "colab": {
          "base_uri": "https://localhost:8080/"
        },
        "id": "a8lERaDC0s-u",
        "outputId": "e577e38a-8142-46ed-e20a-d757f557f93c"
      },
      "execution_count": 2,
      "outputs": [
        {
          "output_type": "stream",
          "name": "stdout",
          "text": [
            "Collecting PyPDF2\n",
            "  Downloading pypdf2-3.0.1-py3-none-any.whl (232 kB)\n",
            "\u001b[?25l     \u001b[90m━━━━━━━━━━━━━━━━━━━━━━━━━━━━━━━━━━━━━━━━\u001b[0m \u001b[32m0.0/232.6 kB\u001b[0m \u001b[31m?\u001b[0m eta \u001b[36m-:--:--\u001b[0m\r\u001b[2K     \u001b[91m━━━━━━━━━━━━━━━━━━━\u001b[0m\u001b[90m╺\u001b[0m\u001b[90m━━━━━━━━━━━━━━━━━━━━\u001b[0m \u001b[32m112.6/232.6 kB\u001b[0m \u001b[31m3.1 MB/s\u001b[0m eta \u001b[36m0:00:01\u001b[0m\r\u001b[2K     \u001b[91m━━━━━━━━━━━━━━━━━━━━━━━━━━━━━━━━━━━━━━\u001b[0m\u001b[91m╸\u001b[0m\u001b[90m━\u001b[0m \u001b[32m225.3/232.6 kB\u001b[0m \u001b[31m4.8 MB/s\u001b[0m eta \u001b[36m0:00:01\u001b[0m\r\u001b[2K     \u001b[90m━━━━━━━━━━━━━━━━━━━━━━━━━━━━━━━━━━━━━━━━\u001b[0m \u001b[32m232.6/232.6 kB\u001b[0m \u001b[31m2.2 MB/s\u001b[0m eta \u001b[36m0:00:00\u001b[0m\n",
            "\u001b[?25hInstalling collected packages: PyPDF2\n",
            "Successfully installed PyPDF2-3.0.1\n"
          ]
        }
      ]
    },
    {
      "cell_type": "markdown",
      "source": [],
      "metadata": {
        "id": "r95CeypUO1n-"
      }
    },
    {
      "cell_type": "markdown",
      "source": [
        "[LIBRARY] install pdfminer.six"
      ],
      "metadata": {
        "id": "M-1LfzGpKMLJ"
      }
    },
    {
      "cell_type": "code",
      "source": [
        "pip install pdfminer.six"
      ],
      "metadata": {
        "colab": {
          "base_uri": "https://localhost:8080/"
        },
        "id": "wUM9zRW2KGCt",
        "outputId": "38eac477-b115-4a66-f94c-b3dd773e9213"
      },
      "execution_count": 3,
      "outputs": [
        {
          "output_type": "stream",
          "name": "stdout",
          "text": [
            "Collecting pdfminer.six\n",
            "  Downloading pdfminer.six-20231228-py3-none-any.whl (5.6 MB)\n",
            "\u001b[2K     \u001b[90m━━━━━━━━━━━━━━━━━━━━━━━━━━━━━━━━━━━━━━━━\u001b[0m \u001b[32m5.6/5.6 MB\u001b[0m \u001b[31m12.5 MB/s\u001b[0m eta \u001b[36m0:00:00\u001b[0m\n",
            "\u001b[?25hRequirement already satisfied: charset-normalizer>=2.0.0 in /usr/local/lib/python3.10/dist-packages (from pdfminer.six) (3.3.2)\n",
            "Requirement already satisfied: cryptography>=36.0.0 in /usr/local/lib/python3.10/dist-packages (from pdfminer.six) (41.0.7)\n",
            "Requirement already satisfied: cffi>=1.12 in /usr/local/lib/python3.10/dist-packages (from cryptography>=36.0.0->pdfminer.six) (1.16.0)\n",
            "Requirement already satisfied: pycparser in /usr/local/lib/python3.10/dist-packages (from cffi>=1.12->cryptography>=36.0.0->pdfminer.six) (2.21)\n",
            "Installing collected packages: pdfminer.six\n",
            "Successfully installed pdfminer.six-20231228\n"
          ]
        }
      ]
    },
    {
      "cell_type": "markdown",
      "source": [
        "[LIBRARY] importowanie niezbędnych *bibliotek*"
      ],
      "metadata": {
        "id": "6FlEalJQKUxi"
      }
    },
    {
      "cell_type": "code",
      "source": [
        "import os\n",
        "import pathlib as pth\n",
        "from typing import Union, Literal, List\n",
        "from PyPDF2 import PdfReader, PdfWriter"
      ],
      "metadata": {
        "id": "oC_2Bdqlp849"
      },
      "execution_count": 29,
      "outputs": []
    },
    {
      "cell_type": "markdown",
      "source": [
        "[DATA] konwersja daty"
      ],
      "metadata": {
        "id": "G39mkfy14fQN"
      }
    },
    {
      "cell_type": "code",
      "source": [
        "def convertPdfDatetime(pd):\n",
        "    from datetime import datetime\n",
        "    dtformat = \"%Y%m%d%H%M%S\"\n",
        "    clean = pd.replace(\"D:\",\"\").split('+')[0]\n",
        "    return datetime.strptime(clean,dtformat)"
      ],
      "metadata": {
        "id": "V1NCC5KMp3HF"
      },
      "execution_count": 5,
      "outputs": []
    },
    {
      "cell_type": "markdown",
      "source": [
        "[PDF] add blank page"
      ],
      "metadata": {
        "id": "H-Tx85Dd3rVP"
      }
    },
    {
      "cell_type": "code",
      "source": [
        "# add blank page\n",
        "def add_blank_page(writer, path_destination):\n",
        "  writer.add_blank_page(width=200, height=200)\n",
        "\n",
        "  data = b\"any bytes - typically read from a file\"\n",
        "  writer.add_attachment(\"smile.png\", data)\n",
        "\n",
        "  with open(\"output.pdf\", \"wb\") as output_stream:\n",
        "      writer.write(output_stream)"
      ],
      "metadata": {
        "id": "goDm6YP9078k"
      },
      "execution_count": 6,
      "outputs": []
    },
    {
      "cell_type": "markdown",
      "source": [
        "[PDF] sprawdzenie czy jest zaszyfrowany hasłem,\n",
        "jeśli tak to należy do odszyfrować pobranym hasłem\n",
        "\n"
      ],
      "metadata": {
        "id": "44KxPT8bwsPh"
      }
    },
    {
      "cell_type": "code",
      "source": [
        "def check_if_encrypted(path_to_file):\n",
        "  if os.path.isfile(path_to_file):\n",
        "    reader = PdfReader(path_to_file)\n",
        "\n",
        "    if reader.is_encrypted:\n",
        "      writer = PdfWriter()\n",
        "      password = input(\"Enter your password: \")\n",
        "      reader.decrypt(password)\n",
        "\n",
        "      # Add all pages to the writer\n",
        "      for page in reader.pages:\n",
        "          writer.add_page(page)\n",
        "\n",
        "      # Save the new PDF to a file\n",
        "      with open(path_to_file, \"wb\") as f:\n",
        "          writer.write(f)\n",
        "\n",
        "      print(\"plik rozszyfrowany\")\n",
        "    else:\n",
        "      print(\"plik NIE był zaszyfrowany\")"
      ],
      "metadata": {
        "id": "nXDIVq0z9Q2B"
      },
      "execution_count": 31,
      "outputs": []
    },
    {
      "cell_type": "markdown",
      "source": [
        "[PDF] czytanie adnotacji"
      ],
      "metadata": {
        "id": "MrJ_hcTGpy3I"
      }
    },
    {
      "cell_type": "code",
      "source": [
        "def annots_reading(reader):\n",
        "  print(\"funkcja annots_reading załadowana\")\n",
        "\n",
        "  attachments = {}\n",
        "\n",
        "  for page in reader.pages:\n",
        "    if \"/Annots\" in page:\n",
        "        for annot in page[\"/Annots\"]:\n",
        "            obj = annot.get_object()\n",
        "            annotation = {\"subtype\": obj[\"/Subtype\"], \"location\": obj[\"/Rect\"]}\n",
        "            print(annotation)\n",
        "\n",
        "            # text\n",
        "            subtype = annot.get_object()[\"/Subtype\"]\n",
        "            if subtype == \"/Text\":\n",
        "                print(annot.get_object()[\"/Contents\"])\n",
        "\n",
        "            # Highlights\n",
        "            subtype = annot.get_object()[\"/Subtype\"]\n",
        "            if subtype == \"/Highlight\":\n",
        "                coords = annot.get_object()[\"/QuadPoints\"]\n",
        "                x1, y1, x2, y2, x3, y3, x4, y4 = coords\n",
        "\n",
        "            # # attachments\n",
        "            # subtype = annot.get_object()[\"/Subtype\"]\n",
        "            # if subtype == \"/FileAttachment\":\n",
        "            #     fileobj = annotobj[\"/FS\"]\n",
        "            #     attachments[fileobj[\"/F\"]] = fileobj[\"/EF\"][\"/F\"].get_data()\n",
        "    else:\n",
        "      # print(\"brak andotacji w pliku\")\n",
        "      pass"
      ],
      "metadata": {
        "id": "sqbxGEGksKFj"
      },
      "execution_count": 8,
      "outputs": []
    },
    {
      "cell_type": "markdown",
      "source": [
        "[PYTHON] iterate over files in directory"
      ],
      "metadata": {
        "id": "v9yFEMYQ6Ri-"
      }
    },
    {
      "cell_type": "code",
      "source": [
        "# iterate over files in directory\n",
        "\n",
        "def iterate_over_files_in_directory(path_to_directory):\n",
        "\n",
        "  numerate = 1\n",
        "\n",
        "  for filename in os.listdir(path_to_directory):\n",
        "    f = os.path.join(path_to_directory, filename)\n",
        "    if os.path.isfile(f):\n",
        "      print(f\"{numerate}. {f}\")\n",
        "      numerate = numerate + 1"
      ],
      "metadata": {
        "id": "Io-gJ1Nw6Nox"
      },
      "execution_count": 9,
      "outputs": []
    },
    {
      "cell_type": "markdown",
      "source": [
        "[PDF] add the metadata"
      ],
      "metadata": {
        "id": "MSMH4xt-_PfM"
      }
    },
    {
      "cell_type": "code",
      "source": [
        "# Add the metadata\n",
        "def add_metadata(reader):\n",
        "  writer = PdfWriter()\n",
        "\n",
        "  # Add all pages to the writer\n",
        "  for page in reader.pages:\n",
        "      writer.add_page(page)\n",
        "\n",
        "  writer.add_metadata(\n",
        "      {\n",
        "          \"/Author\": \"Martino\",\n",
        "          \"/Producer\": \"Libre Writer\",\n",
        "          \"/Subject\": \"kikk\",\n",
        "          \"/Title\": \"jakis_tytul\",\n",
        "          # \"/ModDate\": modification_date  # Adding modification date\n",
        "      }\n",
        "  )\n",
        "\n",
        "  with open(os.path.join(path_to_working_directory, file_name), \"wb\") as f:\n",
        "    writer.write(f)\n"
      ],
      "metadata": {
        "id": "Mz9jWz5R_PR1"
      },
      "execution_count": 10,
      "outputs": []
    },
    {
      "cell_type": "markdown",
      "source": [
        "[PDF] read metadata"
      ],
      "metadata": {
        "id": "m-ll5ffmMfvU"
      }
    },
    {
      "cell_type": "code",
      "source": [
        "def read_metadata(reader):\n",
        "  meta = reader.metadata\n",
        "  print(len(reader.pages))\n",
        "\n",
        "  # All of the following could be None!\n",
        "  print(f\"author: {meta.author}\")\n",
        "  print(f\"creator: {meta.creator}\")\n",
        "  print(f\"producer: {meta.producer}\")\n",
        "  print(f\"subject: {meta.subject}\")\n",
        "  print(f\"title: {meta.title}\")"
      ],
      "metadata": {
        "id": "0T3YsCthMiKp"
      },
      "execution_count": 11,
      "outputs": []
    },
    {
      "cell_type": "markdown",
      "source": [
        "[PDF] reading form fields"
      ],
      "metadata": {
        "id": "i9mjR6evA9xg"
      }
    },
    {
      "cell_type": "code",
      "source": [
        "# reading form fields\n",
        "\n",
        "def reading_form_fields(reader):\n",
        "  # fields = reader.get_form_text_fields()\n",
        "  # fields == {\"key\": \"value\", \"key2\": \"value2\"}\n",
        "  # if reader.isEditable:\n",
        "  fields = reader.get_fields()\n",
        "\n",
        "  if bool(fields):\n",
        "    # print(fields)\n",
        "    for field_name, field_value in fields.items():\n",
        "      print(f\"nazwa pola: {field_name}, wartość: {field_value}\")\n",
        "  else:\n",
        "    print(\"brak fields-ów\")\n",
        "\n",
        "  # for field_name in fields:\n",
        "    # print(field_name)"
      ],
      "metadata": {
        "id": "FAnzmvbJA9of"
      },
      "execution_count": 12,
      "outputs": []
    },
    {
      "cell_type": "markdown",
      "source": [
        "[PDF] extract text"
      ],
      "metadata": {
        "id": "h5JG29sTNNsU"
      }
    },
    {
      "cell_type": "code",
      "source": [
        "# extract text\n",
        "def extract_text(reader):\n",
        "  text = \"\"\n",
        "  try:\n",
        "      for page in reader.pages:\n",
        "          text += page.extract_text()\n",
        "  except Exception as exc:\n",
        "      text = fallback_text_extraction(\"example.pdf\")\n",
        "\n",
        "  return text"
      ],
      "metadata": {
        "id": "5BEjMUp9NOiX"
      },
      "execution_count": 13,
      "outputs": []
    },
    {
      "cell_type": "markdown",
      "source": [
        "[PYTHON] sprawdzenie czy istnieje katalog roboczy"
      ],
      "metadata": {
        "id": "S051cnsJDBCT"
      }
    },
    {
      "cell_type": "code",
      "source": [
        "# sprawdzenie czy istnieje katalog roboczy, w którym chcemy pracować\n",
        "def check_if_directory_and_path_exists(directory_name):\n",
        "  # Ścieżka do katalogu bieżącego\n",
        "  cwd = os.getcwd()\n",
        "  print(f\"katalog \\\"bieżący\\\": {cwd}\")\n",
        "\n",
        "  working_directory_for_creating = os.path.join(cwd, directory_name)\n",
        "  print(f\"katalog roboczy do utworzenia (jeśli nie istnieje): {working_directory_for_creating}\")\n",
        "\n",
        "  try:\n",
        "    if not os.path.exists(working_directory_for_creating):\n",
        "      print(f\"katalog: {working_directory_for_creating} nie istnieje i zostanie utworzony\")\n",
        "      os.makedirs(working_directory_for_creating)\n",
        "    else:\n",
        "      print(f\"katalog: {working_directory_for_creating} już istnieje!\")\n",
        "  except FileExistsError:\n",
        "    print(f\"katalog o nazwie {working_directory_for_creating} już istnieje!\")\n",
        "  except Exception as e:\n",
        "    print(f\"wystąpił błąd podczas tworzenie katalogu: {working_directory_for_creating}\")"
      ],
      "metadata": {
        "id": "xpHkhACx7wIH"
      },
      "execution_count": 51,
      "outputs": []
    },
    {
      "cell_type": "markdown",
      "source": [
        "[PYTHON] upload plików z dysku lokalnego"
      ],
      "metadata": {
        "id": "QNiqqS2YogRl"
      }
    },
    {
      "cell_type": "code",
      "execution_count": 140,
      "metadata": {
        "id": "ZtqhtE1QnKas"
      },
      "outputs": [],
      "source": [
        "def import_files(destination_directory):\n",
        "  from google.colab import files\n",
        "\n",
        "  uploaded = files.upload()\n",
        "  # print(uploaded.keys())\n",
        "\n",
        "  for fn in uploaded.keys():\n",
        "    print('User uploaded file \"{name}\" with length {length} bytes'.format(\n",
        "        name=fn, length=len(uploaded[fn])))\n",
        "\n",
        "  for filename, file_content in uploaded.items():\n",
        "    if os.path.exists(destination_directory) and os.path.isdir(destination_directory):\n",
        "      with open(os.path.join(destination_directory, filename), \"wb\") as f:\n",
        "        f.write(file_content)\n",
        "\n",
        "      # remove files from /content\n",
        "      file_to_remove_after_copying_to_working_directory = os.path.join(os.getcwd(), filename)\n",
        "      if os.path.isfile(file_to_remove_after_copying_to_working_directory):\n",
        "        os.remove(file_to_remove_after_copying_to_working_directory)\n",
        "        if not os.path.exists(file_to_remove_after_copying_to_working_directory):\n",
        "          print(f\"plik: {os.path.basename(file_to_remove_after_copying_to_working_directory)} \"\n",
        "          f\"usunięty z katalogu {os.path.dirname(file_to_remove_after_copying_to_working_directory)}\")\n",
        "        else:\n",
        "          print(f\"plik: {os.path.basename(file_to_remove_after_copying_to_working_directory)} \"\n",
        "          f\"NIE usunięty z katalogu {os.path.dirname(file_to_remove_after_copying_to_working_directory)}\")\n",
        "\n"
      ]
    },
    {
      "cell_type": "code",
      "source": [
        "# usuwanie stron w pdf\n",
        "def page_deleting(source_file, pages_nums_to_delete):\n",
        "  print(source_file)\n",
        "\n",
        "  file_name_without_ext, ext = os.path.splitext(source_file)\n",
        "  new_file_name = ''.join([os.path.basename(file_name_without_ext), \"_with_deleted_pages\", ext])\n",
        "  destination_file = os.path.join(os.path.dirname(source_file), new_file_name)\n",
        "  print(file_name_without_ext)\n",
        "  print(ext)\n",
        "  print(new_file_name)\n",
        "\n",
        "  with open(source_file, \"rb\") as file:\n",
        "    reader = PdfReader(file)\n",
        "    writer = PdfWriter()\n",
        "\n",
        "    for page_num in range(len(reader.pages)):\n",
        "      if page_num + 1 not in pages_nums_to_delete:\n",
        "        page_to_stay = reader.pages[page_num]\n",
        "        writer.add_page(page_to_stay)\n",
        "\n",
        "  with open(destination_file, \"wb\") as new_file:\n",
        "    writer.write(new_file)\n",
        "\n",
        "  with open(destination_file, \"rb\") as new_file:\n",
        "    print(f\"liczba stron nowego pliku: {len(PdfReader(new_file).pages)}\")\n"
      ],
      "metadata": {
        "id": "B7eSWcC2DUJX"
      },
      "execution_count": 239,
      "outputs": []
    },
    {
      "cell_type": "markdown",
      "source": [
        "main app"
      ],
      "metadata": {
        "id": "PegvKm714tpA"
      }
    },
    {
      "cell_type": "code",
      "source": [
        "from datetime import datetime  # Import the datetime module\n",
        "from pdfminer.high_level import extract_text as fallback_text_extraction\n",
        "\n",
        "# Ścieżka do katalogu, w którym będą uploudowene pliki\n",
        "path_to_working_directory = os.path.join(os.getcwd(), \"pypdf2\")\n",
        "print(f\"Ścieżka do katalogu, w którym będą uploudowene pliki: {path_to_working_directory}\")\n",
        "\n",
        "# sprawdzenie czy istnieje katalog roboczy, w którym chcemy pracować\n",
        "check_if_directory_and_path_exists(path_to_working_directory)\n",
        "\n",
        "# usuwanie stron\n",
        "page_to_delete = [2,3,4,5,6,7,8,9,10,11,12,13,14,15,16]\n",
        "page_deleting(\"pypdf2/oferta_handlowa_wzor.pdf\", page_to_delete)\n",
        "\n",
        "# upload plików roboczych\n",
        "# import_files(path_to_working_directory)\n",
        "\n",
        "# reader = PdfReader(\"/content/pypdf2/oferta_handlowa_wzor.pdf\")\n",
        "# writer = PdfWriter()\n",
        "# check_if_encrypted(\"/content/pypdf2/oferta_handlowa_wzor.pdf\")\n",
        "\n",
        "# annots reading\n",
        "# annots_reading(reader)\n",
        "\n",
        "# czytanie metadanych\n",
        "# meta = reader.metadata\n",
        "# meta\n",
        "\n",
        "# iterate over files in directory\n",
        "# iterate_over_files_in_directory(path_to_working_directory)\n",
        "\n",
        "# Reading form fields\n",
        "# reading_form_fields(reader)\n",
        "\n",
        "# extract text\n",
        "# text = extract_text(reader)\n",
        "# print(text)\n",
        "\n",
        "# add metadata\n",
        "# add_metadata(reader)"
      ],
      "metadata": {
        "id": "ZZqgD5M-0eyZ",
        "colab": {
          "base_uri": "https://localhost:8080/"
        },
        "outputId": "f168862c-d09e-4eb1-ac65-738e0883a73f"
      },
      "execution_count": 242,
      "outputs": [
        {
          "output_type": "stream",
          "name": "stdout",
          "text": [
            "Ścieżka do katalogu, w którym będą uploudowene pliki: /content/pypdf2\n",
            "katalog \"bieżący\": /content\n",
            "katalog roboczy do utworzenia (jeśli nie istnieje): /content/pypdf2\n",
            "katalog: /content/pypdf2 już istnieje!\n",
            "pypdf2/oferta_handlowa_wzor.pdf\n",
            "pypdf2/oferta_handlowa_wzor\n",
            ".pdf\n",
            "oferta_handlowa_wzor_with_deleted_pages.pdf\n",
            "liczba stron nowego pliku: 1\n"
          ]
        }
      ]
    }
  ]
}