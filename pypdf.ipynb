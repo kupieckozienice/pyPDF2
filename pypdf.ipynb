{
  "nbformat": 4,
  "nbformat_minor": 0,
  "metadata": {
    "colab": {
      "provenance": [],
      "authorship_tag": "ABX9TyNSNYcNPPBJ57Buq1SPFLwA",
      "include_colab_link": true
    },
    "kernelspec": {
      "name": "python3",
      "display_name": "Python 3"
    },
    "language_info": {
      "name": "python"
    }
  },
  "cells": [
    {
      "cell_type": "markdown",
      "metadata": {
        "id": "view-in-github",
        "colab_type": "text"
      },
      "source": [
        "<a href=\"https://colab.research.google.com/github/kupieckozienice/pyPDF2/blob/main/pypdf.ipynb\" target=\"_parent\"><img src=\"https://colab.research.google.com/assets/colab-badge.svg\" alt=\"Open In Colab\"/></a>"
      ]
    },
    {
      "cell_type": "markdown",
      "source": [
        "[LIBRARY] zainstalowanie biblioteki PyPDF2"
      ],
      "metadata": {
        "id": "biC7PTKPylQi"
      }
    },
    {
      "cell_type": "code",
      "source": [
        "# Clone the entire repo.\n",
        "!git clone -l -s https://github.com/kupieckozienice/pyPDF2 cloned-repo\n",
        "%cd cloned-repo\n",
        "!ls"
      ],
      "metadata": {
        "colab": {
          "base_uri": "https://localhost:8080/"
        },
        "id": "MrQetC9ddQdI",
        "outputId": "1f5e7801-347a-4a41-fe42-3bbdbdb89d61"
      },
      "execution_count": null,
      "outputs": [
        {
          "output_type": "stream",
          "name": "stdout",
          "text": [
            "Cloning into 'cloned-repo'...\n",
            "warning: --local is ignored\n",
            "remote: Enumerating objects: 27, done.\u001b[K\n",
            "remote: Counting objects: 100% (27/27), done.\u001b[K\n",
            "remote: Compressing objects: 100% (25/25), done.\u001b[K\n",
            "remote: Total 27 (delta 8), reused 0 (delta 0), pack-reused 0\u001b[K\n",
            "Receiving objects: 100% (27/27), 14.15 KiB | 14.15 MiB/s, done.\n",
            "Resolving deltas: 100% (8/8), done.\n",
            "/content/cloned-repo\n",
            "AAA  pypdf.ipynb  pyPDF.ipynb\n"
          ]
        }
      ]
    },
    {
      "cell_type": "code",
      "source": [
        "pip install python-docx"
      ],
      "metadata": {
        "id": "PO0M9LH0gVDY",
        "outputId": "6f4594e4-3e12-47ff-9aac-9b277df26598",
        "colab": {
          "base_uri": "https://localhost:8080/",
          "height": 0
        }
      },
      "execution_count": 1,
      "outputs": [
        {
          "output_type": "stream",
          "name": "stdout",
          "text": [
            "Collecting python-docx\n",
            "  Downloading python_docx-1.1.0-py3-none-any.whl (239 kB)\n",
            "\u001b[2K     \u001b[90m━━━━━━━━━━━━━━━━━━━━━━━━━━━━━━━━━━━━━━━━\u001b[0m \u001b[32m239.6/239.6 kB\u001b[0m \u001b[31m3.0 MB/s\u001b[0m eta \u001b[36m0:00:00\u001b[0m\n",
            "\u001b[?25hRequirement already satisfied: lxml>=3.1.0 in /usr/local/lib/python3.10/dist-packages (from python-docx) (4.9.4)\n",
            "Requirement already satisfied: typing-extensions in /usr/local/lib/python3.10/dist-packages (from python-docx) (4.5.0)\n",
            "Installing collected packages: python-docx\n",
            "Successfully installed python-docx-1.1.0\n"
          ]
        }
      ]
    },
    {
      "cell_type": "code",
      "source": [
        "pip install PyPDF2"
      ],
      "metadata": {
        "colab": {
          "base_uri": "https://localhost:8080/",
          "height": 0
        },
        "id": "a8lERaDC0s-u",
        "outputId": "674fde1e-eda3-48a7-e79f-dcb590735647"
      },
      "execution_count": 2,
      "outputs": [
        {
          "output_type": "stream",
          "name": "stdout",
          "text": [
            "Collecting PyPDF2\n",
            "  Downloading pypdf2-3.0.1-py3-none-any.whl (232 kB)\n",
            "\u001b[2K     \u001b[90m━━━━━━━━━━━━━━━━━━━━━━━━━━━━━━━━━━━━━━━━\u001b[0m \u001b[32m232.6/232.6 kB\u001b[0m \u001b[31m2.6 MB/s\u001b[0m eta \u001b[36m0:00:00\u001b[0m\n",
            "\u001b[?25hInstalling collected packages: PyPDF2\n",
            "Successfully installed PyPDF2-3.0.1\n"
          ]
        }
      ]
    },
    {
      "cell_type": "markdown",
      "source": [],
      "metadata": {
        "id": "r95CeypUO1n-"
      }
    },
    {
      "cell_type": "markdown",
      "source": [
        "[LIBRARY] install openpyxl"
      ],
      "metadata": {
        "id": "dTe42osOFuWv"
      }
    },
    {
      "cell_type": "code",
      "source": [
        "pip install openpyxl"
      ],
      "metadata": {
        "id": "dY2jkySJFpti",
        "outputId": "94c76914-693c-468c-9a8f-d075ef8e637e",
        "colab": {
          "base_uri": "https://localhost:8080/",
          "height": 0
        }
      },
      "execution_count": 56,
      "outputs": [
        {
          "output_type": "stream",
          "name": "stdout",
          "text": [
            "Requirement already satisfied: openpyxl in /usr/local/lib/python3.10/dist-packages (3.1.2)\n",
            "Requirement already satisfied: et-xmlfile in /usr/local/lib/python3.10/dist-packages (from openpyxl) (1.1.0)\n"
          ]
        }
      ]
    },
    {
      "cell_type": "markdown",
      "source": [
        "[LIBRARY] install pdfminer.six"
      ],
      "metadata": {
        "id": "M-1LfzGpKMLJ"
      }
    },
    {
      "cell_type": "code",
      "source": [
        "pip install pdfminer.six"
      ],
      "metadata": {
        "colab": {
          "base_uri": "https://localhost:8080/",
          "height": 0
        },
        "id": "wUM9zRW2KGCt",
        "outputId": "7722543d-fa9f-4db6-fed6-c9b0e17913bb"
      },
      "execution_count": 3,
      "outputs": [
        {
          "output_type": "stream",
          "name": "stdout",
          "text": [
            "Collecting pdfminer.six\n",
            "  Downloading pdfminer.six-20231228-py3-none-any.whl (5.6 MB)\n",
            "\u001b[2K     \u001b[90m━━━━━━━━━━━━━━━━━━━━━━━━━━━━━━━━━━━━━━━━\u001b[0m \u001b[32m5.6/5.6 MB\u001b[0m \u001b[31m17.0 MB/s\u001b[0m eta \u001b[36m0:00:00\u001b[0m\n",
            "\u001b[?25hRequirement already satisfied: charset-normalizer>=2.0.0 in /usr/local/lib/python3.10/dist-packages (from pdfminer.six) (3.3.2)\n",
            "Requirement already satisfied: cryptography>=36.0.0 in /usr/local/lib/python3.10/dist-packages (from pdfminer.six) (41.0.7)\n",
            "Requirement already satisfied: cffi>=1.12 in /usr/local/lib/python3.10/dist-packages (from cryptography>=36.0.0->pdfminer.six) (1.16.0)\n",
            "Requirement already satisfied: pycparser in /usr/local/lib/python3.10/dist-packages (from cffi>=1.12->cryptography>=36.0.0->pdfminer.six) (2.21)\n",
            "Installing collected packages: pdfminer.six\n",
            "Successfully installed pdfminer.six-20231228\n"
          ]
        }
      ]
    },
    {
      "cell_type": "markdown",
      "source": [
        "[LIBRARY] importowanie niezbędnych *bibliotek*"
      ],
      "metadata": {
        "id": "6FlEalJQKUxi"
      }
    },
    {
      "cell_type": "code",
      "source": [
        "import os\n",
        "import pathlib as pth\n",
        "from typing import Union, Literal, List\n",
        "from PyPDF2 import PdfReader, PdfWriter\n",
        "from datetime import datetime  # Import the datetime module\n",
        "from pdfminer.high_level import extract_text as fallback_text_extraction"
      ],
      "metadata": {
        "id": "oC_2Bdqlp849"
      },
      "execution_count": 57,
      "outputs": []
    },
    {
      "cell_type": "markdown",
      "source": [
        "[DATA] konwersja daty"
      ],
      "metadata": {
        "id": "G39mkfy14fQN"
      }
    },
    {
      "cell_type": "code",
      "source": [
        "def convertPdfDatetime(pd):\n",
        "    from datetime import datetime\n",
        "    dtformat = \"%Y%m%d%H%M%S\"\n",
        "    clean = pd.replace(\"D:\",\"\").split('+')[0]\n",
        "    return datetime.strptime(clean,dtformat)"
      ],
      "metadata": {
        "id": "V1NCC5KMp3HF"
      },
      "execution_count": 5,
      "outputs": []
    },
    {
      "cell_type": "markdown",
      "source": [
        "[PDF] add blank page"
      ],
      "metadata": {
        "id": "H-Tx85Dd3rVP"
      }
    },
    {
      "cell_type": "code",
      "source": [
        "# add blank page\n",
        "def add_blank_page(writer, path_destination):\n",
        "  writer.add_blank_page(width=200, height=200)\n",
        "\n",
        "  data = b\"any bytes - typically read from a file\"\n",
        "  writer.add_attachment(\"smile.png\", data)\n",
        "\n",
        "  with open(\"output.pdf\", \"wb\") as output_stream:\n",
        "      writer.write(output_stream)"
      ],
      "metadata": {
        "id": "goDm6YP9078k"
      },
      "execution_count": 6,
      "outputs": []
    },
    {
      "cell_type": "markdown",
      "source": [
        "[PDF] sprawdzenie czy jest zaszyfrowany hasłem,\n",
        "jeśli tak to należy do odszyfrować pobranym hasłem\n",
        "\n"
      ],
      "metadata": {
        "id": "44KxPT8bwsPh"
      }
    },
    {
      "cell_type": "code",
      "source": [
        "def check_if_encrypted(path_to_file):\n",
        "  if os.path.isfile(path_to_file):\n",
        "    reader = PdfReader(path_to_file)\n",
        "\n",
        "    if reader.is_encrypted:\n",
        "      writer = PdfWriter()\n",
        "      password = input(\"Enter your password: \")\n",
        "      reader.decrypt(password)\n",
        "\n",
        "      # Add all pages to the writer\n",
        "      for page in reader.pages:\n",
        "          writer.add_page(page)\n",
        "\n",
        "      # Save the new PDF to a file\n",
        "      with open(path_to_file, \"wb\") as f:\n",
        "          writer.write(f)\n",
        "\n",
        "      print(\"plik rozszyfrowany\")\n",
        "    else:\n",
        "      print(\"plik NIE był zaszyfrowany\")"
      ],
      "metadata": {
        "id": "nXDIVq0z9Q2B"
      },
      "execution_count": 7,
      "outputs": []
    },
    {
      "cell_type": "markdown",
      "source": [
        "[PDF] czytanie adnotacji"
      ],
      "metadata": {
        "id": "MrJ_hcTGpy3I"
      }
    },
    {
      "cell_type": "code",
      "source": [
        "def annots_reading(reader):\n",
        "  print(\"funkcja annots_reading załadowana\")\n",
        "\n",
        "  attachments = {}\n",
        "\n",
        "  for page in reader.pages:\n",
        "    if \"/Annots\" in page:\n",
        "        for annot in page[\"/Annots\"]:\n",
        "            obj = annot.get_object()\n",
        "            annotation = {\"subtype\": obj[\"/Subtype\"], \"location\": obj[\"/Rect\"]}\n",
        "            print(annotation)\n",
        "\n",
        "            # text\n",
        "            subtype = annot.get_object()[\"/Subtype\"]\n",
        "            if subtype == \"/Text\":\n",
        "                print(annot.get_object()[\"/Contents\"])\n",
        "\n",
        "            # Highlights\n",
        "            subtype = annot.get_object()[\"/Subtype\"]\n",
        "            if subtype == \"/Highlight\":\n",
        "                coords = annot.get_object()[\"/QuadPoints\"]\n",
        "                x1, y1, x2, y2, x3, y3, x4, y4 = coords\n",
        "\n",
        "            # # attachments\n",
        "            # subtype = annot.get_object()[\"/Subtype\"]\n",
        "            # if subtype == \"/FileAttachment\":\n",
        "            #     fileobj = annotobj[\"/FS\"]\n",
        "            #     attachments[fileobj[\"/F\"]] = fileobj[\"/EF\"][\"/F\"].get_data()\n",
        "    else:\n",
        "      # print(\"brak andotacji w pliku\")\n",
        "      pass"
      ],
      "metadata": {
        "id": "sqbxGEGksKFj"
      },
      "execution_count": 8,
      "outputs": []
    },
    {
      "cell_type": "markdown",
      "source": [
        "[PYTHON] iterate over files in directory"
      ],
      "metadata": {
        "id": "v9yFEMYQ6Ri-"
      }
    },
    {
      "cell_type": "code",
      "source": [
        "# iterate over files in directory\n",
        "\n",
        "def iterate_over_files_in_directory(path_to_directory):\n",
        "\n",
        "  numerate = 1\n",
        "\n",
        "  for filename in os.listdir(path_to_directory):\n",
        "    f = os.path.join(path_to_directory, filename)\n",
        "    if os.path.isfile(f):\n",
        "      print(f\"{numerate}. {f}\")\n",
        "      numerate = numerate + 1"
      ],
      "metadata": {
        "id": "Io-gJ1Nw6Nox"
      },
      "execution_count": 9,
      "outputs": []
    },
    {
      "cell_type": "markdown",
      "source": [
        "[PDF] add the metadata"
      ],
      "metadata": {
        "id": "MSMH4xt-_PfM"
      }
    },
    {
      "cell_type": "code",
      "source": [
        "# Add the metadata\n",
        "def add_metadata(path_to_file):\n",
        "  reader = PdfReader(path_to_file)\n",
        "  writer = PdfWriter()\n",
        "\n",
        "  # Add all pages to the writer\n",
        "  for page in reader.pages:\n",
        "      writer.add_page(page)\n",
        "\n",
        "  writer.add_metadata(\n",
        "      {\n",
        "          \"/Author\": \"Martino\",\n",
        "          \"/Producer\": \"Libre Writer\",\n",
        "          \"/Subject\": \"kikk\",\n",
        "          \"/Title\": \"jakis_tytul\",\n",
        "          # \"/ModDate\": modification_date  # Adding modification date\n",
        "      }\n",
        "  )\n",
        "\n",
        "  with open(os.path.join(path_to_working_directory, path_to_file), \"wb\") as f:\n",
        "    writer.write(f)"
      ],
      "metadata": {
        "id": "Mz9jWz5R_PR1"
      },
      "execution_count": 10,
      "outputs": []
    },
    {
      "cell_type": "markdown",
      "source": [
        "[PDF] read metadata"
      ],
      "metadata": {
        "id": "m-ll5ffmMfvU"
      }
    },
    {
      "cell_type": "code",
      "source": [
        "def read_metadata(reader):\n",
        "  meta = reader.metadata\n",
        "  print(len(reader.pages))\n",
        "\n",
        "  # All of the following could be None!\n",
        "  print(f\"author: {meta.author}\")\n",
        "  print(f\"creator: {meta.creator}\")\n",
        "  print(f\"producer: {meta.producer}\")\n",
        "  print(f\"subject: {meta.subject}\")\n",
        "  print(f\"title: {meta.title}\")"
      ],
      "metadata": {
        "id": "0T3YsCthMiKp"
      },
      "execution_count": 11,
      "outputs": []
    },
    {
      "cell_type": "markdown",
      "source": [
        "[PDF] reading form fields"
      ],
      "metadata": {
        "id": "i9mjR6evA9xg"
      }
    },
    {
      "cell_type": "code",
      "source": [
        "# reading form fields\n",
        "\n",
        "def reading_form_fields(reader):\n",
        "  # fields = reader.get_form_text_fields()\n",
        "  # fields == {\"key\": \"value\", \"key2\": \"value2\"}\n",
        "  # if reader.isEditable:\n",
        "  fields = reader.get_fields()\n",
        "\n",
        "  if bool(fields):\n",
        "    # print(fields)\n",
        "    for field_name, field_value in fields.items():\n",
        "      print(f\"nazwa pola: {field_name}, wartość: {field_value}\")\n",
        "  else:\n",
        "    print(\"brak fields-ów\")\n",
        "\n",
        "  # for field_name in fields:\n",
        "    # print(field_name)"
      ],
      "metadata": {
        "id": "FAnzmvbJA9of"
      },
      "execution_count": 12,
      "outputs": []
    },
    {
      "cell_type": "markdown",
      "source": [
        "[PDF] extract text"
      ],
      "metadata": {
        "id": "h5JG29sTNNsU"
      }
    },
    {
      "cell_type": "code",
      "source": [
        "# extract text\n",
        "def extract_text(reader):\n",
        "  text = \"\"\n",
        "  try:\n",
        "      for page in reader.pages:\n",
        "          text += page.extract_text()\n",
        "  except Exception as exc:\n",
        "      text = fallback_text_extraction(\"example.pdf\")\n",
        "\n",
        "  return text"
      ],
      "metadata": {
        "id": "5BEjMUp9NOiX"
      },
      "execution_count": 13,
      "outputs": []
    },
    {
      "cell_type": "markdown",
      "source": [
        "[PYTHON] sprawdzenie czy istnieje katalog roboczy"
      ],
      "metadata": {
        "id": "S051cnsJDBCT"
      }
    },
    {
      "cell_type": "code",
      "source": [
        "# sprawdzenie czy istnieje katalog roboczy, w którym chcemy pracować\n",
        "def check_if_directory_and_path_exists(directory_name):\n",
        "  # Ścieżka do katalogu bieżącego\n",
        "  cwd = os.getcwd()\n",
        "  print(f\"katalog \\\"bieżący\\\": {cwd}\")\n",
        "\n",
        "  working_directory_for_creating = os.path.join(cwd, directory_name)\n",
        "  print(f\"katalog roboczy do utworzenia (jeśli nie istnieje): {working_directory_for_creating}\")\n",
        "\n",
        "  try:\n",
        "    if not os.path.exists(working_directory_for_creating):\n",
        "      print(f\"katalog: {working_directory_for_creating} nie istnieje i zostanie utworzony\")\n",
        "      os.makedirs(working_directory_for_creating)\n",
        "    else:\n",
        "      print(f\"katalog: {working_directory_for_creating} już istnieje!\")\n",
        "  except FileExistsError:\n",
        "    print(f\"katalog o nazwie {working_directory_for_creating} już istnieje!\")\n",
        "  except Exception as e:\n",
        "    print(f\"wystąpił błąd podczas tworzenie katalogu: {working_directory_for_creating}\")"
      ],
      "metadata": {
        "id": "xpHkhACx7wIH"
      },
      "execution_count": 14,
      "outputs": []
    },
    {
      "cell_type": "markdown",
      "source": [
        "[PYTHON] upload plików z dysku lokalnego"
      ],
      "metadata": {
        "id": "QNiqqS2YogRl"
      }
    },
    {
      "cell_type": "code",
      "execution_count": 15,
      "metadata": {
        "id": "ZtqhtE1QnKas"
      },
      "outputs": [],
      "source": [
        "def import_files(destination_directory):\n",
        "  from google.colab import files\n",
        "\n",
        "  uploaded = files.upload()\n",
        "  # print(uploaded.keys())\n",
        "\n",
        "  for fn in uploaded.keys():\n",
        "    print('User uploaded file \"{name}\" with length {length} bytes'.format(\n",
        "        name=fn, length=len(uploaded[fn])))\n",
        "\n",
        "  for filename, file_content in uploaded.items():\n",
        "    if os.path.exists(destination_directory) and os.path.isdir(destination_directory):\n",
        "      with open(os.path.join(destination_directory, filename), \"wb\") as f:\n",
        "        f.write(file_content)\n",
        "\n",
        "      # remove files from /content\n",
        "      file_to_remove_after_copying_to_working_directory = os.path.join(os.getcwd(), filename)\n",
        "      if os.path.isfile(file_to_remove_after_copying_to_working_directory):\n",
        "        os.remove(file_to_remove_after_copying_to_working_directory)\n",
        "        if not os.path.exists(file_to_remove_after_copying_to_working_directory):\n",
        "          print(f\"plik: {os.path.basename(file_to_remove_after_copying_to_working_directory)} \"\n",
        "          f\"usunięty z katalogu {os.path.dirname(file_to_remove_after_copying_to_working_directory)}\")\n",
        "        else:\n",
        "          print(f\"plik: {os.path.basename(file_to_remove_after_copying_to_working_directory)} \"\n",
        "          f\"NIE usunięty z katalogu {os.path.dirname(file_to_remove_after_copying_to_working_directory)}\")"
      ]
    },
    {
      "cell_type": "markdown",
      "source": [
        "[pdf] usuwanie stron w pdf"
      ],
      "metadata": {
        "id": "8i2FUmuXT9cQ"
      }
    },
    {
      "cell_type": "code",
      "source": [
        "# usuwanie stron w pdf\n",
        "def page_deleting(source_file, pages_nums_to_delete):\n",
        "  print(source_file)\n",
        "\n",
        "  file_name_without_ext, ext = os.path.splitext(source_file)\n",
        "  new_file_name = ''.join([os.path.basename(file_name_without_ext), ext])\n",
        "\n",
        "  destination_file = os.path.join(os.path.dirname(source_file), new_file_name)\n",
        "  print(file_name_without_ext)\n",
        "  print(ext)\n",
        "  print(new_file_name)\n",
        "\n",
        "  with open(source_file, \"rb\") as file:\n",
        "    reader = PdfReader(file)\n",
        "    writer = PdfWriter()\n",
        "\n",
        "    for page_num in range(len(reader.pages)):\n",
        "      if page_num + 1 not in pages_nums_to_delete:\n",
        "        page_to_stay = reader.pages[page_num]\n",
        "        writer.add_page(page_to_stay)\n",
        "\n",
        "  with open(destination_file, \"wb\") as new_file:\n",
        "    writer.write(new_file)\n",
        "\n",
        "  with open(destination_file, \"rb\") as new_file:\n",
        "    print(f\"liczba stron nowego pliku: {len(PdfReader(new_file).pages)}\")"
      ],
      "metadata": {
        "id": "B7eSWcC2DUJX"
      },
      "execution_count": 38,
      "outputs": []
    },
    {
      "cell_type": "code",
      "source": [
        "# check if file exists\n",
        "def check_if_file_exists(path_to_file):\n",
        "  try:\n",
        "    with open(path_to_file, 'r') as file:\n",
        "      print(f\"Plik {path_to_file} istnieje i ma się całkiem nieźle ;-)\")\n",
        "      return True\n",
        "  except FileNotFoundError:\n",
        "    print('Sorry the file we\\'re looking for doesn\\' exist')\n",
        "    return False\n",
        "  except Exception as e:\n",
        "    print(f\"Wystąpił błąd: {e}\")\n",
        "    return False"
      ],
      "metadata": {
        "id": "NwyYKWSoW4Uo"
      },
      "execution_count": 17,
      "outputs": []
    },
    {
      "cell_type": "markdown",
      "source": [
        "main app"
      ],
      "metadata": {
        "id": "PegvKm714tpA"
      }
    },
    {
      "cell_type": "markdown",
      "source": [
        "PDF operacje"
      ],
      "metadata": {
        "id": "if0SldrnpXLj"
      }
    },
    {
      "cell_type": "code",
      "source": [
        "# PDF operacje\n",
        "def pdf_operations():\n",
        "  # usuwanie stron\n",
        "  page_to_delete = [2,3,4,5,6,7,8,9,10,11,12,13,14,15,16]\n",
        "  page_deleting(filename, page_to_delete)\n",
        "\n",
        "  reader = PdfReader(filename)\n",
        "  writer = PdfWriter()\n",
        "\n",
        "  check_if_encrypted(filename)\n",
        "\n",
        "  # annots reading\n",
        "  annots_reading(reader)\n",
        "\n",
        "  # czytanie metadanych\n",
        "  meta = reader.metadata\n",
        "  meta\n",
        "\n",
        "  # iterate over files in directory\n",
        "  # iterate_over_files_in_directory(path_to_working_directory)\n",
        "\n",
        "  # Reading form fields\n",
        "  reading_form_fields(reader)\n",
        "\n",
        "  # extract text\n",
        "  text = extract_text(reader)\n",
        "  print(text)\n",
        "\n",
        "  # add metadata\n",
        "  # add_metadata(filename)"
      ],
      "metadata": {
        "id": "ZZqgD5M-0eyZ"
      },
      "execution_count": 36,
      "outputs": []
    },
    {
      "cell_type": "markdown",
      "source": [
        "upload files"
      ],
      "metadata": {
        "id": "O1Rzj0at5ORS"
      }
    },
    {
      "cell_type": "code",
      "source": [
        "# upload files\n",
        "def upload_files(folder_domyslny = \"uploaded\"):\n",
        "  check_if_directory_and_path_exists(folder_domyslny)\n",
        "  import_files(folder_domyslny)"
      ],
      "metadata": {
        "id": "JIelgrZw6Q6F"
      },
      "execution_count": 43,
      "outputs": []
    },
    {
      "cell_type": "markdown",
      "source": [
        "[PDF] praca z plikiem PDF"
      ],
      "metadata": {
        "id": "Xzg5VoZa4KO-"
      }
    },
    {
      "cell_type": "code",
      "source": [
        "# praca z plikiem PDF\n",
        "# nazwa pliku roboczego wraz ze ścieżką\n",
        "\n",
        "filename = os.path.join(os.getcwd(), \"pypdf2\", \"oferta_handlowa_wzor.pdf\")\n",
        "\n",
        "if check_if_file_exists(filename):\n",
        "  pdf_operations()\n",
        "else:\n",
        "  upload_files(\"pypdf2\")\n",
        "  pdf_operations()"
      ],
      "metadata": {
        "id": "s5LCo1OMpQFy",
        "outputId": "f12c0bca-da36-46b1-b1b2-b881117b27b5",
        "colab": {
          "base_uri": "https://localhost:8080/",
          "height": 0
        }
      },
      "execution_count": 44,
      "outputs": [
        {
          "output_type": "stream",
          "name": "stdout",
          "text": [
            "Plik /content/pypdf2/oferta_handlowa_wzor.pdf istnieje i ma się całkiem nieźle ;-)\n",
            "/content/pypdf2/oferta_handlowa_wzor.pdf\n",
            "/content/pypdf2/oferta_handlowa_wzor\n",
            ".pdf\n",
            "oferta_handlowa_wzor.pdf\n",
            "liczba stron nowego pliku: 1\n",
            "plik NIE był zaszyfrowany\n",
            "funkcja annots_reading załadowana\n",
            "brak fields-ów\n",
            "Klient:\n",
            "[Nazwa firmy klienta]\n",
            "[Adres firmy klienta]\n",
            "NIP: [NIP klienta]Data wystawienia: 16-11-2021\n",
            "Ważny przez: 01-01-2022\n",
            "Oferta handlowa # 805\n",
            "Nazwa usługi / towaru Ilość Cena netto Wartość netto\n",
            "mój produkt 4 420,00 1 680,00\n",
            "moja usługa 1 1 200,00 1 200,00\n",
            "moja usługa (Rabat 10%) 1 -120,00 -120,00\n",
            "Wartość netto: 2 760,00 zł\n",
            "VAT(23%): 634,80 zł\n",
            "Razem do zapłaty: 3 394,80 zł\n",
            "[Nazwa firmy]\n",
            "NIP: [NIP][Adres] [Nazwa banku]\n",
            "[Numer konta bankowego]\n",
            "SWIFT/BIC: [SWIFT / BIC]\n",
            "Forma płatności: przelew\n"
          ]
        }
      ]
    },
    {
      "cell_type": "markdown",
      "source": [
        "pydocx - import bibliotek"
      ],
      "metadata": {
        "id": "oSR6WIaU7vZG"
      }
    },
    {
      "cell_type": "code",
      "source": [
        "from docx import Document\n",
        "from docx.shared import Inches, Pt\n",
        "from docx.enum.text import WD_ALIGN_PARAGRAPH\n",
        "from google.colab import files\n",
        "from datetime import datetime"
      ],
      "metadata": {
        "id": "EZG4tY0Apppv"
      },
      "execution_count": 45,
      "outputs": []
    },
    {
      "cell_type": "markdown",
      "source": [
        "pydocx - praca z dokumentem"
      ],
      "metadata": {
        "id": "3269uXRMpuk2"
      }
    },
    {
      "cell_type": "code",
      "source": [
        "doc = Document()\n",
        "\n",
        "# modyfikacja stylu Normal\n",
        "normal_style = doc.styles['Normal']\n",
        "normal_style.font.name = 'Tahoma'\n",
        "normal_style.font.size = Pt(9)\n",
        "normal_style.paragraph_format.alignment = WD_ALIGN_PARAGRAPH.LEFT\n",
        "\n",
        "# styl nagłówka GŁÓWNEGO\n",
        "style = doc.styles.add_style('nagłówek_główny_styl', 1)\n",
        "style.font.name = 'Tahoma'\n",
        "style.font.size = Pt(9)\n",
        "style.paragraph_format.alignment = WD_ALIGN_PARAGRAPH.CENTER\n",
        "\n",
        "# zmiana marginesu storny\n",
        "sekcja = doc.sections[0]\n",
        "sekcja.left_margin = Inches(1)\n",
        "sekcja.right_margin = Inches(1)\n",
        "szerokosc_strony = sekcja.page_width - sekcja.left_margin - sekcja.right_margin\n",
        "\n",
        "# dodanie logo firmy\n",
        "logo_sciezka = '/content/uploaded/nagłowek_enea.PNG'\n",
        "\n",
        "if not check_if_file_exists(logo_sciezka):\n",
        "  upload_files(os.path.dirname(logo_sciezka))\n",
        "  logo_added = doc.add_picture(logo_sciezka)\n",
        "  wciecie_logo = szerokosc_strony - logo_added.width / 2\n",
        "else:\n",
        "  logo_added = doc.add_picture(logo_sciezka)\n",
        "  wciecie_logo = szerokosc_strony - logo_added.width / 2\n",
        "\n",
        "# dane wejściowe\n",
        "nazwa_sprawy = \"KZP.ŁA.2110.23.2024\"\n",
        "data_dokumentu = datetime.now().strftime('%d.%m.%Y')\n",
        "\n",
        "# dodanie znaku sprawy i daty\n",
        "p = doc.add_paragraph(f'Nasz znak: ')\n",
        "run_znak_sprawy = p.add_run(f'{nazwa_sprawy}')\n",
        "run_znak_sprawy.bold = True\n",
        "p.style = 'Normal'\n",
        "\n",
        "# dodanie daty dokumentu\n",
        "data = doc.add_paragraph(f\"Świerże Górne, dn. \")\n",
        "data_run = data.add_run(f'{data_dokumentu}r.')\n",
        "data_run.bold = True\n",
        "data.alignment = WD_ALIGN_PARAGRAPH.RIGHT\n",
        "\n",
        "# dodanie nagłówka\n",
        "nagłówek_text = doc.add_heading('ZAPYTANIE OFERTOWE (RFX)', 0)\n",
        "nagłówek_text.style = 'nagłówek_główny_styl'\n",
        "\n",
        "pkt_1 = \"WPROWADZENIE:\\nNiniejsze Zapytanie jest podstawą do złożenia ofert.\"\n",
        "pkt_2 = \"TRYB UDZIELENIA ZAMÓWIENIA:\\nPostępowanie w trybie Zapytania Ofertowego (RFX) prowadzone jest w oparciu o wewnętrzny Regulamin Udzielania Zamówień i Zawierania Umów (RUZiZU) Zamawiającego, dla którego nie mają zastosowania przepisy ustawy z dnia 11.09.2019 r. Prawo zamówień publicznych.\"\n",
        "podpunkt_3_1 = f\"Wykonanie usługi pn. \\\"{nazwa_sprawy}\\\".\"\n",
        "podpunkt_3_2 = \"Zakres dostawy wg: Załącznika Nr 1 pn. \\\"Zakres Przedmiotu zamówienia\\\".\"\n",
        "pkt_3 = {\"PRZEDMIOT ZAMÓWIENIA\": [podpunkt_3_1, podpunkt_3_2]}\n",
        "lista_punktów = [pkt_1, pkt_2, pkt_3]\n",
        "\n",
        "for punkt in lista_punktów:\n",
        "  if isinstance(punkt, dict):\n",
        "    for main_item, sub_items in punkt.items():\n",
        "      paragraf = doc.add_paragraph(main_item, style = 'ListNumber')\n",
        "      for sub_item in sub_items:\n",
        "        sub_paragraf = doc.add_paragraph(sub_item, style = 'ListBullet')\n",
        "        sub_paragraf.paragraph_format.left_indent = 360\n",
        "  else:\n",
        "    paragraf = doc.add_paragraph(punkt, style = 'ListNumber')\n",
        "\n",
        "records = (\n",
        "    (3, '101', 'Spam'),\n",
        "    (7, '422', 'Eggs'),\n",
        "    (4, '631', 'Spam, spam, eggs, and spam'),\n",
        "    (4, '631', 'Spam, spam, eggs, and spam')\n",
        ")\n",
        "\n",
        "table = doc.add_table(rows=1, cols=3)\n",
        "hdr_cells = table.rows[0].cells\n",
        "hdr_cells[0].text = 'Qty'\n",
        "hdr_cells[1].text = 'Id'\n",
        "hdr_cells[2].text = 'Desc'\n",
        "\n",
        "for qty, id, desc in records:\n",
        "    row_cells = table.add_row().cells\n",
        "    row_cells[0].text = str(qty)\n",
        "    row_cells[1].text = id\n",
        "    row_cells[2].text = desc\n",
        "\n",
        "doc.add_page_break()\n",
        "\n",
        "doc.save('demo.docx')\n",
        "files.download('demo.docx')"
      ],
      "metadata": {
        "id": "wf66CvM8gDzw",
        "outputId": "476c2cf0-d9e4-4b4b-a737-bd63f3785f7f",
        "colab": {
          "base_uri": "https://localhost:8080/",
          "height": 72
        }
      },
      "execution_count": 49,
      "outputs": [
        {
          "output_type": "stream",
          "name": "stdout",
          "text": [
            "Plik /content/uploaded/nagłowek_enea.PNG istnieje i ma się całkiem nieźle ;-)\n"
          ]
        },
        {
          "output_type": "stream",
          "name": "stderr",
          "text": [
            "/usr/local/lib/python3.10/dist-packages/docx/styles/styles.py:130: UserWarning: style lookup by style_id is deprecated. Use style name as key instead.\n",
            "  return self._get_style_id_from_style(self[style_name], style_type)\n"
          ]
        },
        {
          "output_type": "display_data",
          "data": {
            "text/plain": [
              "<IPython.core.display.Javascript object>"
            ],
            "application/javascript": [
              "\n",
              "    async function download(id, filename, size) {\n",
              "      if (!google.colab.kernel.accessAllowed) {\n",
              "        return;\n",
              "      }\n",
              "      const div = document.createElement('div');\n",
              "      const label = document.createElement('label');\n",
              "      label.textContent = `Downloading \"${filename}\": `;\n",
              "      div.appendChild(label);\n",
              "      const progress = document.createElement('progress');\n",
              "      progress.max = size;\n",
              "      div.appendChild(progress);\n",
              "      document.body.appendChild(div);\n",
              "\n",
              "      const buffers = [];\n",
              "      let downloaded = 0;\n",
              "\n",
              "      const channel = await google.colab.kernel.comms.open(id);\n",
              "      // Send a message to notify the kernel that we're ready.\n",
              "      channel.send({})\n",
              "\n",
              "      for await (const message of channel.messages) {\n",
              "        // Send a message to notify the kernel that we're ready.\n",
              "        channel.send({})\n",
              "        if (message.buffers) {\n",
              "          for (const buffer of message.buffers) {\n",
              "            buffers.push(buffer);\n",
              "            downloaded += buffer.byteLength;\n",
              "            progress.value = downloaded;\n",
              "          }\n",
              "        }\n",
              "      }\n",
              "      const blob = new Blob(buffers, {type: 'application/binary'});\n",
              "      const a = document.createElement('a');\n",
              "      a.href = window.URL.createObjectURL(blob);\n",
              "      a.download = filename;\n",
              "      div.appendChild(a);\n",
              "      a.click();\n",
              "      div.remove();\n",
              "    }\n",
              "  "
            ]
          },
          "metadata": {}
        },
        {
          "output_type": "display_data",
          "data": {
            "text/plain": [
              "<IPython.core.display.Javascript object>"
            ],
            "application/javascript": [
              "download(\"download_46752f7e-c866-45e0-8100-73cf9dc2cb46\", \"demo.docx\", 46870)"
            ]
          },
          "metadata": {}
        }
      ]
    },
    {
      "cell_type": "markdown",
      "source": [
        "[Python] aktualna data i godzina"
      ],
      "metadata": {
        "id": "ntUAx6bbFCoD"
      }
    },
    {
      "cell_type": "code",
      "source": [
        "def actual_datetime():\n",
        "  teraz = datetime.now(tz=tz.gettz('Europe/Warsaw'))\n",
        "  formatted_date = teraz.strftime(\"%d_%m_%Y\")\n",
        "  formatted_time = teraz.strftime(\"%H_%M_%S\")\n",
        "\n",
        "  # print(formatted_date)\n",
        "  # print(formatted_time)\n",
        "\n",
        "  return {'data': formatted_date, 'czas': formatted_time}\n"
      ],
      "metadata": {
        "id": "Bw8RT8BLFCTn"
      },
      "execution_count": 195,
      "outputs": []
    },
    {
      "cell_type": "markdown",
      "source": [
        "[PYTHON] rozdziel nazwe pliku od rozszerzenia"
      ],
      "metadata": {
        "id": "HKMQ7bvDGMj2"
      }
    },
    {
      "cell_type": "code",
      "source": [
        "# rozdziel nazwe pliku od rozszerzenia\n",
        "def split_filename_and_extension(filename):\n",
        "  nazwa_pliku, rozszerzenie_pliku = os.path.splitext(filename)\n",
        "\n",
        "  return {'name_key': nazwa_pliku, 'ext_key': rozszerzenie_pliku}"
      ],
      "metadata": {
        "id": "23c8w_EjGIkB"
      },
      "execution_count": 127,
      "outputs": []
    },
    {
      "cell_type": "markdown",
      "source": [
        "openpyxl"
      ],
      "metadata": {
        "id": "1Uev1mT2DVpM"
      }
    },
    {
      "cell_type": "code",
      "source": [
        "from openpyxl import Workbook\n",
        "from openpyxl.worksheet.table import Table, TableStyleInfo\n",
        "from dateutil import tz\n",
        "from datetime import datetime  # Import the datetime module\n",
        "\n",
        "# utworzenie katalogu do pracy z biblioteka openpyxl\n",
        "\n",
        "try:\n",
        "  dir_name_for_openpyxl = \"openpyxl\"\n",
        "  check_if_directory_and_path_exists(dir_name_for_openpyxl)\n",
        "\n",
        "  wb = Workbook()\n",
        "  ws = wb.active\n",
        "\n",
        "  data = [\n",
        "      ['Apples', 10000, 5000, 8000, 6000],\n",
        "      ['Pears',   2000, 3000, 4000, 5000],\n",
        "      ['Bananas', 6000, 6000, 6500, 6000],\n",
        "      ['Oranges',  500,  300,  200,  700],\n",
        "  ]\n",
        "\n",
        "  # add column headings. NB. these must be strings\n",
        "  ws.append([\"Fruit\", \"2011\", \"2012\", \"2013\", \"2014\"])\n",
        "  for row in data:\n",
        "      ws.append(row)\n",
        "\n",
        "  tab = Table(displayName=\"Table1\", ref=\"A1:E5\")\n",
        "\n",
        "  # Add a default style with striped rows and banded columns\n",
        "  style = TableStyleInfo(name=\"TableStyleMedium9\", showFirstColumn=False,\n",
        "                        showLastColumn=False, showRowStripes=True, showColumnStripes=True)\n",
        "  tab.tableStyleInfo = style\n",
        "\n",
        "  '''\n",
        "  Table must be added using ws.add_table() method to avoid duplicate names.\n",
        "  Using this method ensures table name is unque through out defined names and all other table name.\n",
        "  '''\n",
        "  ws.add_table(tab)\n",
        "\n",
        "  # Save the file with actual date and time\n",
        "  data_czas = actual_datetime()\n",
        "  lista_daty = [\"_\", data_czas['czas'], \"___\", data_czas['data']]\n",
        "  skrot_do_daty_i_godziny = \"\".join(lista_daty)\n",
        "\n",
        "  podzielona_nazwa_pliku = split_filename_and_extension(\"sample.xlsx\")\n",
        "  nowa_nazwa_pliku_skladowe = [podzielona_nazwa_pliku.get('name_key'),\n",
        "                               skrot_do_daty_i_godziny,\n",
        "                               podzielona_nazwa_pliku.get('ext_key')]\n",
        "\n",
        "  nowa_nazwa_pliku = \"\".join(nowa_nazwa_pliku_skladowe)\n",
        "\n",
        "  wb.save(nowa_nazwa_pliku)\n",
        "\n",
        "except Exception as e:\n",
        "  print(f\"wyje.ało błęda: {e}\")"
      ],
      "metadata": {
        "id": "Su2OfI8BDZGN",
        "outputId": "c1d1b038-0d25-404e-b5ef-304d3a40d04b",
        "colab": {
          "base_uri": "https://localhost:8080/"
        }
      },
      "execution_count": 247,
      "outputs": [
        {
          "output_type": "stream",
          "name": "stdout",
          "text": [
            "katalog \"bieżący\": /content\n",
            "katalog roboczy do utworzenia (jeśli nie istnieje): /content/openpyxl\n",
            "katalog: /content/openpyxl już istnieje!\n"
          ]
        }
      ]
    }
  ]
}